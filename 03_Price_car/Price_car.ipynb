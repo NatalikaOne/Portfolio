{
 "cells": [
  {
   "cell_type": "markdown",
   "metadata": {},
   "source": [
    "## Описание задачи\n",
    "\n",
    "В рамках Мастерской предлагаем поработать с данными о продажах автомобилей на вторичном рынке. Целью вашего проекта будет разработанная модель предсказания стоимости автомобиля на вторичном рынке.\n",
    "\n",
    "### Данные\n",
    "\n",
    "- train.csv - информация о продажах (~440000) автомобилей с аукционов, которые будут использоваться в качестве обучающих данных.\n",
    "- test.csv - информация о продажах (~110000) автомобилей с аукционов, которые будут использоваться в качестве тестовых данных. Ваша задача - предсказать значение 'sellingprice' для каждого автомобиля из этого датасета.\n",
    "- sample_submission.csv - файл предсказаний в правильном формате.\n",
    "- vin - идентификатор каждого автомобиля в тестовом наборе.\n",
    "- sellingprice - Целевой признак. Для каждого автомобиля предскажите числовое значение стоимости автомобиля."
   ]
  },
  {
   "cell_type": "code",
   "execution_count": 82,
   "metadata": {
    "_cell_guid": "b1076dfc-b9ad-4769-8c92-a6c4dae69d19",
    "_uuid": "8f2839f25d086af736a60e9eeb907d3b93b6e0e5",
    "execution": {
     "iopub.execute_input": "2025-01-06T18:11:55.361546Z",
     "iopub.status.busy": "2025-01-06T18:11:55.361068Z",
     "iopub.status.idle": "2025-01-06T18:11:55.373761Z",
     "shell.execute_reply": "2025-01-06T18:11:55.372313Z",
     "shell.execute_reply.started": "2025-01-06T18:11:55.361501Z"
    }
   },
   "outputs": [
    {
     "name": "stdout",
     "output_type": "stream",
     "text": [
      "/kaggle/input/used-cars-price-prediction-yap17/sample_submission.csv\n",
      "/kaggle/input/used-cars-price-prediction-yap17/train.csv\n",
      "/kaggle/input/used-cars-price-prediction-yap17/test.csv\n"
     ]
    }
   ],
   "source": [
    "import numpy as np # linear algebra\n",
    "import pandas as pd # data processing, CSV file I/O (e.g. pd.read_csv)\n",
    "import os\n",
    "for dirname, _, filenames in os.walk('/kaggle/input'):\n",
    "    for filename in filenames:\n",
    "        print(os.path.join(dirname, filename))"
   ]
  },
  {
   "cell_type": "code",
   "execution_count": 83,
   "metadata": {
    "execution": {
     "iopub.execute_input": "2025-01-06T18:11:55.377354Z",
     "iopub.status.busy": "2025-01-06T18:11:55.376404Z",
     "iopub.status.idle": "2025-01-06T18:11:55.391064Z",
     "shell.execute_reply": "2025-01-06T18:11:55.389499Z",
     "shell.execute_reply.started": "2025-01-06T18:11:55.377277Z"
    }
   },
   "outputs": [],
   "source": [
    "import matplotlib.pyplot as plt  \n",
    "import seaborn as sns\n",
    "from sklearn.preprocessing import OneHotEncoder\n",
    "from sklearn.preprocessing import OrdinalEncoder \n",
    "from sklearn.preprocessing import StandardScaler\n",
    "from sklearn.compose import make_column_transformer\n",
    "from sklearn.pipeline import make_pipeline\n",
    "from sklearn.linear_model import LinearRegression\n",
    "from sklearn.tree import DecisionTreeRegressor\n",
    "from sklearn.ensemble import RandomForestRegressor\n",
    "from sklearn.model_selection import cross_val_score\n",
    "from sklearn.model_selection import GridSearchCV\n",
    "from sklearn.metrics import mean_squared_error\n",
    "from sklearn.pipeline import Pipeline\n",
    "from sklearn.compose import ColumnTransformer\n",
    "from sklearn.metrics import r2_score\n",
    "from sklearn.metrics import mean_absolute_error\n",
    "from sklearn.metrics import mean_absolute_percentage_error\n",
    "from sklearn.inspection import permutation_importance"
   ]
  },
  {
   "cell_type": "code",
   "execution_count": 84,
   "metadata": {
    "execution": {
     "iopub.execute_input": "2025-01-06T18:11:55.393557Z",
     "iopub.status.busy": "2025-01-06T18:11:55.392918Z",
     "iopub.status.idle": "2025-01-06T18:11:57.425544Z",
     "shell.execute_reply": "2025-01-06T18:11:57.424314Z",
     "shell.execute_reply.started": "2025-01-06T18:11:55.393503Z"
    }
   },
   "outputs": [
    {
     "data": {
      "text/html": [
       "<div>\n",
       "<style scoped>\n",
       "    .dataframe tbody tr th:only-of-type {\n",
       "        vertical-align: middle;\n",
       "    }\n",
       "\n",
       "    .dataframe tbody tr th {\n",
       "        vertical-align: top;\n",
       "    }\n",
       "\n",
       "    .dataframe thead th {\n",
       "        text-align: right;\n",
       "    }\n",
       "</style>\n",
       "<table border=\"1\" class=\"dataframe\">\n",
       "  <thead>\n",
       "    <tr style=\"text-align: right;\">\n",
       "      <th></th>\n",
       "      <th>year</th>\n",
       "      <th>make</th>\n",
       "      <th>model</th>\n",
       "      <th>trim</th>\n",
       "      <th>body</th>\n",
       "      <th>transmission</th>\n",
       "      <th>vin</th>\n",
       "      <th>state</th>\n",
       "      <th>condition</th>\n",
       "      <th>odometer</th>\n",
       "      <th>color</th>\n",
       "      <th>interior</th>\n",
       "      <th>seller</th>\n",
       "      <th>sellingprice</th>\n",
       "      <th>saledate</th>\n",
       "    </tr>\n",
       "  </thead>\n",
       "  <tbody>\n",
       "    <tr>\n",
       "      <th>0</th>\n",
       "      <td>2011</td>\n",
       "      <td>Ford</td>\n",
       "      <td>Edge</td>\n",
       "      <td>SEL</td>\n",
       "      <td>suv</td>\n",
       "      <td>automatic</td>\n",
       "      <td>2fmdk3jc4bba41556</td>\n",
       "      <td>md</td>\n",
       "      <td>4.2</td>\n",
       "      <td>111041.0</td>\n",
       "      <td>black</td>\n",
       "      <td>black</td>\n",
       "      <td>santander consumer</td>\n",
       "      <td>12500</td>\n",
       "      <td>Tue Jun 02 2015 02:30:00 GMT-0700 (PDT)</td>\n",
       "    </tr>\n",
       "    <tr>\n",
       "      <th>1</th>\n",
       "      <td>2014</td>\n",
       "      <td>Ford</td>\n",
       "      <td>Fusion</td>\n",
       "      <td>SE</td>\n",
       "      <td>Sedan</td>\n",
       "      <td>automatic</td>\n",
       "      <td>3fa6p0h75er208976</td>\n",
       "      <td>mo</td>\n",
       "      <td>3.5</td>\n",
       "      <td>31034.0</td>\n",
       "      <td>black</td>\n",
       "      <td>black</td>\n",
       "      <td>ars/avis budget group</td>\n",
       "      <td>14500</td>\n",
       "      <td>Wed Feb 25 2015 02:00:00 GMT-0800 (PST)</td>\n",
       "    </tr>\n",
       "    <tr>\n",
       "      <th>2</th>\n",
       "      <td>2012</td>\n",
       "      <td>Nissan</td>\n",
       "      <td>Sentra</td>\n",
       "      <td>2.0 SL</td>\n",
       "      <td>sedan</td>\n",
       "      <td>automatic</td>\n",
       "      <td>3n1ab6ap4cl698412</td>\n",
       "      <td>nj</td>\n",
       "      <td>2.2</td>\n",
       "      <td>35619.0</td>\n",
       "      <td>black</td>\n",
       "      <td>black</td>\n",
       "      <td>nissan-infiniti lt</td>\n",
       "      <td>9100</td>\n",
       "      <td>Wed Jun 10 2015 02:30:00 GMT-0700 (PDT)</td>\n",
       "    </tr>\n",
       "    <tr>\n",
       "      <th>3</th>\n",
       "      <td>2003</td>\n",
       "      <td>HUMMER</td>\n",
       "      <td>H2</td>\n",
       "      <td>Base</td>\n",
       "      <td>suv</td>\n",
       "      <td>automatic</td>\n",
       "      <td>5grgn23u93h101360</td>\n",
       "      <td>tx</td>\n",
       "      <td>2.8</td>\n",
       "      <td>131301.0</td>\n",
       "      <td>gold</td>\n",
       "      <td>beige</td>\n",
       "      <td>wichita falls ford lin inc</td>\n",
       "      <td>13300</td>\n",
       "      <td>Wed Jun 17 2015 03:00:00 GMT-0700 (PDT)</td>\n",
       "    </tr>\n",
       "    <tr>\n",
       "      <th>4</th>\n",
       "      <td>2007</td>\n",
       "      <td>Ford</td>\n",
       "      <td>Fusion</td>\n",
       "      <td>SEL</td>\n",
       "      <td>Sedan</td>\n",
       "      <td>automatic</td>\n",
       "      <td>3fahp08z17r268380</td>\n",
       "      <td>md</td>\n",
       "      <td>2.0</td>\n",
       "      <td>127709.0</td>\n",
       "      <td>black</td>\n",
       "      <td>black</td>\n",
       "      <td>purple heart</td>\n",
       "      <td>1300</td>\n",
       "      <td>Tue Feb 03 2015 04:00:00 GMT-0800 (PST)</td>\n",
       "    </tr>\n",
       "    <tr>\n",
       "      <th>5</th>\n",
       "      <td>2013</td>\n",
       "      <td>Lincoln</td>\n",
       "      <td>MKZ</td>\n",
       "      <td>Base</td>\n",
       "      <td>Sedan</td>\n",
       "      <td>automatic</td>\n",
       "      <td>3ln6l2j91dr817800</td>\n",
       "      <td>mi</td>\n",
       "      <td>2.5</td>\n",
       "      <td>14894.0</td>\n",
       "      <td>black</td>\n",
       "      <td>black</td>\n",
       "      <td>ford motor credit company,llc</td>\n",
       "      <td>22600</td>\n",
       "      <td>Thu May 21 2015 02:00:00 GMT-0700 (PDT)</td>\n",
       "    </tr>\n",
       "    <tr>\n",
       "      <th>6</th>\n",
       "      <td>2010</td>\n",
       "      <td>pontiac</td>\n",
       "      <td>g6</td>\n",
       "      <td>4c</td>\n",
       "      <td>NaN</td>\n",
       "      <td>automatic</td>\n",
       "      <td>1g2za5eb4a4157380</td>\n",
       "      <td>nc</td>\n",
       "      <td>3.4</td>\n",
       "      <td>114587.0</td>\n",
       "      <td>silver</td>\n",
       "      <td>black</td>\n",
       "      <td>north state acceptance</td>\n",
       "      <td>5900</td>\n",
       "      <td>Mon Jan 12 2015 09:30:00 GMT-0800 (PST)</td>\n",
       "    </tr>\n",
       "    <tr>\n",
       "      <th>7</th>\n",
       "      <td>2013</td>\n",
       "      <td>Ford</td>\n",
       "      <td>Escape</td>\n",
       "      <td>SE</td>\n",
       "      <td>SUV</td>\n",
       "      <td>automatic</td>\n",
       "      <td>1fmcu0gx3duc59421</td>\n",
       "      <td>fl</td>\n",
       "      <td>4.8</td>\n",
       "      <td>26273.0</td>\n",
       "      <td>blue</td>\n",
       "      <td>gray</td>\n",
       "      <td>fields bmw</td>\n",
       "      <td>15200</td>\n",
       "      <td>Tue Feb 03 2015 01:00:00 GMT-0800 (PST)</td>\n",
       "    </tr>\n",
       "    <tr>\n",
       "      <th>8</th>\n",
       "      <td>2000</td>\n",
       "      <td>Hyundai</td>\n",
       "      <td>Elantra</td>\n",
       "      <td>GLS</td>\n",
       "      <td>Sedan</td>\n",
       "      <td>automatic</td>\n",
       "      <td>kmhjf35f2yu955691</td>\n",
       "      <td>oh</td>\n",
       "      <td>1.9</td>\n",
       "      <td>182624.0</td>\n",
       "      <td>black</td>\n",
       "      <td>tan</td>\n",
       "      <td>dt inventory</td>\n",
       "      <td>700</td>\n",
       "      <td>Thu Jan 22 2015 01:00:00 GMT-0800 (PST)</td>\n",
       "    </tr>\n",
       "    <tr>\n",
       "      <th>9</th>\n",
       "      <td>2005</td>\n",
       "      <td>Ford</td>\n",
       "      <td>Freestyle</td>\n",
       "      <td>Limited</td>\n",
       "      <td>wagon</td>\n",
       "      <td>automatic</td>\n",
       "      <td>1fmdk06135ga45438</td>\n",
       "      <td>oh</td>\n",
       "      <td>1.0</td>\n",
       "      <td>149364.0</td>\n",
       "      <td>black</td>\n",
       "      <td>tan</td>\n",
       "      <td>wells fargo dealer services</td>\n",
       "      <td>325</td>\n",
       "      <td>Tue Jun 16 2015 05:00:00 GMT-0700 (PDT)</td>\n",
       "    </tr>\n",
       "  </tbody>\n",
       "</table>\n",
       "</div>"
      ],
      "text/plain": [
       "   year     make      model     trim   body transmission                vin  \\\n",
       "0  2011     Ford       Edge      SEL    suv    automatic  2fmdk3jc4bba41556   \n",
       "1  2014     Ford     Fusion       SE  Sedan    automatic  3fa6p0h75er208976   \n",
       "2  2012   Nissan     Sentra   2.0 SL  sedan    automatic  3n1ab6ap4cl698412   \n",
       "3  2003   HUMMER         H2     Base    suv    automatic  5grgn23u93h101360   \n",
       "4  2007     Ford     Fusion      SEL  Sedan    automatic  3fahp08z17r268380   \n",
       "5  2013  Lincoln        MKZ     Base  Sedan    automatic  3ln6l2j91dr817800   \n",
       "6  2010  pontiac         g6       4c    NaN    automatic  1g2za5eb4a4157380   \n",
       "7  2013     Ford     Escape       SE    SUV    automatic  1fmcu0gx3duc59421   \n",
       "8  2000  Hyundai    Elantra      GLS  Sedan    automatic  kmhjf35f2yu955691   \n",
       "9  2005     Ford  Freestyle  Limited  wagon    automatic  1fmdk06135ga45438   \n",
       "\n",
       "  state  condition  odometer   color interior                         seller  \\\n",
       "0    md        4.2  111041.0   black    black             santander consumer   \n",
       "1    mo        3.5   31034.0   black    black          ars/avis budget group   \n",
       "2    nj        2.2   35619.0   black    black             nissan-infiniti lt   \n",
       "3    tx        2.8  131301.0    gold    beige     wichita falls ford lin inc   \n",
       "4    md        2.0  127709.0   black    black                   purple heart   \n",
       "5    mi        2.5   14894.0   black    black  ford motor credit company,llc   \n",
       "6    nc        3.4  114587.0  silver    black         north state acceptance   \n",
       "7    fl        4.8   26273.0    blue     gray                     fields bmw   \n",
       "8    oh        1.9  182624.0   black      tan                   dt inventory   \n",
       "9    oh        1.0  149364.0   black      tan    wells fargo dealer services   \n",
       "\n",
       "   sellingprice                                 saledate  \n",
       "0         12500  Tue Jun 02 2015 02:30:00 GMT-0700 (PDT)  \n",
       "1         14500  Wed Feb 25 2015 02:00:00 GMT-0800 (PST)  \n",
       "2          9100  Wed Jun 10 2015 02:30:00 GMT-0700 (PDT)  \n",
       "3         13300  Wed Jun 17 2015 03:00:00 GMT-0700 (PDT)  \n",
       "4          1300  Tue Feb 03 2015 04:00:00 GMT-0800 (PST)  \n",
       "5         22600  Thu May 21 2015 02:00:00 GMT-0700 (PDT)  \n",
       "6          5900  Mon Jan 12 2015 09:30:00 GMT-0800 (PST)  \n",
       "7         15200  Tue Feb 03 2015 01:00:00 GMT-0800 (PST)  \n",
       "8           700  Thu Jan 22 2015 01:00:00 GMT-0800 (PST)  \n",
       "9           325  Tue Jun 16 2015 05:00:00 GMT-0700 (PDT)  "
      ]
     },
     "execution_count": 84,
     "metadata": {},
     "output_type": "execute_result"
    }
   ],
   "source": [
    "df_train = pd.read_csv('/kaggle/input/used-cars-price-prediction-yap17/train.csv')\n",
    "df_train.head(10)"
   ]
  },
  {
   "cell_type": "code",
   "execution_count": 85,
   "metadata": {
    "execution": {
     "iopub.execute_input": "2025-01-06T18:11:57.429756Z",
     "iopub.status.busy": "2025-01-06T18:11:57.429242Z",
     "iopub.status.idle": "2025-01-06T18:11:57.787694Z",
     "shell.execute_reply": "2025-01-06T18:11:57.786315Z",
     "shell.execute_reply.started": "2025-01-06T18:11:57.429704Z"
    }
   },
   "outputs": [
    {
     "data": {
      "text/html": [
       "<div>\n",
       "<style scoped>\n",
       "    .dataframe tbody tr th:only-of-type {\n",
       "        vertical-align: middle;\n",
       "    }\n",
       "\n",
       "    .dataframe tbody tr th {\n",
       "        vertical-align: top;\n",
       "    }\n",
       "\n",
       "    .dataframe thead th {\n",
       "        text-align: right;\n",
       "    }\n",
       "</style>\n",
       "<table border=\"1\" class=\"dataframe\">\n",
       "  <thead>\n",
       "    <tr style=\"text-align: right;\">\n",
       "      <th></th>\n",
       "      <th>year</th>\n",
       "      <th>make</th>\n",
       "      <th>model</th>\n",
       "      <th>trim</th>\n",
       "      <th>body</th>\n",
       "      <th>transmission</th>\n",
       "      <th>vin</th>\n",
       "      <th>state</th>\n",
       "      <th>condition</th>\n",
       "      <th>odometer</th>\n",
       "      <th>color</th>\n",
       "      <th>interior</th>\n",
       "      <th>seller</th>\n",
       "      <th>saledate</th>\n",
       "    </tr>\n",
       "  </thead>\n",
       "  <tbody>\n",
       "    <tr>\n",
       "      <th>0</th>\n",
       "      <td>2005</td>\n",
       "      <td>Cadillac</td>\n",
       "      <td>CTS</td>\n",
       "      <td>Base</td>\n",
       "      <td>Sedan</td>\n",
       "      <td>automatic</td>\n",
       "      <td>1g6dp567450124779</td>\n",
       "      <td>ca</td>\n",
       "      <td>2.7</td>\n",
       "      <td>116970.0</td>\n",
       "      <td>silver</td>\n",
       "      <td>black</td>\n",
       "      <td>lexus of stevens creek</td>\n",
       "      <td>Wed Jan 14 2015 04:30:00 GMT-0800 (PST)</td>\n",
       "    </tr>\n",
       "    <tr>\n",
       "      <th>1</th>\n",
       "      <td>2014</td>\n",
       "      <td>GMC</td>\n",
       "      <td>Savana Cargo</td>\n",
       "      <td>2500</td>\n",
       "      <td>Van</td>\n",
       "      <td>NaN</td>\n",
       "      <td>1gtw7fca7e1902207</td>\n",
       "      <td>pa</td>\n",
       "      <td>4.4</td>\n",
       "      <td>6286.0</td>\n",
       "      <td>white</td>\n",
       "      <td>gray</td>\n",
       "      <td>u-haul</td>\n",
       "      <td>Fri Feb 27 2015 01:00:00 GMT-0800 (PST)</td>\n",
       "    </tr>\n",
       "    <tr>\n",
       "      <th>2</th>\n",
       "      <td>2013</td>\n",
       "      <td>Nissan</td>\n",
       "      <td>Murano</td>\n",
       "      <td>S</td>\n",
       "      <td>SUV</td>\n",
       "      <td>automatic</td>\n",
       "      <td>jn8az1mw6dw303497</td>\n",
       "      <td>oh</td>\n",
       "      <td>4.6</td>\n",
       "      <td>11831.0</td>\n",
       "      <td>gray</td>\n",
       "      <td>black</td>\n",
       "      <td>nissan-infiniti lt</td>\n",
       "      <td>Tue Feb 24 2015 01:30:00 GMT-0800 (PST)</td>\n",
       "    </tr>\n",
       "    <tr>\n",
       "      <th>3</th>\n",
       "      <td>2013</td>\n",
       "      <td>Chevrolet</td>\n",
       "      <td>Impala</td>\n",
       "      <td>LS Fleet</td>\n",
       "      <td>Sedan</td>\n",
       "      <td>automatic</td>\n",
       "      <td>2g1wf5e34d1160703</td>\n",
       "      <td>fl</td>\n",
       "      <td>2.3</td>\n",
       "      <td>57105.0</td>\n",
       "      <td>silver</td>\n",
       "      <td>black</td>\n",
       "      <td>onemain rem/auto club of miami inc dba north dad</td>\n",
       "      <td>Fri Mar 06 2015 02:00:00 GMT-0800 (PST)</td>\n",
       "    </tr>\n",
       "    <tr>\n",
       "      <th>4</th>\n",
       "      <td>2013</td>\n",
       "      <td>Nissan</td>\n",
       "      <td>Titan</td>\n",
       "      <td>SV</td>\n",
       "      <td>Crew Cab</td>\n",
       "      <td>automatic</td>\n",
       "      <td>1n6aa0ec3dn301209</td>\n",
       "      <td>tn</td>\n",
       "      <td>2.9</td>\n",
       "      <td>31083.0</td>\n",
       "      <td>black</td>\n",
       "      <td>black</td>\n",
       "      <td>nissan north america inc.</td>\n",
       "      <td>Wed Jun 03 2015 03:30:00 GMT-0700 (PDT)</td>\n",
       "    </tr>\n",
       "    <tr>\n",
       "      <th>5</th>\n",
       "      <td>2003</td>\n",
       "      <td>Volkswagen</td>\n",
       "      <td>Passat</td>\n",
       "      <td>GLS 1.8T</td>\n",
       "      <td>wagon</td>\n",
       "      <td>automatic</td>\n",
       "      <td>wvwvd63b93e175638</td>\n",
       "      <td>nc</td>\n",
       "      <td>2.4</td>\n",
       "      <td>104155.0</td>\n",
       "      <td>silver</td>\n",
       "      <td>black</td>\n",
       "      <td>fred anderson nissan of fayetteville</td>\n",
       "      <td>Tue Jun 09 2015 03:00:00 GMT-0700 (PDT)</td>\n",
       "    </tr>\n",
       "    <tr>\n",
       "      <th>6</th>\n",
       "      <td>2013</td>\n",
       "      <td>Hyundai</td>\n",
       "      <td>Sonata</td>\n",
       "      <td>GLS</td>\n",
       "      <td>Sedan</td>\n",
       "      <td>automatic</td>\n",
       "      <td>5npeb4ac4dh809686</td>\n",
       "      <td>il</td>\n",
       "      <td>3.7</td>\n",
       "      <td>30669.0</td>\n",
       "      <td>silver</td>\n",
       "      <td>gray</td>\n",
       "      <td>merchants leasing</td>\n",
       "      <td>Tue Mar 03 2015 02:00:00 GMT-0800 (PST)</td>\n",
       "    </tr>\n",
       "    <tr>\n",
       "      <th>7</th>\n",
       "      <td>2013</td>\n",
       "      <td>Ford</td>\n",
       "      <td>Explorer</td>\n",
       "      <td>Base</td>\n",
       "      <td>SUV</td>\n",
       "      <td>automatic</td>\n",
       "      <td>1fm5k7b97dgb16454</td>\n",
       "      <td>nc</td>\n",
       "      <td>3.2</td>\n",
       "      <td>87862.0</td>\n",
       "      <td>black</td>\n",
       "      <td>gray</td>\n",
       "      <td>ge fleet services for itself/servicer</td>\n",
       "      <td>Tue Feb 10 2015 01:15:00 GMT-0800 (PST)</td>\n",
       "    </tr>\n",
       "    <tr>\n",
       "      <th>8</th>\n",
       "      <td>2011</td>\n",
       "      <td>Infiniti</td>\n",
       "      <td>G Sedan</td>\n",
       "      <td>G37x</td>\n",
       "      <td>G Sedan</td>\n",
       "      <td>automatic</td>\n",
       "      <td>jn1cv6ar5bm411441</td>\n",
       "      <td>tn</td>\n",
       "      <td>3.5</td>\n",
       "      <td>47028.0</td>\n",
       "      <td>black</td>\n",
       "      <td>beige</td>\n",
       "      <td>nissan infiniti lt</td>\n",
       "      <td>Wed Feb 04 2015 02:30:00 GMT-0800 (PST)</td>\n",
       "    </tr>\n",
       "    <tr>\n",
       "      <th>9</th>\n",
       "      <td>2007</td>\n",
       "      <td>Chevrolet</td>\n",
       "      <td>Suburban</td>\n",
       "      <td>1500 LS</td>\n",
       "      <td>SUV</td>\n",
       "      <td>automatic</td>\n",
       "      <td>3gnfc16j77g158033</td>\n",
       "      <td>ga</td>\n",
       "      <td>3.4</td>\n",
       "      <td>191211.0</td>\n",
       "      <td>black</td>\n",
       "      <td>tan</td>\n",
       "      <td>riverside chevrolet inc</td>\n",
       "      <td>Tue Feb 10 2015 04:30:00 GMT-0800 (PST)</td>\n",
       "    </tr>\n",
       "  </tbody>\n",
       "</table>\n",
       "</div>"
      ],
      "text/plain": [
       "   year        make         model      trim      body transmission  \\\n",
       "0  2005    Cadillac           CTS      Base     Sedan    automatic   \n",
       "1  2014         GMC  Savana Cargo      2500       Van          NaN   \n",
       "2  2013      Nissan        Murano         S       SUV    automatic   \n",
       "3  2013   Chevrolet        Impala  LS Fleet     Sedan    automatic   \n",
       "4  2013      Nissan         Titan        SV  Crew Cab    automatic   \n",
       "5  2003  Volkswagen        Passat  GLS 1.8T     wagon    automatic   \n",
       "6  2013     Hyundai        Sonata       GLS     Sedan    automatic   \n",
       "7  2013        Ford      Explorer      Base       SUV    automatic   \n",
       "8  2011    Infiniti       G Sedan      G37x   G Sedan    automatic   \n",
       "9  2007   Chevrolet      Suburban   1500 LS       SUV    automatic   \n",
       "\n",
       "                 vin state  condition  odometer   color interior  \\\n",
       "0  1g6dp567450124779    ca        2.7  116970.0  silver    black   \n",
       "1  1gtw7fca7e1902207    pa        4.4    6286.0   white     gray   \n",
       "2  jn8az1mw6dw303497    oh        4.6   11831.0    gray    black   \n",
       "3  2g1wf5e34d1160703    fl        2.3   57105.0  silver    black   \n",
       "4  1n6aa0ec3dn301209    tn        2.9   31083.0   black    black   \n",
       "5  wvwvd63b93e175638    nc        2.4  104155.0  silver    black   \n",
       "6  5npeb4ac4dh809686    il        3.7   30669.0  silver     gray   \n",
       "7  1fm5k7b97dgb16454    nc        3.2   87862.0   black     gray   \n",
       "8  jn1cv6ar5bm411441    tn        3.5   47028.0   black    beige   \n",
       "9  3gnfc16j77g158033    ga        3.4  191211.0   black      tan   \n",
       "\n",
       "                                             seller  \\\n",
       "0                            lexus of stevens creek   \n",
       "1                                            u-haul   \n",
       "2                                nissan-infiniti lt   \n",
       "3  onemain rem/auto club of miami inc dba north dad   \n",
       "4                         nissan north america inc.   \n",
       "5              fred anderson nissan of fayetteville   \n",
       "6                                 merchants leasing   \n",
       "7             ge fleet services for itself/servicer   \n",
       "8                                nissan infiniti lt   \n",
       "9                           riverside chevrolet inc   \n",
       "\n",
       "                                  saledate  \n",
       "0  Wed Jan 14 2015 04:30:00 GMT-0800 (PST)  \n",
       "1  Fri Feb 27 2015 01:00:00 GMT-0800 (PST)  \n",
       "2  Tue Feb 24 2015 01:30:00 GMT-0800 (PST)  \n",
       "3  Fri Mar 06 2015 02:00:00 GMT-0800 (PST)  \n",
       "4  Wed Jun 03 2015 03:30:00 GMT-0700 (PDT)  \n",
       "5  Tue Jun 09 2015 03:00:00 GMT-0700 (PDT)  \n",
       "6  Tue Mar 03 2015 02:00:00 GMT-0800 (PST)  \n",
       "7  Tue Feb 10 2015 01:15:00 GMT-0800 (PST)  \n",
       "8  Wed Feb 04 2015 02:30:00 GMT-0800 (PST)  \n",
       "9  Tue Feb 10 2015 04:30:00 GMT-0800 (PST)  "
      ]
     },
     "execution_count": 85,
     "metadata": {},
     "output_type": "execute_result"
    }
   ],
   "source": [
    "df_test = pd.read_csv('/kaggle/input/used-cars-price-prediction-yap17/test.csv')\n",
    "df_test.head(10)"
   ]
  },
  {
   "cell_type": "code",
   "execution_count": 86,
   "metadata": {
    "execution": {
     "iopub.execute_input": "2025-01-06T18:11:57.789856Z",
     "iopub.status.busy": "2025-01-06T18:11:57.789381Z",
     "iopub.status.idle": "2025-01-06T18:11:58.158202Z",
     "shell.execute_reply": "2025-01-06T18:11:58.156498Z",
     "shell.execute_reply.started": "2025-01-06T18:11:57.789805Z"
    }
   },
   "outputs": [
    {
     "name": "stdout",
     "output_type": "stream",
     "text": [
      "<class 'pandas.core.frame.DataFrame'>\n",
      "RangeIndex: 440236 entries, 0 to 440235\n",
      "Data columns (total 15 columns):\n",
      " #   Column        Non-Null Count   Dtype  \n",
      "---  ------        --------------   -----  \n",
      " 0   year          440236 non-null  int64  \n",
      " 1   make          432193 non-null  object \n",
      " 2   model         432113 non-null  object \n",
      " 3   trim          431899 non-null  object \n",
      " 4   body          429843 non-null  object \n",
      " 5   transmission  388775 non-null  object \n",
      " 6   vin           440236 non-null  object \n",
      " 7   state         440236 non-null  object \n",
      " 8   condition     430831 non-null  float64\n",
      " 9   odometer      440167 non-null  float64\n",
      " 10  color         439650 non-null  object \n",
      " 11  interior      439650 non-null  object \n",
      " 12  seller        440236 non-null  object \n",
      " 13  sellingprice  440236 non-null  int64  \n",
      " 14  saledate      440236 non-null  object \n",
      "dtypes: float64(2), int64(2), object(11)\n",
      "memory usage: 50.4+ MB\n",
      "<class 'pandas.core.frame.DataFrame'>\n",
      "RangeIndex: 110060 entries, 0 to 110059\n",
      "Data columns (total 14 columns):\n",
      " #   Column        Non-Null Count   Dtype  \n",
      "---  ------        --------------   -----  \n",
      " 0   year          110060 non-null  int64  \n",
      " 1   make          107999 non-null  object \n",
      " 2   model         107981 non-null  object \n",
      " 3   trim          107946 non-null  object \n",
      " 4   body          107466 non-null  object \n",
      " 5   transmission  97048 non-null   object \n",
      " 6   vin           110060 non-null  object \n",
      " 7   state         110060 non-null  object \n",
      " 8   condition     107681 non-null  float64\n",
      " 9   odometer      110041 non-null  float64\n",
      " 10  color         109902 non-null  object \n",
      " 11  interior      109902 non-null  object \n",
      " 12  seller        110060 non-null  object \n",
      " 13  saledate      110060 non-null  object \n",
      "dtypes: float64(2), int64(1), object(11)\n",
      "memory usage: 11.8+ MB\n"
     ]
    }
   ],
   "source": [
    "df_train.info()\n",
    "df_test.info()"
   ]
  },
  {
   "cell_type": "markdown",
   "metadata": {},
   "source": [
    "# Предобработка данных\n",
    "\n",
    "**Пропуски**"
   ]
  },
  {
   "cell_type": "code",
   "execution_count": 87,
   "metadata": {
    "execution": {
     "iopub.execute_input": "2025-01-06T18:11:58.160099Z",
     "iopub.status.busy": "2025-01-06T18:11:58.159744Z",
     "iopub.status.idle": "2025-01-06T18:11:58.446915Z",
     "shell.execute_reply": "2025-01-06T18:11:58.445512Z",
     "shell.execute_reply.started": "2025-01-06T18:11:58.160065Z"
    }
   },
   "outputs": [
    {
     "data": {
      "text/plain": [
       "year                0\n",
       "make             8043\n",
       "model            8123\n",
       "trim             8337\n",
       "body            10393\n",
       "transmission    51461\n",
       "vin                 0\n",
       "state               0\n",
       "condition        9405\n",
       "odometer           69\n",
       "color             586\n",
       "interior          586\n",
       "seller              0\n",
       "sellingprice        0\n",
       "saledate            0\n",
       "dtype: int64"
      ]
     },
     "execution_count": 87,
     "metadata": {},
     "output_type": "execute_result"
    }
   ],
   "source": [
    "df_train.isna().sum()"
   ]
  },
  {
   "cell_type": "code",
   "execution_count": 88,
   "metadata": {
    "execution": {
     "iopub.execute_input": "2025-01-06T18:11:58.448963Z",
     "iopub.status.busy": "2025-01-06T18:11:58.448612Z",
     "iopub.status.idle": "2025-01-06T18:11:58.531218Z",
     "shell.execute_reply": "2025-01-06T18:11:58.529318Z",
     "shell.execute_reply.started": "2025-01-06T18:11:58.448930Z"
    }
   },
   "outputs": [
    {
     "data": {
      "text/plain": [
       "year                0\n",
       "make             2061\n",
       "model            2079\n",
       "trim             2114\n",
       "body             2594\n",
       "transmission    13012\n",
       "vin                 0\n",
       "state               0\n",
       "condition        2379\n",
       "odometer           19\n",
       "color             158\n",
       "interior          158\n",
       "seller              0\n",
       "saledate            0\n",
       "dtype: int64"
      ]
     },
     "execution_count": 88,
     "metadata": {},
     "output_type": "execute_result"
    }
   ],
   "source": [
    "df_test.isna().sum()"
   ]
  },
  {
   "cell_type": "markdown",
   "metadata": {},
   "source": [
    "Предположу, что модель автомобиля очень важна в ходе исследования, не имеет смысла анализировать гипотетическую машину, поэтому пропуски в этой графе лучше удалить. Производитель жестко связан с моделью, например, модель Murano может быть только Nissan. Пропуски в модификации, типе кузова, типе КПП попробую заменить на значение other. Пропуски в цвете машины и цвете салона заменю на \"-\". А вот такие признаки, как состояние и пробег должны значительно влиять на результаты, поэтому пропуски в этих данных придется удалить."
   ]
  },
  {
   "cell_type": "code",
   "execution_count": 89,
   "metadata": {
    "execution": {
     "iopub.execute_input": "2025-01-06T18:11:58.534434Z",
     "iopub.status.busy": "2025-01-06T18:11:58.533861Z",
     "iopub.status.idle": "2025-01-06T18:11:58.572672Z",
     "shell.execute_reply": "2025-01-06T18:11:58.571318Z",
     "shell.execute_reply.started": "2025-01-06T18:11:58.534381Z"
    }
   },
   "outputs": [
    {
     "name": "stdout",
     "output_type": "stream",
     "text": [
      "8123 9405 69\n"
     ]
    }
   ],
   "source": [
    "# количество пропусков (понадобится далее)\n",
    "first_none_model = df_train['model'].isna().sum() \n",
    "first_none_condition = df_train['condition'].isna().sum() \n",
    "first_none_odometer = df_train['odometer'].isna().sum() \n",
    "print(first_none_model, first_none_condition, first_none_odometer)"
   ]
  },
  {
   "cell_type": "code",
   "execution_count": 90,
   "metadata": {
    "execution": {
     "iopub.execute_input": "2025-01-06T18:11:58.576018Z",
     "iopub.status.busy": "2025-01-06T18:11:58.574629Z",
     "iopub.status.idle": "2025-01-06T18:11:58.860420Z",
     "shell.execute_reply": "2025-01-06T18:11:58.859279Z",
     "shell.execute_reply.started": "2025-01-06T18:11:58.575962Z"
    }
   },
   "outputs": [
    {
     "data": {
      "text/plain": [
       "year            0.000000\n",
       "make            0.018270\n",
       "model           0.018451\n",
       "trim            0.018938\n",
       "body            0.023608\n",
       "transmission    0.116894\n",
       "vin             0.000000\n",
       "state           0.000000\n",
       "condition       0.021364\n",
       "odometer        0.000157\n",
       "color           0.001331\n",
       "interior        0.001331\n",
       "seller          0.000000\n",
       "sellingprice    0.000000\n",
       "saledate        0.000000\n",
       "dtype: float64"
      ]
     },
     "execution_count": 90,
     "metadata": {},
     "output_type": "execute_result"
    }
   ],
   "source": [
    "df_train.isna().mean() #посмотрим долю пропусков"
   ]
  },
  {
   "cell_type": "code",
   "execution_count": 91,
   "metadata": {
    "execution": {
     "iopub.execute_input": "2025-01-06T18:11:58.866483Z",
     "iopub.status.busy": "2025-01-06T18:11:58.866091Z",
     "iopub.status.idle": "2025-01-06T18:11:58.947727Z",
     "shell.execute_reply": "2025-01-06T18:11:58.946389Z",
     "shell.execute_reply.started": "2025-01-06T18:11:58.866449Z"
    }
   },
   "outputs": [
    {
     "data": {
      "text/plain": [
       "year            0.000000\n",
       "make            0.018726\n",
       "model           0.018890\n",
       "trim            0.019208\n",
       "body            0.023569\n",
       "transmission    0.118226\n",
       "vin             0.000000\n",
       "state           0.000000\n",
       "condition       0.021615\n",
       "odometer        0.000173\n",
       "color           0.001436\n",
       "interior        0.001436\n",
       "seller          0.000000\n",
       "saledate        0.000000\n",
       "dtype: float64"
      ]
     },
     "execution_count": 91,
     "metadata": {},
     "output_type": "execute_result"
    }
   ],
   "source": [
    "df_test.isna().mean()"
   ]
  },
  {
   "cell_type": "markdown",
   "metadata": {},
   "source": [
    "Доля с пропусками для столбцов 'model', 'condition', 'odometer' не большая, поэтому можно удалить строки и пропусками в этих данных"
   ]
  },
  {
   "cell_type": "code",
   "execution_count": 92,
   "metadata": {
    "execution": {
     "iopub.execute_input": "2025-01-06T18:11:58.949700Z",
     "iopub.status.busy": "2025-01-06T18:11:58.949255Z",
     "iopub.status.idle": "2025-01-06T18:11:59.107567Z",
     "shell.execute_reply": "2025-01-06T18:11:59.106215Z",
     "shell.execute_reply.started": "2025-01-06T18:11:58.949654Z"
    }
   },
   "outputs": [],
   "source": [
    "df_train = df_train.dropna(subset=['model', 'condition', 'odometer' ])\n",
    "df_test = df_test.dropna(subset=['model', 'condition', 'odometer' ])"
   ]
  },
  {
   "cell_type": "code",
   "execution_count": 93,
   "metadata": {
    "execution": {
     "iopub.execute_input": "2025-01-06T18:11:59.109442Z",
     "iopub.status.busy": "2025-01-06T18:11:59.109082Z",
     "iopub.status.idle": "2025-01-06T18:11:59.191266Z",
     "shell.execute_reply": "2025-01-06T18:11:59.189875Z",
     "shell.execute_reply.started": "2025-01-06T18:11:59.109407Z"
    }
   },
   "outputs": [
    {
     "name": "stdout",
     "output_type": "stream",
     "text": [
      "<class 'pandas.core.frame.DataFrame'>\n",
      "Int64Index: 105621 entries, 0 to 110059\n",
      "Data columns (total 14 columns):\n",
      " #   Column        Non-Null Count   Dtype  \n",
      "---  ------        --------------   -----  \n",
      " 0   year          105621 non-null  int64  \n",
      " 1   make          105621 non-null  object \n",
      " 2   model         105621 non-null  object \n",
      " 3   trim          105583 non-null  object \n",
      " 4   body          105180 non-null  object \n",
      " 5   transmission  93320 non-null   object \n",
      " 6   vin           105621 non-null  object \n",
      " 7   state         105621 non-null  object \n",
      " 8   condition     105621 non-null  float64\n",
      " 9   odometer      105621 non-null  float64\n",
      " 10  color         105482 non-null  object \n",
      " 11  interior      105482 non-null  object \n",
      " 12  seller        105621 non-null  object \n",
      " 13  saledate      105621 non-null  object \n",
      "dtypes: float64(2), int64(1), object(11)\n",
      "memory usage: 12.1+ MB\n"
     ]
    }
   ],
   "source": [
    "df_test.info()"
   ]
  },
  {
   "cell_type": "code",
   "execution_count": 94,
   "metadata": {
    "execution": {
     "iopub.execute_input": "2025-01-06T18:11:59.193883Z",
     "iopub.status.busy": "2025-01-06T18:11:59.193216Z",
     "iopub.status.idle": "2025-01-06T18:11:59.370441Z",
     "shell.execute_reply": "2025-01-06T18:11:59.368910Z",
     "shell.execute_reply.started": "2025-01-06T18:11:59.193829Z"
    }
   },
   "outputs": [],
   "source": [
    "#заполним пропуски\n",
    "to_fill_other = ['trim', 'body', 'transmission']\n",
    "df_train[to_fill_other] = df_train[to_fill_other].fillna('other')\n",
    "\n",
    "to_fill_dash = ['color', 'interior']\n",
    "df_train[to_fill_dash] = df_train[to_fill_dash].fillna('—')"
   ]
  },
  {
   "cell_type": "code",
   "execution_count": 95,
   "metadata": {
    "execution": {
     "iopub.execute_input": "2025-01-06T18:11:59.373402Z",
     "iopub.status.busy": "2025-01-06T18:11:59.372260Z",
     "iopub.status.idle": "2025-01-06T18:11:59.425192Z",
     "shell.execute_reply": "2025-01-06T18:11:59.423916Z",
     "shell.execute_reply.started": "2025-01-06T18:11:59.373356Z"
    }
   },
   "outputs": [],
   "source": [
    "to_fill_other = ['trim', 'body', 'transmission']\n",
    "df_test[to_fill_other] = df_test[to_fill_other].fillna('other')\n",
    "\n",
    "to_fill_dash = ['color', 'interior']\n",
    "df_test[to_fill_dash] = df_test[to_fill_dash].fillna('—')"
   ]
  },
  {
   "cell_type": "code",
   "execution_count": 96,
   "metadata": {
    "execution": {
     "iopub.execute_input": "2025-01-06T18:11:59.426966Z",
     "iopub.status.busy": "2025-01-06T18:11:59.426629Z",
     "iopub.status.idle": "2025-01-06T18:11:59.699944Z",
     "shell.execute_reply": "2025-01-06T18:11:59.698741Z",
     "shell.execute_reply.started": "2025-01-06T18:11:59.426933Z"
    }
   },
   "outputs": [
    {
     "data": {
      "text/plain": [
       "year            0\n",
       "make            0\n",
       "model           0\n",
       "trim            0\n",
       "body            0\n",
       "transmission    0\n",
       "vin             0\n",
       "state           0\n",
       "condition       0\n",
       "odometer        0\n",
       "color           0\n",
       "interior        0\n",
       "seller          0\n",
       "sellingprice    0\n",
       "saledate        0\n",
       "dtype: int64"
      ]
     },
     "execution_count": 96,
     "metadata": {},
     "output_type": "execute_result"
    }
   ],
   "source": [
    "df_train.isna().sum()"
   ]
  },
  {
   "cell_type": "code",
   "execution_count": 97,
   "metadata": {
    "execution": {
     "iopub.execute_input": "2025-01-06T18:11:59.701785Z",
     "iopub.status.busy": "2025-01-06T18:11:59.701444Z",
     "iopub.status.idle": "2025-01-06T18:11:59.778664Z",
     "shell.execute_reply": "2025-01-06T18:11:59.777024Z",
     "shell.execute_reply.started": "2025-01-06T18:11:59.701753Z"
    }
   },
   "outputs": [
    {
     "data": {
      "text/plain": [
       "year            0\n",
       "make            0\n",
       "model           0\n",
       "trim            0\n",
       "body            0\n",
       "transmission    0\n",
       "vin             0\n",
       "state           0\n",
       "condition       0\n",
       "odometer        0\n",
       "color           0\n",
       "interior        0\n",
       "seller          0\n",
       "saledate        0\n",
       "dtype: int64"
      ]
     },
     "execution_count": 97,
     "metadata": {},
     "output_type": "execute_result"
    }
   ],
   "source": [
    "df_test.isna().sum()"
   ]
  },
  {
   "cell_type": "markdown",
   "metadata": {},
   "source": [
    "Дубликаты"
   ]
  },
  {
   "cell_type": "code",
   "execution_count": 98,
   "metadata": {
    "execution": {
     "iopub.execute_input": "2025-01-06T18:11:59.780822Z",
     "iopub.status.busy": "2025-01-06T18:11:59.780437Z",
     "iopub.status.idle": "2025-01-06T18:12:00.610435Z",
     "shell.execute_reply": "2025-01-06T18:12:00.608855Z",
     "shell.execute_reply.started": "2025-01-06T18:11:59.780786Z"
    }
   },
   "outputs": [
    {
     "name": "stdout",
     "output_type": "stream",
     "text": [
      "0\n",
      "0\n"
     ]
    }
   ],
   "source": [
    "print(df_train.duplicated().sum())\n",
    "print(df_test.duplicated().sum())"
   ]
  },
  {
   "cell_type": "code",
   "execution_count": 99,
   "metadata": {
    "execution": {
     "iopub.execute_input": "2025-01-06T18:12:00.612249Z",
     "iopub.status.busy": "2025-01-06T18:12:00.611865Z",
     "iopub.status.idle": "2025-01-06T18:12:01.115511Z",
     "shell.execute_reply": "2025-01-06T18:12:01.114126Z",
     "shell.execute_reply.started": "2025-01-06T18:12:00.612194Z"
    }
   },
   "outputs": [
    {
     "data": {
      "text/plain": [
       "year                30\n",
       "make                91\n",
       "model              944\n",
       "trim              1875\n",
       "body                86\n",
       "transmission         3\n",
       "vin             422755\n",
       "state               38\n",
       "condition           41\n",
       "odometer        154484\n",
       "color               20\n",
       "interior            17\n",
       "seller           11636\n",
       "sellingprice      1710\n",
       "saledate          3544\n",
       "dtype: int64"
      ]
     },
     "execution_count": 99,
     "metadata": {},
     "output_type": "execute_result"
    }
   ],
   "source": [
    "df_train.nunique() #число уникальных значений"
   ]
  },
  {
   "cell_type": "code",
   "execution_count": 100,
   "metadata": {
    "execution": {
     "iopub.execute_input": "2025-01-06T18:12:01.117629Z",
     "iopub.status.busy": "2025-01-06T18:12:01.117145Z",
     "iopub.status.idle": "2025-01-06T18:12:01.584332Z",
     "shell.execute_reply": "2025-01-06T18:12:01.583015Z",
     "shell.execute_reply.started": "2025-01-06T18:12:01.117592Z"
    }
   },
   "outputs": [
    {
     "name": "stdout",
     "output_type": "stream",
     "text": [
      "\u001b[1mКоличество уникальных значений year:\u001b[0m 30\n",
      "[1984, 1985, 1986, 1989, 1990, 1991, 1992, 1993, 1994, 1995, 1996, 1997, 1998, 1999, 2000, 2001, 2002, 2003, 2004, 2005, 2006, 2007, 2008, 2009, 2010, 2011, 2012, 2013, 2014, 2015]\n",
      "\n",
      "\u001b[1mКоличество уникальных значений make:\u001b[0m 91\n",
      "['Acura', 'Aston Martin', 'Audi', 'BMW', 'Bentley', 'Buick', 'Cadillac', 'Chevrolet', 'Chrysler', 'Daewoo', 'Dodge', 'FIAT', 'Ferrari', 'Fisker', 'Ford', 'GMC', 'Geo', 'HUMMER', 'Honda', 'Hyundai', 'Infiniti', 'Isuzu', 'Jaguar', 'Jeep', 'Kia', 'Lamborghini', 'Land Rover', 'Lexus', 'Lincoln', 'MINI', 'Maserati', 'Mazda', 'Mercedes-Benz', 'Mercury', 'Mitsubishi', 'Nissan', 'Oldsmobile', 'Plymouth', 'Pontiac', 'Porsche', 'Ram', 'Rolls-Royce', 'Saab', 'Saturn', 'Scion', 'Subaru', 'Suzuki', 'Tesla', 'Toyota', 'Volkswagen', 'Volvo', 'acura', 'airstream', 'audi', 'bmw', 'buick', 'cadillac', 'chevrolet', 'chrysler', 'dodge', 'dodge tk', 'dot', 'ford', 'ford truck', 'gmc', 'gmc truck', 'honda', 'hyundai', 'jeep', 'kia', 'land rover', 'landrover', 'lexus', 'lincoln', 'maserati', 'mazda', 'mercedes', 'mercedes-b', 'mercury', 'mitsubishi', 'nissan', 'oldsmobile', 'plymouth', 'pontiac', 'porsche', 'smart', 'subaru', 'suzuki', 'toyota', 'volkswagen', 'vw']\n",
      "\n",
      "\u001b[1mКоличество уникальных значений body:\u001b[0m 86\n",
      "['Access Cab', 'Beetle Convertible', 'CTS Coupe', 'CTS Wagon', 'CTS-V Coupe', 'CTS-V Wagon', 'Cab Plus', 'Cab Plus 4', 'Club Cab', 'Convertible', 'Coupe', 'Crew Cab', 'CrewMax Cab', 'Double Cab', 'E-Series Van', 'Elantra Coupe', 'Extended Cab', 'G Convertible', 'G Coupe', 'G Sedan', 'G37 Convertible', 'G37 Coupe', 'Genesis Coupe', 'GranTurismo Convertible', 'Hatchback', 'King Cab', 'Koup', 'Mega Cab', 'Minivan', 'Promaster Cargo Van', 'Q60 Convertible', 'Q60 Coupe', 'Quad Cab', 'Ram Van', 'Regular Cab', 'SUV', 'Sedan', 'SuperCab', 'SuperCrew', 'TSX Sport Wagon', 'Transit Van', 'Van', 'Wagon', 'Xtracab', 'access cab', 'beetle convertible', 'cab plus 4', 'club cab', 'convertible', 'coupe', 'crew cab', 'crewmax cab', 'cts coupe', 'cts-v coupe', 'double cab', 'e-series van', 'elantra coupe', 'extended cab', 'g convertible', 'g coupe', 'g sedan', 'g37 convertible', 'g37 coupe', 'genesis coupe', 'granturismo convertible', 'hatchback', 'king cab', 'koup', 'mega cab', 'minivan', 'other', 'promaster cargo van', 'q60 convertible', 'q60 coupe', 'quad cab', 'regular cab', 'regular-cab', 'sedan', 'supercab', 'supercrew', 'suv', 'transit van', 'tsx sport wagon', 'van', 'wagon', 'xtracab']\n",
      "\n",
      "\u001b[1mКоличество уникальных значений transmission:\u001b[0m 3\n",
      "['automatic', 'manual', 'other']\n",
      "\n",
      "\u001b[1mКоличество уникальных значений state:\u001b[0m 38\n",
      "['ab', 'al', 'az', 'ca', 'co', 'fl', 'ga', 'hi', 'il', 'in', 'la', 'ma', 'md', 'mi', 'mn', 'mo', 'ms', 'nc', 'ne', 'nj', 'nm', 'ns', 'nv', 'ny', 'oh', 'ok', 'on', 'or', 'pa', 'pr', 'qc', 'sc', 'tn', 'tx', 'ut', 'va', 'wa', 'wi']\n",
      "\n",
      "\u001b[1mКоличество уникальных значений condition:\u001b[0m 41\n",
      "[1.0, 1.1, 1.2, 1.3, 1.4, 1.5, 1.6, 1.7, 1.8, 1.9, 2.0, 2.1, 2.2, 2.3, 2.4, 2.5, 2.6, 2.7, 2.8, 2.9, 3.0, 3.1, 3.2, 3.3, 3.4, 3.5, 3.6, 3.7, 3.8, 3.9, 4.0, 4.1, 4.2, 4.3, 4.4, 4.5, 4.6, 4.7, 4.8, 4.9, 5.0]\n",
      "\n",
      "\u001b[1mКоличество уникальных значений color:\u001b[0m 20\n",
      "['beige', 'black', 'blue', 'brown', 'burgundy', 'charcoal', 'gold', 'gray', 'green', 'lime', 'off-white', 'orange', 'pink', 'purple', 'red', 'silver', 'turquoise', 'white', 'yellow', '—']\n",
      "\n",
      "\u001b[1mКоличество уникальных значений interior:\u001b[0m 17\n",
      "['beige', 'black', 'blue', 'brown', 'burgundy', 'gold', 'gray', 'green', 'off-white', 'orange', 'purple', 'red', 'silver', 'tan', 'white', 'yellow', '—']\n",
      "\n",
      "\u001b[1mКоличество уникальных значений year:\u001b[0m 28\n",
      "[1987, 1989, 1990, 1991, 1992, 1993, 1994, 1995, 1996, 1997, 1998, 1999, 2000, 2001, 2002, 2003, 2004, 2005, 2006, 2007, 2008, 2009, 2010, 2011, 2012, 2013, 2014, 2015]\n",
      "\n",
      "\u001b[1mКоличество уникальных значений make:\u001b[0m 82\n",
      "['Acura', 'Aston Martin', 'Audi', 'BMW', 'Bentley', 'Buick', 'Cadillac', 'Chevrolet', 'Chrysler', 'Daewoo', 'Dodge', 'FIAT', 'Ferrari', 'Fisker', 'Ford', 'GMC', 'Geo', 'HUMMER', 'Honda', 'Hyundai', 'Infiniti', 'Isuzu', 'Jaguar', 'Jeep', 'Kia', 'Land Rover', 'Lexus', 'Lincoln', 'Lotus', 'MINI', 'Maserati', 'Mazda', 'Mercedes-Benz', 'Mercury', 'Mitsubishi', 'Nissan', 'Oldsmobile', 'Plymouth', 'Pontiac', 'Porsche', 'Ram', 'Rolls-Royce', 'Saab', 'Saturn', 'Scion', 'Subaru', 'Suzuki', 'Tesla', 'Toyota', 'Volkswagen', 'Volvo', 'acura', 'audi', 'bmw', 'buick', 'cadillac', 'chevrolet', 'chrysler', 'dodge', 'ford', 'ford tk', 'gmc', 'honda', 'jeep', 'kia', 'land rover', 'landrover', 'lexus', 'lincoln', 'mazda', 'mercedes', 'mercury', 'mitsubishi', 'nissan', 'oldsmobile', 'pontiac', 'porsche', 'smart', 'subaru', 'toyota', 'volkswagen', 'vw']\n",
      "\n",
      "\u001b[1mКоличество уникальных значений body:\u001b[0m 78\n",
      "['Access Cab', 'Beetle Convertible', 'CTS Coupe', 'CTS Wagon', 'CTS-V Coupe', 'Cab Plus', 'Club Cab', 'Convertible', 'Coupe', 'Crew Cab', 'CrewMax Cab', 'Double Cab', 'E-Series Van', 'Elantra Coupe', 'Extended Cab', 'G Convertible', 'G Coupe', 'G Sedan', 'G37 Convertible', 'G37 Coupe', 'Genesis Coupe', 'GranTurismo Convertible', 'Hatchback', 'King Cab', 'Koup', 'Mega Cab', 'Minivan', 'Promaster Cargo Van', 'Q60 Convertible', 'Q60 Coupe', 'Quad Cab', 'Regular Cab', 'SUV', 'Sedan', 'SuperCab', 'SuperCrew', 'TSX Sport Wagon', 'Transit Van', 'Van', 'Wagon', 'Xtracab', 'access cab', 'club cab', 'convertible', 'coupe', 'crew cab', 'crewmax cab', 'cts coupe', 'cts-v coupe', 'double cab', 'e-series van', 'elantra coupe', 'extended cab', 'g convertible', 'g coupe', 'g sedan', 'genesis coupe', 'granturismo convertible', 'hatchback', 'king cab', 'koup', 'mega cab', 'minivan', 'other', 'promaster cargo van', 'q60 convertible', 'quad cab', 'regular cab', 'regular-cab', 'sedan', 'supercab', 'supercrew', 'suv', 'transit van', 'tsx sport wagon', 'van', 'wagon', 'xtracab']\n",
      "\n",
      "\u001b[1mКоличество уникальных значений transmission:\u001b[0m 3\n",
      "['automatic', 'manual', 'other']\n",
      "\n",
      "\u001b[1mКоличество уникальных значений state:\u001b[0m 38\n",
      "['ab', 'al', 'az', 'ca', 'co', 'fl', 'ga', 'hi', 'il', 'in', 'la', 'ma', 'md', 'mi', 'mn', 'mo', 'ms', 'nc', 'ne', 'nj', 'nm', 'ns', 'nv', 'ny', 'oh', 'ok', 'on', 'or', 'pa', 'pr', 'qc', 'sc', 'tn', 'tx', 'ut', 'va', 'wa', 'wi']\n",
      "\n",
      "\u001b[1mКоличество уникальных значений condition:\u001b[0m 41\n",
      "[1.0, 1.1, 1.2, 1.3, 1.4, 1.5, 1.6, 1.7, 1.8, 1.9, 2.0, 2.1, 2.2, 2.3, 2.4, 2.5, 2.6, 2.7, 2.8, 2.9, 3.0, 3.1, 3.2, 3.3, 3.4, 3.5, 3.6, 3.7, 3.8, 3.9, 4.0, 4.1, 4.2, 4.3, 4.4, 4.5, 4.6, 4.7, 4.8, 4.9, 5.0]\n",
      "\n",
      "\u001b[1mКоличество уникальных значений color:\u001b[0m 20\n",
      "['beige', 'black', 'blue', 'brown', 'burgundy', 'charcoal', 'gold', 'gray', 'green', 'lime', 'off-white', 'orange', 'pink', 'purple', 'red', 'silver', 'turquoise', 'white', 'yellow', '—']\n",
      "\n",
      "\u001b[1mКоличество уникальных значений interior:\u001b[0m 17\n",
      "['beige', 'black', 'blue', 'brown', 'burgundy', 'gold', 'gray', 'green', 'off-white', 'orange', 'purple', 'red', 'silver', 'tan', 'white', 'yellow', '—']\n",
      "\n"
     ]
    }
   ],
   "source": [
    "for value in [df_train, df_test]: # посмотрим есть ли ошибки в значениях\n",
    "    for column in ['year', 'make', \n",
    "       'body', 'transmission',\n",
    "       'state', 'condition', 'color', 'interior']:        \n",
    "        print('\\033[1m' + f'Количество уникальных значений {column}:'+ '\\033[0m', value[column].nunique())\n",
    "        print(sorted(value[column].unique()))\n",
    "        print()"
   ]
  },
  {
   "cell_type": "markdown",
   "metadata": {},
   "source": [
    "Обнаружены неявные дубликаты. Поработаем с ними"
   ]
  },
  {
   "cell_type": "code",
   "execution_count": 101,
   "metadata": {
    "execution": {
     "iopub.execute_input": "2025-01-06T18:12:01.586097Z",
     "iopub.status.busy": "2025-01-06T18:12:01.585768Z",
     "iopub.status.idle": "2025-01-06T18:12:02.032067Z",
     "shell.execute_reply": "2025-01-06T18:12:02.030704Z",
     "shell.execute_reply.started": "2025-01-06T18:12:01.586065Z"
    }
   },
   "outputs": [],
   "source": [
    "#Приведм данные к одинаковому строковому формату - первая заглавная\n",
    "df_train['make'] = df_train['make'].str.title()\n",
    "df_train['body'] = df_train['body'].str.title()\n",
    "df_test['make'] = df_test['make'].str.title()\n",
    "df_test['body'] = df_test['body'].str.title()"
   ]
  },
  {
   "cell_type": "code",
   "execution_count": 102,
   "metadata": {
    "execution": {
     "iopub.execute_input": "2025-01-06T18:12:02.033989Z",
     "iopub.status.busy": "2025-01-06T18:12:02.033613Z",
     "iopub.status.idle": "2025-01-06T18:12:02.255458Z",
     "shell.execute_reply": "2025-01-06T18:12:02.254097Z",
     "shell.execute_reply.started": "2025-01-06T18:12:02.033955Z"
    }
   },
   "outputs": [
    {
     "name": "stdout",
     "output_type": "stream",
     "text": [
      "\u001b[1mКоличество уникальных значений make:\u001b[0m 61\n",
      "['Acura', 'Airstream', 'Aston Martin', 'Audi', 'Bentley', 'Bmw', 'Buick', 'Cadillac', 'Chevrolet', 'Chrysler', 'Daewoo', 'Dodge', 'Dodge Tk', 'Dot', 'Ferrari', 'Fiat', 'Fisker', 'Ford', 'Ford Truck', 'Geo', 'Gmc', 'Gmc Truck', 'Honda', 'Hummer', 'Hyundai', 'Infiniti', 'Isuzu', 'Jaguar', 'Jeep', 'Kia', 'Lamborghini', 'Land Rover', 'Landrover', 'Lexus', 'Lincoln', 'Maserati', 'Mazda', 'Mercedes', 'Mercedes-B', 'Mercedes-Benz', 'Mercury', 'Mini', 'Mitsubishi', 'Nissan', 'Oldsmobile', 'Plymouth', 'Pontiac', 'Porsche', 'Ram', 'Rolls-Royce', 'Saab', 'Saturn', 'Scion', 'Smart', 'Subaru', 'Suzuki', 'Tesla', 'Toyota', 'Volkswagen', 'Volvo', 'Vw']\n",
      "\n",
      "\u001b[1mКоличество уникальных значений body:\u001b[0m 46\n",
      "['Access Cab', 'Beetle Convertible', 'Cab Plus', 'Cab Plus 4', 'Club Cab', 'Convertible', 'Coupe', 'Crew Cab', 'Crewmax Cab', 'Cts Coupe', 'Cts Wagon', 'Cts-V Coupe', 'Cts-V Wagon', 'Double Cab', 'E-Series Van', 'Elantra Coupe', 'Extended Cab', 'G Convertible', 'G Coupe', 'G Sedan', 'G37 Convertible', 'G37 Coupe', 'Genesis Coupe', 'Granturismo Convertible', 'Hatchback', 'King Cab', 'Koup', 'Mega Cab', 'Minivan', 'Other', 'Promaster Cargo Van', 'Q60 Convertible', 'Q60 Coupe', 'Quad Cab', 'Ram Van', 'Regular Cab', 'Regular-Cab', 'Sedan', 'Supercab', 'Supercrew', 'Suv', 'Transit Van', 'Tsx Sport Wagon', 'Van', 'Wagon', 'Xtracab']\n",
      "\n",
      "\u001b[1mКоличество уникальных значений make:\u001b[0m 56\n",
      "['Acura', 'Aston Martin', 'Audi', 'Bentley', 'Bmw', 'Buick', 'Cadillac', 'Chevrolet', 'Chrysler', 'Daewoo', 'Dodge', 'Ferrari', 'Fiat', 'Fisker', 'Ford', 'Ford Tk', 'Geo', 'Gmc', 'Honda', 'Hummer', 'Hyundai', 'Infiniti', 'Isuzu', 'Jaguar', 'Jeep', 'Kia', 'Land Rover', 'Landrover', 'Lexus', 'Lincoln', 'Lotus', 'Maserati', 'Mazda', 'Mercedes', 'Mercedes-Benz', 'Mercury', 'Mini', 'Mitsubishi', 'Nissan', 'Oldsmobile', 'Plymouth', 'Pontiac', 'Porsche', 'Ram', 'Rolls-Royce', 'Saab', 'Saturn', 'Scion', 'Smart', 'Subaru', 'Suzuki', 'Tesla', 'Toyota', 'Volkswagen', 'Volvo', 'Vw']\n",
      "\n",
      "\u001b[1mКоличество уникальных значений body:\u001b[0m 43\n",
      "['Access Cab', 'Beetle Convertible', 'Cab Plus', 'Club Cab', 'Convertible', 'Coupe', 'Crew Cab', 'Crewmax Cab', 'Cts Coupe', 'Cts Wagon', 'Cts-V Coupe', 'Double Cab', 'E-Series Van', 'Elantra Coupe', 'Extended Cab', 'G Convertible', 'G Coupe', 'G Sedan', 'G37 Convertible', 'G37 Coupe', 'Genesis Coupe', 'Granturismo Convertible', 'Hatchback', 'King Cab', 'Koup', 'Mega Cab', 'Minivan', 'Other', 'Promaster Cargo Van', 'Q60 Convertible', 'Q60 Coupe', 'Quad Cab', 'Regular Cab', 'Regular-Cab', 'Sedan', 'Supercab', 'Supercrew', 'Suv', 'Transit Van', 'Tsx Sport Wagon', 'Van', 'Wagon', 'Xtracab']\n",
      "\n"
     ]
    }
   ],
   "source": [
    "for value in [df_train, df_test]: \n",
    "    for column in ['make', 'body']:  \n",
    "        print('\\033[1m' + f'Количество уникальных значений {column}:'+ '\\033[0m', value[column].nunique())\n",
    "        print(sorted(value[column].unique()))\n",
    "        print()"
   ]
  },
  {
   "cell_type": "code",
   "execution_count": 103,
   "metadata": {
    "execution": {
     "iopub.execute_input": "2025-01-06T18:12:02.257930Z",
     "iopub.status.busy": "2025-01-06T18:12:02.257410Z",
     "iopub.status.idle": "2025-01-06T18:12:02.267112Z",
     "shell.execute_reply": "2025-01-06T18:12:02.265637Z",
     "shell.execute_reply.started": "2025-01-06T18:12:02.257865Z"
    }
   },
   "outputs": [],
   "source": [
    "#заменим некоторые неявные дубликаты\n",
    "def replace_make_values(df):\n",
    "    replacements = {\n",
    "        'Dodge Tk': 'Dodge',\n",
    "        'Mercedes-B': 'Mercedes',\n",
    "        'Mercedes-Benz': 'Mercedes',\n",
    "        'Gmc Truck': 'Gmc',\n",
    "        'Ford Tk': 'Ford',\n",
    "        'Hyundai Tk': 'Hyundai',\n",
    "        'Mercedes-Benz': 'Mercedes',\n",
    "        'Vw': 'Volkswagen'\n",
    "    }   \n",
    "    for old_value, new_value in replacements.items():\n",
    "        df['make'] = df['make'].replace(old_value, new_value)\n",
    "    return df"
   ]
  },
  {
   "cell_type": "code",
   "execution_count": 104,
   "metadata": {
    "execution": {
     "iopub.execute_input": "2025-01-06T18:12:02.269190Z",
     "iopub.status.busy": "2025-01-06T18:12:02.268799Z",
     "iopub.status.idle": "2025-01-06T18:12:02.594538Z",
     "shell.execute_reply": "2025-01-06T18:12:02.593186Z",
     "shell.execute_reply.started": "2025-01-06T18:12:02.269150Z"
    }
   },
   "outputs": [],
   "source": [
    "# используем функцию\n",
    "df_train = replace_make_values(df_train)\n",
    "df_test = replace_make_values(df_test)"
   ]
  },
  {
   "cell_type": "code",
   "execution_count": 105,
   "metadata": {
    "execution": {
     "iopub.execute_input": "2025-01-06T18:12:02.597289Z",
     "iopub.status.busy": "2025-01-06T18:12:02.596147Z",
     "iopub.status.idle": "2025-01-06T18:12:02.606960Z",
     "shell.execute_reply": "2025-01-06T18:12:02.605710Z",
     "shell.execute_reply.started": "2025-01-06T18:12:02.597207Z"
    }
   },
   "outputs": [],
   "source": [
    "def replace_body_types(df, column='body'):\n",
    "    def replace_if_contains(word, text):\n",
    "        if word.lower() in text.lower():\n",
    "            return word\n",
    "        else:\n",
    "            return text\n",
    "    \n",
    "    df[column] = df[column].apply(lambda x: replace_if_contains(\"Coupe\", x))\n",
    "    df[column] = df[column].apply(lambda x: replace_if_contains(\"Sedan\", x))\n",
    "    df[column] = df[column].apply(lambda x: replace_if_contains(\"Wagon\", x))\n",
    "    df[column] = df[column].apply(lambda x: replace_if_contains(\"Convertible\", x))\n",
    "    df[column] = df[column].apply(lambda x: replace_if_contains(\"Van\", x))\n",
    "    df[column] = df[column].apply(lambda x: replace_if_contains(\"Cab\", x))\n",
    "    return df"
   ]
  },
  {
   "cell_type": "code",
   "execution_count": 106,
   "metadata": {
    "execution": {
     "iopub.execute_input": "2025-01-06T18:12:02.609278Z",
     "iopub.status.busy": "2025-01-06T18:12:02.608662Z",
     "iopub.status.idle": "2025-01-06T18:12:03.897778Z",
     "shell.execute_reply": "2025-01-06T18:12:03.896447Z",
     "shell.execute_reply.started": "2025-01-06T18:12:02.609193Z"
    }
   },
   "outputs": [],
   "source": [
    "# используем функцию\n",
    "df_train = replace_body_types(df_train)\n",
    "df_test = replace_body_types(df_test)"
   ]
  },
  {
   "cell_type": "code",
   "execution_count": 107,
   "metadata": {
    "execution": {
     "iopub.execute_input": "2025-01-06T18:12:03.899899Z",
     "iopub.status.busy": "2025-01-06T18:12:03.899571Z",
     "iopub.status.idle": "2025-01-06T18:12:04.129872Z",
     "shell.execute_reply": "2025-01-06T18:12:04.128594Z",
     "shell.execute_reply.started": "2025-01-06T18:12:03.899868Z"
    }
   },
   "outputs": [
    {
     "name": "stdout",
     "output_type": "stream",
     "text": [
      "\u001b[1mКоличество уникальных значений make:\u001b[0m 56\n",
      "['Acura', 'Airstream', 'Aston Martin', 'Audi', 'Bentley', 'Bmw', 'Buick', 'Cadillac', 'Chevrolet', 'Chrysler', 'Daewoo', 'Dodge', 'Dot', 'Ferrari', 'Fiat', 'Fisker', 'Ford', 'Ford Truck', 'Geo', 'Gmc', 'Honda', 'Hummer', 'Hyundai', 'Infiniti', 'Isuzu', 'Jaguar', 'Jeep', 'Kia', 'Lamborghini', 'Land Rover', 'Landrover', 'Lexus', 'Lincoln', 'Maserati', 'Mazda', 'Mercedes', 'Mercury', 'Mini', 'Mitsubishi', 'Nissan', 'Oldsmobile', 'Plymouth', 'Pontiac', 'Porsche', 'Ram', 'Rolls-Royce', 'Saab', 'Saturn', 'Scion', 'Smart', 'Subaru', 'Suzuki', 'Tesla', 'Toyota', 'Volkswagen', 'Volvo']\n",
      "\n",
      "\u001b[1mКоличество уникальных значений body:\u001b[0m 11\n",
      "['Cab', 'Convertible', 'Coupe', 'Hatchback', 'Koup', 'Other', 'Sedan', 'Supercrew', 'Suv', 'Van', 'Wagon']\n",
      "\n",
      "\u001b[1mКоличество уникальных значений make:\u001b[0m 53\n",
      "['Acura', 'Aston Martin', 'Audi', 'Bentley', 'Bmw', 'Buick', 'Cadillac', 'Chevrolet', 'Chrysler', 'Daewoo', 'Dodge', 'Ferrari', 'Fiat', 'Fisker', 'Ford', 'Geo', 'Gmc', 'Honda', 'Hummer', 'Hyundai', 'Infiniti', 'Isuzu', 'Jaguar', 'Jeep', 'Kia', 'Land Rover', 'Landrover', 'Lexus', 'Lincoln', 'Lotus', 'Maserati', 'Mazda', 'Mercedes', 'Mercury', 'Mini', 'Mitsubishi', 'Nissan', 'Oldsmobile', 'Plymouth', 'Pontiac', 'Porsche', 'Ram', 'Rolls-Royce', 'Saab', 'Saturn', 'Scion', 'Smart', 'Subaru', 'Suzuki', 'Tesla', 'Toyota', 'Volkswagen', 'Volvo']\n",
      "\n",
      "\u001b[1mКоличество уникальных значений body:\u001b[0m 11\n",
      "['Cab', 'Convertible', 'Coupe', 'Hatchback', 'Koup', 'Other', 'Sedan', 'Supercrew', 'Suv', 'Van', 'Wagon']\n",
      "\n"
     ]
    }
   ],
   "source": [
    "for value in [df_train, df_test]: \n",
    "    for column in ['make', 'body']:  \n",
    "        print('\\033[1m' + f'Количество уникальных значений {column}:'+ '\\033[0m', value[column].nunique())\n",
    "        print(sorted(value[column].unique()))\n",
    "        print()"
   ]
  },
  {
   "cell_type": "code",
   "execution_count": 108,
   "metadata": {
    "execution": {
     "iopub.execute_input": "2025-01-06T18:12:04.132320Z",
     "iopub.status.busy": "2025-01-06T18:12:04.131789Z",
     "iopub.status.idle": "2025-01-06T18:12:04.292517Z",
     "shell.execute_reply": "2025-01-06T18:12:04.291017Z",
     "shell.execute_reply.started": "2025-01-06T18:12:04.132267Z"
    }
   },
   "outputs": [
    {
     "name": "stdout",
     "output_type": "stream",
     "text": [
      "\u001b[1mКоличество уникальных значений color:\u001b[0m 20\n",
      "['beige', 'black', 'blue', 'brown', 'burgundy', 'charcoal', 'gold', 'gray', 'green', 'lime', 'off-white', 'orange', 'pink', 'purple', 'red', 'silver', 'turquoise', 'white', 'yellow', '—']\n",
      "\n",
      "\u001b[1mКоличество уникальных значений interior:\u001b[0m 17\n",
      "['beige', 'black', 'blue', 'brown', 'burgundy', 'gold', 'gray', 'green', 'off-white', 'orange', 'purple', 'red', 'silver', 'tan', 'white', 'yellow', '—']\n",
      "\n",
      "\u001b[1mКоличество уникальных значений color:\u001b[0m 20\n",
      "['beige', 'black', 'blue', 'brown', 'burgundy', 'charcoal', 'gold', 'gray', 'green', 'lime', 'off-white', 'orange', 'pink', 'purple', 'red', 'silver', 'turquoise', 'white', 'yellow', '—']\n",
      "\n",
      "\u001b[1mКоличество уникальных значений interior:\u001b[0m 17\n",
      "['beige', 'black', 'blue', 'brown', 'burgundy', 'gold', 'gray', 'green', 'off-white', 'orange', 'purple', 'red', 'silver', 'tan', 'white', 'yellow', '—']\n",
      "\n"
     ]
    }
   ],
   "source": [
    "for value in [df_train, df_test]: # посмотрим есть ли ошибки в значениях\n",
    "    for column in ['color', 'interior']:        \n",
    "        print('\\033[1m' + f'Количество уникальных значений {column}:'+ '\\033[0m', value[column].nunique())\n",
    "        print(sorted(value[column].unique()))\n",
    "        print()"
   ]
  },
  {
   "cell_type": "markdown",
   "metadata": {},
   "source": [
    "**Изменение типов данных**\n",
    "\n",
    "\n",
    "Поменяю на целочисленный формат значения в графе 'odometer'"
   ]
  },
  {
   "cell_type": "code",
   "execution_count": 109,
   "metadata": {
    "execution": {
     "iopub.execute_input": "2025-01-06T18:12:04.301583Z",
     "iopub.status.busy": "2025-01-06T18:12:04.301163Z",
     "iopub.status.idle": "2025-01-06T18:12:04.399138Z",
     "shell.execute_reply": "2025-01-06T18:12:04.398001Z",
     "shell.execute_reply.started": "2025-01-06T18:12:04.301550Z"
    }
   },
   "outputs": [],
   "source": [
    "df_train['odometer'] = df_train[df_train['odometer'].notnull()]['odometer'].astype('int') #переведем формат float на int\n",
    "df_test['odometer'] = df_test[df_test['odometer'].notnull()]['odometer'].astype('int') "
   ]
  },
  {
   "cell_type": "code",
   "execution_count": 110,
   "metadata": {
    "execution": {
     "iopub.execute_input": "2025-01-06T18:12:04.400940Z",
     "iopub.status.busy": "2025-01-06T18:12:04.400553Z",
     "iopub.status.idle": "2025-01-06T18:12:04.421672Z",
     "shell.execute_reply": "2025-01-06T18:12:04.420336Z",
     "shell.execute_reply.started": "2025-01-06T18:12:04.400902Z"
    }
   },
   "outputs": [
    {
     "data": {
      "text/html": [
       "<div>\n",
       "<style scoped>\n",
       "    .dataframe tbody tr th:only-of-type {\n",
       "        vertical-align: middle;\n",
       "    }\n",
       "\n",
       "    .dataframe tbody tr th {\n",
       "        vertical-align: top;\n",
       "    }\n",
       "\n",
       "    .dataframe thead th {\n",
       "        text-align: right;\n",
       "    }\n",
       "</style>\n",
       "<table border=\"1\" class=\"dataframe\">\n",
       "  <thead>\n",
       "    <tr style=\"text-align: right;\">\n",
       "      <th></th>\n",
       "      <th>year</th>\n",
       "      <th>make</th>\n",
       "      <th>model</th>\n",
       "      <th>trim</th>\n",
       "      <th>body</th>\n",
       "      <th>transmission</th>\n",
       "      <th>vin</th>\n",
       "      <th>state</th>\n",
       "      <th>condition</th>\n",
       "      <th>odometer</th>\n",
       "      <th>color</th>\n",
       "      <th>interior</th>\n",
       "      <th>seller</th>\n",
       "      <th>sellingprice</th>\n",
       "      <th>saledate</th>\n",
       "    </tr>\n",
       "  </thead>\n",
       "  <tbody>\n",
       "    <tr>\n",
       "      <th>0</th>\n",
       "      <td>2011</td>\n",
       "      <td>Ford</td>\n",
       "      <td>Edge</td>\n",
       "      <td>SEL</td>\n",
       "      <td>Suv</td>\n",
       "      <td>automatic</td>\n",
       "      <td>2fmdk3jc4bba41556</td>\n",
       "      <td>md</td>\n",
       "      <td>4.2</td>\n",
       "      <td>111041</td>\n",
       "      <td>black</td>\n",
       "      <td>black</td>\n",
       "      <td>santander consumer</td>\n",
       "      <td>12500</td>\n",
       "      <td>Tue Jun 02 2015 02:30:00 GMT-0700 (PDT)</td>\n",
       "    </tr>\n",
       "    <tr>\n",
       "      <th>1</th>\n",
       "      <td>2014</td>\n",
       "      <td>Ford</td>\n",
       "      <td>Fusion</td>\n",
       "      <td>SE</td>\n",
       "      <td>Sedan</td>\n",
       "      <td>automatic</td>\n",
       "      <td>3fa6p0h75er208976</td>\n",
       "      <td>mo</td>\n",
       "      <td>3.5</td>\n",
       "      <td>31034</td>\n",
       "      <td>black</td>\n",
       "      <td>black</td>\n",
       "      <td>ars/avis budget group</td>\n",
       "      <td>14500</td>\n",
       "      <td>Wed Feb 25 2015 02:00:00 GMT-0800 (PST)</td>\n",
       "    </tr>\n",
       "    <tr>\n",
       "      <th>2</th>\n",
       "      <td>2012</td>\n",
       "      <td>Nissan</td>\n",
       "      <td>Sentra</td>\n",
       "      <td>2.0 SL</td>\n",
       "      <td>Sedan</td>\n",
       "      <td>automatic</td>\n",
       "      <td>3n1ab6ap4cl698412</td>\n",
       "      <td>nj</td>\n",
       "      <td>2.2</td>\n",
       "      <td>35619</td>\n",
       "      <td>black</td>\n",
       "      <td>black</td>\n",
       "      <td>nissan-infiniti lt</td>\n",
       "      <td>9100</td>\n",
       "      <td>Wed Jun 10 2015 02:30:00 GMT-0700 (PDT)</td>\n",
       "    </tr>\n",
       "  </tbody>\n",
       "</table>\n",
       "</div>"
      ],
      "text/plain": [
       "   year    make   model    trim   body transmission                vin state  \\\n",
       "0  2011    Ford    Edge     SEL    Suv    automatic  2fmdk3jc4bba41556    md   \n",
       "1  2014    Ford  Fusion      SE  Sedan    automatic  3fa6p0h75er208976    mo   \n",
       "2  2012  Nissan  Sentra  2.0 SL  Sedan    automatic  3n1ab6ap4cl698412    nj   \n",
       "\n",
       "   condition  odometer  color interior                 seller  sellingprice  \\\n",
       "0        4.2    111041  black    black     santander consumer         12500   \n",
       "1        3.5     31034  black    black  ars/avis budget group         14500   \n",
       "2        2.2     35619  black    black     nissan-infiniti lt          9100   \n",
       "\n",
       "                                  saledate  \n",
       "0  Tue Jun 02 2015 02:30:00 GMT-0700 (PDT)  \n",
       "1  Wed Feb 25 2015 02:00:00 GMT-0800 (PST)  \n",
       "2  Wed Jun 10 2015 02:30:00 GMT-0700 (PDT)  "
      ]
     },
     "execution_count": 110,
     "metadata": {},
     "output_type": "execute_result"
    }
   ],
   "source": [
    "df_train.head(3)"
   ]
  },
  {
   "cell_type": "markdown",
   "metadata": {},
   "source": [
    "Мне кажется некорректным тип данных в столбце \"дата продажи\". "
   ]
  },
  {
   "cell_type": "code",
   "execution_count": 111,
   "metadata": {
    "execution": {
     "iopub.execute_input": "2025-01-06T18:12:04.424707Z",
     "iopub.status.busy": "2025-01-06T18:12:04.424302Z",
     "iopub.status.idle": "2025-01-06T18:12:05.803761Z",
     "shell.execute_reply": "2025-01-06T18:12:05.802349Z",
     "shell.execute_reply.started": "2025-01-06T18:12:04.424661Z"
    }
   },
   "outputs": [
    {
     "data": {
      "text/html": [
       "<div>\n",
       "<style scoped>\n",
       "    .dataframe tbody tr th:only-of-type {\n",
       "        vertical-align: middle;\n",
       "    }\n",
       "\n",
       "    .dataframe tbody tr th {\n",
       "        vertical-align: top;\n",
       "    }\n",
       "\n",
       "    .dataframe thead th {\n",
       "        text-align: right;\n",
       "    }\n",
       "</style>\n",
       "<table border=\"1\" class=\"dataframe\">\n",
       "  <thead>\n",
       "    <tr style=\"text-align: right;\">\n",
       "      <th></th>\n",
       "      <th>year</th>\n",
       "      <th>make</th>\n",
       "      <th>model</th>\n",
       "      <th>trim</th>\n",
       "      <th>body</th>\n",
       "      <th>transmission</th>\n",
       "      <th>vin</th>\n",
       "      <th>state</th>\n",
       "      <th>condition</th>\n",
       "      <th>odometer</th>\n",
       "      <th>color</th>\n",
       "      <th>interior</th>\n",
       "      <th>seller</th>\n",
       "      <th>sellingprice</th>\n",
       "      <th>saledate</th>\n",
       "    </tr>\n",
       "  </thead>\n",
       "  <tbody>\n",
       "    <tr>\n",
       "      <th>0</th>\n",
       "      <td>2011</td>\n",
       "      <td>Ford</td>\n",
       "      <td>Edge</td>\n",
       "      <td>SEL</td>\n",
       "      <td>Suv</td>\n",
       "      <td>automatic</td>\n",
       "      <td>2fmdk3jc4bba41556</td>\n",
       "      <td>md</td>\n",
       "      <td>4.2</td>\n",
       "      <td>111041</td>\n",
       "      <td>black</td>\n",
       "      <td>black</td>\n",
       "      <td>santander consumer</td>\n",
       "      <td>12500</td>\n",
       "      <td>2015-06-01 19:30:00+00:00</td>\n",
       "    </tr>\n",
       "    <tr>\n",
       "      <th>1</th>\n",
       "      <td>2014</td>\n",
       "      <td>Ford</td>\n",
       "      <td>Fusion</td>\n",
       "      <td>SE</td>\n",
       "      <td>Sedan</td>\n",
       "      <td>automatic</td>\n",
       "      <td>3fa6p0h75er208976</td>\n",
       "      <td>mo</td>\n",
       "      <td>3.5</td>\n",
       "      <td>31034</td>\n",
       "      <td>black</td>\n",
       "      <td>black</td>\n",
       "      <td>ars/avis budget group</td>\n",
       "      <td>14500</td>\n",
       "      <td>2015-02-24 18:00:00+00:00</td>\n",
       "    </tr>\n",
       "    <tr>\n",
       "      <th>2</th>\n",
       "      <td>2012</td>\n",
       "      <td>Nissan</td>\n",
       "      <td>Sentra</td>\n",
       "      <td>2.0 SL</td>\n",
       "      <td>Sedan</td>\n",
       "      <td>automatic</td>\n",
       "      <td>3n1ab6ap4cl698412</td>\n",
       "      <td>nj</td>\n",
       "      <td>2.2</td>\n",
       "      <td>35619</td>\n",
       "      <td>black</td>\n",
       "      <td>black</td>\n",
       "      <td>nissan-infiniti lt</td>\n",
       "      <td>9100</td>\n",
       "      <td>2015-06-09 19:30:00+00:00</td>\n",
       "    </tr>\n",
       "  </tbody>\n",
       "</table>\n",
       "</div>"
      ],
      "text/plain": [
       "   year    make   model    trim   body transmission                vin state  \\\n",
       "0  2011    Ford    Edge     SEL    Suv    automatic  2fmdk3jc4bba41556    md   \n",
       "1  2014    Ford  Fusion      SE  Sedan    automatic  3fa6p0h75er208976    mo   \n",
       "2  2012  Nissan  Sentra  2.0 SL  Sedan    automatic  3n1ab6ap4cl698412    nj   \n",
       "\n",
       "   condition  odometer  color interior                 seller  sellingprice  \\\n",
       "0        4.2    111041  black    black     santander consumer         12500   \n",
       "1        3.5     31034  black    black  ars/avis budget group         14500   \n",
       "2        2.2     35619  black    black     nissan-infiniti lt          9100   \n",
       "\n",
       "                   saledate  \n",
       "0 2015-06-01 19:30:00+00:00  \n",
       "1 2015-02-24 18:00:00+00:00  \n",
       "2 2015-06-09 19:30:00+00:00  "
      ]
     },
     "execution_count": 111,
     "metadata": {},
     "output_type": "execute_result"
    }
   ],
   "source": [
    "#заменим на формат даты\n",
    "df_train['saledate'] = pd.to_datetime(df_train['saledate'], utc=True)\n",
    "df_test['saledate'] = pd.to_datetime(df_test['saledate'], utc=True)\n",
    "df_train.head(3)"
   ]
  },
  {
   "cell_type": "code",
   "execution_count": 112,
   "metadata": {
    "execution": {
     "iopub.execute_input": "2025-01-06T18:12:05.805776Z",
     "iopub.status.busy": "2025-01-06T18:12:05.805396Z",
     "iopub.status.idle": "2025-01-06T18:12:05.888115Z",
     "shell.execute_reply": "2025-01-06T18:12:05.886806Z",
     "shell.execute_reply.started": "2025-01-06T18:12:05.805740Z"
    }
   },
   "outputs": [
    {
     "data": {
      "text/html": [
       "<div>\n",
       "<style scoped>\n",
       "    .dataframe tbody tr th:only-of-type {\n",
       "        vertical-align: middle;\n",
       "    }\n",
       "\n",
       "    .dataframe tbody tr th {\n",
       "        vertical-align: top;\n",
       "    }\n",
       "\n",
       "    .dataframe thead th {\n",
       "        text-align: right;\n",
       "    }\n",
       "</style>\n",
       "<table border=\"1\" class=\"dataframe\">\n",
       "  <thead>\n",
       "    <tr style=\"text-align: right;\">\n",
       "      <th></th>\n",
       "      <th>year</th>\n",
       "      <th>make</th>\n",
       "      <th>model</th>\n",
       "      <th>trim</th>\n",
       "      <th>body</th>\n",
       "      <th>transmission</th>\n",
       "      <th>vin</th>\n",
       "      <th>state</th>\n",
       "      <th>condition</th>\n",
       "      <th>odometer</th>\n",
       "      <th>color</th>\n",
       "      <th>interior</th>\n",
       "      <th>seller</th>\n",
       "      <th>sellingprice</th>\n",
       "      <th>saledate</th>\n",
       "      <th>time_rounded</th>\n",
       "    </tr>\n",
       "  </thead>\n",
       "  <tbody>\n",
       "    <tr>\n",
       "      <th>0</th>\n",
       "      <td>2011</td>\n",
       "      <td>Ford</td>\n",
       "      <td>Edge</td>\n",
       "      <td>SEL</td>\n",
       "      <td>Suv</td>\n",
       "      <td>automatic</td>\n",
       "      <td>2fmdk3jc4bba41556</td>\n",
       "      <td>md</td>\n",
       "      <td>4.2</td>\n",
       "      <td>111041</td>\n",
       "      <td>black</td>\n",
       "      <td>black</td>\n",
       "      <td>santander consumer</td>\n",
       "      <td>12500</td>\n",
       "      <td>2015-06-01 19:30:00+00:00</td>\n",
       "      <td>2015</td>\n",
       "    </tr>\n",
       "    <tr>\n",
       "      <th>1</th>\n",
       "      <td>2014</td>\n",
       "      <td>Ford</td>\n",
       "      <td>Fusion</td>\n",
       "      <td>SE</td>\n",
       "      <td>Sedan</td>\n",
       "      <td>automatic</td>\n",
       "      <td>3fa6p0h75er208976</td>\n",
       "      <td>mo</td>\n",
       "      <td>3.5</td>\n",
       "      <td>31034</td>\n",
       "      <td>black</td>\n",
       "      <td>black</td>\n",
       "      <td>ars/avis budget group</td>\n",
       "      <td>14500</td>\n",
       "      <td>2015-02-24 18:00:00+00:00</td>\n",
       "      <td>2015</td>\n",
       "    </tr>\n",
       "    <tr>\n",
       "      <th>2</th>\n",
       "      <td>2012</td>\n",
       "      <td>Nissan</td>\n",
       "      <td>Sentra</td>\n",
       "      <td>2.0 SL</td>\n",
       "      <td>Sedan</td>\n",
       "      <td>automatic</td>\n",
       "      <td>3n1ab6ap4cl698412</td>\n",
       "      <td>nj</td>\n",
       "      <td>2.2</td>\n",
       "      <td>35619</td>\n",
       "      <td>black</td>\n",
       "      <td>black</td>\n",
       "      <td>nissan-infiniti lt</td>\n",
       "      <td>9100</td>\n",
       "      <td>2015-06-09 19:30:00+00:00</td>\n",
       "      <td>2015</td>\n",
       "    </tr>\n",
       "  </tbody>\n",
       "</table>\n",
       "</div>"
      ],
      "text/plain": [
       "   year    make   model    trim   body transmission                vin state  \\\n",
       "0  2011    Ford    Edge     SEL    Suv    automatic  2fmdk3jc4bba41556    md   \n",
       "1  2014    Ford  Fusion      SE  Sedan    automatic  3fa6p0h75er208976    mo   \n",
       "2  2012  Nissan  Sentra  2.0 SL  Sedan    automatic  3n1ab6ap4cl698412    nj   \n",
       "\n",
       "   condition  odometer  color interior                 seller  sellingprice  \\\n",
       "0        4.2    111041  black    black     santander consumer         12500   \n",
       "1        3.5     31034  black    black  ars/avis budget group         14500   \n",
       "2        2.2     35619  black    black     nissan-infiniti lt          9100   \n",
       "\n",
       "                   saledate  time_rounded  \n",
       "0 2015-06-01 19:30:00+00:00          2015  \n",
       "1 2015-02-24 18:00:00+00:00          2015  \n",
       "2 2015-06-09 19:30:00+00:00          2015  "
      ]
     },
     "execution_count": 112,
     "metadata": {},
     "output_type": "execute_result"
    }
   ],
   "source": [
    "#выделим год\n",
    "df_train['time_rounded'] = df_train['saledate'].dt.year\n",
    "df_test['time_rounded'] = df_test['saledate'].dt.year\n",
    "df_train.head(3)"
   ]
  },
  {
   "cell_type": "code",
   "execution_count": 113,
   "metadata": {
    "execution": {
     "iopub.execute_input": "2025-01-06T18:12:05.890883Z",
     "iopub.status.busy": "2025-01-06T18:12:05.890414Z",
     "iopub.status.idle": "2025-01-06T18:12:05.920241Z",
     "shell.execute_reply": "2025-01-06T18:12:05.918609Z",
     "shell.execute_reply.started": "2025-01-06T18:12:05.890832Z"
    }
   },
   "outputs": [
    {
     "data": {
      "text/html": [
       "<div>\n",
       "<style scoped>\n",
       "    .dataframe tbody tr th:only-of-type {\n",
       "        vertical-align: middle;\n",
       "    }\n",
       "\n",
       "    .dataframe tbody tr th {\n",
       "        vertical-align: top;\n",
       "    }\n",
       "\n",
       "    .dataframe thead th {\n",
       "        text-align: right;\n",
       "    }\n",
       "</style>\n",
       "<table border=\"1\" class=\"dataframe\">\n",
       "  <thead>\n",
       "    <tr style=\"text-align: right;\">\n",
       "      <th></th>\n",
       "      <th>year</th>\n",
       "      <th>make</th>\n",
       "      <th>model</th>\n",
       "      <th>trim</th>\n",
       "      <th>body</th>\n",
       "      <th>transmission</th>\n",
       "      <th>vin</th>\n",
       "      <th>state</th>\n",
       "      <th>condition</th>\n",
       "      <th>odometer</th>\n",
       "      <th>color</th>\n",
       "      <th>interior</th>\n",
       "      <th>seller</th>\n",
       "      <th>sellingprice</th>\n",
       "      <th>saledate</th>\n",
       "      <th>time_rounded</th>\n",
       "      <th>car_age</th>\n",
       "    </tr>\n",
       "  </thead>\n",
       "  <tbody>\n",
       "    <tr>\n",
       "      <th>0</th>\n",
       "      <td>2011</td>\n",
       "      <td>Ford</td>\n",
       "      <td>Edge</td>\n",
       "      <td>SEL</td>\n",
       "      <td>Suv</td>\n",
       "      <td>automatic</td>\n",
       "      <td>2fmdk3jc4bba41556</td>\n",
       "      <td>md</td>\n",
       "      <td>4.2</td>\n",
       "      <td>111041</td>\n",
       "      <td>black</td>\n",
       "      <td>black</td>\n",
       "      <td>santander consumer</td>\n",
       "      <td>12500</td>\n",
       "      <td>2015-06-01 19:30:00+00:00</td>\n",
       "      <td>2015</td>\n",
       "      <td>4</td>\n",
       "    </tr>\n",
       "    <tr>\n",
       "      <th>1</th>\n",
       "      <td>2014</td>\n",
       "      <td>Ford</td>\n",
       "      <td>Fusion</td>\n",
       "      <td>SE</td>\n",
       "      <td>Sedan</td>\n",
       "      <td>automatic</td>\n",
       "      <td>3fa6p0h75er208976</td>\n",
       "      <td>mo</td>\n",
       "      <td>3.5</td>\n",
       "      <td>31034</td>\n",
       "      <td>black</td>\n",
       "      <td>black</td>\n",
       "      <td>ars/avis budget group</td>\n",
       "      <td>14500</td>\n",
       "      <td>2015-02-24 18:00:00+00:00</td>\n",
       "      <td>2015</td>\n",
       "      <td>1</td>\n",
       "    </tr>\n",
       "    <tr>\n",
       "      <th>2</th>\n",
       "      <td>2012</td>\n",
       "      <td>Nissan</td>\n",
       "      <td>Sentra</td>\n",
       "      <td>2.0 SL</td>\n",
       "      <td>Sedan</td>\n",
       "      <td>automatic</td>\n",
       "      <td>3n1ab6ap4cl698412</td>\n",
       "      <td>nj</td>\n",
       "      <td>2.2</td>\n",
       "      <td>35619</td>\n",
       "      <td>black</td>\n",
       "      <td>black</td>\n",
       "      <td>nissan-infiniti lt</td>\n",
       "      <td>9100</td>\n",
       "      <td>2015-06-09 19:30:00+00:00</td>\n",
       "      <td>2015</td>\n",
       "      <td>3</td>\n",
       "    </tr>\n",
       "  </tbody>\n",
       "</table>\n",
       "</div>"
      ],
      "text/plain": [
       "   year    make   model    trim   body transmission                vin state  \\\n",
       "0  2011    Ford    Edge     SEL    Suv    automatic  2fmdk3jc4bba41556    md   \n",
       "1  2014    Ford  Fusion      SE  Sedan    automatic  3fa6p0h75er208976    mo   \n",
       "2  2012  Nissan  Sentra  2.0 SL  Sedan    automatic  3n1ab6ap4cl698412    nj   \n",
       "\n",
       "   condition  odometer  color interior                 seller  sellingprice  \\\n",
       "0        4.2    111041  black    black     santander consumer         12500   \n",
       "1        3.5     31034  black    black  ars/avis budget group         14500   \n",
       "2        2.2     35619  black    black     nissan-infiniti lt          9100   \n",
       "\n",
       "                   saledate  time_rounded  car_age  \n",
       "0 2015-06-01 19:30:00+00:00          2015        4  \n",
       "1 2015-02-24 18:00:00+00:00          2015        1  \n",
       "2 2015-06-09 19:30:00+00:00          2015        3  "
      ]
     },
     "execution_count": 113,
     "metadata": {},
     "output_type": "execute_result"
    }
   ],
   "source": [
    "#посчитаем возраст машины\n",
    "df_train['car_age'] = df_train['time_rounded'] - df_train['year']\n",
    "df_test['car_age'] = df_test['time_rounded'] - df_test['year']\n",
    "df_train.head(3)"
   ]
  },
  {
   "cell_type": "markdown",
   "metadata": {},
   "source": [
    "**Вывод:**\n",
    "\n",
    "Проведена обработка данных, обработаны пропуски, явные и неявные дубликаты, исправлены типы данных, добавлен новый признак."
   ]
  },
  {
   "cell_type": "markdown",
   "metadata": {},
   "source": [
    "# Исследовательский анализ данных\n",
    "\n",
    "**Проверим корреляцию**"
   ]
  },
  {
   "cell_type": "code",
   "execution_count": 114,
   "metadata": {
    "execution": {
     "iopub.execute_input": "2025-01-06T18:12:05.922364Z",
     "iopub.status.busy": "2025-01-06T18:12:05.921941Z",
     "iopub.status.idle": "2025-01-06T18:12:06.559194Z",
     "shell.execute_reply": "2025-01-06T18:12:06.557812Z",
     "shell.execute_reply.started": "2025-01-06T18:12:05.922325Z"
    }
   },
   "outputs": [
    {
     "name": "stdout",
     "output_type": "stream",
     "text": [
      "                  year  condition  odometer  sellingprice  time_rounded  \\\n",
      "year          1.000000   0.550697 -0.776659      0.579570      0.055666   \n",
      "condition     0.550697   1.000000 -0.538087      0.536073      0.040578   \n",
      "odometer     -0.776659  -0.538087  1.000000     -0.577108     -0.036089   \n",
      "sellingprice  0.579570   0.536073 -0.577108      1.000000      0.036728   \n",
      "time_rounded  0.055666   0.040578 -0.036089      0.036728      1.000000   \n",
      "car_age      -0.997542  -0.548647  0.775251     -0.577832      0.014429   \n",
      "\n",
      "               car_age  \n",
      "year         -0.997542  \n",
      "condition    -0.548647  \n",
      "odometer      0.775251  \n",
      "sellingprice -0.577832  \n",
      "time_rounded  0.014429  \n",
      "car_age       1.000000  \n"
     ]
    },
    {
     "data": {
      "image/png": "[encoded data removed]",
      "text/plain": [
       "<Figure size 640x480 with 2 Axes>"
      ]
     },
     "metadata": {},
     "output_type": "display_data"
    }
   ],
   "source": [
    "print(df_train.corr())   \n",
    "df_plot = sns.heatmap(df_train.corr(), cmap=\"YlGnBu\", annot=True)  \n",
    "plt.show()"
   ]
  },
  {
   "cell_type": "markdown",
   "metadata": {},
   "source": [
    "Числовые признаки кажутся важными, так как и прямая и обратная зависимость более 54%. Самая большая корреляция между возрастом машины и пробегом, что логично.\n",
    "\n",
    "Целевой признак - sellingprice. Надо выяснить, как влияют на цену все основные параменты"
   ]
  },
  {
   "cell_type": "markdown",
   "metadata": {},
   "source": [
    "**Возраст машины**"
   ]
  },
  {
   "cell_type": "code",
   "execution_count": 115,
   "metadata": {
    "execution": {
     "iopub.execute_input": "2025-01-06T18:12:06.561438Z",
     "iopub.status.busy": "2025-01-06T18:12:06.561005Z",
     "iopub.status.idle": "2025-01-06T18:12:06.569632Z",
     "shell.execute_reply": "2025-01-06T18:12:06.568142Z",
     "shell.execute_reply.started": "2025-01-06T18:12:06.561392Z"
    }
   },
   "outputs": [],
   "source": [
    "def plot_average_selling_price_by_indicator(df, indicator_column, price_column, name_indicator):\n",
    "    \"\"\" Строит гистограмму средней цены продажи от различных показателей.\"\"\"\n",
    "    # Группируем данные, вычисляем среднее значение цены продажи, cтроим график\n",
    "    df.groupby(indicator_column)[price_column].mean().plot(kind='bar', \n",
    "                                                           figsize=(10, 5), \n",
    "                                                           grid=True, \n",
    "                                                           title=f'Средняя цена продажи по {name_indicator}')\n",
    "    # Устанавливаем подписи осей\n",
    "    plt.xlabel(indicator_column)\n",
    "    plt.ylabel(price_column)\n",
    "    \n",
    "    plt.show()"
   ]
  },
  {
   "cell_type": "code",
   "execution_count": 116,
   "metadata": {
    "execution": {
     "iopub.execute_input": "2025-01-06T18:12:06.572126Z",
     "iopub.status.busy": "2025-01-06T18:12:06.571625Z",
     "iopub.status.idle": "2025-01-06T18:12:07.056564Z",
     "shell.execute_reply": "2025-01-06T18:12:07.054450Z",
     "shell.execute_reply.started": "2025-01-06T18:12:06.572077Z"
    }
   },
   "outputs": [
    {
     "data": {
      "image/png": "[encoded data removed]",
      "text/plain": [
       "<Figure size 1000x500 with 1 Axes>"
      ]
     },
     "metadata": {},
     "output_type": "display_data"
    }
   ],
   "source": [
    "plot_average_selling_price_by_indicator(df_train, ['car_age'], ['sellingprice'], 'Возраста машины')"
   ]
  },
  {
   "cell_type": "code",
   "execution_count": 117,
   "metadata": {
    "execution": {
     "iopub.execute_input": "2025-01-06T18:12:07.059079Z",
     "iopub.status.busy": "2025-01-06T18:12:07.058690Z",
     "iopub.status.idle": "2025-01-06T18:12:07.322574Z",
     "shell.execute_reply": "2025-01-06T18:12:07.320990Z",
     "shell.execute_reply.started": "2025-01-06T18:12:07.059043Z"
    }
   },
   "outputs": [
    {
     "data": {
      "image/png": "[encoded data removed]",
      "text/plain": [
       "<Figure size 640x480 with 1 Axes>"
      ]
     },
     "metadata": {},
     "output_type": "display_data"
    }
   ],
   "source": [
    "sns.boxplot(\n",
    "    x='car_age', \n",
    "    data=df_train\n",
    ")\n",
    "plt.xticks(rotation=45, \n",
    "           ha='right');"
   ]
  },
  {
   "cell_type": "markdown",
   "metadata": {},
   "source": [
    "Цена машины очень зависит от возраста машины. Чем моложе машина, тем цена выше. Программа расценила высокую цену на старые машины как выбросы. Однако, я не стала бы их удалять, так как, вероятно, эти машины уже относятся к раритетам и, поэтому, цены на их выше. "
   ]
  },
  {
   "cell_type": "markdown",
   "metadata": {},
   "source": [
    "**Производитель**"
   ]
  },
  {
   "cell_type": "code",
   "execution_count": 118,
   "metadata": {
    "execution": {
     "iopub.execute_input": "2025-01-06T18:12:07.325710Z",
     "iopub.status.busy": "2025-01-06T18:12:07.324280Z",
     "iopub.status.idle": "2025-01-06T18:12:09.014981Z",
     "shell.execute_reply": "2025-01-06T18:12:09.013608Z",
     "shell.execute_reply.started": "2025-01-06T18:12:07.325654Z"
    }
   },
   "outputs": [
    {
     "data": {
      "image/png": "[encoded data removed]",
      "text/plain": [
       "<Figure size 1000x500 with 1 Axes>"
      ]
     },
     "metadata": {},
     "output_type": "display_data"
    }
   ],
   "source": [
    "plot_average_selling_price_by_indicator(df_train, ['make'], ['sellingprice'], 'Производителю')"
   ]
  },
  {
   "cell_type": "markdown",
   "metadata": {},
   "source": [
    "Конечно, от Производителя зависит цена продажи."
   ]
  },
  {
   "cell_type": "markdown",
   "metadata": {},
   "source": [
    "**Тип кузова**"
   ]
  },
  {
   "cell_type": "code",
   "execution_count": 119,
   "metadata": {
    "execution": {
     "iopub.execute_input": "2025-01-06T18:12:09.016854Z",
     "iopub.status.busy": "2025-01-06T18:12:09.016488Z",
     "iopub.status.idle": "2025-01-06T18:12:09.365902Z",
     "shell.execute_reply": "2025-01-06T18:12:09.364653Z",
     "shell.execute_reply.started": "2025-01-06T18:12:09.016817Z"
    }
   },
   "outputs": [
    {
     "data": {
      "image/png": "[encoded data removed]",
      "text/plain": [
       "<Figure size 1000x500 with 1 Axes>"
      ]
     },
     "metadata": {},
     "output_type": "display_data"
    }
   ],
   "source": [
    "plot_average_selling_price_by_indicator(df_train, ['body'], ['sellingprice'], 'Типу кузова')"
   ]
  },
  {
   "cell_type": "markdown",
   "metadata": {},
   "source": [
    "Самые дорогие машины в кузове Supercrew, Convertible"
   ]
  },
  {
   "cell_type": "markdown",
   "metadata": {},
   "source": [
    "**Тип КПП**"
   ]
  },
  {
   "cell_type": "code",
   "execution_count": 120,
   "metadata": {
    "execution": {
     "iopub.execute_input": "2025-01-06T18:12:09.367564Z",
     "iopub.status.busy": "2025-01-06T18:12:09.367254Z",
     "iopub.status.idle": "2025-01-06T18:12:09.977411Z",
     "shell.execute_reply": "2025-01-06T18:12:09.976152Z",
     "shell.execute_reply.started": "2025-01-06T18:12:09.367535Z"
    }
   },
   "outputs": [
    {
     "data": {
      "image/png": "[encoded data removed]",
      "text/plain": [
       "<Figure size 1000x500 with 1 Axes>"
      ]
     },
     "metadata": {},
     "output_type": "display_data"
    }
   ],
   "source": [
    "plot_average_selling_price_by_indicator(df_train, ['transmission'], ['sellingprice'], 'Типу КПП')"
   ]
  },
  {
   "cell_type": "markdown",
   "metadata": {},
   "source": [
    "Машина с автоматической коробкой передач дороже, чем с ручной"
   ]
  },
  {
   "cell_type": "markdown",
   "metadata": {},
   "source": [
    "**Штат регистрации**"
   ]
  },
  {
   "cell_type": "code",
   "execution_count": 121,
   "metadata": {
    "execution": {
     "iopub.execute_input": "2025-01-06T18:12:09.980275Z",
     "iopub.status.busy": "2025-01-06T18:12:09.979027Z",
     "iopub.status.idle": "2025-01-06T18:12:10.526631Z",
     "shell.execute_reply": "2025-01-06T18:12:10.525081Z",
     "shell.execute_reply.started": "2025-01-06T18:12:09.980197Z"
    }
   },
   "outputs": [
    {
     "data": {
      "image/png": "[encoded data removed]",
      "text/plain": [
       "<Figure size 1000x500 with 1 Axes>"
      ]
     },
     "metadata": {},
     "output_type": "display_data"
    }
   ],
   "source": [
    "plot_average_selling_price_by_indicator(df_train, ['state'], ['sellingprice'], 'Штату регистрации')"
   ]
  },
  {
   "cell_type": "markdown",
   "metadata": {},
   "source": [
    "**Состояние машины**"
   ]
  },
  {
   "cell_type": "code",
   "execution_count": 122,
   "metadata": {
    "execution": {
     "iopub.execute_input": "2025-01-06T18:12:10.528584Z",
     "iopub.status.busy": "2025-01-06T18:12:10.528186Z",
     "iopub.status.idle": "2025-01-06T18:12:11.060026Z",
     "shell.execute_reply": "2025-01-06T18:12:11.058666Z",
     "shell.execute_reply.started": "2025-01-06T18:12:10.528548Z"
    }
   },
   "outputs": [
    {
     "data": {
      "image/png": "[encoded data removed]",
      "text/plain": [
       "<Figure size 1000x500 with 1 Axes>"
      ]
     },
     "metadata": {},
     "output_type": "display_data"
    }
   ],
   "source": [
    "plot_average_selling_price_by_indicator(df_train, ['condition'], ['sellingprice'], 'Состоянию')"
   ]
  },
  {
   "cell_type": "code",
   "execution_count": 123,
   "metadata": {
    "execution": {
     "iopub.execute_input": "2025-01-06T18:12:11.062443Z",
     "iopub.status.busy": "2025-01-06T18:12:11.061965Z",
     "iopub.status.idle": "2025-01-06T18:12:11.349734Z",
     "shell.execute_reply": "2025-01-06T18:12:11.348346Z",
     "shell.execute_reply.started": "2025-01-06T18:12:11.062398Z"
    }
   },
   "outputs": [
    {
     "data": {
      "image/png": "[encoded data removed]",
      "text/plain": [
       "<Figure size 640x480 with 1 Axes>"
      ]
     },
     "metadata": {},
     "output_type": "display_data"
    }
   ],
   "source": [
    "sns.boxplot(\n",
    "    x='condition', \n",
    "    data=df_train\n",
    ")\n",
    "plt.xticks(rotation=45, \n",
    "           ha='right');"
   ]
  },
  {
   "cell_type": "markdown",
   "metadata": {},
   "source": [
    "От состояния зависимость очень явная, выбросов нет"
   ]
  },
  {
   "cell_type": "markdown",
   "metadata": {},
   "source": [
    "**Цвет кузова**"
   ]
  },
  {
   "cell_type": "code",
   "execution_count": 124,
   "metadata": {
    "execution": {
     "iopub.execute_input": "2025-01-06T18:12:11.351445Z",
     "iopub.status.busy": "2025-01-06T18:12:11.351083Z",
     "iopub.status.idle": "2025-01-06T18:12:11.772694Z",
     "shell.execute_reply": "2025-01-06T18:12:11.771206Z",
     "shell.execute_reply.started": "2025-01-06T18:12:11.351412Z"
    }
   },
   "outputs": [
    {
     "data": {
      "image/png": "[encoded data removed]",
      "text/plain": [
       "<Figure size 1000x500 with 1 Axes>"
      ]
     },
     "metadata": {},
     "output_type": "display_data"
    }
   ],
   "source": [
    "plot_average_selling_price_by_indicator(df_train, ['color'], ['sellingprice'], 'Цвету кузова')"
   ]
  },
  {
   "cell_type": "markdown",
   "metadata": {},
   "source": [
    "**Цвет интерьера**"
   ]
  },
  {
   "cell_type": "code",
   "execution_count": 125,
   "metadata": {
    "execution": {
     "iopub.execute_input": "2025-01-06T18:12:11.774904Z",
     "iopub.status.busy": "2025-01-06T18:12:11.774424Z",
     "iopub.status.idle": "2025-01-06T18:12:12.177305Z",
     "shell.execute_reply": "2025-01-06T18:12:12.175886Z",
     "shell.execute_reply.started": "2025-01-06T18:12:11.774854Z"
    }
   },
   "outputs": [
    {
     "data": {
      "image/png": "[encoded data removed]",
      "text/plain": [
       "<Figure size 1000x500 with 1 Axes>"
      ]
     },
     "metadata": {},
     "output_type": "display_data"
    }
   ],
   "source": [
    "plot_average_selling_price_by_indicator(df_train, ['interior'], ['sellingprice'], 'Цвету интерьера')"
   ]
  },
  {
   "cell_type": "markdown",
   "metadata": {},
   "source": [
    "**Пробег**"
   ]
  },
  {
   "cell_type": "code",
   "execution_count": 126,
   "metadata": {
    "execution": {
     "iopub.execute_input": "2025-01-06T18:12:12.179172Z",
     "iopub.status.busy": "2025-01-06T18:12:12.178801Z",
     "iopub.status.idle": "2025-01-06T18:12:13.303458Z",
     "shell.execute_reply": "2025-01-06T18:12:13.302243Z",
     "shell.execute_reply.started": "2025-01-06T18:12:12.179138Z"
    }
   },
   "outputs": [
    {
     "name": "stderr",
     "output_type": "stream",
     "text": [
      "/opt/conda/lib/python3.7/site-packages/ipykernel_launcher.py:5: UserWarning: Ignoring `palette` because no `hue` variable has been assigned.\n",
      "  \"\"\"\n"
     ]
    },
    {
     "data": {
      "image/png": "[encoded data removed]",
      "text/plain": [
       "<Figure size 640x480 with 1 Axes>"
      ]
     },
     "metadata": {},
     "output_type": "display_data"
    }
   ],
   "source": [
    "sns.set_style('darkgrid')\n",
    "plt.title('Зависимость между Пробегом и ценой продажи',size=16)\n",
    "plt.xlabel('odometer',size=12)\n",
    "plt.ylabel('sellingprice',size=12)\n",
    "sns.scatterplot(x='odometer', y='sellingprice', data=df_train, edgecolor='black', palette='cubehelix')\n",
    "plt.show();"
   ]
  },
  {
   "cell_type": "code",
   "execution_count": 127,
   "metadata": {
    "execution": {
     "iopub.execute_input": "2025-01-06T18:12:13.306912Z",
     "iopub.status.busy": "2025-01-06T18:12:13.305520Z",
     "iopub.status.idle": "2025-01-06T18:12:13.533298Z",
     "shell.execute_reply": "2025-01-06T18:12:13.532087Z",
     "shell.execute_reply.started": "2025-01-06T18:12:13.306851Z"
    }
   },
   "outputs": [
    {
     "data": {
      "image/png": "[encoded data removed]",
      "text/plain": [
       "<Figure size 640x480 with 1 Axes>"
      ]
     },
     "metadata": {},
     "output_type": "display_data"
    }
   ],
   "source": [
    "sns.boxplot(\n",
    "    x='odometer', \n",
    "    data=df_train\n",
    ")\n",
    "plt.xticks(rotation=45, \n",
    "           ha='right');"
   ]
  },
  {
   "cell_type": "code",
   "execution_count": 128,
   "metadata": {
    "execution": {
     "iopub.execute_input": "2025-01-06T18:12:13.535513Z",
     "iopub.status.busy": "2025-01-06T18:12:13.535036Z",
     "iopub.status.idle": "2025-01-06T18:12:13.563212Z",
     "shell.execute_reply": "2025-01-06T18:12:13.561761Z",
     "shell.execute_reply.started": "2025-01-06T18:12:13.535463Z"
    }
   },
   "outputs": [
    {
     "data": {
      "text/plain": [
       "count    422755.000000\n",
       "mean      66472.329103\n",
       "std       52429.874299\n",
       "min           1.000000\n",
       "25%       27664.000000\n",
       "50%       50182.000000\n",
       "75%       96263.000000\n",
       "max      999999.000000\n",
       "Name: odometer, dtype: float64"
      ]
     },
     "execution_count": 128,
     "metadata": {},
     "output_type": "execute_result"
    }
   ],
   "source": [
    "df_train['odometer'].describe()"
   ]
  },
  {
   "cell_type": "markdown",
   "metadata": {},
   "source": [
    "Зависимость между параметрами явная, чем меньше пробег, тем выше цена прдажи. Обнаружены выбросы для машин с пробегом 700000 миль"
   ]
  },
  {
   "cell_type": "code",
   "execution_count": 129,
   "metadata": {
    "execution": {
     "iopub.execute_input": "2025-01-06T18:12:13.565129Z",
     "iopub.status.busy": "2025-01-06T18:12:13.564629Z",
     "iopub.status.idle": "2025-01-06T18:12:13.582171Z",
     "shell.execute_reply": "2025-01-06T18:12:13.580595Z",
     "shell.execute_reply.started": "2025-01-06T18:12:13.565075Z"
    }
   },
   "outputs": [
    {
     "data": {
      "text/plain": [
       "odometer    54\n",
       "dtype: int64"
      ]
     },
     "execution_count": 129,
     "metadata": {},
     "output_type": "execute_result"
    }
   ],
   "source": [
    "df_train[df_train['odometer'] > 700000][['odometer']].count() #посмотрим сколько таких машин"
   ]
  },
  {
   "cell_type": "code",
   "execution_count": 130,
   "metadata": {
    "execution": {
     "iopub.execute_input": "2025-01-06T18:12:13.584390Z",
     "iopub.status.busy": "2025-01-06T18:12:13.583882Z",
     "iopub.status.idle": "2025-01-06T18:12:13.625167Z",
     "shell.execute_reply": "2025-01-06T18:12:13.624033Z",
     "shell.execute_reply.started": "2025-01-06T18:12:13.584350Z"
    }
   },
   "outputs": [
    {
     "data": {
      "text/html": [
       "<div>\n",
       "<style scoped>\n",
       "    .dataframe tbody tr th:only-of-type {\n",
       "        vertical-align: middle;\n",
       "    }\n",
       "\n",
       "    .dataframe tbody tr th {\n",
       "        vertical-align: top;\n",
       "    }\n",
       "\n",
       "    .dataframe thead th {\n",
       "        text-align: right;\n",
       "    }\n",
       "</style>\n",
       "<table border=\"1\" class=\"dataframe\">\n",
       "  <thead>\n",
       "    <tr style=\"text-align: right;\">\n",
       "      <th></th>\n",
       "      <th>year</th>\n",
       "      <th>make</th>\n",
       "      <th>model</th>\n",
       "      <th>trim</th>\n",
       "      <th>body</th>\n",
       "      <th>transmission</th>\n",
       "      <th>vin</th>\n",
       "      <th>state</th>\n",
       "      <th>condition</th>\n",
       "      <th>odometer</th>\n",
       "      <th>color</th>\n",
       "      <th>interior</th>\n",
       "      <th>seller</th>\n",
       "      <th>sellingprice</th>\n",
       "      <th>saledate</th>\n",
       "      <th>time_rounded</th>\n",
       "      <th>car_age</th>\n",
       "    </tr>\n",
       "  </thead>\n",
       "  <tbody>\n",
       "    <tr>\n",
       "      <th>6069</th>\n",
       "      <td>2012</td>\n",
       "      <td>Hyundai</td>\n",
       "      <td>Sonata</td>\n",
       "      <td>GLS</td>\n",
       "      <td>Sedan</td>\n",
       "      <td>automatic</td>\n",
       "      <td>5npeb4ac6ch429831</td>\n",
       "      <td>oh</td>\n",
       "      <td>1.0</td>\n",
       "      <td>999999</td>\n",
       "      <td>white</td>\n",
       "      <td>gray</td>\n",
       "      <td>santander consumer</td>\n",
       "      <td>800</td>\n",
       "      <td>2015-01-05 21:00:00+00:00</td>\n",
       "      <td>2015</td>\n",
       "      <td>3</td>\n",
       "    </tr>\n",
       "    <tr>\n",
       "      <th>11122</th>\n",
       "      <td>2004</td>\n",
       "      <td>Chevrolet</td>\n",
       "      <td>Tahoe</td>\n",
       "      <td>LS</td>\n",
       "      <td>Suv</td>\n",
       "      <td>automatic</td>\n",
       "      <td>1gnec13v34j247109</td>\n",
       "      <td>ga</td>\n",
       "      <td>1.9</td>\n",
       "      <td>999999</td>\n",
       "      <td>black</td>\n",
       "      <td>tan</td>\n",
       "      <td>santander consumer</td>\n",
       "      <td>1800</td>\n",
       "      <td>2015-01-05 17:30:00+00:00</td>\n",
       "      <td>2015</td>\n",
       "      <td>11</td>\n",
       "    </tr>\n",
       "    <tr>\n",
       "      <th>12368</th>\n",
       "      <td>2006</td>\n",
       "      <td>Mazda</td>\n",
       "      <td>Tribute</td>\n",
       "      <td>i</td>\n",
       "      <td>Suv</td>\n",
       "      <td>automatic</td>\n",
       "      <td>4f2yz02z26km30632</td>\n",
       "      <td>fl</td>\n",
       "      <td>2.0</td>\n",
       "      <td>999999</td>\n",
       "      <td>white</td>\n",
       "      <td>tan</td>\n",
       "      <td>santander consumer</td>\n",
       "      <td>1200</td>\n",
       "      <td>2015-02-08 17:30:00+00:00</td>\n",
       "      <td>2015</td>\n",
       "      <td>9</td>\n",
       "    </tr>\n",
       "    <tr>\n",
       "      <th>14897</th>\n",
       "      <td>2006</td>\n",
       "      <td>Kia</td>\n",
       "      <td>Amanti</td>\n",
       "      <td>Base</td>\n",
       "      <td>Sedan</td>\n",
       "      <td>automatic</td>\n",
       "      <td>knald124265085150</td>\n",
       "      <td>ms</td>\n",
       "      <td>1.0</td>\n",
       "      <td>999999</td>\n",
       "      <td>gray</td>\n",
       "      <td>beige</td>\n",
       "      <td>fiserv/global lending services</td>\n",
       "      <td>800</td>\n",
       "      <td>2014-12-18 04:02:00+00:00</td>\n",
       "      <td>2014</td>\n",
       "      <td>8</td>\n",
       "    </tr>\n",
       "    <tr>\n",
       "      <th>17341</th>\n",
       "      <td>1996</td>\n",
       "      <td>Toyota</td>\n",
       "      <td>Corolla</td>\n",
       "      <td>Base</td>\n",
       "      <td>Sedan</td>\n",
       "      <td>automatic</td>\n",
       "      <td>2t1ba02e0tc143572</td>\n",
       "      <td>fl</td>\n",
       "      <td>1.0</td>\n",
       "      <td>959276</td>\n",
       "      <td>blue</td>\n",
       "      <td>gray</td>\n",
       "      <td>coggin honda of ft pierce</td>\n",
       "      <td>500</td>\n",
       "      <td>2015-02-17 02:00:00+00:00</td>\n",
       "      <td>2015</td>\n",
       "      <td>19</td>\n",
       "    </tr>\n",
       "    <tr>\n",
       "      <th>26602</th>\n",
       "      <td>2005</td>\n",
       "      <td>Nissan</td>\n",
       "      <td>Quest</td>\n",
       "      <td>3.5 SE</td>\n",
       "      <td>Van</td>\n",
       "      <td>automatic</td>\n",
       "      <td>5n1bv28u15n131795</td>\n",
       "      <td>il</td>\n",
       "      <td>1.9</td>\n",
       "      <td>999999</td>\n",
       "      <td>green</td>\n",
       "      <td>gray</td>\n",
       "      <td>santander consumer</td>\n",
       "      <td>2600</td>\n",
       "      <td>2014-12-30 02:00:00+00:00</td>\n",
       "      <td>2014</td>\n",
       "      <td>9</td>\n",
       "    </tr>\n",
       "    <tr>\n",
       "      <th>45730</th>\n",
       "      <td>2001</td>\n",
       "      <td>Chevrolet</td>\n",
       "      <td>Silverado 1500</td>\n",
       "      <td>LS</td>\n",
       "      <td>Cab</td>\n",
       "      <td>automatic</td>\n",
       "      <td>1gcec19v81z169441</td>\n",
       "      <td>ca</td>\n",
       "      <td>1.0</td>\n",
       "      <td>999999</td>\n",
       "      <td>white</td>\n",
       "      <td>black</td>\n",
       "      <td>800 loan mart</td>\n",
       "      <td>1500</td>\n",
       "      <td>2015-05-27 22:00:00+00:00</td>\n",
       "      <td>2015</td>\n",
       "      <td>14</td>\n",
       "    </tr>\n",
       "    <tr>\n",
       "      <th>78696</th>\n",
       "      <td>2006</td>\n",
       "      <td>Nissan</td>\n",
       "      <td>Quest</td>\n",
       "      <td>3.5 SE</td>\n",
       "      <td>Van</td>\n",
       "      <td>automatic</td>\n",
       "      <td>5n1bv28u26n123304</td>\n",
       "      <td>md</td>\n",
       "      <td>2.7</td>\n",
       "      <td>999999</td>\n",
       "      <td>white</td>\n",
       "      <td>beige</td>\n",
       "      <td>santander consumer</td>\n",
       "      <td>2800</td>\n",
       "      <td>2015-02-23 17:30:00+00:00</td>\n",
       "      <td>2015</td>\n",
       "      <td>9</td>\n",
       "    </tr>\n",
       "    <tr>\n",
       "      <th>79958</th>\n",
       "      <td>2011</td>\n",
       "      <td>Nissan</td>\n",
       "      <td>Altima</td>\n",
       "      <td>2.5 S</td>\n",
       "      <td>Sedan</td>\n",
       "      <td>automatic</td>\n",
       "      <td>1n4al2ap1bn503809</td>\n",
       "      <td>ms</td>\n",
       "      <td>2.3</td>\n",
       "      <td>999999</td>\n",
       "      <td>blue</td>\n",
       "      <td>black</td>\n",
       "      <td>gm financial</td>\n",
       "      <td>4000</td>\n",
       "      <td>2015-05-13 22:02:00+00:00</td>\n",
       "      <td>2015</td>\n",
       "      <td>4</td>\n",
       "    </tr>\n",
       "    <tr>\n",
       "      <th>84696</th>\n",
       "      <td>2005</td>\n",
       "      <td>Nissan</td>\n",
       "      <td>Quest</td>\n",
       "      <td>3.5 SE</td>\n",
       "      <td>Van</td>\n",
       "      <td>automatic</td>\n",
       "      <td>5n1bv28u05n111490</td>\n",
       "      <td>md</td>\n",
       "      <td>2.1</td>\n",
       "      <td>999999</td>\n",
       "      <td>white</td>\n",
       "      <td>beige</td>\n",
       "      <td>355 toyota</td>\n",
       "      <td>1100</td>\n",
       "      <td>2015-01-13 01:30:00+00:00</td>\n",
       "      <td>2015</td>\n",
       "      <td>10</td>\n",
       "    </tr>\n",
       "    <tr>\n",
       "      <th>100671</th>\n",
       "      <td>2008</td>\n",
       "      <td>Jeep</td>\n",
       "      <td>Liberty</td>\n",
       "      <td>Sport</td>\n",
       "      <td>Suv</td>\n",
       "      <td>automatic</td>\n",
       "      <td>1j8gp28k28w115292</td>\n",
       "      <td>tx</td>\n",
       "      <td>1.9</td>\n",
       "      <td>999999</td>\n",
       "      <td>green</td>\n",
       "      <td>gray</td>\n",
       "      <td>santander consumer</td>\n",
       "      <td>3300</td>\n",
       "      <td>2015-05-26 20:00:00+00:00</td>\n",
       "      <td>2015</td>\n",
       "      <td>7</td>\n",
       "    </tr>\n",
       "    <tr>\n",
       "      <th>105455</th>\n",
       "      <td>2014</td>\n",
       "      <td>Kia</td>\n",
       "      <td>Forte</td>\n",
       "      <td>EX</td>\n",
       "      <td>Sedan</td>\n",
       "      <td>automatic</td>\n",
       "      <td>knafx4a8xe5052180</td>\n",
       "      <td>tx</td>\n",
       "      <td>1.0</td>\n",
       "      <td>999999</td>\n",
       "      <td>black</td>\n",
       "      <td>black</td>\n",
       "      <td>kia motors finance</td>\n",
       "      <td>3100</td>\n",
       "      <td>2015-03-02 18:30:00+00:00</td>\n",
       "      <td>2015</td>\n",
       "      <td>1</td>\n",
       "    </tr>\n",
       "    <tr>\n",
       "      <th>116247</th>\n",
       "      <td>1998</td>\n",
       "      <td>Lexus</td>\n",
       "      <td>ES 300</td>\n",
       "      <td>Base</td>\n",
       "      <td>Sedan</td>\n",
       "      <td>automatic</td>\n",
       "      <td>jt8bf28g4w5037146</td>\n",
       "      <td>ca</td>\n",
       "      <td>2.0</td>\n",
       "      <td>999999</td>\n",
       "      <td>gray</td>\n",
       "      <td>beige</td>\n",
       "      <td>800 loan mart</td>\n",
       "      <td>350</td>\n",
       "      <td>2015-02-16 21:00:00+00:00</td>\n",
       "      <td>2015</td>\n",
       "      <td>17</td>\n",
       "    </tr>\n",
       "    <tr>\n",
       "      <th>117941</th>\n",
       "      <td>2009</td>\n",
       "      <td>Dodge</td>\n",
       "      <td>Charger</td>\n",
       "      <td>Base</td>\n",
       "      <td>Sedan</td>\n",
       "      <td>automatic</td>\n",
       "      <td>2b3ka43dx9h521300</td>\n",
       "      <td>tx</td>\n",
       "      <td>1.0</td>\n",
       "      <td>999999</td>\n",
       "      <td>blue</td>\n",
       "      <td>black</td>\n",
       "      <td>santander consumer</td>\n",
       "      <td>5500</td>\n",
       "      <td>2015-01-08 06:10:00+00:00</td>\n",
       "      <td>2015</td>\n",
       "      <td>6</td>\n",
       "    </tr>\n",
       "    <tr>\n",
       "      <th>123154</th>\n",
       "      <td>2005</td>\n",
       "      <td>Bmw</td>\n",
       "      <td>6 Series</td>\n",
       "      <td>645Ci</td>\n",
       "      <td>Convertible</td>\n",
       "      <td>automatic</td>\n",
       "      <td>wbaek73475b326491</td>\n",
       "      <td>il</td>\n",
       "      <td>1.0</td>\n",
       "      <td>999999</td>\n",
       "      <td>silver</td>\n",
       "      <td>gray</td>\n",
       "      <td>santander consumer</td>\n",
       "      <td>1650</td>\n",
       "      <td>2015-03-02 21:00:00+00:00</td>\n",
       "      <td>2015</td>\n",
       "      <td>10</td>\n",
       "    </tr>\n",
       "    <tr>\n",
       "      <th>127661</th>\n",
       "      <td>2001</td>\n",
       "      <td>Chevrolet</td>\n",
       "      <td>Silverado 1500</td>\n",
       "      <td>Base</td>\n",
       "      <td>Cab</td>\n",
       "      <td>automatic</td>\n",
       "      <td>1gcec14w01z222665</td>\n",
       "      <td>fl</td>\n",
       "      <td>1.0</td>\n",
       "      <td>999999</td>\n",
       "      <td>white</td>\n",
       "      <td>gray</td>\n",
       "      <td>coggin chevrolet at the avenues</td>\n",
       "      <td>525</td>\n",
       "      <td>2015-05-06 22:20:00+00:00</td>\n",
       "      <td>2015</td>\n",
       "      <td>14</td>\n",
       "    </tr>\n",
       "    <tr>\n",
       "      <th>150893</th>\n",
       "      <td>2013</td>\n",
       "      <td>Ford</td>\n",
       "      <td>Escape</td>\n",
       "      <td>SE</td>\n",
       "      <td>Suv</td>\n",
       "      <td>automatic</td>\n",
       "      <td>1fmcu0g91duc26600</td>\n",
       "      <td>fl</td>\n",
       "      <td>1.0</td>\n",
       "      <td>999999</td>\n",
       "      <td>gray</td>\n",
       "      <td>gray</td>\n",
       "      <td>regional acceptance corporation / greenville</td>\n",
       "      <td>3000</td>\n",
       "      <td>2015-01-12 01:30:00+00:00</td>\n",
       "      <td>2015</td>\n",
       "      <td>2</td>\n",
       "    </tr>\n",
       "    <tr>\n",
       "      <th>160641</th>\n",
       "      <td>2013</td>\n",
       "      <td>Kia</td>\n",
       "      <td>Optima</td>\n",
       "      <td>SX</td>\n",
       "      <td>Sedan</td>\n",
       "      <td>automatic</td>\n",
       "      <td>5xxgr4a68dg088864</td>\n",
       "      <td>ca</td>\n",
       "      <td>1.0</td>\n",
       "      <td>999999</td>\n",
       "      <td>black</td>\n",
       "      <td>black</td>\n",
       "      <td>hyundai motor finance</td>\n",
       "      <td>2700</td>\n",
       "      <td>2015-01-12 21:00:00+00:00</td>\n",
       "      <td>2015</td>\n",
       "      <td>2</td>\n",
       "    </tr>\n",
       "    <tr>\n",
       "      <th>161696</th>\n",
       "      <td>1997</td>\n",
       "      <td>Mazda</td>\n",
       "      <td>Protege</td>\n",
       "      <td>LX</td>\n",
       "      <td>Sedan</td>\n",
       "      <td>automatic</td>\n",
       "      <td>jm1bc141xv0109453</td>\n",
       "      <td>fl</td>\n",
       "      <td>1.0</td>\n",
       "      <td>999999</td>\n",
       "      <td>blue</td>\n",
       "      <td>beige</td>\n",
       "      <td>coggin toyota at the avenues</td>\n",
       "      <td>325</td>\n",
       "      <td>2015-06-03 22:20:00+00:00</td>\n",
       "      <td>2015</td>\n",
       "      <td>18</td>\n",
       "    </tr>\n",
       "    <tr>\n",
       "      <th>163742</th>\n",
       "      <td>2011</td>\n",
       "      <td>Ford</td>\n",
       "      <td>Focus</td>\n",
       "      <td>SE</td>\n",
       "      <td>Sedan</td>\n",
       "      <td>automatic</td>\n",
       "      <td>1fahp3fn1bw174703</td>\n",
       "      <td>fl</td>\n",
       "      <td>2.0</td>\n",
       "      <td>999999</td>\n",
       "      <td>silver</td>\n",
       "      <td>black</td>\n",
       "      <td>regional acceptance corporation / greenville</td>\n",
       "      <td>700</td>\n",
       "      <td>2015-02-22 17:30:00+00:00</td>\n",
       "      <td>2015</td>\n",
       "      <td>4</td>\n",
       "    </tr>\n",
       "    <tr>\n",
       "      <th>165810</th>\n",
       "      <td>2002</td>\n",
       "      <td>Ford</td>\n",
       "      <td>Expedition</td>\n",
       "      <td>Eddie Bauer</td>\n",
       "      <td>Suv</td>\n",
       "      <td>automatic</td>\n",
       "      <td>1fmru17l72la49923</td>\n",
       "      <td>tx</td>\n",
       "      <td>2.0</td>\n",
       "      <td>999999</td>\n",
       "      <td>black</td>\n",
       "      <td>gray</td>\n",
       "      <td>titlemax/leon valley tx1</td>\n",
       "      <td>600</td>\n",
       "      <td>2015-06-02 20:20:00+00:00</td>\n",
       "      <td>2015</td>\n",
       "      <td>13</td>\n",
       "    </tr>\n",
       "    <tr>\n",
       "      <th>171948</th>\n",
       "      <td>1993</td>\n",
       "      <td>Ford</td>\n",
       "      <td>F-150</td>\n",
       "      <td>XL</td>\n",
       "      <td>Cab</td>\n",
       "      <td>automatic</td>\n",
       "      <td>2ftdf15y0pcb40606</td>\n",
       "      <td>ms</td>\n",
       "      <td>1.0</td>\n",
       "      <td>999999</td>\n",
       "      <td>blue</td>\n",
       "      <td>blue</td>\n",
       "      <td>republic finance llc/pearl</td>\n",
       "      <td>200</td>\n",
       "      <td>2015-04-22 22:02:00+00:00</td>\n",
       "      <td>2015</td>\n",
       "      <td>22</td>\n",
       "    </tr>\n",
       "    <tr>\n",
       "      <th>174789</th>\n",
       "      <td>2003</td>\n",
       "      <td>Mercedes</td>\n",
       "      <td>C-Class</td>\n",
       "      <td>C240</td>\n",
       "      <td>Sedan</td>\n",
       "      <td>automatic</td>\n",
       "      <td>wdbrf61j33f350593</td>\n",
       "      <td>ca</td>\n",
       "      <td>2.2</td>\n",
       "      <td>999999</td>\n",
       "      <td>silver</td>\n",
       "      <td>gray</td>\n",
       "      <td>800 loan mart</td>\n",
       "      <td>1500</td>\n",
       "      <td>2015-03-04 20:00:00+00:00</td>\n",
       "      <td>2015</td>\n",
       "      <td>12</td>\n",
       "    </tr>\n",
       "    <tr>\n",
       "      <th>206044</th>\n",
       "      <td>2003</td>\n",
       "      <td>Nissan</td>\n",
       "      <td>Altima</td>\n",
       "      <td>3.5 SE</td>\n",
       "      <td>Sedan</td>\n",
       "      <td>automatic</td>\n",
       "      <td>1n4bl11d43c332183</td>\n",
       "      <td>ca</td>\n",
       "      <td>3.2</td>\n",
       "      <td>999999</td>\n",
       "      <td>gray</td>\n",
       "      <td>black</td>\n",
       "      <td>800 loan mart</td>\n",
       "      <td>1500</td>\n",
       "      <td>2015-02-25 20:00:00+00:00</td>\n",
       "      <td>2015</td>\n",
       "      <td>12</td>\n",
       "    </tr>\n",
       "    <tr>\n",
       "      <th>213734</th>\n",
       "      <td>1993</td>\n",
       "      <td>Ford</td>\n",
       "      <td>Explorer</td>\n",
       "      <td>XLT</td>\n",
       "      <td>Suv</td>\n",
       "      <td>automatic</td>\n",
       "      <td>1fmdu34x8pud75440</td>\n",
       "      <td>ca</td>\n",
       "      <td>2.0</td>\n",
       "      <td>980113</td>\n",
       "      <td>green</td>\n",
       "      <td>beige</td>\n",
       "      <td>toyota walnut creek</td>\n",
       "      <td>200</td>\n",
       "      <td>2015-05-05 22:30:00+00:00</td>\n",
       "      <td>2015</td>\n",
       "      <td>22</td>\n",
       "    </tr>\n",
       "    <tr>\n",
       "      <th>239758</th>\n",
       "      <td>2009</td>\n",
       "      <td>Dodge</td>\n",
       "      <td>Charger</td>\n",
       "      <td>Base</td>\n",
       "      <td>Sedan</td>\n",
       "      <td>automatic</td>\n",
       "      <td>2b3ka43d49h578284</td>\n",
       "      <td>il</td>\n",
       "      <td>1.0</td>\n",
       "      <td>999999</td>\n",
       "      <td>black</td>\n",
       "      <td>gray</td>\n",
       "      <td>santander consumer</td>\n",
       "      <td>1700</td>\n",
       "      <td>2014-12-23 05:00:00+00:00</td>\n",
       "      <td>2014</td>\n",
       "      <td>5</td>\n",
       "    </tr>\n",
       "    <tr>\n",
       "      <th>240371</th>\n",
       "      <td>2007</td>\n",
       "      <td>Pontiac</td>\n",
       "      <td>Grand Prix</td>\n",
       "      <td>Base</td>\n",
       "      <td>Sedan</td>\n",
       "      <td>automatic</td>\n",
       "      <td>2g2wp552771212846</td>\n",
       "      <td>ms</td>\n",
       "      <td>1.0</td>\n",
       "      <td>999999</td>\n",
       "      <td>blue</td>\n",
       "      <td>black</td>\n",
       "      <td>santander consumer</td>\n",
       "      <td>600</td>\n",
       "      <td>2015-06-17 22:02:00+00:00</td>\n",
       "      <td>2015</td>\n",
       "      <td>8</td>\n",
       "    </tr>\n",
       "    <tr>\n",
       "      <th>242700</th>\n",
       "      <td>2008</td>\n",
       "      <td>Nissan</td>\n",
       "      <td>Rogue</td>\n",
       "      <td>S</td>\n",
       "      <td>Suv</td>\n",
       "      <td>other</td>\n",
       "      <td>jn8as58t48w002423</td>\n",
       "      <td>md</td>\n",
       "      <td>1.0</td>\n",
       "      <td>999999</td>\n",
       "      <td>—</td>\n",
       "      <td>—</td>\n",
       "      <td>wells fargo dealer services</td>\n",
       "      <td>275</td>\n",
       "      <td>2014-12-30 05:00:00+00:00</td>\n",
       "      <td>2014</td>\n",
       "      <td>6</td>\n",
       "    </tr>\n",
       "    <tr>\n",
       "      <th>242747</th>\n",
       "      <td>2006</td>\n",
       "      <td>Ford</td>\n",
       "      <td>Taurus</td>\n",
       "      <td>SEL</td>\n",
       "      <td>Sedan</td>\n",
       "      <td>automatic</td>\n",
       "      <td>1fafp56u06a197709</td>\n",
       "      <td>oh</td>\n",
       "      <td>1.9</td>\n",
       "      <td>999999</td>\n",
       "      <td>gray</td>\n",
       "      <td>gray</td>\n",
       "      <td>car now acceptance co/columbus</td>\n",
       "      <td>400</td>\n",
       "      <td>2015-06-10 19:00:00+00:00</td>\n",
       "      <td>2015</td>\n",
       "      <td>9</td>\n",
       "    </tr>\n",
       "    <tr>\n",
       "      <th>251800</th>\n",
       "      <td>2013</td>\n",
       "      <td>Kia</td>\n",
       "      <td>Optima</td>\n",
       "      <td>SX</td>\n",
       "      <td>Sedan</td>\n",
       "      <td>automatic</td>\n",
       "      <td>5xxgr4a68dg206430</td>\n",
       "      <td>ga</td>\n",
       "      <td>1.0</td>\n",
       "      <td>999999</td>\n",
       "      <td>white</td>\n",
       "      <td>beige</td>\n",
       "      <td>kia motors finance</td>\n",
       "      <td>400</td>\n",
       "      <td>2015-03-11 22:30:00+00:00</td>\n",
       "      <td>2015</td>\n",
       "      <td>2</td>\n",
       "    </tr>\n",
       "    <tr>\n",
       "      <th>262840</th>\n",
       "      <td>2007</td>\n",
       "      <td>Buick</td>\n",
       "      <td>Rendezvous</td>\n",
       "      <td>CX</td>\n",
       "      <td>Suv</td>\n",
       "      <td>automatic</td>\n",
       "      <td>3g5da03lx7s587886</td>\n",
       "      <td>oh</td>\n",
       "      <td>2.0</td>\n",
       "      <td>999999</td>\n",
       "      <td>white</td>\n",
       "      <td>gray</td>\n",
       "      <td>santander consumer</td>\n",
       "      <td>2250</td>\n",
       "      <td>2015-06-01 19:30:00+00:00</td>\n",
       "      <td>2015</td>\n",
       "      <td>8</td>\n",
       "    </tr>\n",
       "    <tr>\n",
       "      <th>288664</th>\n",
       "      <td>2013</td>\n",
       "      <td>Chevrolet</td>\n",
       "      <td>Cruze</td>\n",
       "      <td>LS</td>\n",
       "      <td>Sedan</td>\n",
       "      <td>other</td>\n",
       "      <td>1g1pa5sh2d7251619</td>\n",
       "      <td>tx</td>\n",
       "      <td>1.0</td>\n",
       "      <td>999999</td>\n",
       "      <td>silver</td>\n",
       "      <td>black</td>\n",
       "      <td>santander consumer</td>\n",
       "      <td>1300</td>\n",
       "      <td>2015-01-06 20:30:00+00:00</td>\n",
       "      <td>2015</td>\n",
       "      <td>2</td>\n",
       "    </tr>\n",
       "    <tr>\n",
       "      <th>294261</th>\n",
       "      <td>2001</td>\n",
       "      <td>Ford</td>\n",
       "      <td>Windstar</td>\n",
       "      <td>SEL</td>\n",
       "      <td>Van</td>\n",
       "      <td>other</td>\n",
       "      <td>2fmza53401bc33243</td>\n",
       "      <td>pa</td>\n",
       "      <td>2.0</td>\n",
       "      <td>999999</td>\n",
       "      <td>white</td>\n",
       "      <td>tan</td>\n",
       "      <td>carsense incorporated</td>\n",
       "      <td>400</td>\n",
       "      <td>2015-02-09 21:01:00+00:00</td>\n",
       "      <td>2015</td>\n",
       "      <td>14</td>\n",
       "    </tr>\n",
       "    <tr>\n",
       "      <th>298619</th>\n",
       "      <td>2003</td>\n",
       "      <td>Buick</td>\n",
       "      <td>Regal</td>\n",
       "      <td>LS</td>\n",
       "      <td>Sedan</td>\n",
       "      <td>automatic</td>\n",
       "      <td>2g4wb52k531274430</td>\n",
       "      <td>ca</td>\n",
       "      <td>2.6</td>\n",
       "      <td>999999</td>\n",
       "      <td>silver</td>\n",
       "      <td>gray</td>\n",
       "      <td>hertz remarketing</td>\n",
       "      <td>1600</td>\n",
       "      <td>2015-02-25 20:00:00+00:00</td>\n",
       "      <td>2015</td>\n",
       "      <td>12</td>\n",
       "    </tr>\n",
       "    <tr>\n",
       "      <th>315973</th>\n",
       "      <td>2005</td>\n",
       "      <td>Hyundai</td>\n",
       "      <td>Elantra</td>\n",
       "      <td>GLS</td>\n",
       "      <td>Sedan</td>\n",
       "      <td>automatic</td>\n",
       "      <td>kmhdn46d65u050594</td>\n",
       "      <td>ms</td>\n",
       "      <td>1.0</td>\n",
       "      <td>999999</td>\n",
       "      <td>white</td>\n",
       "      <td>gray</td>\n",
       "      <td>select remarketing group llc/midwest title loans</td>\n",
       "      <td>100</td>\n",
       "      <td>2015-04-01 22:02:00+00:00</td>\n",
       "      <td>2015</td>\n",
       "      <td>10</td>\n",
       "    </tr>\n",
       "    <tr>\n",
       "      <th>323738</th>\n",
       "      <td>2006</td>\n",
       "      <td>Chrysler</td>\n",
       "      <td>300</td>\n",
       "      <td>4x2 v8 c srt8</td>\n",
       "      <td>Other</td>\n",
       "      <td>automatic</td>\n",
       "      <td>2c3la73wx6h536417</td>\n",
       "      <td>oh</td>\n",
       "      <td>1.0</td>\n",
       "      <td>999999</td>\n",
       "      <td>silver</td>\n",
       "      <td>black</td>\n",
       "      <td>santander consumer</td>\n",
       "      <td>2600</td>\n",
       "      <td>2014-12-30 05:00:00+00:00</td>\n",
       "      <td>2014</td>\n",
       "      <td>8</td>\n",
       "    </tr>\n",
       "    <tr>\n",
       "      <th>326429</th>\n",
       "      <td>2002</td>\n",
       "      <td>Ford</td>\n",
       "      <td>F-150</td>\n",
       "      <td>XL</td>\n",
       "      <td>Cab</td>\n",
       "      <td>automatic</td>\n",
       "      <td>1ftrf17292nb99722</td>\n",
       "      <td>fl</td>\n",
       "      <td>1.9</td>\n",
       "      <td>999999</td>\n",
       "      <td>blue</td>\n",
       "      <td>gray</td>\n",
       "      <td>coggin honda</td>\n",
       "      <td>900</td>\n",
       "      <td>2015-05-27 23:00:00+00:00</td>\n",
       "      <td>2015</td>\n",
       "      <td>13</td>\n",
       "    </tr>\n",
       "    <tr>\n",
       "      <th>329262</th>\n",
       "      <td>2005</td>\n",
       "      <td>Kia</td>\n",
       "      <td>Sedona</td>\n",
       "      <td>EX</td>\n",
       "      <td>Van</td>\n",
       "      <td>automatic</td>\n",
       "      <td>kndup131556647473</td>\n",
       "      <td>oh</td>\n",
       "      <td>1.0</td>\n",
       "      <td>999999</td>\n",
       "      <td>blue</td>\n",
       "      <td>tan</td>\n",
       "      <td>credit acceptance corp/vrs/southfield</td>\n",
       "      <td>200</td>\n",
       "      <td>2015-02-11 17:00:00+00:00</td>\n",
       "      <td>2015</td>\n",
       "      <td>10</td>\n",
       "    </tr>\n",
       "    <tr>\n",
       "      <th>342379</th>\n",
       "      <td>2014</td>\n",
       "      <td>Toyota</td>\n",
       "      <td>Camry</td>\n",
       "      <td>SE</td>\n",
       "      <td>Sedan</td>\n",
       "      <td>automatic</td>\n",
       "      <td>4t1bf1fk2eu773330</td>\n",
       "      <td>fl</td>\n",
       "      <td>1.0</td>\n",
       "      <td>999999</td>\n",
       "      <td>red</td>\n",
       "      <td>black</td>\n",
       "      <td>santander consumer</td>\n",
       "      <td>3300</td>\n",
       "      <td>2015-01-25 17:30:00+00:00</td>\n",
       "      <td>2015</td>\n",
       "      <td>1</td>\n",
       "    </tr>\n",
       "    <tr>\n",
       "      <th>346112</th>\n",
       "      <td>1999</td>\n",
       "      <td>Ford</td>\n",
       "      <td>Expedition</td>\n",
       "      <td>XLT</td>\n",
       "      <td>Suv</td>\n",
       "      <td>other</td>\n",
       "      <td>1fmpu18l7xlb72537</td>\n",
       "      <td>ca</td>\n",
       "      <td>1.9</td>\n",
       "      <td>999999</td>\n",
       "      <td>white</td>\n",
       "      <td>gray</td>\n",
       "      <td>credit acceptance corp/vrs/southfield</td>\n",
       "      <td>700</td>\n",
       "      <td>2015-02-17 20:40:00+00:00</td>\n",
       "      <td>2015</td>\n",
       "      <td>16</td>\n",
       "    </tr>\n",
       "    <tr>\n",
       "      <th>368362</th>\n",
       "      <td>1999</td>\n",
       "      <td>Mitsubishi</td>\n",
       "      <td>Eclipse Spyder</td>\n",
       "      <td>GS</td>\n",
       "      <td>Convertible</td>\n",
       "      <td>automatic</td>\n",
       "      <td>4a3ax35g5xe138358</td>\n",
       "      <td>fl</td>\n",
       "      <td>2.0</td>\n",
       "      <td>999999</td>\n",
       "      <td>silver</td>\n",
       "      <td>gray</td>\n",
       "      <td>coggin honda of st. augustine</td>\n",
       "      <td>650</td>\n",
       "      <td>2015-05-20 23:00:00+00:00</td>\n",
       "      <td>2015</td>\n",
       "      <td>16</td>\n",
       "    </tr>\n",
       "    <tr>\n",
       "      <th>379463</th>\n",
       "      <td>2008</td>\n",
       "      <td>Chevrolet</td>\n",
       "      <td>Impala</td>\n",
       "      <td>LS</td>\n",
       "      <td>Sedan</td>\n",
       "      <td>automatic</td>\n",
       "      <td>2g1wb55k689100531</td>\n",
       "      <td>md</td>\n",
       "      <td>1.9</td>\n",
       "      <td>999999</td>\n",
       "      <td>gray</td>\n",
       "      <td>—</td>\n",
       "      <td>automotive credit corp</td>\n",
       "      <td>1100</td>\n",
       "      <td>2015-02-16 17:30:00+00:00</td>\n",
       "      <td>2015</td>\n",
       "      <td>7</td>\n",
       "    </tr>\n",
       "    <tr>\n",
       "      <th>383980</th>\n",
       "      <td>2003</td>\n",
       "      <td>Ford</td>\n",
       "      <td>Expedition</td>\n",
       "      <td>XLT Value</td>\n",
       "      <td>Suv</td>\n",
       "      <td>automatic</td>\n",
       "      <td>1fmru15w03lc00745</td>\n",
       "      <td>ca</td>\n",
       "      <td>2.0</td>\n",
       "      <td>999999</td>\n",
       "      <td>white</td>\n",
       "      <td>gray</td>\n",
       "      <td>800 loan mart</td>\n",
       "      <td>900</td>\n",
       "      <td>2015-02-02 21:00:00+00:00</td>\n",
       "      <td>2015</td>\n",
       "      <td>12</td>\n",
       "    </tr>\n",
       "    <tr>\n",
       "      <th>385039</th>\n",
       "      <td>2007</td>\n",
       "      <td>Ford</td>\n",
       "      <td>Taurus</td>\n",
       "      <td>SEL Fleet</td>\n",
       "      <td>Sedan</td>\n",
       "      <td>automatic</td>\n",
       "      <td>1fafp56u27a127873</td>\n",
       "      <td>ms</td>\n",
       "      <td>1.9</td>\n",
       "      <td>999999</td>\n",
       "      <td>white</td>\n",
       "      <td>tan</td>\n",
       "      <td>gm financial</td>\n",
       "      <td>750</td>\n",
       "      <td>2015-05-27 20:30:00+00:00</td>\n",
       "      <td>2015</td>\n",
       "      <td>8</td>\n",
       "    </tr>\n",
       "    <tr>\n",
       "      <th>385178</th>\n",
       "      <td>2012</td>\n",
       "      <td>Nissan</td>\n",
       "      <td>Altima</td>\n",
       "      <td>2.5 S</td>\n",
       "      <td>Sedan</td>\n",
       "      <td>automatic</td>\n",
       "      <td>1n4al2ap3cn462083</td>\n",
       "      <td>oh</td>\n",
       "      <td>1.0</td>\n",
       "      <td>999999</td>\n",
       "      <td>white</td>\n",
       "      <td>black</td>\n",
       "      <td>santander consumer</td>\n",
       "      <td>800</td>\n",
       "      <td>2015-01-05 21:00:00+00:00</td>\n",
       "      <td>2015</td>\n",
       "      <td>3</td>\n",
       "    </tr>\n",
       "    <tr>\n",
       "      <th>386470</th>\n",
       "      <td>2006</td>\n",
       "      <td>Ford</td>\n",
       "      <td>F-150</td>\n",
       "      <td>King Ranch</td>\n",
       "      <td>Supercrew</td>\n",
       "      <td>automatic</td>\n",
       "      <td>1ftpw14556ka64749</td>\n",
       "      <td>ga</td>\n",
       "      <td>1.9</td>\n",
       "      <td>999999</td>\n",
       "      <td>black</td>\n",
       "      <td>brown</td>\n",
       "      <td>wells fargo dealer services</td>\n",
       "      <td>3600</td>\n",
       "      <td>2015-02-16 17:30:00+00:00</td>\n",
       "      <td>2015</td>\n",
       "      <td>9</td>\n",
       "    </tr>\n",
       "    <tr>\n",
       "      <th>389047</th>\n",
       "      <td>2004</td>\n",
       "      <td>Nissan</td>\n",
       "      <td>350z</td>\n",
       "      <td>other</td>\n",
       "      <td>Other</td>\n",
       "      <td>automatic</td>\n",
       "      <td>jn1az34d74t153555</td>\n",
       "      <td>md</td>\n",
       "      <td>1.0</td>\n",
       "      <td>999999</td>\n",
       "      <td>silver</td>\n",
       "      <td>black</td>\n",
       "      <td>wells fargo dealer services</td>\n",
       "      <td>1100</td>\n",
       "      <td>2015-01-13 05:00:00+00:00</td>\n",
       "      <td>2015</td>\n",
       "      <td>11</td>\n",
       "    </tr>\n",
       "    <tr>\n",
       "      <th>393609</th>\n",
       "      <td>2009</td>\n",
       "      <td>Dodge</td>\n",
       "      <td>Grand Caravan</td>\n",
       "      <td>SXT</td>\n",
       "      <td>Van</td>\n",
       "      <td>automatic</td>\n",
       "      <td>2d8hn54149r643041</td>\n",
       "      <td>md</td>\n",
       "      <td>1.0</td>\n",
       "      <td>999999</td>\n",
       "      <td>black</td>\n",
       "      <td>gray</td>\n",
       "      <td>santander consumer</td>\n",
       "      <td>1500</td>\n",
       "      <td>2014-12-23 03:00:00+00:00</td>\n",
       "      <td>2014</td>\n",
       "      <td>5</td>\n",
       "    </tr>\n",
       "    <tr>\n",
       "      <th>394885</th>\n",
       "      <td>2013</td>\n",
       "      <td>Hyundai</td>\n",
       "      <td>Elantra Coupe</td>\n",
       "      <td>GS</td>\n",
       "      <td>Coupe</td>\n",
       "      <td>automatic</td>\n",
       "      <td>kmhdh6ae8du017422</td>\n",
       "      <td>ca</td>\n",
       "      <td>1.0</td>\n",
       "      <td>999999</td>\n",
       "      <td>blue</td>\n",
       "      <td>gray</td>\n",
       "      <td>hyundai motor finance</td>\n",
       "      <td>2500</td>\n",
       "      <td>2015-01-26 20:00:00+00:00</td>\n",
       "      <td>2015</td>\n",
       "      <td>2</td>\n",
       "    </tr>\n",
       "    <tr>\n",
       "      <th>411367</th>\n",
       "      <td>2009</td>\n",
       "      <td>Saturn</td>\n",
       "      <td>VUE</td>\n",
       "      <td>XE</td>\n",
       "      <td>Suv</td>\n",
       "      <td>automatic</td>\n",
       "      <td>3gscl33p89s590909</td>\n",
       "      <td>ny</td>\n",
       "      <td>2.0</td>\n",
       "      <td>999999</td>\n",
       "      <td>blue</td>\n",
       "      <td>gray</td>\n",
       "      <td>santander consumer</td>\n",
       "      <td>2900</td>\n",
       "      <td>2015-01-27 17:50:00+00:00</td>\n",
       "      <td>2015</td>\n",
       "      <td>6</td>\n",
       "    </tr>\n",
       "    <tr>\n",
       "      <th>411526</th>\n",
       "      <td>2003</td>\n",
       "      <td>Bmw</td>\n",
       "      <td>X5</td>\n",
       "      <td>3.0i</td>\n",
       "      <td>Suv</td>\n",
       "      <td>automatic</td>\n",
       "      <td>5uxfa53523lv91719</td>\n",
       "      <td>tx</td>\n",
       "      <td>2.7</td>\n",
       "      <td>999999</td>\n",
       "      <td>black</td>\n",
       "      <td>tan</td>\n",
       "      <td>santander consumer</td>\n",
       "      <td>3100</td>\n",
       "      <td>2015-02-17 18:30:00+00:00</td>\n",
       "      <td>2015</td>\n",
       "      <td>12</td>\n",
       "    </tr>\n",
       "    <tr>\n",
       "      <th>417666</th>\n",
       "      <td>2003</td>\n",
       "      <td>Chevrolet</td>\n",
       "      <td>Silverado 1500</td>\n",
       "      <td>LS</td>\n",
       "      <td>Cab</td>\n",
       "      <td>automatic</td>\n",
       "      <td>1gcec19v43e225059</td>\n",
       "      <td>ca</td>\n",
       "      <td>2.0</td>\n",
       "      <td>999999</td>\n",
       "      <td>gray</td>\n",
       "      <td>gray</td>\n",
       "      <td>800 loan mart</td>\n",
       "      <td>700</td>\n",
       "      <td>2014-12-16 05:00:00+00:00</td>\n",
       "      <td>2014</td>\n",
       "      <td>11</td>\n",
       "    </tr>\n",
       "    <tr>\n",
       "      <th>419146</th>\n",
       "      <td>2007</td>\n",
       "      <td>Chevrolet</td>\n",
       "      <td>Tahoe</td>\n",
       "      <td>LT</td>\n",
       "      <td>Suv</td>\n",
       "      <td>automatic</td>\n",
       "      <td>1gnfc13j97r145854</td>\n",
       "      <td>fl</td>\n",
       "      <td>1.9</td>\n",
       "      <td>999999</td>\n",
       "      <td>blue</td>\n",
       "      <td>gray</td>\n",
       "      <td>innovate loan servicing corp</td>\n",
       "      <td>6900</td>\n",
       "      <td>2015-02-11 23:00:00+00:00</td>\n",
       "      <td>2015</td>\n",
       "      <td>8</td>\n",
       "    </tr>\n",
       "    <tr>\n",
       "      <th>436896</th>\n",
       "      <td>2006</td>\n",
       "      <td>Chevrolet</td>\n",
       "      <td>Silverado 1500</td>\n",
       "      <td>LS</td>\n",
       "      <td>Cab</td>\n",
       "      <td>automatic</td>\n",
       "      <td>2gcec19v261319172</td>\n",
       "      <td>ca</td>\n",
       "      <td>2.0</td>\n",
       "      <td>999999</td>\n",
       "      <td>red</td>\n",
       "      <td>gray</td>\n",
       "      <td>800 loan mart</td>\n",
       "      <td>4200</td>\n",
       "      <td>2015-05-27 22:00:00+00:00</td>\n",
       "      <td>2015</td>\n",
       "      <td>9</td>\n",
       "    </tr>\n",
       "  </tbody>\n",
       "</table>\n",
       "</div>"
      ],
      "text/plain": [
       "        year        make           model           trim         body  \\\n",
       "6069    2012     Hyundai          Sonata            GLS        Sedan   \n",
       "11122   2004   Chevrolet           Tahoe             LS          Suv   \n",
       "12368   2006       Mazda         Tribute              i          Suv   \n",
       "14897   2006         Kia          Amanti           Base        Sedan   \n",
       "17341   1996      Toyota         Corolla           Base        Sedan   \n",
       "26602   2005      Nissan           Quest         3.5 SE          Van   \n",
       "45730   2001   Chevrolet  Silverado 1500             LS          Cab   \n",
       "78696   2006      Nissan           Quest         3.5 SE          Van   \n",
       "79958   2011      Nissan          Altima          2.5 S        Sedan   \n",
       "84696   2005      Nissan           Quest         3.5 SE          Van   \n",
       "100671  2008        Jeep         Liberty          Sport          Suv   \n",
       "105455  2014         Kia           Forte             EX        Sedan   \n",
       "116247  1998       Lexus          ES 300           Base        Sedan   \n",
       "117941  2009       Dodge         Charger           Base        Sedan   \n",
       "123154  2005         Bmw        6 Series          645Ci  Convertible   \n",
       "127661  2001   Chevrolet  Silverado 1500           Base          Cab   \n",
       "150893  2013        Ford          Escape             SE          Suv   \n",
       "160641  2013         Kia          Optima             SX        Sedan   \n",
       "161696  1997       Mazda         Protege             LX        Sedan   \n",
       "163742  2011        Ford           Focus             SE        Sedan   \n",
       "165810  2002        Ford      Expedition    Eddie Bauer          Suv   \n",
       "171948  1993        Ford           F-150             XL          Cab   \n",
       "174789  2003    Mercedes         C-Class           C240        Sedan   \n",
       "206044  2003      Nissan          Altima         3.5 SE        Sedan   \n",
       "213734  1993        Ford        Explorer            XLT          Suv   \n",
       "239758  2009       Dodge         Charger           Base        Sedan   \n",
       "240371  2007     Pontiac      Grand Prix           Base        Sedan   \n",
       "242700  2008      Nissan           Rogue              S          Suv   \n",
       "242747  2006        Ford          Taurus            SEL        Sedan   \n",
       "251800  2013         Kia          Optima             SX        Sedan   \n",
       "262840  2007       Buick      Rendezvous             CX          Suv   \n",
       "288664  2013   Chevrolet           Cruze             LS        Sedan   \n",
       "294261  2001        Ford        Windstar            SEL          Van   \n",
       "298619  2003       Buick           Regal             LS        Sedan   \n",
       "315973  2005     Hyundai         Elantra            GLS        Sedan   \n",
       "323738  2006    Chrysler             300  4x2 v8 c srt8        Other   \n",
       "326429  2002        Ford           F-150             XL          Cab   \n",
       "329262  2005         Kia          Sedona             EX          Van   \n",
       "342379  2014      Toyota           Camry             SE        Sedan   \n",
       "346112  1999        Ford      Expedition            XLT          Suv   \n",
       "368362  1999  Mitsubishi  Eclipse Spyder             GS  Convertible   \n",
       "379463  2008   Chevrolet          Impala             LS        Sedan   \n",
       "383980  2003        Ford      Expedition      XLT Value          Suv   \n",
       "385039  2007        Ford          Taurus      SEL Fleet        Sedan   \n",
       "385178  2012      Nissan          Altima          2.5 S        Sedan   \n",
       "386470  2006        Ford           F-150     King Ranch    Supercrew   \n",
       "389047  2004      Nissan            350z          other        Other   \n",
       "393609  2009       Dodge   Grand Caravan            SXT          Van   \n",
       "394885  2013     Hyundai   Elantra Coupe             GS        Coupe   \n",
       "411367  2009      Saturn             VUE             XE          Suv   \n",
       "411526  2003         Bmw              X5           3.0i          Suv   \n",
       "417666  2003   Chevrolet  Silverado 1500             LS          Cab   \n",
       "419146  2007   Chevrolet           Tahoe             LT          Suv   \n",
       "436896  2006   Chevrolet  Silverado 1500             LS          Cab   \n",
       "\n",
       "       transmission                vin state  condition  odometer   color  \\\n",
       "6069      automatic  5npeb4ac6ch429831    oh        1.0    999999   white   \n",
       "11122     automatic  1gnec13v34j247109    ga        1.9    999999   black   \n",
       "12368     automatic  4f2yz02z26km30632    fl        2.0    999999   white   \n",
       "14897     automatic  knald124265085150    ms        1.0    999999    gray   \n",
       "17341     automatic  2t1ba02e0tc143572    fl        1.0    959276    blue   \n",
       "26602     automatic  5n1bv28u15n131795    il        1.9    999999   green   \n",
       "45730     automatic  1gcec19v81z169441    ca        1.0    999999   white   \n",
       "78696     automatic  5n1bv28u26n123304    md        2.7    999999   white   \n",
       "79958     automatic  1n4al2ap1bn503809    ms        2.3    999999    blue   \n",
       "84696     automatic  5n1bv28u05n111490    md        2.1    999999   white   \n",
       "100671    automatic  1j8gp28k28w115292    tx        1.9    999999   green   \n",
       "105455    automatic  knafx4a8xe5052180    tx        1.0    999999   black   \n",
       "116247    automatic  jt8bf28g4w5037146    ca        2.0    999999    gray   \n",
       "117941    automatic  2b3ka43dx9h521300    tx        1.0    999999    blue   \n",
       "123154    automatic  wbaek73475b326491    il        1.0    999999  silver   \n",
       "127661    automatic  1gcec14w01z222665    fl        1.0    999999   white   \n",
       "150893    automatic  1fmcu0g91duc26600    fl        1.0    999999    gray   \n",
       "160641    automatic  5xxgr4a68dg088864    ca        1.0    999999   black   \n",
       "161696    automatic  jm1bc141xv0109453    fl        1.0    999999    blue   \n",
       "163742    automatic  1fahp3fn1bw174703    fl        2.0    999999  silver   \n",
       "165810    automatic  1fmru17l72la49923    tx        2.0    999999   black   \n",
       "171948    automatic  2ftdf15y0pcb40606    ms        1.0    999999    blue   \n",
       "174789    automatic  wdbrf61j33f350593    ca        2.2    999999  silver   \n",
       "206044    automatic  1n4bl11d43c332183    ca        3.2    999999    gray   \n",
       "213734    automatic  1fmdu34x8pud75440    ca        2.0    980113   green   \n",
       "239758    automatic  2b3ka43d49h578284    il        1.0    999999   black   \n",
       "240371    automatic  2g2wp552771212846    ms        1.0    999999    blue   \n",
       "242700        other  jn8as58t48w002423    md        1.0    999999       —   \n",
       "242747    automatic  1fafp56u06a197709    oh        1.9    999999    gray   \n",
       "251800    automatic  5xxgr4a68dg206430    ga        1.0    999999   white   \n",
       "262840    automatic  3g5da03lx7s587886    oh        2.0    999999   white   \n",
       "288664        other  1g1pa5sh2d7251619    tx        1.0    999999  silver   \n",
       "294261        other  2fmza53401bc33243    pa        2.0    999999   white   \n",
       "298619    automatic  2g4wb52k531274430    ca        2.6    999999  silver   \n",
       "315973    automatic  kmhdn46d65u050594    ms        1.0    999999   white   \n",
       "323738    automatic  2c3la73wx6h536417    oh        1.0    999999  silver   \n",
       "326429    automatic  1ftrf17292nb99722    fl        1.9    999999    blue   \n",
       "329262    automatic  kndup131556647473    oh        1.0    999999    blue   \n",
       "342379    automatic  4t1bf1fk2eu773330    fl        1.0    999999     red   \n",
       "346112        other  1fmpu18l7xlb72537    ca        1.9    999999   white   \n",
       "368362    automatic  4a3ax35g5xe138358    fl        2.0    999999  silver   \n",
       "379463    automatic  2g1wb55k689100531    md        1.9    999999    gray   \n",
       "383980    automatic  1fmru15w03lc00745    ca        2.0    999999   white   \n",
       "385039    automatic  1fafp56u27a127873    ms        1.9    999999   white   \n",
       "385178    automatic  1n4al2ap3cn462083    oh        1.0    999999   white   \n",
       "386470    automatic  1ftpw14556ka64749    ga        1.9    999999   black   \n",
       "389047    automatic  jn1az34d74t153555    md        1.0    999999  silver   \n",
       "393609    automatic  2d8hn54149r643041    md        1.0    999999   black   \n",
       "394885    automatic  kmhdh6ae8du017422    ca        1.0    999999    blue   \n",
       "411367    automatic  3gscl33p89s590909    ny        2.0    999999    blue   \n",
       "411526    automatic  5uxfa53523lv91719    tx        2.7    999999   black   \n",
       "417666    automatic  1gcec19v43e225059    ca        2.0    999999    gray   \n",
       "419146    automatic  1gnfc13j97r145854    fl        1.9    999999    blue   \n",
       "436896    automatic  2gcec19v261319172    ca        2.0    999999     red   \n",
       "\n",
       "       interior                                            seller  \\\n",
       "6069       gray                                santander consumer   \n",
       "11122       tan                                santander consumer   \n",
       "12368       tan                                santander consumer   \n",
       "14897     beige                    fiserv/global lending services   \n",
       "17341      gray                         coggin honda of ft pierce   \n",
       "26602      gray                                santander consumer   \n",
       "45730     black                                     800 loan mart   \n",
       "78696     beige                                santander consumer   \n",
       "79958     black                                      gm financial   \n",
       "84696     beige                                        355 toyota   \n",
       "100671     gray                                santander consumer   \n",
       "105455    black                                kia motors finance   \n",
       "116247    beige                                     800 loan mart   \n",
       "117941    black                                santander consumer   \n",
       "123154     gray                                santander consumer   \n",
       "127661     gray                   coggin chevrolet at the avenues   \n",
       "150893     gray      regional acceptance corporation / greenville   \n",
       "160641    black                             hyundai motor finance   \n",
       "161696    beige                      coggin toyota at the avenues   \n",
       "163742    black      regional acceptance corporation / greenville   \n",
       "165810     gray                          titlemax/leon valley tx1   \n",
       "171948     blue                        republic finance llc/pearl   \n",
       "174789     gray                                     800 loan mart   \n",
       "206044    black                                     800 loan mart   \n",
       "213734    beige                               toyota walnut creek   \n",
       "239758     gray                                santander consumer   \n",
       "240371    black                                santander consumer   \n",
       "242700        —                       wells fargo dealer services   \n",
       "242747     gray                    car now acceptance co/columbus   \n",
       "251800    beige                                kia motors finance   \n",
       "262840     gray                                santander consumer   \n",
       "288664    black                                santander consumer   \n",
       "294261      tan                             carsense incorporated   \n",
       "298619     gray                                 hertz remarketing   \n",
       "315973     gray  select remarketing group llc/midwest title loans   \n",
       "323738    black                                santander consumer   \n",
       "326429     gray                                      coggin honda   \n",
       "329262      tan             credit acceptance corp/vrs/southfield   \n",
       "342379    black                                santander consumer   \n",
       "346112     gray             credit acceptance corp/vrs/southfield   \n",
       "368362     gray                     coggin honda of st. augustine   \n",
       "379463        —                            automotive credit corp   \n",
       "383980     gray                                     800 loan mart   \n",
       "385039      tan                                      gm financial   \n",
       "385178    black                                santander consumer   \n",
       "386470    brown                       wells fargo dealer services   \n",
       "389047    black                       wells fargo dealer services   \n",
       "393609     gray                                santander consumer   \n",
       "394885     gray                             hyundai motor finance   \n",
       "411367     gray                                santander consumer   \n",
       "411526      tan                                santander consumer   \n",
       "417666     gray                                     800 loan mart   \n",
       "419146     gray                      innovate loan servicing corp   \n",
       "436896     gray                                     800 loan mart   \n",
       "\n",
       "        sellingprice                  saledate  time_rounded  car_age  \n",
       "6069             800 2015-01-05 21:00:00+00:00          2015        3  \n",
       "11122           1800 2015-01-05 17:30:00+00:00          2015       11  \n",
       "12368           1200 2015-02-08 17:30:00+00:00          2015        9  \n",
       "14897            800 2014-12-18 04:02:00+00:00          2014        8  \n",
       "17341            500 2015-02-17 02:00:00+00:00          2015       19  \n",
       "26602           2600 2014-12-30 02:00:00+00:00          2014        9  \n",
       "45730           1500 2015-05-27 22:00:00+00:00          2015       14  \n",
       "78696           2800 2015-02-23 17:30:00+00:00          2015        9  \n",
       "79958           4000 2015-05-13 22:02:00+00:00          2015        4  \n",
       "84696           1100 2015-01-13 01:30:00+00:00          2015       10  \n",
       "100671          3300 2015-05-26 20:00:00+00:00          2015        7  \n",
       "105455          3100 2015-03-02 18:30:00+00:00          2015        1  \n",
       "116247           350 2015-02-16 21:00:00+00:00          2015       17  \n",
       "117941          5500 2015-01-08 06:10:00+00:00          2015        6  \n",
       "123154          1650 2015-03-02 21:00:00+00:00          2015       10  \n",
       "127661           525 2015-05-06 22:20:00+00:00          2015       14  \n",
       "150893          3000 2015-01-12 01:30:00+00:00          2015        2  \n",
       "160641          2700 2015-01-12 21:00:00+00:00          2015        2  \n",
       "161696           325 2015-06-03 22:20:00+00:00          2015       18  \n",
       "163742           700 2015-02-22 17:30:00+00:00          2015        4  \n",
       "165810           600 2015-06-02 20:20:00+00:00          2015       13  \n",
       "171948           200 2015-04-22 22:02:00+00:00          2015       22  \n",
       "174789          1500 2015-03-04 20:00:00+00:00          2015       12  \n",
       "206044          1500 2015-02-25 20:00:00+00:00          2015       12  \n",
       "213734           200 2015-05-05 22:30:00+00:00          2015       22  \n",
       "239758          1700 2014-12-23 05:00:00+00:00          2014        5  \n",
       "240371           600 2015-06-17 22:02:00+00:00          2015        8  \n",
       "242700           275 2014-12-30 05:00:00+00:00          2014        6  \n",
       "242747           400 2015-06-10 19:00:00+00:00          2015        9  \n",
       "251800           400 2015-03-11 22:30:00+00:00          2015        2  \n",
       "262840          2250 2015-06-01 19:30:00+00:00          2015        8  \n",
       "288664          1300 2015-01-06 20:30:00+00:00          2015        2  \n",
       "294261           400 2015-02-09 21:01:00+00:00          2015       14  \n",
       "298619          1600 2015-02-25 20:00:00+00:00          2015       12  \n",
       "315973           100 2015-04-01 22:02:00+00:00          2015       10  \n",
       "323738          2600 2014-12-30 05:00:00+00:00          2014        8  \n",
       "326429           900 2015-05-27 23:00:00+00:00          2015       13  \n",
       "329262           200 2015-02-11 17:00:00+00:00          2015       10  \n",
       "342379          3300 2015-01-25 17:30:00+00:00          2015        1  \n",
       "346112           700 2015-02-17 20:40:00+00:00          2015       16  \n",
       "368362           650 2015-05-20 23:00:00+00:00          2015       16  \n",
       "379463          1100 2015-02-16 17:30:00+00:00          2015        7  \n",
       "383980           900 2015-02-02 21:00:00+00:00          2015       12  \n",
       "385039           750 2015-05-27 20:30:00+00:00          2015        8  \n",
       "385178           800 2015-01-05 21:00:00+00:00          2015        3  \n",
       "386470          3600 2015-02-16 17:30:00+00:00          2015        9  \n",
       "389047          1100 2015-01-13 05:00:00+00:00          2015       11  \n",
       "393609          1500 2014-12-23 03:00:00+00:00          2014        5  \n",
       "394885          2500 2015-01-26 20:00:00+00:00          2015        2  \n",
       "411367          2900 2015-01-27 17:50:00+00:00          2015        6  \n",
       "411526          3100 2015-02-17 18:30:00+00:00          2015       12  \n",
       "417666           700 2014-12-16 05:00:00+00:00          2014       11  \n",
       "419146          6900 2015-02-11 23:00:00+00:00          2015        8  \n",
       "436896          4200 2015-05-27 22:00:00+00:00          2015        9  "
      ]
     },
     "execution_count": 130,
     "metadata": {},
     "output_type": "execute_result"
    }
   ],
   "source": [
    "df_train[df_train['odometer'] > 700000] #посмотрим, что это за строки"
   ]
  },
  {
   "cell_type": "markdown",
   "metadata": {},
   "source": [
    "Это небольшое количество данных, можно удалить эти выбросы"
   ]
  },
  {
   "cell_type": "code",
   "execution_count": 131,
   "metadata": {
    "execution": {
     "iopub.execute_input": "2025-01-06T18:12:13.627306Z",
     "iopub.status.busy": "2025-01-06T18:12:13.626830Z",
     "iopub.status.idle": "2025-01-06T18:12:14.039915Z",
     "shell.execute_reply": "2025-01-06T18:12:14.038474Z",
     "shell.execute_reply.started": "2025-01-06T18:12:13.627253Z"
    }
   },
   "outputs": [
    {
     "name": "stdout",
     "output_type": "stream",
     "text": [
      "<class 'pandas.core.frame.DataFrame'>\n",
      "Int64Index: 422701 entries, 0 to 440235\n",
      "Data columns (total 17 columns):\n",
      " #   Column        Non-Null Count   Dtype              \n",
      "---  ------        --------------   -----              \n",
      " 0   year          422701 non-null  int64              \n",
      " 1   make          422701 non-null  object             \n",
      " 2   model         422701 non-null  object             \n",
      " 3   trim          422701 non-null  object             \n",
      " 4   body          422701 non-null  object             \n",
      " 5   transmission  422701 non-null  object             \n",
      " 6   vin           422701 non-null  object             \n",
      " 7   state         422701 non-null  object             \n",
      " 8   condition     422701 non-null  float64            \n",
      " 9   odometer      422701 non-null  int64              \n",
      " 10  color         422701 non-null  object             \n",
      " 11  interior      422701 non-null  object             \n",
      " 12  seller        422701 non-null  object             \n",
      " 13  sellingprice  422701 non-null  int64              \n",
      " 14  saledate      422701 non-null  datetime64[ns, UTC]\n",
      " 15  time_rounded  422701 non-null  int64              \n",
      " 16  car_age       422701 non-null  int64              \n",
      "dtypes: datetime64[ns, UTC](1), float64(1), int64(5), object(10)\n",
      "memory usage: 58.0+ MB\n"
     ]
    }
   ],
   "source": [
    "df_train = df_train[df_train.odometer < 700000] # удалим эти выбросы\n",
    "df_train.info()"
   ]
  },
  {
   "cell_type": "code",
   "execution_count": 132,
   "metadata": {
    "execution": {
     "iopub.execute_input": "2025-01-06T18:12:14.042143Z",
     "iopub.status.busy": "2025-01-06T18:12:14.041724Z",
     "iopub.status.idle": "2025-01-06T18:12:14.049625Z",
     "shell.execute_reply": "2025-01-06T18:12:14.047984Z",
     "shell.execute_reply.started": "2025-01-06T18:12:14.042106Z"
    }
   },
   "outputs": [
    {
     "name": "stdout",
     "output_type": "stream",
     "text": [
      "Удалено, %: 4.0094403910629755\n"
     ]
    }
   ],
   "source": [
    "# итого мы удалили\n",
    "deleted = first_none_model + first_none_condition + first_none_odometer + 54\n",
    "print('Удалено, %:', deleted / 440236 * 100)"
   ]
  },
  {
   "cell_type": "markdown",
   "metadata": {},
   "source": [
    "Удалено 4% данных, что является допустимым."
   ]
  },
  {
   "cell_type": "markdown",
   "metadata": {},
   "source": [
    "**Вывод:**\n",
    "\n",
    "В ходе исследовательского анализа выявлены следующе закономерности:\n",
    "\n",
    "- Числовые признаки кажутся важными, так как и прямая и обратная зависимость более 54%. Самая большая корреляция между возрастом машины и пробегом.\n",
    "- Цена машины очень зависит от возраста машины. Чем моложе машина, тем цена выше. Программа расценила высокую цену на старые машины как выбросы. Однако, это возможно, раритетные машины.\n",
    "- от Производителя зависит цена продажи.\n",
    "- Самые дорогие машины в кузове Supercrew, Convertible\n",
    "- Машина с автоматической коробкой передач дороже, чем с ручной.\n",
    "- От состояния машины зависит очень цена.\n",
    "- Зависимость между параметрами явная, чем меньше пробег, тем выше цена прдажи.\n",
    "\n",
    "Удалено 4% данных, что является допустимым."
   ]
  },
  {
   "cell_type": "markdown",
   "metadata": {},
   "source": [
    "## Подготовим данные для обучения\n",
    "\n",
    "Выделим признаки для расчета"
   ]
  },
  {
   "cell_type": "code",
   "execution_count": 133,
   "metadata": {
    "execution": {
     "iopub.execute_input": "2025-01-06T18:12:14.052068Z",
     "iopub.status.busy": "2025-01-06T18:12:14.051549Z",
     "iopub.status.idle": "2025-01-06T18:12:14.105271Z",
     "shell.execute_reply": "2025-01-06T18:12:14.103847Z",
     "shell.execute_reply.started": "2025-01-06T18:12:14.052014Z"
    }
   },
   "outputs": [
    {
     "name": "stdout",
     "output_type": "stream",
     "text": [
      "(422701, 16)\n"
     ]
    }
   ],
   "source": [
    "target_train = df_train['sellingprice'] #целевой признак\n",
    "features_train = df_train.drop(['sellingprice'] , axis=1) #признаки, по которым идет расчет\n",
    "print(features_train.shape)"
   ]
  },
  {
   "cell_type": "code",
   "execution_count": 134,
   "metadata": {
    "execution": {
     "iopub.execute_input": "2025-01-06T18:12:14.107143Z",
     "iopub.status.busy": "2025-01-06T18:12:14.106784Z",
     "iopub.status.idle": "2025-01-06T18:12:14.127256Z",
     "shell.execute_reply": "2025-01-06T18:12:14.125653Z",
     "shell.execute_reply.started": "2025-01-06T18:12:14.107107Z"
    }
   },
   "outputs": [
    {
     "data": {
      "text/html": [
       "<div>\n",
       "<style scoped>\n",
       "    .dataframe tbody tr th:only-of-type {\n",
       "        vertical-align: middle;\n",
       "    }\n",
       "\n",
       "    .dataframe tbody tr th {\n",
       "        vertical-align: top;\n",
       "    }\n",
       "\n",
       "    .dataframe thead th {\n",
       "        text-align: right;\n",
       "    }\n",
       "</style>\n",
       "<table border=\"1\" class=\"dataframe\">\n",
       "  <thead>\n",
       "    <tr style=\"text-align: right;\">\n",
       "      <th></th>\n",
       "      <th>year</th>\n",
       "      <th>make</th>\n",
       "      <th>model</th>\n",
       "      <th>trim</th>\n",
       "      <th>body</th>\n",
       "      <th>transmission</th>\n",
       "      <th>vin</th>\n",
       "      <th>state</th>\n",
       "      <th>condition</th>\n",
       "      <th>odometer</th>\n",
       "      <th>color</th>\n",
       "      <th>interior</th>\n",
       "      <th>seller</th>\n",
       "      <th>saledate</th>\n",
       "      <th>time_rounded</th>\n",
       "      <th>car_age</th>\n",
       "    </tr>\n",
       "  </thead>\n",
       "  <tbody>\n",
       "    <tr>\n",
       "      <th>0</th>\n",
       "      <td>2005</td>\n",
       "      <td>Cadillac</td>\n",
       "      <td>CTS</td>\n",
       "      <td>Base</td>\n",
       "      <td>Sedan</td>\n",
       "      <td>automatic</td>\n",
       "      <td>1g6dp567450124779</td>\n",
       "      <td>ca</td>\n",
       "      <td>2.7</td>\n",
       "      <td>116970</td>\n",
       "      <td>silver</td>\n",
       "      <td>black</td>\n",
       "      <td>lexus of stevens creek</td>\n",
       "      <td>2015-01-13 20:30:00+00:00</td>\n",
       "      <td>2015</td>\n",
       "      <td>10</td>\n",
       "    </tr>\n",
       "  </tbody>\n",
       "</table>\n",
       "</div>"
      ],
      "text/plain": [
       "   year      make model  trim   body transmission                vin state  \\\n",
       "0  2005  Cadillac   CTS  Base  Sedan    automatic  1g6dp567450124779    ca   \n",
       "\n",
       "   condition  odometer   color interior                  seller  \\\n",
       "0        2.7    116970  silver    black  lexus of stevens creek   \n",
       "\n",
       "                   saledate  time_rounded  car_age  \n",
       "0 2015-01-13 20:30:00+00:00          2015       10  "
      ]
     },
     "execution_count": 134,
     "metadata": {},
     "output_type": "execute_result"
    }
   ],
   "source": [
    "features_test = df_test \n",
    "features_test.head(1)"
   ]
  },
  {
   "cell_type": "markdown",
   "metadata": {},
   "source": [
    "Удалим лишние столбцы. \n",
    "\n",
    "- make жестко связан с model, поэтому можно этот признак удалить.\n",
    "- year использован для расчета возраста машины\n",
    "- vin не имеет несет никакой информации\n",
    "- seller имеет много значений, предполагаю, что цена машины не связана с проадвцом\n",
    "- saledate признако обработан, заменен на два других признака"
   ]
  },
  {
   "cell_type": "code",
   "execution_count": 135,
   "metadata": {
    "execution": {
     "iopub.execute_input": "2025-01-06T18:12:14.129520Z",
     "iopub.status.busy": "2025-01-06T18:12:14.128987Z",
     "iopub.status.idle": "2025-01-06T18:12:14.210462Z",
     "shell.execute_reply": "2025-01-06T18:12:14.209066Z",
     "shell.execute_reply.started": "2025-01-06T18:12:14.129466Z"
    }
   },
   "outputs": [],
   "source": [
    "features_train.drop(columns=['make', 'vin', 'seller', 'saledate', 'time_rounded', 'year'], inplace=True)\n",
    "features_test.drop(columns=['make', 'seller', 'saledate', 'time_rounded', 'year'], inplace=True)"
   ]
  },
  {
   "cell_type": "code",
   "execution_count": 136,
   "metadata": {
    "execution": {
     "iopub.execute_input": "2025-01-06T18:12:14.212418Z",
     "iopub.status.busy": "2025-01-06T18:12:14.211890Z",
     "iopub.status.idle": "2025-01-06T18:12:14.231167Z",
     "shell.execute_reply": "2025-01-06T18:12:14.228936Z",
     "shell.execute_reply.started": "2025-01-06T18:12:14.212366Z"
    }
   },
   "outputs": [
    {
     "data": {
      "text/html": [
       "<div>\n",
       "<style scoped>\n",
       "    .dataframe tbody tr th:only-of-type {\n",
       "        vertical-align: middle;\n",
       "    }\n",
       "\n",
       "    .dataframe tbody tr th {\n",
       "        vertical-align: top;\n",
       "    }\n",
       "\n",
       "    .dataframe thead th {\n",
       "        text-align: right;\n",
       "    }\n",
       "</style>\n",
       "<table border=\"1\" class=\"dataframe\">\n",
       "  <thead>\n",
       "    <tr style=\"text-align: right;\">\n",
       "      <th></th>\n",
       "      <th>model</th>\n",
       "      <th>trim</th>\n",
       "      <th>body</th>\n",
       "      <th>transmission</th>\n",
       "      <th>state</th>\n",
       "      <th>condition</th>\n",
       "      <th>odometer</th>\n",
       "      <th>color</th>\n",
       "      <th>interior</th>\n",
       "      <th>car_age</th>\n",
       "    </tr>\n",
       "  </thead>\n",
       "  <tbody>\n",
       "    <tr>\n",
       "      <th>0</th>\n",
       "      <td>Edge</td>\n",
       "      <td>SEL</td>\n",
       "      <td>Suv</td>\n",
       "      <td>automatic</td>\n",
       "      <td>md</td>\n",
       "      <td>4.2</td>\n",
       "      <td>111041</td>\n",
       "      <td>black</td>\n",
       "      <td>black</td>\n",
       "      <td>4</td>\n",
       "    </tr>\n",
       "  </tbody>\n",
       "</table>\n",
       "</div>"
      ],
      "text/plain": [
       "  model trim body transmission state  condition  odometer  color interior  \\\n",
       "0  Edge  SEL  Suv    automatic    md        4.2    111041  black    black   \n",
       "\n",
       "   car_age  \n",
       "0        4  "
      ]
     },
     "execution_count": 136,
     "metadata": {},
     "output_type": "execute_result"
    }
   ],
   "source": [
    "features_train.head(1)"
   ]
  },
  {
   "cell_type": "code",
   "execution_count": 137,
   "metadata": {
    "execution": {
     "iopub.execute_input": "2025-01-06T18:12:51.918131Z",
     "iopub.status.busy": "2025-01-06T18:12:51.917627Z",
     "iopub.status.idle": "2025-01-06T18:12:51.934565Z",
     "shell.execute_reply": "2025-01-06T18:12:51.933314Z",
     "shell.execute_reply.started": "2025-01-06T18:12:51.918092Z"
    }
   },
   "outputs": [
    {
     "data": {
      "text/html": [
       "<div>\n",
       "<style scoped>\n",
       "    .dataframe tbody tr th:only-of-type {\n",
       "        vertical-align: middle;\n",
       "    }\n",
       "\n",
       "    .dataframe tbody tr th {\n",
       "        vertical-align: top;\n",
       "    }\n",
       "\n",
       "    .dataframe thead th {\n",
       "        text-align: right;\n",
       "    }\n",
       "</style>\n",
       "<table border=\"1\" class=\"dataframe\">\n",
       "  <thead>\n",
       "    <tr style=\"text-align: right;\">\n",
       "      <th></th>\n",
       "      <th>model</th>\n",
       "      <th>trim</th>\n",
       "      <th>body</th>\n",
       "      <th>transmission</th>\n",
       "      <th>vin</th>\n",
       "      <th>state</th>\n",
       "      <th>condition</th>\n",
       "      <th>odometer</th>\n",
       "      <th>color</th>\n",
       "      <th>interior</th>\n",
       "      <th>car_age</th>\n",
       "    </tr>\n",
       "  </thead>\n",
       "  <tbody>\n",
       "    <tr>\n",
       "      <th>0</th>\n",
       "      <td>CTS</td>\n",
       "      <td>Base</td>\n",
       "      <td>Sedan</td>\n",
       "      <td>automatic</td>\n",
       "      <td>1g6dp567450124779</td>\n",
       "      <td>ca</td>\n",
       "      <td>2.7</td>\n",
       "      <td>116970</td>\n",
       "      <td>silver</td>\n",
       "      <td>black</td>\n",
       "      <td>10</td>\n",
       "    </tr>\n",
       "  </tbody>\n",
       "</table>\n",
       "</div>"
      ],
      "text/plain": [
       "  model  trim   body transmission                vin state  condition  \\\n",
       "0   CTS  Base  Sedan    automatic  1g6dp567450124779    ca        2.7   \n",
       "\n",
       "   odometer   color interior  car_age  \n",
       "0    116970  silver    black       10  "
      ]
     },
     "execution_count": 137,
     "metadata": {},
     "output_type": "execute_result"
    }
   ],
   "source": [
    "features_test.head(1)"
   ]
  },
  {
   "cell_type": "markdown",
   "metadata": {},
   "source": [
    "В тестовом файле оставим столбец vin, так как она понадобится для проверки далее."
   ]
  },
  {
   "cell_type": "markdown",
   "metadata": {},
   "source": [
    "#  Тестирование моделей"
   ]
  },
  {
   "cell_type": "markdown",
   "metadata": {},
   "source": [
    "**Пайплайн**"
   ]
  },
  {
   "cell_type": "code",
   "execution_count": 138,
   "metadata": {
    "execution": {
     "iopub.execute_input": "2025-01-06T18:12:57.483961Z",
     "iopub.status.busy": "2025-01-06T18:12:57.483173Z",
     "iopub.status.idle": "2025-01-06T18:12:57.524894Z",
     "shell.execute_reply": "2025-01-06T18:12:57.523504Z",
     "shell.execute_reply.started": "2025-01-06T18:12:57.483921Z"
    }
   },
   "outputs": [],
   "source": [
    "categorical_columns = features_train.select_dtypes(include='object').columns.to_list()\n",
    "numeric_columns = features_train.select_dtypes(exclude='object').columns.to_list()\n",
    "\n",
    "col_transformer_ohe = make_column_transformer(\n",
    "    (OneHotEncoder(drop='first', handle_unknown='ignore'), categorical_columns),\n",
    "    (StandardScaler(), numeric_columns),\n",
    "    remainder='passthrough', verbose_feature_names_out=False)\n",
    "\n",
    "col_transformer_oe = make_column_transformer(\n",
    "    (OrdinalEncoder(handle_unknown='use_encoded_value', unknown_value=-1), categorical_columns),\n",
    "    remainder='passthrough', verbose_feature_names_out=False)"
   ]
  },
  {
   "cell_type": "markdown",
   "metadata": {},
   "source": [
    "**Модель Решающее дерево**"
   ]
  },
  {
   "cell_type": "code",
   "execution_count": 139,
   "metadata": {
    "execution": {
     "iopub.execute_input": "2025-01-06T18:12:58.516056Z",
     "iopub.status.busy": "2025-01-06T18:12:58.515607Z",
     "iopub.status.idle": "2025-01-06T18:12:58.522091Z",
     "shell.execute_reply": "2025-01-06T18:12:58.520784Z",
     "shell.execute_reply.started": "2025-01-06T18:12:58.516015Z"
    }
   },
   "outputs": [],
   "source": [
    "model_dt = DecisionTreeRegressor()\n",
    "pipeline_dt = make_pipeline(col_transformer_oe, model_dt)\n",
    "#sorted(pipeline_dt.get_params().keys())"
   ]
  },
  {
   "cell_type": "code",
   "execution_count": 140,
   "metadata": {
    "execution": {
     "iopub.execute_input": "2025-01-06T18:13:00.082622Z",
     "iopub.status.busy": "2025-01-06T18:13:00.081279Z",
     "iopub.status.idle": "2025-01-06T18:15:18.033158Z",
     "shell.execute_reply": "2025-01-06T18:15:18.031670Z",
     "shell.execute_reply.started": "2025-01-06T18:13:00.082572Z"
    }
   },
   "outputs": [
    {
     "name": "stdout",
     "output_type": "stream",
     "text": [
      "CPU times: user 2min 14s, sys: 2.51 s, total: 2min 17s\n",
      "Wall time: 2min 17s\n"
     ]
    },
    {
     "data": {
      "text/plain": [
       "{'decisiontreeregressor__max_depth': 12,\n",
       " 'decisiontreeregressor__max_leaf_nodes': 200,\n",
       " 'decisiontreeregressor__random_state': 13}"
      ]
     },
     "execution_count": 140,
     "metadata": {},
     "output_type": "execute_result"
    }
   ],
   "source": [
    "%%time\n",
    "params = {\n",
    "    'decisiontreeregressor__max_leaf_nodes': [50, 100, 200],\n",
    "    'decisiontreeregressor__max_depth': [4, 6, 10, 12],\n",
    "    'decisiontreeregressor__random_state': [13]\n",
    "}\n",
    "\n",
    "grid_dt = GridSearchCV(pipeline_dt, param_grid=params, cv=5, scoring='neg_mean_squared_error').fit(features_train, target_train) \n",
    "grid_dt.best_params_"
   ]
  },
  {
   "cell_type": "code",
   "execution_count": 142,
   "metadata": {
    "execution": {
     "iopub.execute_input": "2025-01-06T18:16:56.797095Z",
     "iopub.status.busy": "2025-01-06T18:16:56.796364Z",
     "iopub.status.idle": "2025-01-06T18:16:57.638588Z",
     "shell.execute_reply": "2025-01-06T18:16:57.636904Z",
     "shell.execute_reply.started": "2025-01-06T18:16:56.797047Z"
    }
   },
   "outputs": [
    {
     "name": "stdout",
     "output_type": "stream",
     "text": [
      "RMSE: 5225.72\n",
      "R2: 0.72\n",
      "MAE: 3215.12\n"
     ]
    }
   ],
   "source": [
    "rmse_dt = np.sqrt(np.abs(best_score_dt)).round(2)\n",
    "predicted_dt = grid_dt.predict(features_train) \n",
    "r2_dt = r2_score(target_train, predicted_dt).round(2)\n",
    "mae_dt = mean_absolute_error(target_train, predicted_dt).round(2)\n",
    "print(\"RMSE:\", rmse_dt)\n",
    "print('R2:', r2_dt)\n",
    "print('MAE:', mae_dt)"
   ]
  },
  {
   "cell_type": "markdown",
   "metadata": {},
   "source": [
    "**Модель Случайный лес**"
   ]
  },
  {
   "cell_type": "code",
   "execution_count": 143,
   "metadata": {
    "execution": {
     "iopub.execute_input": "2025-01-06T18:17:41.715300Z",
     "iopub.status.busy": "2025-01-06T18:17:41.714818Z",
     "iopub.status.idle": "2025-01-06T18:17:41.721074Z",
     "shell.execute_reply": "2025-01-06T18:17:41.719657Z",
     "shell.execute_reply.started": "2025-01-06T18:17:41.715262Z"
    }
   },
   "outputs": [],
   "source": [
    "model_rf = RandomForestRegressor()\n",
    "pipeline_rf = Pipeline(steps=[\n",
    "    ('transf', col_transformer_oe),\n",
    "    ('model', model_rf)\n",
    "])\n",
    "#sorted(pipeline_rf.get_params().keys())"
   ]
  },
  {
   "cell_type": "code",
   "execution_count": 144,
   "metadata": {
    "execution": {
     "iopub.execute_input": "2025-01-06T18:17:44.228656Z",
     "iopub.status.busy": "2025-01-06T18:17:44.227776Z",
     "iopub.status.idle": "2025-01-06T18:38:48.576527Z",
     "shell.execute_reply": "2025-01-06T18:38:48.575068Z",
     "shell.execute_reply.started": "2025-01-06T18:17:44.228615Z"
    }
   },
   "outputs": [
    {
     "name": "stdout",
     "output_type": "stream",
     "text": [
      "CPU times: user 20min 55s, sys: 2.7 s, total: 20min 58s\n",
      "Wall time: 21min 4s\n"
     ]
    },
    {
     "data": {
      "text/plain": [
       "{'model__max_depth': 12, 'model__n_estimators': 30, 'model__random_state': 13}"
      ]
     },
     "execution_count": 144,
     "metadata": {},
     "output_type": "execute_result"
    }
   ],
   "source": [
    "%%time\n",
    "params_rf = {\n",
    "    'model__n_estimators': [10, 20, 30],\n",
    "    'model__max_depth': [4, 6, 10, 12],\n",
    "    'model__random_state': [13]\n",
    "}\n",
    "\n",
    "grid_rf = GridSearchCV(pipeline_rf, param_grid=params_rf, cv=5, scoring='neg_mean_squared_error').fit(features_train, target_train) \n",
    "grid_rf.best_params_"
   ]
  },
  {
   "cell_type": "code",
   "execution_count": 146,
   "metadata": {
    "execution": {
     "iopub.execute_input": "2025-01-06T18:41:15.839041Z",
     "iopub.status.busy": "2025-01-06T18:41:15.838527Z",
     "iopub.status.idle": "2025-01-06T18:41:18.447065Z",
     "shell.execute_reply": "2025-01-06T18:41:18.445726Z",
     "shell.execute_reply.started": "2025-01-06T18:41:15.839005Z"
    }
   },
   "outputs": [
    {
     "name": "stdout",
     "output_type": "stream",
     "text": [
      "RMSE: 4212.21\n",
      "R2: 0.83\n",
      "MAE: 2280.3\n"
     ]
    }
   ],
   "source": [
    "rmse_rf = np.sqrt(np.abs(best_score_rf)).round(2)\n",
    "predicted_rf = grid_rf.predict(features_train) \n",
    "r2_rf = r2_score(target_train, predicted_rf).round(2)\n",
    "mae_rf = mean_absolute_error(target_train, predicted_rf).round(2)\n",
    "print(\"RMSE:\", rmse_rf)\n",
    "print('R2:', r2_rf)\n",
    "print('MAE:', mae_rf)"
   ]
  },
  {
   "cell_type": "markdown",
   "metadata": {},
   "source": [
    "**Модель Линейная регрессия**"
   ]
  },
  {
   "cell_type": "code",
   "execution_count": 147,
   "metadata": {
    "execution": {
     "iopub.execute_input": "2025-01-06T18:41:20.721329Z",
     "iopub.status.busy": "2025-01-06T18:41:20.720284Z",
     "iopub.status.idle": "2025-01-06T18:41:20.726601Z",
     "shell.execute_reply": "2025-01-06T18:41:20.725324Z",
     "shell.execute_reply.started": "2025-01-06T18:41:20.721269Z"
    }
   },
   "outputs": [],
   "source": [
    "model_lr = LinearRegression()\n",
    "pipeline_lr = make_pipeline(col_transformer_ohe, model_lr)\n",
    "#sorted(pipeline_lr.get_params().keys())"
   ]
  },
  {
   "cell_type": "code",
   "execution_count": 148,
   "metadata": {
    "execution": {
     "iopub.execute_input": "2025-01-06T18:41:23.085409Z",
     "iopub.status.busy": "2025-01-06T18:41:23.084975Z",
     "iopub.status.idle": "2025-01-06T19:27:54.807069Z",
     "shell.execute_reply": "2025-01-06T19:27:54.799993Z",
     "shell.execute_reply.started": "2025-01-06T18:41:23.085372Z"
    }
   },
   "outputs": [
    {
     "name": "stderr",
     "output_type": "stream",
     "text": [
      "/opt/conda/lib/python3.7/site-packages/sklearn/preprocessing/_encoders.py:174: UserWarning: Found unknown categories in columns [0, 1] during transform. These unknown categories will be encoded as all zeros\n",
      "  UserWarning,\n",
      "/opt/conda/lib/python3.7/site-packages/sklearn/preprocessing/_encoders.py:174: UserWarning: Found unknown categories in columns [0, 1] during transform. These unknown categories will be encoded as all zeros\n",
      "  UserWarning,\n",
      "/opt/conda/lib/python3.7/site-packages/sklearn/preprocessing/_encoders.py:174: UserWarning: Found unknown categories in columns [0, 1] during transform. These unknown categories will be encoded as all zeros\n",
      "  UserWarning,\n",
      "/opt/conda/lib/python3.7/site-packages/sklearn/preprocessing/_encoders.py:174: UserWarning: Found unknown categories in columns [0, 1] during transform. These unknown categories will be encoded as all zeros\n",
      "  UserWarning,\n",
      "/opt/conda/lib/python3.7/site-packages/sklearn/preprocessing/_encoders.py:174: UserWarning: Found unknown categories in columns [0, 1] during transform. These unknown categories will be encoded as all zeros\n",
      "  UserWarning,\n",
      "/opt/conda/lib/python3.7/site-packages/sklearn/preprocessing/_encoders.py:174: UserWarning: Found unknown categories in columns [0, 1] during transform. These unknown categories will be encoded as all zeros\n",
      "  UserWarning,\n",
      "/opt/conda/lib/python3.7/site-packages/sklearn/preprocessing/_encoders.py:174: UserWarning: Found unknown categories in columns [0, 1] during transform. These unknown categories will be encoded as all zeros\n",
      "  UserWarning,\n",
      "/opt/conda/lib/python3.7/site-packages/sklearn/preprocessing/_encoders.py:174: UserWarning: Found unknown categories in columns [0, 1] during transform. These unknown categories will be encoded as all zeros\n",
      "  UserWarning,\n",
      "/opt/conda/lib/python3.7/site-packages/sklearn/preprocessing/_encoders.py:174: UserWarning: Found unknown categories in columns [0, 1] during transform. These unknown categories will be encoded as all zeros\n",
      "  UserWarning,\n",
      "/opt/conda/lib/python3.7/site-packages/sklearn/preprocessing/_encoders.py:174: UserWarning: Found unknown categories in columns [0, 1] during transform. These unknown categories will be encoded as all zeros\n",
      "  UserWarning,\n",
      "/opt/conda/lib/python3.7/site-packages/sklearn/preprocessing/_encoders.py:174: UserWarning: Found unknown categories in columns [0, 1] during transform. These unknown categories will be encoded as all zeros\n",
      "  UserWarning,\n",
      "/opt/conda/lib/python3.7/site-packages/sklearn/preprocessing/_encoders.py:174: UserWarning: Found unknown categories in columns [0, 1] during transform. These unknown categories will be encoded as all zeros\n",
      "  UserWarning,\n",
      "/opt/conda/lib/python3.7/site-packages/sklearn/preprocessing/_encoders.py:174: UserWarning: Found unknown categories in columns [0, 1] during transform. These unknown categories will be encoded as all zeros\n",
      "  UserWarning,\n",
      "/opt/conda/lib/python3.7/site-packages/sklearn/preprocessing/_encoders.py:174: UserWarning: Found unknown categories in columns [0, 1] during transform. These unknown categories will be encoded as all zeros\n",
      "  UserWarning,\n",
      "/opt/conda/lib/python3.7/site-packages/sklearn/preprocessing/_encoders.py:174: UserWarning: Found unknown categories in columns [0, 1] during transform. These unknown categories will be encoded as all zeros\n",
      "  UserWarning,\n",
      "/opt/conda/lib/python3.7/site-packages/sklearn/preprocessing/_encoders.py:174: UserWarning: Found unknown categories in columns [0, 1] during transform. These unknown categories will be encoded as all zeros\n",
      "  UserWarning,\n",
      "/opt/conda/lib/python3.7/site-packages/sklearn/preprocessing/_encoders.py:174: UserWarning: Found unknown categories in columns [0, 1] during transform. These unknown categories will be encoded as all zeros\n",
      "  UserWarning,\n",
      "/opt/conda/lib/python3.7/site-packages/sklearn/preprocessing/_encoders.py:174: UserWarning: Found unknown categories in columns [0, 1] during transform. These unknown categories will be encoded as all zeros\n",
      "  UserWarning,\n",
      "/opt/conda/lib/python3.7/site-packages/sklearn/preprocessing/_encoders.py:174: UserWarning: Found unknown categories in columns [0, 1] during transform. These unknown categories will be encoded as all zeros\n",
      "  UserWarning,\n",
      "/opt/conda/lib/python3.7/site-packages/sklearn/preprocessing/_encoders.py:174: UserWarning: Found unknown categories in columns [0, 1] during transform. These unknown categories will be encoded as all zeros\n",
      "  UserWarning,\n"
     ]
    },
    {
     "name": "stdout",
     "output_type": "stream",
     "text": [
      "CPU times: user 1h 35min 5s, sys: 1h 22min 27s, total: 2h 57min 32s\n",
      "Wall time: 46min 31s\n"
     ]
    },
    {
     "data": {
      "text/plain": [
       "{'linearregression__copy_X': True, 'linearregression__fit_intercept': True}"
      ]
     },
     "execution_count": 148,
     "metadata": {},
     "output_type": "execute_result"
    }
   ],
   "source": [
    "%%time\n",
    "params_lr = {\n",
    "    'linearregression__fit_intercept':[True, False],\n",
    "    'linearregression__copy_X':[True, False]\n",
    "}\n",
    "\n",
    "grid_lr = GridSearchCV(pipeline_lr, param_grid=params_lr, cv=5, scoring='neg_mean_squared_error').fit(features_train, target_train) \n",
    "grid_lr.best_params_"
   ]
  },
  {
   "cell_type": "code",
   "execution_count": 149,
   "metadata": {
    "execution": {
     "iopub.execute_input": "2025-01-06T19:44:27.850111Z",
     "iopub.status.busy": "2025-01-06T19:44:27.849594Z",
     "iopub.status.idle": "2025-01-06T19:44:29.567439Z",
     "shell.execute_reply": "2025-01-06T19:44:29.566044Z",
     "shell.execute_reply.started": "2025-01-06T19:44:27.850070Z"
    }
   },
   "outputs": [
    {
     "name": "stdout",
     "output_type": "stream",
     "text": [
      "RMSE: 3302.76\n",
      "R2: 0.89\n",
      "MAE: 2056.55\n"
     ]
    }
   ],
   "source": [
    "rmse_lr = np.sqrt(np.abs(best_score_lr)).round(2)\n",
    "predicted_lr = grid_lr.predict(features_train) \n",
    "r2_lr = r2_score(target_train, predicted_lr).round(2)\n",
    "mae_lr = mean_absolute_error(target_train, predicted_lr).round(2)\n",
    "print(\"RMSE:\", rmse_lr)\n",
    "print('R2:', r2_lr)\n",
    "print('MAE:', mae_lr)"
   ]
  },
  {
   "cell_type": "code",
   "execution_count": 150,
   "metadata": {
    "execution": {
     "iopub.execute_input": "2025-01-06T19:44:31.801190Z",
     "iopub.status.busy": "2025-01-06T19:44:31.800802Z",
     "iopub.status.idle": "2025-01-06T19:44:31.820689Z",
     "shell.execute_reply": "2025-01-06T19:44:31.819408Z",
     "shell.execute_reply.started": "2025-01-06T19:44:31.801156Z"
    }
   },
   "outputs": [
    {
     "data": {
      "text/html": [
       "<div>\n",
       "<style scoped>\n",
       "    .dataframe tbody tr th:only-of-type {\n",
       "        vertical-align: middle;\n",
       "    }\n",
       "\n",
       "    .dataframe tbody tr th {\n",
       "        vertical-align: top;\n",
       "    }\n",
       "\n",
       "    .dataframe thead th {\n",
       "        text-align: right;\n",
       "    }\n",
       "</style>\n",
       "<table border=\"1\" class=\"dataframe\">\n",
       "  <thead>\n",
       "    <tr style=\"text-align: right;\">\n",
       "      <th></th>\n",
       "      <th>Метрики</th>\n",
       "      <th>Решающее дерево</th>\n",
       "      <th>Случайный лес</th>\n",
       "      <th>Линейная регрессия</th>\n",
       "    </tr>\n",
       "  </thead>\n",
       "  <tbody>\n",
       "    <tr>\n",
       "      <th>0</th>\n",
       "      <td>RMSE</td>\n",
       "      <td>5225.72</td>\n",
       "      <td>4212.21</td>\n",
       "      <td>3302.76</td>\n",
       "    </tr>\n",
       "    <tr>\n",
       "      <th>1</th>\n",
       "      <td>R2</td>\n",
       "      <td>0.72</td>\n",
       "      <td>0.83</td>\n",
       "      <td>0.89</td>\n",
       "    </tr>\n",
       "    <tr>\n",
       "      <th>2</th>\n",
       "      <td>MAE</td>\n",
       "      <td>3215.12</td>\n",
       "      <td>2280.30</td>\n",
       "      <td>2056.55</td>\n",
       "    </tr>\n",
       "  </tbody>\n",
       "</table>\n",
       "</div>"
      ],
      "text/plain": [
       "  Метрики  Решающее дерево  Случайный лес  Линейная регрессия\n",
       "0    RMSE          5225.72        4212.21             3302.76\n",
       "1      R2             0.72           0.83                0.89\n",
       "2     MAE          3215.12        2280.30             2056.55"
      ]
     },
     "execution_count": 150,
     "metadata": {},
     "output_type": "execute_result"
    }
   ],
   "source": [
    "tab_comp = pd.DataFrame(\n",
    "    data=[('RMSE', rmse_dt, rmse_rf, rmse_lr), \n",
    "          ('R2', r2_dt, r2_rf, r2_lr),\n",
    "          ('MAE', mae_dt, mae_rf, mae_lr)      \n",
    "         ], \n",
    "    columns=['Метрики', 'Решающее дерево', 'Случайный лес', 'Линейная регрессия'])\n",
    "\n",
    "tab_comp"
   ]
  },
  {
   "cell_type": "markdown",
   "metadata": {},
   "source": [
    "Лучше всех себя показала модель линейной регрессии. По всем выбранным метрикам эта модель оказалась лучшей. Проверим ее на тестовой модели. "
   ]
  },
  {
   "cell_type": "markdown",
   "metadata": {},
   "source": [
    "# Проверка на тестовой модели (подготовка файла для загрузки)"
   ]
  },
  {
   "cell_type": "code",
   "execution_count": 151,
   "metadata": {
    "execution": {
     "iopub.execute_input": "2025-01-06T19:44:52.030192Z",
     "iopub.status.busy": "2025-01-06T19:44:52.029165Z",
     "iopub.status.idle": "2025-01-06T19:44:52.420456Z",
     "shell.execute_reply": "2025-01-06T19:44:52.418846Z",
     "shell.execute_reply.started": "2025-01-06T19:44:52.030148Z"
    }
   },
   "outputs": [
    {
     "name": "stderr",
     "output_type": "stream",
     "text": [
      "/opt/conda/lib/python3.7/site-packages/sklearn/preprocessing/_encoders.py:174: UserWarning: Found unknown categories in columns [0, 1] during transform. These unknown categories will be encoded as all zeros\n",
      "  UserWarning,\n"
     ]
    }
   ],
   "source": [
    "predicted_best = grid_lr.predict(features_test)"
   ]
  },
  {
   "cell_type": "code",
   "execution_count": 152,
   "metadata": {
    "execution": {
     "iopub.execute_input": "2025-01-06T19:44:55.047817Z",
     "iopub.status.busy": "2025-01-06T19:44:55.047343Z",
     "iopub.status.idle": "2025-01-06T19:44:55.054854Z",
     "shell.execute_reply": "2025-01-06T19:44:55.053421Z",
     "shell.execute_reply.started": "2025-01-06T19:44:55.047782Z"
    }
   },
   "outputs": [],
   "source": [
    "df_test['sellingprice'] = predicted_best # добавим колонку sellingprice"
   ]
  },
  {
   "cell_type": "code",
   "execution_count": 153,
   "metadata": {
    "execution": {
     "iopub.execute_input": "2025-01-06T19:44:58.496559Z",
     "iopub.status.busy": "2025-01-06T19:44:58.496125Z",
     "iopub.status.idle": "2025-01-06T19:44:58.515606Z",
     "shell.execute_reply": "2025-01-06T19:44:58.514270Z",
     "shell.execute_reply.started": "2025-01-06T19:44:58.496521Z"
    }
   },
   "outputs": [
    {
     "data": {
      "text/html": [
       "<div>\n",
       "<style scoped>\n",
       "    .dataframe tbody tr th:only-of-type {\n",
       "        vertical-align: middle;\n",
       "    }\n",
       "\n",
       "    .dataframe tbody tr th {\n",
       "        vertical-align: top;\n",
       "    }\n",
       "\n",
       "    .dataframe thead th {\n",
       "        text-align: right;\n",
       "    }\n",
       "</style>\n",
       "<table border=\"1\" class=\"dataframe\">\n",
       "  <thead>\n",
       "    <tr style=\"text-align: right;\">\n",
       "      <th></th>\n",
       "      <th>model</th>\n",
       "      <th>trim</th>\n",
       "      <th>body</th>\n",
       "      <th>transmission</th>\n",
       "      <th>vin</th>\n",
       "      <th>state</th>\n",
       "      <th>condition</th>\n",
       "      <th>odometer</th>\n",
       "      <th>color</th>\n",
       "      <th>interior</th>\n",
       "      <th>car_age</th>\n",
       "      <th>sellingprice</th>\n",
       "    </tr>\n",
       "  </thead>\n",
       "  <tbody>\n",
       "    <tr>\n",
       "      <th>0</th>\n",
       "      <td>CTS</td>\n",
       "      <td>Base</td>\n",
       "      <td>Sedan</td>\n",
       "      <td>automatic</td>\n",
       "      <td>1g6dp567450124779</td>\n",
       "      <td>ca</td>\n",
       "      <td>2.7</td>\n",
       "      <td>116970</td>\n",
       "      <td>silver</td>\n",
       "      <td>black</td>\n",
       "      <td>10</td>\n",
       "      <td>4821.141180</td>\n",
       "    </tr>\n",
       "    <tr>\n",
       "      <th>1</th>\n",
       "      <td>Savana Cargo</td>\n",
       "      <td>2500</td>\n",
       "      <td>Van</td>\n",
       "      <td>other</td>\n",
       "      <td>1gtw7fca7e1902207</td>\n",
       "      <td>pa</td>\n",
       "      <td>4.4</td>\n",
       "      <td>6286</td>\n",
       "      <td>white</td>\n",
       "      <td>gray</td>\n",
       "      <td>1</td>\n",
       "      <td>21279.357761</td>\n",
       "    </tr>\n",
       "    <tr>\n",
       "      <th>2</th>\n",
       "      <td>Murano</td>\n",
       "      <td>S</td>\n",
       "      <td>Suv</td>\n",
       "      <td>automatic</td>\n",
       "      <td>jn8az1mw6dw303497</td>\n",
       "      <td>oh</td>\n",
       "      <td>4.6</td>\n",
       "      <td>11831</td>\n",
       "      <td>gray</td>\n",
       "      <td>black</td>\n",
       "      <td>2</td>\n",
       "      <td>20365.700205</td>\n",
       "    </tr>\n",
       "    <tr>\n",
       "      <th>3</th>\n",
       "      <td>Impala</td>\n",
       "      <td>LS Fleet</td>\n",
       "      <td>Sedan</td>\n",
       "      <td>automatic</td>\n",
       "      <td>2g1wf5e34d1160703</td>\n",
       "      <td>fl</td>\n",
       "      <td>2.3</td>\n",
       "      <td>57105</td>\n",
       "      <td>silver</td>\n",
       "      <td>black</td>\n",
       "      <td>2</td>\n",
       "      <td>9021.957315</td>\n",
       "    </tr>\n",
       "    <tr>\n",
       "      <th>4</th>\n",
       "      <td>Titan</td>\n",
       "      <td>SV</td>\n",
       "      <td>Cab</td>\n",
       "      <td>automatic</td>\n",
       "      <td>1n6aa0ec3dn301209</td>\n",
       "      <td>tn</td>\n",
       "      <td>2.9</td>\n",
       "      <td>31083</td>\n",
       "      <td>black</td>\n",
       "      <td>black</td>\n",
       "      <td>2</td>\n",
       "      <td>20826.470816</td>\n",
       "    </tr>\n",
       "  </tbody>\n",
       "</table>\n",
       "</div>"
      ],
      "text/plain": [
       "          model      trim   body transmission                vin state  \\\n",
       "0           CTS      Base  Sedan    automatic  1g6dp567450124779    ca   \n",
       "1  Savana Cargo      2500    Van        other  1gtw7fca7e1902207    pa   \n",
       "2        Murano         S    Suv    automatic  jn8az1mw6dw303497    oh   \n",
       "3        Impala  LS Fleet  Sedan    automatic  2g1wf5e34d1160703    fl   \n",
       "4         Titan        SV    Cab    automatic  1n6aa0ec3dn301209    tn   \n",
       "\n",
       "   condition  odometer   color interior  car_age  sellingprice  \n",
       "0        2.7    116970  silver    black       10   4821.141180  \n",
       "1        4.4      6286   white     gray        1  21279.357761  \n",
       "2        4.6     11831    gray    black        2  20365.700205  \n",
       "3        2.3     57105  silver    black        2   9021.957315  \n",
       "4        2.9     31083   black    black        2  20826.470816  "
      ]
     },
     "execution_count": 153,
     "metadata": {},
     "output_type": "execute_result"
    }
   ],
   "source": [
    "df_test.head(5)"
   ]
  },
  {
   "cell_type": "code",
   "execution_count": 154,
   "metadata": {
    "execution": {
     "iopub.execute_input": "2025-01-06T19:45:01.614073Z",
     "iopub.status.busy": "2025-01-06T19:45:01.613628Z",
     "iopub.status.idle": "2025-01-06T19:45:01.629197Z",
     "shell.execute_reply": "2025-01-06T19:45:01.627529Z",
     "shell.execute_reply.started": "2025-01-06T19:45:01.614034Z"
    }
   },
   "outputs": [],
   "source": [
    "test_prediction = df_test[['vin', 'sellingprice']]"
   ]
  },
  {
   "cell_type": "code",
   "execution_count": 155,
   "metadata": {
    "execution": {
     "iopub.execute_input": "2025-01-06T19:45:03.983702Z",
     "iopub.status.busy": "2025-01-06T19:45:03.982770Z",
     "iopub.status.idle": "2025-01-06T19:45:04.013940Z",
     "shell.execute_reply": "2025-01-06T19:45:04.012577Z",
     "shell.execute_reply.started": "2025-01-06T19:45:03.983579Z"
    }
   },
   "outputs": [],
   "source": [
    "test_prediction = test_prediction.query('vin != \"4s2cm58v9s4375559\" and vin != \"1ftne2ew6eda13643\"')"
   ]
  },
  {
   "cell_type": "code",
   "execution_count": 156,
   "metadata": {
    "execution": {
     "iopub.execute_input": "2025-01-06T19:45:06.112395Z",
     "iopub.status.busy": "2025-01-06T19:45:06.111916Z",
     "iopub.status.idle": "2025-01-06T19:45:06.124465Z",
     "shell.execute_reply": "2025-01-06T19:45:06.123102Z",
     "shell.execute_reply.started": "2025-01-06T19:45:06.112353Z"
    }
   },
   "outputs": [
    {
     "data": {
      "text/html": [
       "<div>\n",
       "<style scoped>\n",
       "    .dataframe tbody tr th:only-of-type {\n",
       "        vertical-align: middle;\n",
       "    }\n",
       "\n",
       "    .dataframe tbody tr th {\n",
       "        vertical-align: top;\n",
       "    }\n",
       "\n",
       "    .dataframe thead th {\n",
       "        text-align: right;\n",
       "    }\n",
       "</style>\n",
       "<table border=\"1\" class=\"dataframe\">\n",
       "  <thead>\n",
       "    <tr style=\"text-align: right;\">\n",
       "      <th></th>\n",
       "      <th>vin</th>\n",
       "      <th>sellingprice</th>\n",
       "    </tr>\n",
       "  </thead>\n",
       "  <tbody>\n",
       "    <tr>\n",
       "      <th>0</th>\n",
       "      <td>1g6dp567450124779</td>\n",
       "      <td>4821.141180</td>\n",
       "    </tr>\n",
       "    <tr>\n",
       "      <th>1</th>\n",
       "      <td>1gtw7fca7e1902207</td>\n",
       "      <td>21279.357761</td>\n",
       "    </tr>\n",
       "    <tr>\n",
       "      <th>2</th>\n",
       "      <td>jn8az1mw6dw303497</td>\n",
       "      <td>20365.700205</td>\n",
       "    </tr>\n",
       "    <tr>\n",
       "      <th>3</th>\n",
       "      <td>2g1wf5e34d1160703</td>\n",
       "      <td>9021.957315</td>\n",
       "    </tr>\n",
       "    <tr>\n",
       "      <th>4</th>\n",
       "      <td>1n6aa0ec3dn301209</td>\n",
       "      <td>20826.470816</td>\n",
       "    </tr>\n",
       "  </tbody>\n",
       "</table>\n",
       "</div>"
      ],
      "text/plain": [
       "                 vin  sellingprice\n",
       "0  1g6dp567450124779   4821.141180\n",
       "1  1gtw7fca7e1902207  21279.357761\n",
       "2  jn8az1mw6dw303497  20365.700205\n",
       "3  2g1wf5e34d1160703   9021.957315\n",
       "4  1n6aa0ec3dn301209  20826.470816"
      ]
     },
     "execution_count": 156,
     "metadata": {},
     "output_type": "execute_result"
    }
   ],
   "source": [
    "test_prediction.head()"
   ]
  },
  {
   "cell_type": "code",
   "execution_count": 157,
   "metadata": {
    "execution": {
     "iopub.execute_input": "2025-01-06T19:45:10.372201Z",
     "iopub.status.busy": "2025-01-06T19:45:10.371785Z",
     "iopub.status.idle": "2025-01-06T19:45:10.381912Z",
     "shell.execute_reply": "2025-01-06T19:45:10.379461Z",
     "shell.execute_reply.started": "2025-01-06T19:45:10.372165Z"
    }
   },
   "outputs": [
    {
     "data": {
      "text/plain": [
       "105619"
      ]
     },
     "execution_count": 157,
     "metadata": {},
     "output_type": "execute_result"
    }
   ],
   "source": [
    "len(test_prediction)"
   ]
  },
  {
   "cell_type": "code",
   "execution_count": 158,
   "metadata": {
    "execution": {
     "iopub.execute_input": "2025-01-06T19:45:12.583991Z",
     "iopub.status.busy": "2025-01-06T19:45:12.582989Z",
     "iopub.status.idle": "2025-01-06T19:45:12.889167Z",
     "shell.execute_reply": "2025-01-06T19:45:12.887896Z",
     "shell.execute_reply.started": "2025-01-06T19:45:12.583928Z"
    }
   },
   "outputs": [],
   "source": [
    "test_prediction.to_csv(\"test_prediction.csv\", index=False) "
   ]
  },
  {
   "cell_type": "markdown",
   "metadata": {},
   "source": [
    "**Вывод:** \n",
    "\n",
    "В ходе работы были исследованы данные, влияющие на цену машины. Выявлены закономерности и проведено тестирование трех моделей на данных. Лучше всех себя показала модель линейной регрессии по всем выбранным метрикам.\n",
    "\n",
    "Так как работа была выложена на Kaggle, я не имела возможности проверить сама работу модели на тестовой выборке. Метрика, которая была расчитана приложением Kaggle: MAPE = 54,18, что является не очень хорошим результатом. Могу предположить, что надо было больше обобщить данные о модели и виде кузова."
   ]
  }
 ],
 "metadata": {
  "kaggle": {
   "accelerator": "none",
   "dataSources": [
    {
     "databundleVersionId": 5509965,
     "sourceId": 51585,
     "sourceType": "competition"
    }
   ],
   "dockerImageVersionId": 30458,
   "isGpuEnabled": false,
   "isInternetEnabled": false,
   "language": "python",
   "sourceType": "notebook"
  },
  "kernelspec": {
   "display_name": "Python 3 (ipykernel)",
   "language": "python",
   "name": "python3"
  },
  "language_info": {
   "codemirror_mode": {
    "name": "ipython",
    "version": 3
   },
   "file_extension": ".py",
   "mimetype": "text/x-python",
   "name": "python",
   "nbconvert_exporter": "python",
   "pygments_lexer": "ipython3",
   "version": "3.11.4"
  }
 },
 "nbformat": 4,
 "nbformat_minor": 4
}
