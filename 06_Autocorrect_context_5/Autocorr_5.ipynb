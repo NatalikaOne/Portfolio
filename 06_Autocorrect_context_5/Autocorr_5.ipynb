{
  "nbformat": 4,
  "nbformat_minor": 0,
  "metadata": {
    "colab": {
      "provenance": []
    },
    "kernelspec": {
      "name": "python3",
      "display_name": "Python 3"
    },
    "language_info": {
      "name": "python"
    }
  },
  "cells": [
    {
      "cell_type": "markdown",
      "source": [
        "# Техническое задание 2\n",
        "\n",
        "**Тестирование автокорректоров, использующих контекстную корректировку слов.**\n",
        "\n",
        "Дополнить предыдущую работу: найти еще 3-4 наиболее популярных автокорректора, которые используют контекстную корректировку слов. Проверить, как они работают."
      ],
      "metadata": {
        "id": "i4cgrKJSBENk"
      }
    },
    {
      "cell_type": "markdown",
      "source": [
        "## План работы\n",
        "\n",
        "1. Найти библиотеки, которые используют контекстную корректировку слов.\n",
        "\n",
        "2. Подготовить и загрузить уже распознанные и эталонные файлы из задания 1.\n",
        "\n",
        "3. Автокоррекция текстов.\n",
        "\n",
        "  3.1. *Применение автокорректора:* Взять распознанный текст и применить к нему выбранные модели автокорректоров. Сохранить исправленный текст в отдельную переменную.\n",
        "\n",
        "  3.2. *Оценка результатов:* Сравнить эталонный текст с исправленным текстом. Оценить количество оставшихся ошибок после применения автокорректора, используя метрики WER и CER.\n",
        "\n",
        "4. Анализ и выводы\n",
        "Провести сравнительный анализ полученных результатов, включая автокорректоры из Задания 1 и сделать выводы о качестве работы автокорректоров."
      ],
      "metadata": {
        "id": "F9-GRMqmBRTN"
      }
    },
    {
      "cell_type": "markdown",
      "source": [
        "## **1. Библиотеки для контекстной коррекции**"
      ],
      "metadata": {
        "id": "Dc0uY_pre6WN"
      }
    },
    {
      "cell_type": "markdown",
      "source": [
        "Список библиотек контекстной коррекции\n",
        "\n",
        "| Библиотека    | Тип           | Описание |\n",
        "| ------------- | ------------- |----------|\n",
        "| JamSpell  | 🔹 ML-модель  |Контекстная коррекция на основе языковой модели, работает быстро|\n",
        "| SymSpell  | 🔹 Алгоритм  |Поддерживает контекстные исправления, но слабее, чем нейросети|\n",
        "| Hunspell |🔹 Правила | Используется в LibreOffice, проверяет морфологию и контекст|\n",
        "| LanguageTool|🔹 ML + Правила|Очень мощный, исправляет грамматику и орфографию (есть API)\n",
        "| DeepPavlov|🔹 Нейросеть|Основан на трансформерах, хорошо понимает контекст|\n",
        "| Aspell|🔹 Алгоритм|Поддерживает контекстные исправления, но ограничен словарями|\n",
        "| BERTSpell|🔹 Нейросеть (BERT)|Использует BERT для исправления ошибок в контексте (state-of-the-art)|\n",
        "| GECToR |🔹 Нейросеть (T5, RoBERTa)|Лучшая библиотека для грамматической и орфографической коррекции"
      ],
      "metadata": {
        "id": "RSyBFDBqfGR2"
      }
    },
    {
      "cell_type": "markdown",
      "source": [
        "Выберем из них 5 моделей: JamSpell, Aspell, LanguageTool, RU T5, RuM2M100-1.2B"
      ],
      "metadata": {
        "id": "ZTwGM25td0ua"
      }
    },
    {
      "cell_type": "markdown",
      "source": [
        "## **2. Загрузка файлов для исследования**"
      ],
      "metadata": {
        "id": "UeQ3k10jVN6Q"
      }
    },
    {
      "cell_type": "markdown",
      "source": [
        "**Установка библиотек**"
      ],
      "metadata": {
        "id": "rWsZLWSdU4E8"
      }
    },
    {
      "cell_type": "code",
      "source": [
        "pip install pytesseract pillow jiwer # установка библиотеки для вычисления метрик"
      ],
      "metadata": {
        "colab": {
          "base_uri": "https://localhost:8080/"
        },
        "id": "kXmhG628U3Rx",
        "outputId": "bec25e70-3907-4f52-fda7-8574dfd7dd27"
      },
      "execution_count": null,
      "outputs": [
        {
          "output_type": "stream",
          "name": "stdout",
          "text": [
            "Collecting pytesseract\n",
            "  Downloading pytesseract-0.3.13-py3-none-any.whl.metadata (11 kB)\n",
            "Requirement already satisfied: pillow in /usr/local/lib/python3.11/dist-packages (11.1.0)\n",
            "Collecting jiwer\n",
            "  Downloading jiwer-3.1.0-py3-none-any.whl.metadata (2.6 kB)\n",
            "Requirement already satisfied: packaging>=21.3 in /usr/local/lib/python3.11/dist-packages (from pytesseract) (24.2)\n",
            "Requirement already satisfied: click>=8.1.8 in /usr/local/lib/python3.11/dist-packages (from jiwer) (8.1.8)\n",
            "Collecting rapidfuzz>=3.9.7 (from jiwer)\n",
            "  Downloading rapidfuzz-3.12.1-cp311-cp311-manylinux_2_17_x86_64.manylinux2014_x86_64.whl.metadata (11 kB)\n",
            "Downloading pytesseract-0.3.13-py3-none-any.whl (14 kB)\n",
            "Downloading jiwer-3.1.0-py3-none-any.whl (22 kB)\n",
            "Downloading rapidfuzz-3.12.1-cp311-cp311-manylinux_2_17_x86_64.manylinux2014_x86_64.whl (3.1 MB)\n",
            "\u001b[2K   \u001b[90m━━━━━━━━━━━━━━━━━━━━━━━━━━━━━━━━━━━━━━━━\u001b[0m \u001b[32m3.1/3.1 MB\u001b[0m \u001b[31m47.7 MB/s\u001b[0m eta \u001b[36m0:00:00\u001b[0m\n",
            "\u001b[?25hInstalling collected packages: rapidfuzz, pytesseract, jiwer\n",
            "Successfully installed jiwer-3.1.0 pytesseract-0.3.13 rapidfuzz-3.12.1\n"
          ]
        }
      ]
    },
    {
      "cell_type": "code",
      "source": [
        "import pandas as pd\n",
        "import pytesseract\n",
        "import os\n",
        "import requests\n",
        "import subprocess\n",
        "import re\n",
        "import string\n",
        "import jiwer # библиотека для вычисления метрик\n",
        "from PIL import Image, ImageFilter\n",
        "from io import BytesIO"
      ],
      "metadata": {
        "id": "0qFaFkN0U3Ui"
      },
      "execution_count": null,
      "outputs": []
    },
    {
      "cell_type": "markdown",
      "source": [
        "Для JamSpell"
      ],
      "metadata": {
        "id": "ljZsqpuxRvDD"
      }
    },
    {
      "cell_type": "code",
      "metadata": {
        "id": "CZJKcGFUXboA",
        "outputId": "98bf153c-a828-4825-9f42-3eadf3332c7b",
        "colab": {
          "base_uri": "https://localhost:8080/"
        }
      },
      "source": [
        "!!sudo apt-get install swig3.0 # для JamSpell"
      ],
      "execution_count": null,
      "outputs": [
        {
          "output_type": "execute_result",
          "data": {
            "text/plain": [
              "['',\n",
              " 'Reading package lists... 0%',\n",
              " '',\n",
              " 'Reading package lists... 0%',\n",
              " '',\n",
              " 'Reading package lists... 0%',\n",
              " '',\n",
              " 'Reading package lists... 3%',\n",
              " '',\n",
              " 'Reading package lists... 3%',\n",
              " '',\n",
              " 'Reading package lists... 4%',\n",
              " '',\n",
              " 'Reading package lists... 4%',\n",
              " '',\n",
              " 'Reading package lists... 28%',\n",
              " '',\n",
              " 'Reading package lists... 38%',\n",
              " '',\n",
              " 'Reading package lists... 38%',\n",
              " '',\n",
              " 'Reading package lists... 38%',\n",
              " '',\n",
              " 'Reading package lists... 38%',\n",
              " '',\n",
              " 'Reading package lists... 45%',\n",
              " '',\n",
              " 'Reading package lists... 45%',\n",
              " '',\n",
              " 'Reading package lists... 55%',\n",
              " '',\n",
              " 'Reading package lists... 55%',\n",
              " '',\n",
              " 'Reading package lists... 56%',\n",
              " '',\n",
              " 'Reading package lists... 58%',\n",
              " '',\n",
              " 'Reading package lists... 58%',\n",
              " '',\n",
              " 'Reading package lists... 58%',\n",
              " '',\n",
              " 'Reading package lists... 58%',\n",
              " '',\n",
              " 'Reading package lists... 59%',\n",
              " '',\n",
              " 'Reading package lists... 59%',\n",
              " '',\n",
              " 'Reading package lists... 59%',\n",
              " '',\n",
              " 'Reading package lists... 59%',\n",
              " '',\n",
              " 'Reading package lists... 65%',\n",
              " '',\n",
              " 'Reading package lists... 65%',\n",
              " '',\n",
              " 'Reading package lists... 74%',\n",
              " '',\n",
              " 'Reading package lists... 74%',\n",
              " '',\n",
              " 'Reading package lists... 77%',\n",
              " '',\n",
              " 'Reading package lists... 77%',\n",
              " '',\n",
              " 'Reading package lists... 77%',\n",
              " '',\n",
              " 'Reading package lists... 77%',\n",
              " '',\n",
              " 'Reading package lists... 77%',\n",
              " '',\n",
              " 'Reading package lists... 77%',\n",
              " '',\n",
              " 'Reading package lists... 82%',\n",
              " '',\n",
              " 'Reading package lists... 82%',\n",
              " '',\n",
              " 'Reading package lists... 95%',\n",
              " '',\n",
              " 'Reading package lists... 95%',\n",
              " '',\n",
              " 'Reading package lists... 95%',\n",
              " '',\n",
              " 'Reading package lists... 98%',\n",
              " '',\n",
              " 'Reading package lists... 98%',\n",
              " '',\n",
              " 'Reading package lists... 98%',\n",
              " '',\n",
              " 'Reading package lists... 98%',\n",
              " '',\n",
              " 'Reading package lists... 99%',\n",
              " '',\n",
              " 'Reading package lists... 99%',\n",
              " '',\n",
              " 'Reading package lists... 99%',\n",
              " '',\n",
              " 'Reading package lists... 99%',\n",
              " '',\n",
              " 'Reading package lists... Done',\n",
              " '',\n",
              " 'Building dependency tree... 0%',\n",
              " '',\n",
              " 'Building dependency tree... 0%',\n",
              " '',\n",
              " 'Building dependency tree... 50%',\n",
              " '',\n",
              " 'Building dependency tree... 50%',\n",
              " '',\n",
              " 'Building dependency tree... Done',\n",
              " '',\n",
              " 'Reading state information... 0% ',\n",
              " '',\n",
              " 'Reading state information... 0%',\n",
              " '',\n",
              " 'Reading state information... Done',\n",
              " 'Suggested packages:',\n",
              " '  swig3.0-examples swig3.0-doc',\n",
              " 'The following NEW packages will be installed:',\n",
              " '  swig3.0',\n",
              " '0 upgraded, 1 newly installed, 0 to remove and 19 not upgraded.',\n",
              " 'Need to get 1,109 kB of archives.',\n",
              " 'After this operation, 5,555 kB of additional disk space will be used.',\n",
              " '',\n",
              " '0% [Working]',\n",
              " '            ',\n",
              " 'Get:1 http://archive.ubuntu.com/ubuntu jammy/universe amd64 swig3.0 amd64 3.0.12-2.2ubuntu1 [1,109 kB]',\n",
              " '',\n",
              " '1% [1 swig3.0 11.3 kB/1,109 kB 1%]',\n",
              " '                                  ',\n",
              " '100% [Working]',\n",
              " '              ',\n",
              " 'Fetched 1,109 kB in 0s (9,328 kB/s)',\n",
              " 'debconf: unable to initialize frontend: Dialog',\n",
              " 'debconf: (No usable dialog-like program is installed, so the dialog based frontend cannot be used. at /usr/share/perl5/Debconf/FrontEnd/Dialog.pm line 78, <> line 1.)',\n",
              " 'debconf: falling back to frontend: Readline',\n",
              " 'debconf: unable to initialize frontend: Readline',\n",
              " 'debconf: (This frontend requires a controlling tty.)',\n",
              " 'debconf: falling back to frontend: Teletype',\n",
              " 'dpkg-preconfigure: unable to re-open stdin: ',\n",
              " 'Selecting previously unselected package swig3.0.',\n",
              " '(Reading database ... ',\n",
              " '(Reading database ... 5%',\n",
              " '(Reading database ... 10%',\n",
              " '(Reading database ... 15%',\n",
              " '(Reading database ... 20%',\n",
              " '(Reading database ... 25%',\n",
              " '(Reading database ... 30%',\n",
              " '(Reading database ... 35%',\n",
              " '(Reading database ... 40%',\n",
              " '(Reading database ... 45%',\n",
              " '(Reading database ... 50%',\n",
              " '(Reading database ... 55%',\n",
              " '(Reading database ... 60%',\n",
              " '(Reading database ... 65%',\n",
              " '(Reading database ... 70%',\n",
              " '(Reading database ... 75%',\n",
              " '(Reading database ... 80%',\n",
              " '(Reading database ... 85%',\n",
              " '(Reading database ... 90%',\n",
              " '(Reading database ... 95%',\n",
              " '(Reading database ... 100%',\n",
              " '(Reading database ... 124926 files and directories currently installed.)',\n",
              " 'Preparing to unpack .../swig3.0_3.0.12-2.2ubuntu1_amd64.deb ...',\n",
              " 'Unpacking swig3.0 (3.0.12-2.2ubuntu1) ...',\n",
              " 'Setting up swig3.0 (3.0.12-2.2ubuntu1) ...',\n",
              " 'Processing triggers for man-db (2.10.2-1) ...']"
            ]
          },
          "metadata": {},
          "execution_count": 15
        }
      ]
    },
    {
      "cell_type": "code",
      "metadata": {
        "id": "aUmiFaYIXiWu",
        "outputId": "7911ea8a-0dbb-49c5-97d4-56f0d01a6e20",
        "colab": {
          "base_uri": "https://localhost:8080/"
        }
      },
      "source": [
        "!sudo pip install jamspell"
      ],
      "execution_count": null,
      "outputs": [
        {
          "output_type": "stream",
          "name": "stdout",
          "text": [
            "Collecting jamspell\n",
            "  Downloading jamspell-0.0.12.tar.gz (174 kB)\n",
            "\u001b[?25l     \u001b[90m━━━━━━━━━━━━━━━━━━━━━━━━━━━━━━━━━━━━━━━━\u001b[0m \u001b[32m0.0/174.3 kB\u001b[0m \u001b[31m?\u001b[0m eta \u001b[36m-:--:--\u001b[0m\r\u001b[2K     \u001b[90m━━━━━━━━━━━━━━━━━━━━━━━━━━━━━━━━━━━━━━━\u001b[0m \u001b[32m174.3/174.3 kB\u001b[0m \u001b[31m7.3 MB/s\u001b[0m eta \u001b[36m0:00:00\u001b[0m\n",
            "\u001b[?25h  Preparing metadata (setup.py) ... \u001b[?25l\u001b[?25hdone\n",
            "Building wheels for collected packages: jamspell\n",
            "  Building wheel for jamspell (setup.py) ... \u001b[?25l\u001b[?25hdone\n",
            "  Created wheel for jamspell: filename=jamspell-0.0.12-cp311-cp311-linux_x86_64.whl size=1785475 sha256=05d3205bbb8f8908cc7df0f9c6185796ff64cbbf287e9389fef1d6c99eac9e42\n",
            "  Stored in directory: /root/.cache/pip/wheels/2c/f7/b1/1314c3a8f44a8e2bbe9f90b2ae05c404068f797b7681e1163b\n",
            "Successfully built jamspell\n",
            "Installing collected packages: jamspell\n",
            "Successfully installed jamspell-0.0.12\n"
          ]
        }
      ]
    },
    {
      "cell_type": "code",
      "source": [
        "!wget -O ru.bin https://github.com/bakwc/JamSpell-models/raw/master/ru.tar.gz\n",
        "!tar -xzf ru.bin || echo \"Ошибка: файл ru.bin не распакован\""
      ],
      "metadata": {
        "colab": {
          "base_uri": "https://localhost:8080/"
        },
        "id": "Uce4XpUSLESa",
        "outputId": "5105afec-ae7b-4dcc-b146-0fc061e4fd16"
      },
      "execution_count": null,
      "outputs": [
        {
          "output_type": "stream",
          "name": "stdout",
          "text": [
            "--2025-02-09 17:11:45--  https://github.com/bakwc/JamSpell-models/raw/master/ru.tar.gz\n",
            "Resolving github.com (github.com)... 140.82.121.4\n",
            "Connecting to github.com (github.com)|140.82.121.4|:443... connected.\n",
            "HTTP request sent, awaiting response... 302 Found\n",
            "Location: https://raw.githubusercontent.com/bakwc/JamSpell-models/master/ru.tar.gz [following]\n",
            "--2025-02-09 17:11:46--  https://raw.githubusercontent.com/bakwc/JamSpell-models/master/ru.tar.gz\n",
            "Resolving raw.githubusercontent.com (raw.githubusercontent.com)... 185.199.108.133, 185.199.109.133, 185.199.110.133, ...\n",
            "Connecting to raw.githubusercontent.com (raw.githubusercontent.com)|185.199.108.133|:443... connected.\n",
            "HTTP request sent, awaiting response... 200 OK\n",
            "Length: 39663667 (38M) [application/octet-stream]\n",
            "Saving to: ‘ru.bin’\n",
            "\n",
            "ru.bin              100%[===================>]  37.83M   116MB/s    in 0.3s    \n",
            "\n",
            "2025-02-09 17:11:48 (116 MB/s) - ‘ru.bin’ saved [39663667/39663667]\n",
            "\n"
          ]
        }
      ]
    },
    {
      "cell_type": "code",
      "source": [
        "import jamspell"
      ],
      "metadata": {
        "id": "PLZATR_E-Y9c"
      },
      "execution_count": null,
      "outputs": []
    },
    {
      "cell_type": "markdown",
      "source": [
        "Для Aspell"
      ],
      "metadata": {
        "id": "paG4kNEgSCi1"
      }
    },
    {
      "cell_type": "code",
      "source": [
        "!sudo apt-get install aspell aspell-ru -y"
      ],
      "metadata": {
        "colab": {
          "base_uri": "https://localhost:8080/"
        },
        "id": "kToe_of4dnHe",
        "outputId": "89231590-4147-40de-a6fb-903ec0ef5fdc"
      },
      "execution_count": null,
      "outputs": [
        {
          "output_type": "stream",
          "name": "stdout",
          "text": [
            "Reading package lists... Done\n",
            "Building dependency tree... Done\n",
            "Reading state information... Done\n",
            "The following additional packages will be installed:\n",
            "  dictionaries-common libaspell15 libtext-iconv-perl\n",
            "Suggested packages:\n",
            "  aspell-doc spellutils wordlist\n",
            "The following NEW packages will be installed:\n",
            "  aspell aspell-ru dictionaries-common libaspell15 libtext-iconv-perl\n",
            "0 upgraded, 5 newly installed, 0 to remove and 19 not upgraded.\n",
            "Need to get 947 kB of archives.\n",
            "After this operation, 3,799 kB of additional disk space will be used.\n",
            "Get:1 http://archive.ubuntu.com/ubuntu jammy/main amd64 libtext-iconv-perl amd64 1.7-7build3 [14.3 kB]\n",
            "Get:2 http://archive.ubuntu.com/ubuntu jammy/main amd64 libaspell15 amd64 0.60.8-4build1 [325 kB]\n",
            "Get:3 http://archive.ubuntu.com/ubuntu jammy/main amd64 dictionaries-common all 1.28.14 [185 kB]\n",
            "Get:4 http://archive.ubuntu.com/ubuntu jammy/main amd64 aspell amd64 0.60.8-4build1 [87.7 kB]\n",
            "Get:5 http://archive.ubuntu.com/ubuntu jammy/universe amd64 aspell-ru all 0.99g5-28 [335 kB]\n",
            "Fetched 947 kB in 0s (6,771 kB/s)\n",
            "debconf: unable to initialize frontend: Dialog\n",
            "debconf: (No usable dialog-like program is installed, so the dialog based frontend cannot be used. at /usr/share/perl5/Debconf/FrontEnd/Dialog.pm line 78, <> line 5.)\n",
            "debconf: falling back to frontend: Readline\n",
            "debconf: unable to initialize frontend: Readline\n",
            "debconf: (This frontend requires a controlling tty.)\n",
            "debconf: falling back to frontend: Teletype\n",
            "dpkg-preconfigure: unable to re-open stdin: \n",
            "Selecting previously unselected package libtext-iconv-perl.\n",
            "(Reading database ... 125712 files and directories currently installed.)\n",
            "Preparing to unpack .../libtext-iconv-perl_1.7-7build3_amd64.deb ...\n",
            "Unpacking libtext-iconv-perl (1.7-7build3) ...\n",
            "Selecting previously unselected package libaspell15:amd64.\n",
            "Preparing to unpack .../libaspell15_0.60.8-4build1_amd64.deb ...\n",
            "Unpacking libaspell15:amd64 (0.60.8-4build1) ...\n",
            "Selecting previously unselected package dictionaries-common.\n",
            "Preparing to unpack .../dictionaries-common_1.28.14_all.deb ...\n",
            "Adding 'diversion of /usr/share/dict/words to /usr/share/dict/words.pre-dictionaries-common by dictionaries-common'\n",
            "Unpacking dictionaries-common (1.28.14) ...\n",
            "Selecting previously unselected package aspell.\n",
            "Preparing to unpack .../aspell_0.60.8-4build1_amd64.deb ...\n",
            "Unpacking aspell (0.60.8-4build1) ...\n",
            "Selecting previously unselected package aspell-ru.\n",
            "Preparing to unpack .../aspell-ru_0.99g5-28_all.deb ...\n",
            "Unpacking aspell-ru (0.99g5-28) ...\n",
            "Setting up libtext-iconv-perl (1.7-7build3) ...\n",
            "Setting up dictionaries-common (1.28.14) ...\n",
            "debconf: unable to initialize frontend: Dialog\n",
            "debconf: (No usable dialog-like program is installed, so the dialog based frontend cannot be used. at /usr/share/perl5/Debconf/FrontEnd/Dialog.pm line 78.)\n",
            "debconf: falling back to frontend: Readline\n",
            "Setting up libaspell15:amd64 (0.60.8-4build1) ...\n",
            "Setting up aspell (0.60.8-4build1) ...\n",
            "debconf: unable to initialize frontend: Dialog\n",
            "debconf: (No usable dialog-like program is installed, so the dialog based frontend cannot be used. at /usr/share/perl5/Debconf/FrontEnd/Dialog.pm line 78.)\n",
            "debconf: falling back to frontend: Readline\n",
            "Setting up aspell-ru (0.99g5-28) ...\n",
            "debconf: unable to initialize frontend: Dialog\n",
            "debconf: (No usable dialog-like program is installed, so the dialog based frontend cannot be used. at /usr/share/perl5/Debconf/FrontEnd/Dialog.pm line 78.)\n",
            "debconf: falling back to frontend: Readline\n",
            "Processing triggers for man-db (2.10.2-1) ...\n",
            "Processing triggers for libc-bin (2.35-0ubuntu3.8) ...\n",
            "/sbin/ldconfig.real: /usr/local/lib/libtbbbind.so.3 is not a symbolic link\n",
            "\n",
            "/sbin/ldconfig.real: /usr/local/lib/libtcm_debug.so.1 is not a symbolic link\n",
            "\n",
            "/sbin/ldconfig.real: /usr/local/lib/libur_adapter_opencl.so.0 is not a symbolic link\n",
            "\n",
            "/sbin/ldconfig.real: /usr/local/lib/libumf.so.0 is not a symbolic link\n",
            "\n",
            "/sbin/ldconfig.real: /usr/local/lib/libur_loader.so.0 is not a symbolic link\n",
            "\n",
            "/sbin/ldconfig.real: /usr/local/lib/libhwloc.so.15 is not a symbolic link\n",
            "\n",
            "/sbin/ldconfig.real: /usr/local/lib/libtbbmalloc_proxy.so.2 is not a symbolic link\n",
            "\n",
            "/sbin/ldconfig.real: /usr/local/lib/libtcm.so.1 is not a symbolic link\n",
            "\n",
            "/sbin/ldconfig.real: /usr/local/lib/libtbbbind_2_5.so.3 is not a symbolic link\n",
            "\n",
            "/sbin/ldconfig.real: /usr/local/lib/libtbbbind_2_0.so.3 is not a symbolic link\n",
            "\n",
            "/sbin/ldconfig.real: /usr/local/lib/libtbb.so.12 is not a symbolic link\n",
            "\n",
            "/sbin/ldconfig.real: /usr/local/lib/libur_adapter_level_zero.so.0 is not a symbolic link\n",
            "\n",
            "/sbin/ldconfig.real: /usr/local/lib/libtbbmalloc.so.2 is not a symbolic link\n",
            "\n",
            "Processing triggers for dictionaries-common (1.28.14) ...\n",
            "debconf: unable to initialize frontend: Dialog\n",
            "debconf: (No usable dialog-like program is installed, so the dialog based frontend cannot be used. at /usr/share/perl5/Debconf/FrontEnd/Dialog.pm line 78.)\n",
            "debconf: falling back to frontend: Readline\n",
            "aspell-autobuildhash: processing: ru [ru].\n",
            "Warning: The word \"АСУ ТП\" is invalid. The character ' ' (U+20) may not appear in the middle of a word. Skipping word.\n"
          ]
        }
      ]
    },
    {
      "cell_type": "code",
      "source": [
        "import subprocess"
      ],
      "metadata": {
        "id": "SXHwBuXGyWq0"
      },
      "execution_count": null,
      "outputs": []
    },
    {
      "cell_type": "markdown",
      "source": [
        "Для LanguageTool"
      ],
      "metadata": {
        "id": "PmCF_lmkZB2-"
      }
    },
    {
      "cell_type": "code",
      "source": [
        "pip install language-tool-python"
      ],
      "metadata": {
        "colab": {
          "base_uri": "https://localhost:8080/"
        },
        "id": "fIejJQG8GU0b",
        "outputId": "20e9e14a-0636-49d8-fee7-6456d53b7d9e"
      },
      "execution_count": null,
      "outputs": [
        {
          "output_type": "stream",
          "name": "stdout",
          "text": [
            "Collecting language-tool-python\n",
            "  Downloading language_tool_python-2.8.2-py3-none-any.whl.metadata (14 kB)\n",
            "Requirement already satisfied: pip in /usr/local/lib/python3.11/dist-packages (from language-tool-python) (24.1.2)\n",
            "Requirement already satisfied: requests in /usr/local/lib/python3.11/dist-packages (from language-tool-python) (2.32.3)\n",
            "Requirement already satisfied: tqdm in /usr/local/lib/python3.11/dist-packages (from language-tool-python) (4.67.1)\n",
            "Requirement already satisfied: wheel in /usr/local/lib/python3.11/dist-packages (from language-tool-python) (0.45.1)\n",
            "Requirement already satisfied: charset-normalizer<4,>=2 in /usr/local/lib/python3.11/dist-packages (from requests->language-tool-python) (3.4.1)\n",
            "Requirement already satisfied: idna<4,>=2.5 in /usr/local/lib/python3.11/dist-packages (from requests->language-tool-python) (3.10)\n",
            "Requirement already satisfied: urllib3<3,>=1.21.1 in /usr/local/lib/python3.11/dist-packages (from requests->language-tool-python) (2.3.0)\n",
            "Requirement already satisfied: certifi>=2017.4.17 in /usr/local/lib/python3.11/dist-packages (from requests->language-tool-python) (2025.1.31)\n",
            "Downloading language_tool_python-2.8.2-py3-none-any.whl (36 kB)\n",
            "Installing collected packages: language-tool-python\n",
            "Successfully installed language-tool-python-2.8.2\n"
          ]
        }
      ]
    },
    {
      "cell_type": "code",
      "source": [
        "from language_tool_python import LanguageTool"
      ],
      "metadata": {
        "id": "H86xNTKNnLQq"
      },
      "execution_count": null,
      "outputs": []
    },
    {
      "cell_type": "markdown",
      "source": [
        "Для RU T5"
      ],
      "metadata": {
        "id": "zyHlFMgEZckO"
      }
    },
    {
      "cell_type": "code",
      "source": [
        "!pip install transformers\n",
        "!pip install torch"
      ],
      "metadata": {
        "colab": {
          "base_uri": "https://localhost:8080/"
        },
        "id": "YVxwKInZV57H",
        "outputId": "f6644e11-2dcd-4856-b71a-128957a3f518"
      },
      "execution_count": null,
      "outputs": [
        {
          "output_type": "stream",
          "name": "stdout",
          "text": [
            "Requirement already satisfied: transformers in /usr/local/lib/python3.11/dist-packages (4.48.2)\n",
            "Requirement already satisfied: filelock in /usr/local/lib/python3.11/dist-packages (from transformers) (3.17.0)\n",
            "Requirement already satisfied: huggingface-hub<1.0,>=0.24.0 in /usr/local/lib/python3.11/dist-packages (from transformers) (0.28.1)\n",
            "Requirement already satisfied: numpy>=1.17 in /usr/local/lib/python3.11/dist-packages (from transformers) (1.26.4)\n",
            "Requirement already satisfied: packaging>=20.0 in /usr/local/lib/python3.11/dist-packages (from transformers) (24.2)\n",
            "Requirement already satisfied: pyyaml>=5.1 in /usr/local/lib/python3.11/dist-packages (from transformers) (6.0.2)\n",
            "Requirement already satisfied: regex!=2019.12.17 in /usr/local/lib/python3.11/dist-packages (from transformers) (2024.11.6)\n",
            "Requirement already satisfied: requests in /usr/local/lib/python3.11/dist-packages (from transformers) (2.32.3)\n",
            "Requirement already satisfied: tokenizers<0.22,>=0.21 in /usr/local/lib/python3.11/dist-packages (from transformers) (0.21.0)\n",
            "Requirement already satisfied: safetensors>=0.4.1 in /usr/local/lib/python3.11/dist-packages (from transformers) (0.5.2)\n",
            "Requirement already satisfied: tqdm>=4.27 in /usr/local/lib/python3.11/dist-packages (from transformers) (4.67.1)\n",
            "Requirement already satisfied: fsspec>=2023.5.0 in /usr/local/lib/python3.11/dist-packages (from huggingface-hub<1.0,>=0.24.0->transformers) (2024.10.0)\n",
            "Requirement already satisfied: typing-extensions>=3.7.4.3 in /usr/local/lib/python3.11/dist-packages (from huggingface-hub<1.0,>=0.24.0->transformers) (4.12.2)\n",
            "Requirement already satisfied: charset-normalizer<4,>=2 in /usr/local/lib/python3.11/dist-packages (from requests->transformers) (3.4.1)\n",
            "Requirement already satisfied: idna<4,>=2.5 in /usr/local/lib/python3.11/dist-packages (from requests->transformers) (3.10)\n",
            "Requirement already satisfied: urllib3<3,>=1.21.1 in /usr/local/lib/python3.11/dist-packages (from requests->transformers) (2.3.0)\n",
            "Requirement already satisfied: certifi>=2017.4.17 in /usr/local/lib/python3.11/dist-packages (from requests->transformers) (2025.1.31)\n",
            "Requirement already satisfied: torch in /usr/local/lib/python3.11/dist-packages (2.5.1+cu124)\n",
            "Requirement already satisfied: filelock in /usr/local/lib/python3.11/dist-packages (from torch) (3.17.0)\n",
            "Requirement already satisfied: typing-extensions>=4.8.0 in /usr/local/lib/python3.11/dist-packages (from torch) (4.12.2)\n",
            "Requirement already satisfied: networkx in /usr/local/lib/python3.11/dist-packages (from torch) (3.4.2)\n",
            "Requirement already satisfied: jinja2 in /usr/local/lib/python3.11/dist-packages (from torch) (3.1.5)\n",
            "Requirement already satisfied: fsspec in /usr/local/lib/python3.11/dist-packages (from torch) (2024.10.0)\n",
            "Collecting nvidia-cuda-nvrtc-cu12==12.4.127 (from torch)\n",
            "  Downloading nvidia_cuda_nvrtc_cu12-12.4.127-py3-none-manylinux2014_x86_64.whl.metadata (1.5 kB)\n",
            "Collecting nvidia-cuda-runtime-cu12==12.4.127 (from torch)\n",
            "  Downloading nvidia_cuda_runtime_cu12-12.4.127-py3-none-manylinux2014_x86_64.whl.metadata (1.5 kB)\n",
            "Collecting nvidia-cuda-cupti-cu12==12.4.127 (from torch)\n",
            "  Downloading nvidia_cuda_cupti_cu12-12.4.127-py3-none-manylinux2014_x86_64.whl.metadata (1.6 kB)\n",
            "Collecting nvidia-cudnn-cu12==9.1.0.70 (from torch)\n",
            "  Downloading nvidia_cudnn_cu12-9.1.0.70-py3-none-manylinux2014_x86_64.whl.metadata (1.6 kB)\n",
            "Collecting nvidia-cublas-cu12==12.4.5.8 (from torch)\n",
            "  Downloading nvidia_cublas_cu12-12.4.5.8-py3-none-manylinux2014_x86_64.whl.metadata (1.5 kB)\n",
            "Collecting nvidia-cufft-cu12==11.2.1.3 (from torch)\n",
            "  Downloading nvidia_cufft_cu12-11.2.1.3-py3-none-manylinux2014_x86_64.whl.metadata (1.5 kB)\n",
            "Collecting nvidia-curand-cu12==10.3.5.147 (from torch)\n",
            "  Downloading nvidia_curand_cu12-10.3.5.147-py3-none-manylinux2014_x86_64.whl.metadata (1.5 kB)\n",
            "Collecting nvidia-cusolver-cu12==11.6.1.9 (from torch)\n",
            "  Downloading nvidia_cusolver_cu12-11.6.1.9-py3-none-manylinux2014_x86_64.whl.metadata (1.6 kB)\n",
            "Collecting nvidia-cusparse-cu12==12.3.1.170 (from torch)\n",
            "  Downloading nvidia_cusparse_cu12-12.3.1.170-py3-none-manylinux2014_x86_64.whl.metadata (1.6 kB)\n",
            "Requirement already satisfied: nvidia-nccl-cu12==2.21.5 in /usr/local/lib/python3.11/dist-packages (from torch) (2.21.5)\n",
            "Requirement already satisfied: nvidia-nvtx-cu12==12.4.127 in /usr/local/lib/python3.11/dist-packages (from torch) (12.4.127)\n",
            "Collecting nvidia-nvjitlink-cu12==12.4.127 (from torch)\n",
            "  Downloading nvidia_nvjitlink_cu12-12.4.127-py3-none-manylinux2014_x86_64.whl.metadata (1.5 kB)\n",
            "Requirement already satisfied: triton==3.1.0 in /usr/local/lib/python3.11/dist-packages (from torch) (3.1.0)\n",
            "Requirement already satisfied: sympy==1.13.1 in /usr/local/lib/python3.11/dist-packages (from torch) (1.13.1)\n",
            "Requirement already satisfied: mpmath<1.4,>=1.1.0 in /usr/local/lib/python3.11/dist-packages (from sympy==1.13.1->torch) (1.3.0)\n",
            "Requirement already satisfied: MarkupSafe>=2.0 in /usr/local/lib/python3.11/dist-packages (from jinja2->torch) (3.0.2)\n",
            "Downloading nvidia_cublas_cu12-12.4.5.8-py3-none-manylinux2014_x86_64.whl (363.4 MB)\n",
            "\u001b[2K   \u001b[90m━━━━━━━━━━━━━━━━━━━━━━━━━━━━━━━━━━━━━━━━\u001b[0m \u001b[32m363.4/363.4 MB\u001b[0m \u001b[31m1.7 MB/s\u001b[0m eta \u001b[36m0:00:00\u001b[0m\n",
            "\u001b[?25hDownloading nvidia_cuda_cupti_cu12-12.4.127-py3-none-manylinux2014_x86_64.whl (13.8 MB)\n",
            "\u001b[2K   \u001b[90m━━━━━━━━━━━━━━━━━━━━━━━━━━━━━━━━━━━━━━━━\u001b[0m \u001b[32m13.8/13.8 MB\u001b[0m \u001b[31m70.5 MB/s\u001b[0m eta \u001b[36m0:00:00\u001b[0m\n",
            "\u001b[?25hDownloading nvidia_cuda_nvrtc_cu12-12.4.127-py3-none-manylinux2014_x86_64.whl (24.6 MB)\n",
            "\u001b[2K   \u001b[90m━━━━━━━━━━━━━━━━━━━━━━━━━━━━━━━━━━━━━━━━\u001b[0m \u001b[32m24.6/24.6 MB\u001b[0m \u001b[31m62.9 MB/s\u001b[0m eta \u001b[36m0:00:00\u001b[0m\n",
            "\u001b[?25hDownloading nvidia_cuda_runtime_cu12-12.4.127-py3-none-manylinux2014_x86_64.whl (883 kB)\n",
            "\u001b[2K   \u001b[90m━━━━━━━━━━━━━━━━━━━━━━━━━━━━━━━━━━━━━━━━\u001b[0m \u001b[32m883.7/883.7 kB\u001b[0m \u001b[31m45.0 MB/s\u001b[0m eta \u001b[36m0:00:00\u001b[0m\n",
            "\u001b[?25hDownloading nvidia_cudnn_cu12-9.1.0.70-py3-none-manylinux2014_x86_64.whl (664.8 MB)\n",
            "\u001b[2K   \u001b[90m━━━━━━━━━━━━━━━━━━━━━━━━━━━━━━━━━━━━━━━━\u001b[0m \u001b[32m664.8/664.8 MB\u001b[0m \u001b[31m748.8 kB/s\u001b[0m eta \u001b[36m0:00:00\u001b[0m\n",
            "\u001b[?25hDownloading nvidia_cufft_cu12-11.2.1.3-py3-none-manylinux2014_x86_64.whl (211.5 MB)\n",
            "\u001b[2K   \u001b[90m━━━━━━━━━━━━━━━━━━━━━━━━━━━━━━━━━━━━━━━━\u001b[0m \u001b[32m211.5/211.5 MB\u001b[0m \u001b[31m4.2 MB/s\u001b[0m eta \u001b[36m0:00:00\u001b[0m\n",
            "\u001b[?25hDownloading nvidia_curand_cu12-10.3.5.147-py3-none-manylinux2014_x86_64.whl (56.3 MB)\n",
            "\u001b[2K   \u001b[90m━━━━━━━━━━━━━━━━━━━━━━━━━━━━━━━━━━━━━━━━\u001b[0m \u001b[32m56.3/56.3 MB\u001b[0m \u001b[31m11.1 MB/s\u001b[0m eta \u001b[36m0:00:00\u001b[0m\n",
            "\u001b[?25hDownloading nvidia_cusolver_cu12-11.6.1.9-py3-none-manylinux2014_x86_64.whl (127.9 MB)\n",
            "\u001b[2K   \u001b[90m━━━━━━━━━━━━━━━━━━━━━━━━━━━━━━━━━━━━━━━━\u001b[0m \u001b[32m127.9/127.9 MB\u001b[0m \u001b[31m8.1 MB/s\u001b[0m eta \u001b[36m0:00:00\u001b[0m\n",
            "\u001b[?25hDownloading nvidia_cusparse_cu12-12.3.1.170-py3-none-manylinux2014_x86_64.whl (207.5 MB)\n",
            "\u001b[2K   \u001b[90m━━━━━━━━━━━━━━━━━━━━━━━━━━━━━━━━━━━━━━━━\u001b[0m \u001b[32m207.5/207.5 MB\u001b[0m \u001b[31m1.5 MB/s\u001b[0m eta \u001b[36m0:00:00\u001b[0m\n",
            "\u001b[?25hDownloading nvidia_nvjitlink_cu12-12.4.127-py3-none-manylinux2014_x86_64.whl (21.1 MB)\n",
            "\u001b[2K   \u001b[90m━━━━━━━━━━━━━━━━━━━━━━━━━━━━━━━━━━━━━━━━\u001b[0m \u001b[32m21.1/21.1 MB\u001b[0m \u001b[31m68.6 MB/s\u001b[0m eta \u001b[36m0:00:00\u001b[0m\n",
            "\u001b[?25hInstalling collected packages: nvidia-nvjitlink-cu12, nvidia-curand-cu12, nvidia-cufft-cu12, nvidia-cuda-runtime-cu12, nvidia-cuda-nvrtc-cu12, nvidia-cuda-cupti-cu12, nvidia-cublas-cu12, nvidia-cusparse-cu12, nvidia-cudnn-cu12, nvidia-cusolver-cu12\n",
            "  Attempting uninstall: nvidia-nvjitlink-cu12\n",
            "    Found existing installation: nvidia-nvjitlink-cu12 12.5.82\n",
            "    Uninstalling nvidia-nvjitlink-cu12-12.5.82:\n",
            "      Successfully uninstalled nvidia-nvjitlink-cu12-12.5.82\n",
            "  Attempting uninstall: nvidia-curand-cu12\n",
            "    Found existing installation: nvidia-curand-cu12 10.3.6.82\n",
            "    Uninstalling nvidia-curand-cu12-10.3.6.82:\n",
            "      Successfully uninstalled nvidia-curand-cu12-10.3.6.82\n",
            "  Attempting uninstall: nvidia-cufft-cu12\n",
            "    Found existing installation: nvidia-cufft-cu12 11.2.3.61\n",
            "    Uninstalling nvidia-cufft-cu12-11.2.3.61:\n",
            "      Successfully uninstalled nvidia-cufft-cu12-11.2.3.61\n",
            "  Attempting uninstall: nvidia-cuda-runtime-cu12\n",
            "    Found existing installation: nvidia-cuda-runtime-cu12 12.5.82\n",
            "    Uninstalling nvidia-cuda-runtime-cu12-12.5.82:\n",
            "      Successfully uninstalled nvidia-cuda-runtime-cu12-12.5.82\n",
            "  Attempting uninstall: nvidia-cuda-nvrtc-cu12\n",
            "    Found existing installation: nvidia-cuda-nvrtc-cu12 12.5.82\n",
            "    Uninstalling nvidia-cuda-nvrtc-cu12-12.5.82:\n",
            "      Successfully uninstalled nvidia-cuda-nvrtc-cu12-12.5.82\n",
            "  Attempting uninstall: nvidia-cuda-cupti-cu12\n",
            "    Found existing installation: nvidia-cuda-cupti-cu12 12.5.82\n",
            "    Uninstalling nvidia-cuda-cupti-cu12-12.5.82:\n",
            "      Successfully uninstalled nvidia-cuda-cupti-cu12-12.5.82\n",
            "  Attempting uninstall: nvidia-cublas-cu12\n",
            "    Found existing installation: nvidia-cublas-cu12 12.5.3.2\n",
            "    Uninstalling nvidia-cublas-cu12-12.5.3.2:\n",
            "      Successfully uninstalled nvidia-cublas-cu12-12.5.3.2\n",
            "  Attempting uninstall: nvidia-cusparse-cu12\n",
            "    Found existing installation: nvidia-cusparse-cu12 12.5.1.3\n",
            "    Uninstalling nvidia-cusparse-cu12-12.5.1.3:\n",
            "      Successfully uninstalled nvidia-cusparse-cu12-12.5.1.3\n",
            "  Attempting uninstall: nvidia-cudnn-cu12\n",
            "    Found existing installation: nvidia-cudnn-cu12 9.3.0.75\n",
            "    Uninstalling nvidia-cudnn-cu12-9.3.0.75:\n",
            "      Successfully uninstalled nvidia-cudnn-cu12-9.3.0.75\n",
            "  Attempting uninstall: nvidia-cusolver-cu12\n",
            "    Found existing installation: nvidia-cusolver-cu12 11.6.3.83\n",
            "    Uninstalling nvidia-cusolver-cu12-11.6.3.83:\n",
            "      Successfully uninstalled nvidia-cusolver-cu12-11.6.3.83\n",
            "Successfully installed nvidia-cublas-cu12-12.4.5.8 nvidia-cuda-cupti-cu12-12.4.127 nvidia-cuda-nvrtc-cu12-12.4.127 nvidia-cuda-runtime-cu12-12.4.127 nvidia-cudnn-cu12-9.1.0.70 nvidia-cufft-cu12-11.2.1.3 nvidia-curand-cu12-10.3.5.147 nvidia-cusolver-cu12-11.6.1.9 nvidia-cusparse-cu12-12.3.1.170 nvidia-nvjitlink-cu12-12.4.127\n"
          ]
        }
      ]
    },
    {
      "cell_type": "code",
      "source": [
        "!pip install sentencepiece"
      ],
      "metadata": {
        "colab": {
          "base_uri": "https://localhost:8080/"
        },
        "id": "E1jWtwwY3WUE",
        "outputId": "e6e838b4-fdde-4fce-f593-8e9682bd0050"
      },
      "execution_count": null,
      "outputs": [
        {
          "output_type": "stream",
          "name": "stdout",
          "text": [
            "Requirement already satisfied: sentencepiece in /usr/local/lib/python3.11/dist-packages (0.2.0)\n"
          ]
        }
      ]
    },
    {
      "cell_type": "code",
      "source": [
        "!pip install nltk"
      ],
      "metadata": {
        "colab": {
          "base_uri": "https://localhost:8080/"
        },
        "id": "0utXLRhS4UVM",
        "outputId": "6a5fa1cf-b1f1-4914-da3b-4b7336914805"
      },
      "execution_count": null,
      "outputs": [
        {
          "output_type": "stream",
          "name": "stdout",
          "text": [
            "Requirement already satisfied: nltk in /usr/local/lib/python3.11/dist-packages (3.9.1)\n",
            "Requirement already satisfied: click in /usr/local/lib/python3.11/dist-packages (from nltk) (8.1.8)\n",
            "Requirement already satisfied: joblib in /usr/local/lib/python3.11/dist-packages (from nltk) (1.4.2)\n",
            "Requirement already satisfied: regex>=2021.8.3 in /usr/local/lib/python3.11/dist-packages (from nltk) (2024.11.6)\n",
            "Requirement already satisfied: tqdm in /usr/local/lib/python3.11/dist-packages (from nltk) (4.67.1)\n"
          ]
        }
      ]
    },
    {
      "cell_type": "code",
      "source": [
        "from transformers import AutoTokenizer, AutoModelForSeq2SeqLM\n",
        "import torch\n",
        "import nltk\n",
        "nltk.download('punkt_tab')\n",
        "from nltk.tokenize import sent_tokenize, regexp_tokenize, word_tokenize"
      ],
      "metadata": {
        "colab": {
          "base_uri": "https://localhost:8080/"
        },
        "id": "jcnvYAyU1SuK",
        "outputId": "a64a7b05-7405-46b2-d3da-67bb6fb0911a"
      },
      "execution_count": null,
      "outputs": [
        {
          "output_type": "stream",
          "name": "stderr",
          "text": [
            "[nltk_data] Downloading package punkt_tab to /root/nltk_data...\n",
            "[nltk_data]   Unzipping tokenizers/punkt_tab.zip.\n"
          ]
        }
      ]
    },
    {
      "cell_type": "markdown",
      "source": [
        "Для M2M100"
      ],
      "metadata": {
        "id": "kdsu8j0-aPLQ"
      }
    },
    {
      "cell_type": "code",
      "source": [
        "from transformers import M2M100ForConditionalGeneration, M2M100Tokenizer"
      ],
      "metadata": {
        "id": "aG6JXaFOkx68"
      },
      "execution_count": null,
      "outputs": []
    },
    {
      "cell_type": "markdown",
      "source": [
        "**Литературный текст**"
      ],
      "metadata": {
        "id": "FCCrxdowZJ0k"
      }
    },
    {
      "cell_type": "code",
      "source": [
        "from google.colab import drive # подключение гугл диска с файлами\n",
        "drive.mount('/content/drive')"
      ],
      "metadata": {
        "colab": {
          "base_uri": "https://localhost:8080/"
        },
        "id": "Dn1aJxeSVrJ9",
        "outputId": "77c4362e-00e6-4a29-f2d9-161e7f8baadc"
      },
      "execution_count": null,
      "outputs": [
        {
          "output_type": "stream",
          "name": "stdout",
          "text": [
            "Mounted at /content/drive\n"
          ]
        }
      ]
    },
    {
      "cell_type": "code",
      "source": [
        "rec_lit_text = '/content/drive/My Drive/Files_for_project/rec_lit_text.txt'\n",
        "rec_lit_text = open(rec_lit_text, 'r', encoding='utf-8').read()"
      ],
      "metadata": {
        "id": "b9KGTTcWYwV4"
      },
      "execution_count": null,
      "outputs": []
    },
    {
      "cell_type": "code",
      "source": [
        "etalon_lit_text = '/content/drive/My Drive/Files_for_project/etalon_lit_text.txt'\n",
        "etalon_lit_text = open(etalon_lit_text, 'r', encoding='utf-8').read()"
      ],
      "metadata": {
        "id": "3lgZ4zgCFJ6W"
      },
      "execution_count": null,
      "outputs": []
    },
    {
      "cell_type": "code",
      "source": [
        "print(rec_lit_text[0:500])\n",
        "print(etalon_lit_text[0:500])"
      ],
      "metadata": {
        "colab": {
          "base_uri": "https://localhost:8080/"
        },
        "id": "OIz6ZkWEZU16",
        "outputId": "b19d76d2-dccb-4f47-8402-d7b4517058fe"
      },
      "execution_count": null,
      "outputs": [
        {
          "output_type": "stream",
          "name": "stdout",
          "text": [
            "по-видимому, с вестибюля. В заплесневелых углах белесо мерцали кости прикованных скелетов, где-то мерно капала вода, в нишах между колоннами в неестественных позах торчали статуи в ржавых латах, справа от входа у стены громоздились обломки древних идолов, наверху этой кучи торчали гипсовые ноги в сапогах. С почерневших портретов под потолком строго взирали маститые старцы, в их лицах усматривались знакомые черты Федора Симеоновича, товарища Жиана Жиакомо и других мастеров. Весь этот архаический \n",
            "﻿по-видимому, с вестибюля. В заплесневелых углах белесо мерцали кости прикованных скелетов, где-то мерно капала вода, в нишах между колоннами в неестественных позах торчали статуи в ржавых латах, справа от входа у стены громоздились обломки древних идолов, наверху этой кучи торчали гипсовые ноги в сапогах. С почерневших портретов под потолком строго взирали маститые старцы, в их лицах усматривались знакомые черты Федора Симеоновича, товарища Жиана Жиакомо и других мастеров. Весь этот архаический\n"
          ]
        }
      ]
    },
    {
      "cell_type": "markdown",
      "source": [
        "**Учебный текст**"
      ],
      "metadata": {
        "id": "aJHVLSwMZO9D"
      }
    },
    {
      "cell_type": "code",
      "source": [
        "rec_educ_text = '/content/drive/My Drive/Files_for_project/rec_educ_text.txt'\n",
        "rec_educ_text = open(rec_educ_text, 'r', encoding='utf-8').read()"
      ],
      "metadata": {
        "id": "Uvz47yUdYy_d"
      },
      "execution_count": null,
      "outputs": []
    },
    {
      "cell_type": "code",
      "source": [
        "etalon_educ_text = '/content/drive/My Drive/Files_for_project/etalon_educ_text.txt'\n",
        "etalon_educ_text = open(etalon_educ_text, 'r', encoding='utf-8').read()"
      ],
      "metadata": {
        "id": "Kuhtrz71YzCS"
      },
      "execution_count": null,
      "outputs": []
    },
    {
      "cell_type": "code",
      "source": [
        "print(rec_educ_text[0:500])\n",
        "print(etalon_educ_text[0:500])"
      ],
      "metadata": {
        "colab": {
          "base_uri": "https://localhost:8080/"
        },
        "id": "BFJ2GVLBYzEu",
        "outputId": "6c7b2639-4e25-4dac-a906-6714e3c3281b"
      },
      "execution_count": null,
      "outputs": [
        {
          "output_type": "stream",
          "name": "stdout",
          "text": [
            "Субъектом правопонимания всегда выступает конкретный человек, например: а) гражданин, обладающий минимальным правовым кругозором, столкнувшийся с проблемами права вообще; 6) юрист-профессионал, имеющий достаточный запас знаний о праве, способный применять и толковать правовые нормы; в) ученый, человек с абстрактным мышлением, занимающийся изучением права, обладающий суммой исторических и современных знаний, способный к интерпретации не только норм, но и принципов права, владеющий определенной ме\n",
            "﻿Субъектом правопонимания всегда выступает конкретный человек, например: а) гражданин, обладающий минимальным правовым кругозором, столкнувшийся с проблемами права вообще; б) юрист-профессионал, имеющий достаточный запас знаний о праве, способный применять и толковать правовые нормы; в) ученый, человек с абстрактным мышлением, занимающийся изучением права, обладающий суммой исторических и современных знаний, способный к интерпретации не только норм, но и принципов права, владеющий определенной м\n"
          ]
        }
      ]
    },
    {
      "cell_type": "markdown",
      "source": [
        "**Функции для вычисления метрик**"
      ],
      "metadata": {
        "id": "v_OUGyeNdY94"
      }
    },
    {
      "cell_type": "code",
      "source": [
        "def preprocess_text(text):\n",
        "    \"\"\"\n",
        "    Функция для обработки текста для CER\n",
        "    Приводит текст к нижнему регистру и удаляет знаки препинания и пробелы.\n",
        "    \"\"\"\n",
        "    return ''.join(c.lower() for c in text if c not in string.punctuation and not c.isspace())"
      ],
      "metadata": {
        "id": "1JpKZiBuE5W1"
      },
      "execution_count": null,
      "outputs": []
    },
    {
      "cell_type": "code",
      "source": [
        "def metrics_wer_cer(etalon_text, recognized_text):\n",
        "    \"\"\"\n",
        "    Вычисление метрик CER и WER\n",
        "    \"\"\"\n",
        "    # Обработка текстов для CER\n",
        "    etalon_text_prep = preprocess_text(etalon_text)\n",
        "    recognized_text_prep = preprocess_text(recognized_text)\n",
        "\n",
        "    # Вычисление CER и WER\n",
        "    wer = jiwer.wer(etalon_text, recognized_text)\n",
        "    cer = jiwer.cer(etalon_text_prep, recognized_text_prep)\n",
        "\n",
        "    return round(wer, 3), round(cer, 3)"
      ],
      "metadata": {
        "id": "R-8LgrfzE5ZL"
      },
      "execution_count": null,
      "outputs": []
    },
    {
      "cell_type": "markdown",
      "source": [
        "## **3. Автокоррекция текстов**"
      ],
      "metadata": {
        "id": "4okg7g8Pi4sY"
      }
    },
    {
      "cell_type": "markdown",
      "source": [
        "### JamSpell"
      ],
      "metadata": {
        "id": "HPzcYNpwFU7J"
      }
    },
    {
      "cell_type": "markdown",
      "source": [
        "JamSpell — это библиотека для контекстной проверки орфографии, которая использует модели на основе n-грамм. Она поддерживает русский язык и другие языки.\n",
        "\n",
        "Особенности:\n",
        "Использует контекст для исправления ошибок.\n",
        "\n",
        "Поддерживает предобученные модели для русского языка.\n",
        "\n",
        "Быстрая и эффективная."
      ],
      "metadata": {
        "id": "syYctvJujesS"
      }
    },
    {
      "cell_type": "code",
      "source": [
        "# Загружаем автокорректор\n",
        "corrector = jamspell.TSpellCorrector()\n",
        "corrector.LoadLangModel(\"ru_small.bin\")  # Подключаем предобученную модель"
      ],
      "metadata": {
        "colab": {
          "base_uri": "https://localhost:8080/"
        },
        "id": "FsP7pNcKa-n5",
        "outputId": "61534fe7-0b24-446f-e515-b874ef3c63f5"
      },
      "execution_count": null,
      "outputs": [
        {
          "output_type": "execute_result",
          "data": {
            "text/plain": [
              "True"
            ]
          },
          "metadata": {},
          "execution_count": 19
        }
      ]
    },
    {
      "cell_type": "markdown",
      "source": [
        "**Литературный текст**"
      ],
      "metadata": {
        "id": "kMKF6MWo-VVc"
      }
    },
    {
      "cell_type": "code",
      "source": [
        "# Автокоррекция литературного текста\n",
        "rec_lit_text_corr = corrector.FixFragment(rec_lit_text)\n",
        "\n",
        "print(\"Оригинальный текст:\", rec_lit_text[0:1000])\n",
        "print(\"Исправленный текст:\", rec_lit_text_corr[0:1000])"
      ],
      "metadata": {
        "colab": {
          "base_uri": "https://localhost:8080/"
        },
        "id": "xl2-4ol2E5UP",
        "outputId": "85d987d2-7531-44b9-b63f-09d0dccc6faa"
      },
      "execution_count": null,
      "outputs": [
        {
          "output_type": "stream",
          "name": "stdout",
          "text": [
            "Оригинальный текст: по-видимому, с вестибюля. В заплесневелых углах белесо мерцали кости прикованных скелетов, где-то мерно капала вода, в нишах между колоннами в неестественных позах торчали статуи в ржавых латах, справа от входа у стены громоздились обломки древних идолов, наверху этой кучи торчали гипсовые ноги в сапогах. С почерневших портретов под потолком строго взирали маститые старцы, в их лицах усматривались знакомые черты Федора Симеоновича, товарища Жиана Жиакомо и других мастеров. Весь этот архаический хлам надлежало давным-давно выбросить, прорубить в стенах окна и установить трубки дневного света, но все было заприходовано, заинвентаризовано и лично Модестом Матвеевичем к разбазариванию запрещено.  На капителях колонн и в лабиринтах исполинской люстры, свисающей с почерневшего потолка, шуршали нетопыри и летучие собаки. С ними Модест Матвеевич боролся. Он поливал их скипидаром и креозотом, опылял дустом, опрыскивал гексахлораном, они гибли тысячами, но возрождались десятками тысяч. Они мутир\n",
            "Исправленный текст: по-видимому, с вестибюля. В заплесневелых углах белесо медали кости прикованных скелетов, где-то зерно канала вода, в нишах между колоннами в неестественных позах торчали статуи в ржавых латах, справа от входа у стены громоздились обломки древних идолов, наверху этой кучи торчали гипсовые ноги в сапогах. С потерпевших портретов под потолком строго взирали маститые старцы, в их лицах устраивались знакомые черты Федора Симеоновича, товарища Жана Ираком и других мастеров. Весь этот архаический хлам надлежало давным-давно выбросить, прорубить в стенах окна и установить трубки дневного света, но все было заприходовано, заинвентаризовано и лично Модестом Матвеевич к разбазариванию запрещено.  На капителях колонн и в лабиринтах исполинской люстры, свисающий с потерпевшего потолка, украли нетопыри и летучие собаки. С ними Модест Матвеевич боролся. Он поливал их скипидаром и креозотом, отплыл дуэтом, опрыскивал гексахлораном, они гибли тысячами, но возрождались десятками тысяч. Они мутировали, \n"
          ]
        }
      ]
    },
    {
      "cell_type": "code",
      "source": [
        "# проверим кандитатов на замену в 8 слове \"мерцали\"\n",
        "corrector.GetCandidates(rec_lit_text.split(), 7)"
      ],
      "metadata": {
        "colab": {
          "base_uri": "https://localhost:8080/"
        },
        "id": "YGGKZDPKiZxZ",
        "outputId": "8a9578f8-ac97-48d6-d12e-8a07cdf3e24c"
      },
      "execution_count": null,
      "outputs": [
        {
          "output_type": "execute_result",
          "data": {
            "text/plain": [
              "('медали',\n",
              " 'умерли',\n",
              " 'держали',\n",
              " 'морали',\n",
              " 'мерами',\n",
              " 'мешали',\n",
              " 'мечтали',\n",
              " 'мерапи',\n",
              " 'вымерли',\n",
              " 'умирали',\n",
              " 'мерлин',\n",
              " 'минерал',\n",
              " 'мерцали',\n",
              " 'мерлину',\n",
              " 'мерлина')"
            ]
          },
          "metadata": {},
          "execution_count": 22
        }
      ]
    },
    {
      "cell_type": "markdown",
      "source": [
        "Несмотря на то, что в словаре было слово \"мерцали\", алгоритм заменил его на \"медали\", так как модель учитывает контекст и фраза \"мерцали кости\" кажется модели менее вероятной, чем \"медали кости\". Посмотрим, какие слова были заменены."
      ],
      "metadata": {
        "id": "d90Mbjb7jcKf"
      }
    },
    {
      "cell_type": "code",
      "source": [
        "def get_corrections(original_text):\n",
        "    corrected_text = corrector.FixFragment(original_text)\n",
        "\n",
        "    # Сравниваем оригинальный и исправленный текст\n",
        "    original_words = original_text.split()\n",
        "    corrected_words = corrected_text.split()\n",
        "\n",
        "    # Находим исправления\n",
        "    corrections = []\n",
        "    for orig_word, corr_word in zip(original_words, corrected_words):\n",
        "        if orig_word != corr_word:\n",
        "            # Сохраняем пару (исходное, исправленное)\n",
        "            corrections.append((orig_word, corr_word))\n",
        "\n",
        "    return corrected_text, corrections\n",
        "\n",
        "# Автокоррекция и поиск исправлений\n",
        "rec_lit_text_corr, corrections = get_corrections(rec_lit_text)\n",
        "\n",
        "# Вывод результатов\n",
        "print(\"🔍 Исправления:\")\n",
        "for orig, corr in corrections:\n",
        "    print(f\"- {orig} → {corr}\")"
      ],
      "metadata": {
        "colab": {
          "base_uri": "https://localhost:8080/"
        },
        "id": "X0PejZ_CuUgw",
        "outputId": "b2c3e78e-bad9-4949-bd37-9088c1fd3629"
      },
      "execution_count": null,
      "outputs": [
        {
          "output_type": "stream",
          "name": "stdout",
          "text": [
            "🔍 Исправления:\n",
            "- мерцали → медали\n",
            "- мерно → зерно\n",
            "- капала → канала\n",
            "- почерневших → потерпевших\n",
            "- усматривались → устраивались\n",
            "- Жиана → Жана\n",
            "- Жиакомо → Ираком\n",
            "- Матвеевичем → Матвеевич\n",
            "- свисающей → свисающий\n",
            "- почерневшего → потерпевшего\n",
            "- шуршали → украли\n",
            "- опылял → отплыл\n",
            "- дустом, → дуэтом,\n",
            "- паиболее → наиболее\n",
            "- нище, → ниже,\n",
            "- застонал → затронул\n",
            "- загремел → загребе\n",
            "- спаружи → снаружи\n",
            "- простирался → пробирался\n",
            "- Ойре-Ойре, → Одре-Одре,\n",
            "- изуверов, → призеров,\n",
            "- шипя → шипы\n",
            "- кривясь → кривая\n",
            "- варил → верил\n",
            "- оптнмизм. → оптимизм.\n",
            "- разрушающих → разрушающие\n",
            "- сублимировали → субсидировали\n",
            "- отомкнул → толкнул\n",
            "- полюбовался, → пользовался,\n",
            "- Граафа. → Графа.\n",
            "- рубильника → рубильник\n",
            "- попятился → появился\n",
            "- Обесточивать → Обеспечивать\n",
            "- еженощно → ежегодно\n",
            "- домовик → домов\n",
            "- сосланный → посланный\n",
            "- Вием → Всем\n",
            "- вниварии → внимании\n",
            "- вивария, → викария,\n",
            "- потупился. → поступил.\n",
            "- ‘сипло → ‘сияло\n",
            "- вивария → викария\n",
            "- Лернейской → Еврейской\n",
            "- неразговорчивой → разговорчивой\n",
            "- сторукие → историей\n",
            "- первенцы → первенца\n",
            "- Гиес → Гипс\n",
            "- маялся. → явился.\n",
            "- притихЛи → притихЛо\n",
            "- уставились → ставились\n",
            "- вылечивались → выплачивались\n",
            "- взревел → взрыве\n",
            "- вытирая → выбирая\n",
            "- покусывали → показывали\n",
            "- застили. → застали.\n",
            "- комфортабельной → комфортабельном\n",
            "- кондиционированием → кондиционирование\n",
            "- развсшаны → развешаны\n",
            "- Кощей → Мощей\n",
            "- пюпитром → питером\n",
            "- офсетную → смертную\n",
            "- завинчивал, → заканчивал,\n",
            "- дорожили, → дорожило,\n",
            "- храпение → хранение\n",
            "- спросонок.) → способно.)\n",
            "- бессмертному → бессмертным\n",
            "- штанину, → штанина,\n",
            "- урки, → руки,\n",
            "- отдавил, → отдавал,\n",
            "- хватай,— → хватал,—\n",
            "- щелкая → мелкая\n",
            "- убрались → брались\n",
            "- булькает. → бульваре.\n",
            "- защишать → защищать\n",
            "- трансгалактических → трансатлантических\n",
            "- точностн. → точности.\n",
            "- соскакивали → вскакивали\n",
            "- Онн → Он\n",
            "- жеваной → женой\n",
            "- Симеоновича, → Семеновича,\n",
            "- переворотах: → переворота:\n",
            "- неуязвимое → неуязвимые\n",
            "- охраняло → охраняли\n",
            "- помелах, → полках,\n",
            "- повыходила → выходила\n",
            "- увязались → связались\n",
            "- отловил → отложил\n",
            "- зачаровал → очаровал\n",
            "- дюжин → джин\n",
            "- ифритов → фруктов\n",
            "- Велнкому → Великому\n",
            "- соплеменными → современными\n",
            "- протяженин → протяжении\n",
            "- мечи-кладенцы → мечи-младенцы\n",
            "- роздал → создал\n",
            "- смазанным → сказанным\n",
            "- Обесточивать → Обеспечивать\n",
            "- ватниках → ватикане\n",
            "- Ад-Амм, → Ад-Мм,\n",
            "- трибой → трубой\n",
            "- Араратск. → Арарат.\n",
            "- удовольств. → удовольствие.\n",
            "- Провертел → Проверить\n",
            "- Сожран → Собран\n",
            "- пещерн. → пещеры.\n",
            "- Франсиско-Каэтано-Августин-Лусия-и-Мануэль-и-Хосефа-иМигель-Лука-Карлос-Педро → Франсиско-Каэтано-Августин-Лусия-и-Мануэль-и-Хосефа-мИгель-Лука-Карлос-Педро\n",
            "- Анацефал. → Танцевал.\n",
            "- гварии». → аварии».\n",
            "- явствовало, → чувствовал,\n",
            "- годы → года\n",
            "- гущи», → гуще»,\n",
            "- авгуров». → авторов».\n",
            "- пасьянсов», → касьянов»,\n",
            "- Обесточивать → Обеспечивать\n",
            "- «Темна → «Тема\n",
            "- облацех». → облаках».\n",
            "- гущи → гущин\n",
            "- мокко → рокко\n",
            "- напуганными → напуганные\n",
            "- авгуров. → авторов.\n",
            "- бродила, → родила,\n",
            "- зевая, → левая,\n",
            "- волочилась → получилась\n",
            "- полюбовался → пожаловался\n",
            "- томительными → строительным\n",
            "- расчетамн → расчетам\n",
            "- Жиан → Жан\n",
            "- Жиакомо, → Жидкого,\n",
            "- Ойра-Ойра → Эйра-Ойра\n",
            "- полключать → подключать\n",
            "- щелкало, → сделало,\n",
            "- пею → нею\n",
            "- жизнерадостную → жизнерадостный\n",
            "- работящую. → работающую.\n",
            "- подсоединил → присоединил\n",
            "- предохранители, → предохранитель,\n",
            "- девятимерном → девятитомном\n",
            "- подшефного → подземного\n",
            "- сосчитал → посчитал\n",
            "- пасьянсов → касьянов\n",
            "- пасьянсов → касьянов\n",
            "- Хозевича, → Хозяевам,\n",
            "- унималась. → снималась.\n",
            "- выла → была\n",
            "- дергала → держала\n",
            "- прободен → проведен\n",
            "- номерком. → номером.\n",
            "- неувеличения → увеличения\n",
            "- настрльных → настольных\n",
            "- присаживались → присваивалось\n",
            "- сигаретками → сигаретами\n",
            "- Лопиталя. → Госпиталя.\n"
          ]
        }
      ]
    },
    {
      "cell_type": "code",
      "source": [
        "# Метрики литературного текста\n",
        "wer_lit_jamspell, cer_lit_jamspell = metrics_wer_cer(etalon_lit_text,\n",
        "                                                     rec_lit_text_corr)\n",
        "print(f\"WER: {wer_lit_jamspell}\")\n",
        "print(f\"CER: {cer_lit_jamspell}\")"
      ],
      "metadata": {
        "colab": {
          "base_uri": "https://localhost:8080/"
        },
        "id": "jeCdQq8NdnAI",
        "outputId": "e5a111c9-4160-4b56-db69-2f35bdbcd3ea"
      },
      "execution_count": null,
      "outputs": [
        {
          "output_type": "stream",
          "name": "stdout",
          "text": [
            "WER: 0.08\n",
            "CER: 0.015\n"
          ]
        }
      ]
    },
    {
      "cell_type": "markdown",
      "source": [
        "**Текст из учебника**"
      ],
      "metadata": {
        "id": "eC7zgPiV-afc"
      }
    },
    {
      "cell_type": "code",
      "source": [
        "# Автокоррекция учебного текста\n",
        "rec_educ_text_corr = corrector.FixFragment(rec_educ_text)\n",
        "\n",
        "print(\"Оригинальный текст:\", rec_educ_text[0:2000])\n",
        "print(\"Исправленный текст:\", rec_educ_text_corr[0:2000])"
      ],
      "metadata": {
        "colab": {
          "base_uri": "https://localhost:8080/"
        },
        "id": "NqEueTzqcj8J",
        "outputId": "40aac3e3-5831-450f-85aa-c1ee45323019"
      },
      "execution_count": null,
      "outputs": [
        {
          "output_type": "stream",
          "name": "stdout",
          "text": [
            "Оригинальный текст: Субъектом правопонимания всегда выступает конкретный человек, например: а) гражданин, обладающий минимальным правовым кругозором, столкнувшийся с проблемами права вообще; 6) юрист-профессионал, имеющий достаточный запас знаний о праве, способный применять и толковать правовые нормы; в) ученый, человек с абстрактным мышлением, занимающийся изучением права, обладающий суммой исторических и современных знаний, способный к интерпретации не только норм, но и принципов права, владеющий определенной методологией исследования. Правопонимание всегда субъективно, оригинально, хотя представления о праве могут совпадать у группы лиц и у целых слоев, классов.  Объектом правопонимания могут быть право в планетарном масштабе, право конкретного общества, отрасль, институт права, отдельные правовые нормы. При этом знания об отдельных структурных элементах экстраполируются на право в целом. Важную познавательную нагрузку здесь несут среда и взаимодействующие с правом общественные явления.  Содержание правопонимания составляют знания субъекта о его правах и обязанностях, конкретных и общих правовых дозволениях, запретах, а также оценка и отношение к ним как справедливым или несправедливым. В зависимости от уровня культуры, методической оснащенности субъекта и выбора предмета изучения правопонимание может быть полным или неполным, правильным или искаженным, положительным или отрицательным.  Обыкновенный человек понимает право так, как это позволяет ему собственный разум в определенных культурологических традициях соответствующей эпохи и общества. Для него понимание права во временном масштабе ограничено рамками его жизни. Однако это не означает, что после его смерти правопонимание исчезает совсем. Такие элементы правопонимания, как знания, оценки, могут передаваться другим людям, а исследователь-ученый оставляет после себя еще и письменные представления о праве. Другими словами, образ права, сложившийся в умах наших предшественников и выразившийся в виде той или иной концепции, оказыва\n",
            "Исправленный текст: Субъектом правопонимания всегда выступает конкретный человек, например: а) гражданин, обладающий минимальным правовым кругозором, столкнувшийся с проблемами права вообще; 6) юрист-профессионал, имеющий достаточный запас знаний о праве, способный применять и толковать правовые нормы; в) ученый, человек с абстрактным мышлением, занимающийся изучением права, обладающий суммой исторических и современных знаний, способный к интерпретации не только норм, но и принципов права, владеющий определенной методологией исследования. Правопонимание всегда субъективно, оригинально, хотя представления о праве могут совпадать у группы лиц и у целых слоев, классов.  Объектом правопонимания могут быть право в планетарной масштабе, право конкретного общества, отрасль, институт права, отдельные правовые нормы. При этом знания об отдельных структурных элементах экстраполируются на право в целом. Важную познавательную нагрузку здесь несут среда и взаимодействующие с правом общественные явления.  Содержание правопонимания составляют знания субъекта о его правах и обязанностях, конкретных и общих правовых дозволениях, запретах, а также оценка и отношение к ним как справедливым или несправедливым. В зависимости от уровня культуры, методической оснащенности субъекта и выбора предмета изучения правопонимание может быть полным или неполным, правильным или искаженным, положительным или отрицательным.  Обыкновенный человек понимает право так, как это позволяет ему собственный разум в определенных культурологических традициях соответствующей эпохи и общества. Для него понимание права во временном масштабе ограничено рамками его жизни. Однако это не означает, что после его смерти правопонимание исчезает совсем. Такие элементы правопонимания, как знания, оценки, могут передаваться другим людям, а исследователь-ученый оставляет после себя еще и письменные представления о праве. Другими словами, образ права, сложившийся в умах наших предшественников и выразившиеся в виде той или иной концепции, оказыва\n"
          ]
        }
      ]
    },
    {
      "cell_type": "code",
      "source": [
        "# Метрики учебного текста\n",
        "wer_educ_jamspell, cer_educ_jamspell = metrics_wer_cer(etalon_educ_text,\n",
        "                                                       rec_educ_text_corr)\n",
        "print(f\"WER: {wer_educ_jamspell}\")\n",
        "print(f\"CER: {cer_educ_jamspell}\")"
      ],
      "metadata": {
        "colab": {
          "base_uri": "https://localhost:8080/"
        },
        "id": "ljXIyAKbdnCv",
        "outputId": "b13e3cb8-5616-4e0f-d6ba-3902f54c78a8"
      },
      "execution_count": null,
      "outputs": [
        {
          "output_type": "stream",
          "name": "stdout",
          "text": [
            "WER: 0.028\n",
            "CER: 0.003\n"
          ]
        }
      ]
    },
    {
      "cell_type": "markdown",
      "source": [
        "**Результат:**\n",
        "\n",
        "Автокорректор работает быстро. Заменяет иногда исходя их своего понимания контекста, не попадая в настоящий контекст. Таким образом, получаются исправления типа: \"бродила → родила\", \"увязались → связались\". Кажется, что понимание контекста литературного текста очень не просто передать программе."
      ],
      "metadata": {
        "id": "dm92ytBZyHAJ"
      }
    },
    {
      "cell_type": "markdown",
      "source": [
        "### Aspell"
      ],
      "metadata": {
        "id": "l0uaJgUSo-G6"
      }
    },
    {
      "cell_type": "code",
      "source": [
        "def correct_text_aspell(text):\n",
        "    \"\"\"Функция для автокоррекции\"\"\"\n",
        "    process = subprocess.Popen(\n",
        "        [\"aspell\", \"-a\", \"--lang=ru\"],\n",
        "        stdin=subprocess.PIPE,\n",
        "        stdout=subprocess.PIPE,\n",
        "        text=True\n",
        "    )\n",
        "\n",
        "    # Передаём текст в Aspell\n",
        "    stdout, _ = process.communicate(text)\n",
        "\n",
        "    # Разбираем вывод Aspell\n",
        "    lines = stdout.split(\"\\n\")[1:]  # Пропускаем первую строку Aspell\n",
        "    words = text.split() # Разбиваем текст на слова\n",
        "\n",
        "    corrected_text = []\n",
        "    index = 0\n",
        "    for line in lines:\n",
        "        if line.startswith(\"&\"):\n",
        "            suggestions = line.split(\": \")[1].split(\", \")\n",
        "            corrected_text.append(suggestions[0] if suggestions else words[index])\n",
        "        else:\n",
        "            if index < len(words):\n",
        "                corrected_text.append(words[index])\n",
        "        index += 1\n",
        "\n",
        "    return \" \".join(corrected_text)"
      ],
      "metadata": {
        "id": "LEELD-LxdnOW"
      },
      "execution_count": null,
      "outputs": []
    },
    {
      "cell_type": "markdown",
      "source": [
        "**Литературный текст**"
      ],
      "metadata": {
        "id": "Th4rqZh2-fwx"
      }
    },
    {
      "cell_type": "code",
      "source": [
        "# Автокоррекция литературного текста\n",
        "lit_text_aspell_corr = correct_text_aspell(rec_lit_text)\n",
        "\n",
        "print(\"Оригинальный текст:\", rec_lit_text[0:1000])\n",
        "print(\"Исправленный текст:\", lit_text_aspell_corr[0:1000])"
      ],
      "metadata": {
        "colab": {
          "base_uri": "https://localhost:8080/"
        },
        "id": "KQB8D9RjGxnt",
        "outputId": "34e0091d-e30e-45a0-8499-fbd29f107184"
      },
      "execution_count": null,
      "outputs": [
        {
          "output_type": "stream",
          "name": "stdout",
          "text": [
            "Оригинальный текст: по-видимому, с вестибюля. В заплесневелых углах белесо мерцали кости прикованных скелетов, где-то мерно капала вода, в нишах между колоннами в неестественных позах торчали статуи в ржавых латах, справа от входа у стены громоздились обломки древних идолов, наверху этой кучи торчали гипсовые ноги в сапогах. С почерневших портретов под потолком строго взирали маститые старцы, в их лицах усматривались знакомые черты Федора Симеоновича, товарища Жиана Жиакомо и других мастеров. Весь этот архаический хлам надлежало давным-давно выбросить, прорубить в стенах окна и установить трубки дневного света, но все было заприходовано, заинвентаризовано и лично Модестом Матвеевичем к разбазариванию запрещено.  На капителях колонн и в лабиринтах исполинской люстры, свисающей с почерневшего потолка, шуршали нетопыри и летучие собаки. С ними Модест Матвеевич боролся. Он поливал их скипидаром и креозотом, опылял дустом, опрыскивал гексахлораном, они гибли тысячами, но возрождались десятками тысяч. Они мутир\n",
            "Исправленный текст: видимому с вестибюля. В заплесневелых углах белесою мерцали кости прикованных скелетов, гетто мерно капала вода, в нишах между колоннами в неестественных позах торчали статуи в ржавых латах, справа от входа у стены громоздились обломки древних идолов, наверху этой кучи торчали гипсовые ноги в сапогах. С почерневших портретов под потолком строго взирали маститые старцы, в их лицах усматривались знакомые черты Федора Семеновича товарища Жана Жаком и других мастеров. Весь этот архаический хлам надлежало Давыдовною выбросить, прорубить в стенах окна и установить трубки дневного света, но все было заприходовано, заинвентаризовано и лично Модестом Матвеевичем к разбазариванию запрещено. На капителях колонн и в лабиринтах исполинской люстры, свисающей с почерневшего потолка, шуршали нетопыри и летучие собаки. С ними Модест Матвеевич боролся. Он поливал их скипидаром и креозотом, опылял дустом, опрыскивал гексахлораном, они гибли тысячами, но возрождались десятками тысяч. Они мутировали, среди\n"
          ]
        }
      ]
    },
    {
      "cell_type": "code",
      "source": [
        "# Метрики литературного текста\n",
        "wer_lit_aspell, cer_lit_aspell = metrics_wer_cer(etalon_lit_text,\n",
        "                                                 lit_text_aspell_corr)\n",
        "print(f\"WER: {wer_lit_aspell}\")\n",
        "print(f\"CER: {cer_lit_aspell}\")"
      ],
      "metadata": {
        "colab": {
          "base_uri": "https://localhost:8080/"
        },
        "outputId": "eddf51df-c991-4252-b656-9fdc7bb1db2a",
        "id": "8ey_1WocPYsy"
      },
      "execution_count": null,
      "outputs": [
        {
          "output_type": "stream",
          "name": "stdout",
          "text": [
            "WER: 0.108\n",
            "CER: 0.081\n"
          ]
        }
      ]
    },
    {
      "cell_type": "markdown",
      "source": [
        "**Текст из учебника**"
      ],
      "metadata": {
        "id": "Moun6gjk-i4r"
      }
    },
    {
      "cell_type": "code",
      "source": [
        "# Автокоррекция учебного текста\n",
        "educ_text_aspell_corr = correct_text_aspell(rec_educ_text)\n",
        "\n",
        "print(\"Оригинальный текст:\", rec_educ_text[0:2000])\n",
        "print(\"Исправленный текст:\", educ_text_aspell_corr[0:2000])"
      ],
      "metadata": {
        "colab": {
          "base_uri": "https://localhost:8080/"
        },
        "outputId": "97ab3220-fbe6-4962-e9c0-5bece1092a5c",
        "id": "Kqls2r1TPCZ1"
      },
      "execution_count": null,
      "outputs": [
        {
          "output_type": "stream",
          "name": "stdout",
          "text": [
            "Оригинальный текст: Субъектом правопонимания всегда выступает конкретный человек, например: а) гражданин, обладающий минимальным правовым кругозором, столкнувшийся с проблемами права вообще; 6) юрист-профессионал, имеющий достаточный запас знаний о праве, способный применять и толковать правовые нормы; в) ученый, человек с абстрактным мышлением, занимающийся изучением права, обладающий суммой исторических и современных знаний, способный к интерпретации не только норм, но и принципов права, владеющий определенной методологией исследования. Правопонимание всегда субъективно, оригинально, хотя представления о праве могут совпадать у группы лиц и у целых слоев, классов.  Объектом правопонимания могут быть право в планетарном масштабе, право конкретного общества, отрасль, институт права, отдельные правовые нормы. При этом знания об отдельных структурных элементах экстраполируются на право в целом. Важную познавательную нагрузку здесь несут среда и взаимодействующие с правом общественные явления.  Содержание правопонимания составляют знания субъекта о его правах и обязанностях, конкретных и общих правовых дозволениях, запретах, а также оценка и отношение к ним как справедливым или несправедливым. В зависимости от уровня культуры, методической оснащенности субъекта и выбора предмета изучения правопонимание может быть полным или неполным, правильным или искаженным, положительным или отрицательным.  Обыкновенный человек понимает право так, как это позволяет ему собственный разум в определенных культурологических традициях соответствующей эпохи и общества. Для него понимание права во временном масштабе ограничено рамками его жизни. Однако это не означает, что после его смерти правопонимание исчезает совсем. Такие элементы правопонимания, как знания, оценки, могут передаваться другим людям, а исследователь-ученый оставляет после себя еще и письменные представления о праве. Другими словами, образ права, сложившийся в умах наших предшественников и выразившийся в виде той или иной концепции, оказыва\n",
            "Исправленный текст: Субъектом право понимания всегда выступает конкретный человек, например: а) гражданин, обладающий минимальным правовым кругозором, столкнувшийся с проблемами права вообще; 6) юрист-профессионал, имеющий достаточный запас знаний о праве, способный применять и толковать правовые нормы; в) ученый, человек с абстрактным мышлением, занимающийся изучением права, обладающий суммой исторических и современных знаний, способный к интерпретации не только норм, но и принципов права, владеющий определенной методологией Право понимание Правопонимание всегда субъективно, оригинально, хотя представления о праве могут совпадать у группы лиц и у целых слоев, классов. право понимания правопонимания могут быть право в планетарном масштабе, право конкретного общества, отрасль, институт права, отдельные правовые нормы. При этом знания об отдельных структурных элементах экстраполируются на право в целом. Важную познавательную нагрузку здесь несут среда и взаимодействующие с правом общественные явления. право понимания правопонимания составляют знания субъекта о его правах и обязанностях, конкретных и общих дозволения дозволениях, запретах, а также оценка и отношение к ним как справедливым или несправедливым. В зависимости от уровня культуры, методической оснащенности субъекта и выбора предмета право понимание правопонимание может быть полным или неполным, правильным или искаженным, положительным или отрицательным. Обыкновенный человек понимает право так, как это позволяет ему собственный разум в определенных культурологических традициях соответствующей эпохи и общества. Для него понимание права во временном масштабе ограничено рамками его жизни. Однако это не означает, что после его право понимание правопонимание исчезает совсем. Такие право понимания правопонимания, как знания, оценки, могут передаваться другим людям, исследовательницей исследователь-ученый оставляет после себя еще и письменные представления о праве. Другими словами, образ права, сложившийся в умах наших предшественников\n"
          ]
        }
      ]
    },
    {
      "cell_type": "code",
      "source": [
        "# Метрики учебного текста\n",
        "wer_educ_aspell, cer_educ_aspell = metrics_wer_cer(etalon_educ_text,\n",
        "                                                   educ_text_aspell_corr)\n",
        "print(f\"WER: {wer_educ_aspell}\")\n",
        "print(f\"CER: {cer_educ_aspell}\")"
      ],
      "metadata": {
        "colab": {
          "base_uri": "https://localhost:8080/"
        },
        "outputId": "0045c882-beaf-4c19-8f83-49a354abc8cd",
        "id": "jvmPLUOpPYsz"
      },
      "execution_count": null,
      "outputs": [
        {
          "output_type": "stream",
          "name": "stdout",
          "text": [
            "WER: 0.094\n",
            "CER: 0.066\n"
          ]
        }
      ]
    },
    {
      "cell_type": "markdown",
      "source": [
        "**Результат:**\n",
        "\n",
        "Метрики ухудшились по срванению с метриками распознанного текста без коррекции. Заменяет довольно распространенные слова на другие, \"где-то\" на \"гетто\", \"давным-давно\" на \"Давыдовною\". Имена собственные заменяет на более распространенные."
      ],
      "metadata": {
        "id": "bUt2NV1cywd8"
      }
    },
    {
      "cell_type": "markdown",
      "source": [
        "### LanguageTool"
      ],
      "metadata": {
        "id": "3gtBFsOMmJVR"
      }
    },
    {
      "cell_type": "code",
      "source": [
        "tool = LanguageTool('ru-RU')  # Указываем язык (русский)"
      ],
      "metadata": {
        "id": "uC9VfqMqnOIB",
        "colab": {
          "base_uri": "https://localhost:8080/"
        },
        "outputId": "1fa2e2e6-b8c9-464b-8d1a-96c14e029211"
      },
      "execution_count": null,
      "outputs": [
        {
          "output_type": "stream",
          "name": "stderr",
          "text": [
            "Downloading LanguageTool 6.4: 100%|██████████| 246M/246M [00:13<00:00, 17.8MB/s]\n",
            "INFO:language_tool_python.download_lt:Unzipping /tmp/tmpu5phgf8f.zip to /root/.cache/language_tool_python.\n",
            "INFO:language_tool_python.download_lt:Downloaded https://www.languagetool.org/download/LanguageTool-6.4.zip to /root/.cache/language_tool_python.\n"
          ]
        }
      ]
    },
    {
      "cell_type": "code",
      "source": [
        "# функция для автокоррекции\n",
        "def correct_with_languagetool(text):\n",
        "    matches = tool.check(text)\n",
        "    corrected_text = tool.correct(text)\n",
        "\n",
        "    # Список для хранения исправлений\n",
        "    corrections = []\n",
        "\n",
        "    for match in matches:\n",
        "        if match.replacements:  # Проверяем, есть ли предложения для замены\n",
        "            original = text[match.offset:match.offset + match.errorLength]\n",
        "            # Берем первое предложенное исправление\n",
        "            corrected = match.replacements[0]\n",
        "            corrections.append((original, corrected))\n",
        "\n",
        "    return corrected_text, corrections"
      ],
      "metadata": {
        "id": "db9jrI_AnJKA"
      },
      "execution_count": null,
      "outputs": []
    },
    {
      "cell_type": "markdown",
      "source": [
        "**Литературный текст**"
      ],
      "metadata": {
        "id": "6TVxduiI-oqi"
      }
    },
    {
      "cell_type": "code",
      "source": [
        "# Исправление текста\n",
        "corr_lit_text_lt, corrections_lit = correct_with_languagetool(rec_lit_text)\n",
        "\n",
        "# Вывод исправленного текста\n",
        "print(\"Оригинальный текст:\", rec_lit_text[0:1000])\n",
        "print(\"Исправленный текст:\", corr_lit_text_lt[0:1000])"
      ],
      "metadata": {
        "colab": {
          "base_uri": "https://localhost:8080/"
        },
        "id": "5lneIfpWzO_H",
        "outputId": "ac6209f9-d8f7-45bb-f0aa-34a585f228c2"
      },
      "execution_count": null,
      "outputs": [
        {
          "output_type": "stream",
          "name": "stdout",
          "text": [
            "Оригинальный текст: по-видимому, с вестибюля. В заплесневелых углах белесо мерцали кости прикованных скелетов, где-то мерно капала вода, в нишах между колоннами в неестественных позах торчали статуи в ржавых латах, справа от входа у стены громоздились обломки древних идолов, наверху этой кучи торчали гипсовые ноги в сапогах. С почерневших портретов под потолком строго взирали маститые старцы, в их лицах усматривались знакомые черты Федора Симеоновича, товарища Жиана Жиакомо и других мастеров. Весь этот архаический хлам надлежало давным-давно выбросить, прорубить в стенах окна и установить трубки дневного света, но все было заприходовано, заинвентаризовано и лично Модестом Матвеевичем к разбазариванию запрещено.  На капителях колонн и в лабиринтах исполинской люстры, свисающей с почерневшего потолка, шуршали нетопыри и летучие собаки. С ними Модест Матвеевич боролся. Он поливал их скипидаром и креозотом, опылял дустом, опрыскивал гексахлораном, они гибли тысячами, но возрождались десятками тысяч. Они мутир\n",
            "Исправленный текст: По-видимому, с вестибюля. В заплесневелых углах белесо мерцали кости прикованных скелетов, где-то мерно капала вода, в нишах между колоннами в неестественных позах торчали статуи в ржавых латах, справа от входа у стены громоздились обломки древних идолов, наверху этой кучи торчали гипсовые ноги в сапогах. С почерневших портретов под потолком строго взирали маститые старцы, в их лицах усматривались знакомые черты Федора Симеоновича, товарища Диана Диаком и других мастеров. Весь этот архаический хлам надлежало давным-давно выбросить, прорубить в стенах окна и установить трубки дневного света, но все было заприходовано, заинвентаризовано и лично Модестом Матвеевичем к разбазариванию запрещено.  На капителях колонн и в лабиринтах исполинской люстры, свисающей с почерневшего потолка, шуршали нетопыри и летучие собаки. С ними Модест Матвеевич боролся. Он поливал их скипидаром и креозотом, опылял дустом, опрыскивал гексахлораном, они гибли тысячами, но возрождались десятками тысяч. Они мутиро\n"
          ]
        }
      ]
    },
    {
      "cell_type": "code",
      "source": [
        "# Вывод исправленных слов\n",
        "print(\"\\n🔍 Найденные исправления:\")\n",
        "for original, corrected in corrections_lit:\n",
        "    print(f\"❌ {original} → {corrected}\")"
      ],
      "metadata": {
        "colab": {
          "base_uri": "https://localhost:8080/"
        },
        "id": "BmjAfiDZoP3y",
        "outputId": "fe253be8-23ac-48a4-d56c-5aee92f894d0"
      },
      "execution_count": null,
      "outputs": [
        {
          "output_type": "stream",
          "name": "stdout",
          "text": [
            "\n",
            "🔍 Найденные исправления:\n",
            "❌ по-видимому → По-видимому\n",
            "❌ Жиана → Диана\n",
            "❌ Жиакомо → Диаком\n",
            "❌ паиболее → наиболее\n",
            "❌ ктото → кто-то\n",
            "❌ ,— строго → , — строго\n",
            "❌ .— Что → . — Что\n",
            "❌ спаружи → снаружи\n",
            "❌ и тем не менее → тем не менее\n",
            "❌    →  \n",
            "❌  \f  →  \n",
            "❌ оптнмизм → оптимизм\n",
            "❌ субмолекулярной → бимолекулярной\n",
            "❌ экстракфты → экстракты\n",
            "❌ гореутолителей → горе утолителей\n",
            "❌ злободроби → глыбодробе\n",
            "❌ тель → телль\n",
            "❌ Вием → Аием\n",
            "❌ в Соловец → в соловце\n",
            "❌    →  \n",
            "❌  \f  →  \n",
            "❌ Бидструпа → Пеструха\n",
            "❌ вниварии → виварии\n",
            "❌    →  \n",
            "❌ Бриарей → Бри арей\n",
            "❌ ,— сказал → , — сказал\n",
            "❌ ,— и → , — и\n",
            "❌ ,— сказал → , — сказал\n",
            "❌ ,— сказал → , — сказал\n",
            "❌ .— Пойдем → . — Пойдем\n",
            "❌ в глубь → вглубь\n",
            "❌ пятидесятиголовые → пятидесятидолларовые\n",
            "❌ братцыблизнецы → братцы близнецы\n",
            "❌ Гиес → Гияс\n",
            "❌ Котт → Готт\n",
            "❌ Бриарей → Бри арей\n",
            "❌ .— Болит → . — Болит\n",
            "❌ по-эллински → доэллински\n",
            "❌ ,— сказала → , — сказала\n",
            "❌ притихЛи → притихли\n",
            "❌  \f  →  \n",
            "❌ Бриарей → Бри арей\n",
            "❌ Ну-ну-ну → Ну-ну\n",
            "❌ ,— сказал → , — сказал\n",
            "❌ Бриарей → Бри арей\n",
            "❌ Бриарей → Бри арей\n",
            "❌ развсшаны → развешаны\n",
            "❌ Чингис-хана → Чингисхана\n",
            "❌ Медичи → Медеи\n",
            "❌ Борджиа → Серджиу\n",
            "❌ Голдуотера → Голдгойера\n",
            "❌ взревывания → изрезывания\n",
            "❌    →  \n",
            "❌    →  \n",
            "❌  \f  →  \n",
            "❌    →  \n",
            "❌ ,— сказал → , — сказал\n",
            "❌ .— Осины → . — Осины\n",
            "❌    →  \n",
            "❌ ,— отвечал → , — отвечал\n",
            "❌ энергогенератор → энерго генератор\n",
            "❌ защишать → защищать\n",
            "❌ трансгалактических → транс галактических\n",
            "❌ точностн → точность\n",
            "❌ Онн → Энн\n",
            "❌    →  \n",
            "❌  \f  →  \n",
            "❌ Бецалель → Беца лель\n",
            "❌ Голема → Голима\n",
            "❌ Бальзамо → Бальзамов\n",
            "❌ помелах → омелах\n",
            "❌ рейтарскимн → рейтарским\n",
            "❌ ифритов → ефремов\n",
            "❌ Кристобаль → Арестовать\n",
            "❌ Велнкому → Ленкому\n",
            "❌ протяженин → протяжение\n",
            "❌ Кристобалю → Арестовал\n",
            "❌  \f  →  \n",
            "❌ валявшуюзся → валявшуюся\n",
            "❌ данаид → Данаид\n",
            "❌ -ти → бти\n",
            "❌ пнтекантропом → питекантропом\n",
            "❌ Аыуыхх → Былых\n",
            "❌ авг → увы\n",
            "❌ ян → Ян\n",
            "❌ Э-Уа → Г-жа\n",
            "❌ Араратск → Араратски\n",
            "❌ долин → Долин\n",
            "❌ удовольств → довольств\n",
            "❌ пещерн → пещера\n",
            "❌ медвед → Медведь\n",
            "❌ во → Во\n",
            "❌  \f  →  \n",
            "❌ Анацефал → Инициал\n",
            "❌ гварии → аварии\n",
            "❌    →  \n",
            "❌ подписан → Подписан\n",
            "❌ Монгольфье → Монгольфьер\n",
            "❌    →  \n",
            "❌ во облацех → в облацех\n",
            "❌ Предикторские → Пре дикторские\n",
            "❌ ито-нибудь → что-нибудь\n",
            "❌ удивлепными → удивлёнными\n",
            "❌    →  \n",
            "❌ 97 \f что → 97, что\n",
            "❌ У-Янус → Янус\n",
            "❌ вечномолодого → вечно молодого\n",
            "❌ ноблескивающий → поблёскивающей\n",
            "❌ расчетамн → расчётам\n",
            "❌ Жиан → Пион\n",
            "❌ Жиакомо → Диаком\n",
            "❌ Кристобаль → Арестовать\n",
            "❌ полключать → подключать\n",
            "❌ того Чтобы считать → того, Чтобы считать\n",
            "❌ шестидесятеричную → шести десятеричную\n",
            "❌ пею → пию\n",
            "❌ чет-печет → лепечет\n",
            "❌ се → си\n",
            "❌ , Вселил → , вселил\n",
            "❌    →  \n",
            "❌ 98 \f впрочем довольно → 98, впрочем, довольно\n",
            "❌ Полуэктович → Полиектович\n",
            "❌ коробочку → Коробочку\n",
            "❌ Полуэктович → Полиектович\n",
            "❌ неконгруентной → неконкурентной\n",
            "❌ пси-поле → биополе\n",
            "❌ инкубпреобразования → инкуб преобразования\n",
            "❌ М-поля → Поля\n",
            "❌ девятимерном → девяти мерном\n",
            "❌ магопространстве → маго пространстве\n",
            "❌ Кристобаля → Арестовал\n",
            "❌ административно-хозяйственного → административно-хозяйственной\n",
            "❌ ифрита → африта\n",
            "❌ стрептоцидовой → стрептоцидов ой\n",
            "❌ ифриты → африты\n",
            "❌    →  \n",
            "❌  \f  →  \n",
            "❌ Выбегаллы → Выбегалло\n",
            "❌ неувеличения → не увеличения\n",
            "❌ ассимптотического → асимптотического\n",
            "❌ настрльных → настильных\n",
            "❌ Лопиталя → Допетая\n",
            "❌ Амбруазовича → Амбру азовича\n",
            "❌ Выбегаллы → Выбегалло\n",
            "❌ Выбегаллы → Выбегалло\n",
            "❌ Компрене → Комарине\n",
            "❌ ву → в\n",
            "❌       →  \n",
            "❌  \f  →  \n"
          ]
        }
      ]
    },
    {
      "cell_type": "markdown",
      "source": [
        "Видно, что помимо ошибок автокорректор исправил некоторые имена собственные, фантазийные слова, пробел перед тире в прямой речи, сложные слова, которых нет у него в словаре. Пробовала игнорировать \",-\", но метрики стали хуже."
      ],
      "metadata": {
        "id": "NhvVv-DRp_2-"
      }
    },
    {
      "cell_type": "code",
      "source": [
        "# Метрики литературного текста\n",
        "wer_lit_lt, cer_lit_lt = metrics_wer_cer(etalon_lit_text,\n",
        "                                         corr_lit_text_lt)\n",
        "print(f\"WER: {wer_lit_lt}\")\n",
        "print(f\"CER: {cer_lit_lt}\")"
      ],
      "metadata": {
        "colab": {
          "base_uri": "https://localhost:8080/"
        },
        "outputId": "c0f16490-8dfa-4560-d496-89de499ba349",
        "id": "VTorXrvviSn4"
      },
      "execution_count": null,
      "outputs": [
        {
          "output_type": "stream",
          "name": "stdout",
          "text": [
            "WER: 0.058\n",
            "CER: 0.009\n"
          ]
        }
      ]
    },
    {
      "cell_type": "markdown",
      "source": [
        "**Текст из учебника**"
      ],
      "metadata": {
        "id": "kT-SwsVh-tZs"
      }
    },
    {
      "cell_type": "code",
      "source": [
        "# Исправление текста\n",
        "corr_educ_text_lt, corrections_educ = correct_with_languagetool(rec_educ_text)\n",
        "\n",
        "# Вывод исправленного текста\n",
        "print(\"Оригинальный текст:\", rec_educ_text[0:1000])\n",
        "print(\"Исправленный текст:\", corr_educ_text_lt[0:1000])"
      ],
      "metadata": {
        "colab": {
          "base_uri": "https://localhost:8080/"
        },
        "id": "B2yjvJJZzv70",
        "outputId": "ea6f2f07-f791-46e3-e275-f77382593f4c"
      },
      "execution_count": null,
      "outputs": [
        {
          "output_type": "stream",
          "name": "stdout",
          "text": [
            "Оригинальный текст: Субъектом правопонимания всегда выступает конкретный человек, например: а) гражданин, обладающий минимальным правовым кругозором, столкнувшийся с проблемами права вообще; 6) юрист-профессионал, имеющий достаточный запас знаний о праве, способный применять и толковать правовые нормы; в) ученый, человек с абстрактным мышлением, занимающийся изучением права, обладающий суммой исторических и современных знаний, способный к интерпретации не только норм, но и принципов права, владеющий определенной методологией исследования. Правопонимание всегда субъективно, оригинально, хотя представления о праве могут совпадать у группы лиц и у целых слоев, классов.  Объектом правопонимания могут быть право в планетарном масштабе, право конкретного общества, отрасль, институт права, отдельные правовые нормы. При этом знания об отдельных структурных элементах экстраполируются на право в целом. Важную познавательную нагрузку здесь несут среда и взаимодействующие с правом общественные явления.  Содержание пр\n",
            "Исправленный текст: Субъектом право понимания всегда выступает конкретный человек, например: а) гражданин, обладающий минимальным правовым кругозором, столкнувшийся с проблемами права вообще; 6) юрист-профессионал, имеющий достаточный запас знаний о праве, способный применять и толковать правовые нормы; в) ученый, человек с абстрактным мышлением, занимающийся изучением права, обладающий суммой исторических и современных знаний, способный к интерпретации не только норм, но и принципов права, владеющий определенной методологией исследования. Право понимание всегда субъективно, оригинально, хотя представления о праве могут совпадать у группы лиц и у целых слоев, классов.  Объектом право понимания могут быть право в планетарном масштабе, право конкретного общества, отрасль, институт права, отдельные правовые нормы. При этом знания об отдельных структурных элементах экстраполируются на право в целом. Важную познавательную нагрузку здесь несут среда и взаимодействующие с правом общественные явления.  Содержание\n"
          ]
        }
      ]
    },
    {
      "cell_type": "code",
      "source": [
        "# Вывод исправленных слов\n",
        "print(\"\\n🔍 Найденные исправления:\")\n",
        "for original, corrected in corrections_educ:\n",
        "    print(f\"❌ {original} → {corrected}\")"
      ],
      "metadata": {
        "colab": {
          "base_uri": "https://localhost:8080/"
        },
        "id": "CbUh_kppr6M7",
        "outputId": "1e64a182-ed36-4355-a27b-ee3782c803b1"
      },
      "execution_count": null,
      "outputs": [
        {
          "output_type": "stream",
          "name": "stdout",
          "text": [
            "\n",
            "🔍 Найденные исправления:\n",
            "❌ правопонимания → право понимания\n",
            "❌ Правопонимание → Право понимание\n",
            "❌ правопонимания → право понимания\n",
            "❌ правопонимания → право понимания\n",
            "❌ правопонимание → право понимание\n",
            "❌ правопонимание → право понимание\n",
            "❌ правопонимания → право понимания\n",
            "❌ правопонимания → право понимания\n",
            "❌  \f  →  \n",
            "❌ правопонимания → право понимания\n",
            "❌ правообразования → кровообразования\n",
            "❌ социальноценностный → социально ценностный\n",
            "❌ Вл → Л\n",
            "❌ неотомисты → диатомиты\n",
            "❌    →  \n",
            "❌  \f  →  \n",
            "❌ правообразования → кровообразования\n",
            "❌ ,— государство → , — государство\n",
            "❌ ,— подчеркивал → , — подчеркивал\n",
            "❌ ,— стремится → , — стремится\n",
            "❌ революций → Революций\n",
            "❌ естественно-правовой → имущественно-правовой\n",
            "❌ Бергбом → Бергом\n",
            "❌ оппози → аппазе\n",
            "❌ Цит → Жить\n",
            "❌ по → По\n",
            "❌  \f  →  \n"
          ]
        }
      ]
    },
    {
      "cell_type": "code",
      "source": [
        "# Метрики учебного текста\n",
        "wer_educ_lt, cer_educ_lt = metrics_wer_cer(etalon_educ_text,\n",
        "                                           corr_educ_text_lt)\n",
        "print(f\"WER: {wer_educ_lt}\")\n",
        "print(f\"CER: {cer_educ_lt}\")"
      ],
      "metadata": {
        "colab": {
          "base_uri": "https://localhost:8080/"
        },
        "outputId": "9bc11fd4-ac4e-4eaa-d446-f41309aa4fde",
        "id": "1iLtrqk8rwEu"
      },
      "execution_count": null,
      "outputs": [
        {
          "output_type": "stream",
          "name": "stdout",
          "text": [
            "WER: 0.053\n",
            "CER: 0.005\n"
          ]
        }
      ]
    },
    {
      "cell_type": "markdown",
      "source": [
        "**Результат:**\n",
        "\n",
        "Этот автокорректор кроме орфографических ошибок заменяет сложные слова, неправильную пунктуацию, имена собственные, фантазийные слова, придуманные автором."
      ],
      "metadata": {
        "id": "rS88K7e2z585"
      }
    },
    {
      "cell_type": "markdown",
      "source": [
        "### RU T5"
      ],
      "metadata": {
        "id": "oamyjcBjW1WO"
      }
    },
    {
      "cell_type": "markdown",
      "source": [
        "rut5-base-multitask — это предобученная модель на основе архитектуры T5 (Text-To-Text Transfer Transformer), адаптированная для работы с русским языком. Она размещена на платформе Hugging Face.\n",
        "\n",
        "T5 (Text-to-Text Transfer Transformer) — это модель от Google, обученная переводить любые задачи обработки текста"
      ],
      "metadata": {
        "id": "Y_z85_G-6JOi"
      }
    },
    {
      "cell_type": "code",
      "source": [
        "# Загрузка модели и токенизатора\n",
        "model_name = \"cointegrated/rut5-base-multitask\"\n",
        "tokenizer = AutoTokenizer.from_pretrained(model_name)\n",
        "model = AutoModelForSeq2SeqLM.from_pretrained(model_name)"
      ],
      "metadata": {
        "colab": {
          "base_uri": "https://localhost:8080/",
          "height": 251,
          "referenced_widgets": [
            "bed993786e9c4d1baedec363b0d51c66",
            "27fb2ed75c574ef6be232cd91c7ccfd2",
            "143ba713af99456f9d7342a15b0b6c18",
            "9ce7a4740566478eaaa2ba83bf5a39fd",
            "75837be7ddd24c828ba73a14b10b2f9a",
            "cd27ef8872944939926158bbc7516fae",
            "7646269de1bd487b9ff1a394260fa0e0",
            "d319ef93b9b943d38e114b808fd8ede6",
            "e70b3fa7668942f5a9512768abbb990b",
            "3c220d74322e49e0880b3cdda201d87b",
            "04122f0e2add4d8d8005d636e5f2f8df",
            "9704ef268be646b2a4ec43bd8b6d69e0",
            "a85cc095ffb94246904173c5e03524a2",
            "535598ee8e1848f4b94ecf1c12f6c28a",
            "d6513db0a5c74619af5e5754d8781828",
            "9eb562bedbfa4a7a94cae4998f64008f",
            "f5dd02e419514163a5c01ed94fb8c2a0",
            "e2125bcba8094bfc8ee1820872ce12a7",
            "de05dd67c55645259e6d10a0facf89a1",
            "84425dccbbf14e39a46b9f4e428dfda6",
            "746d486f78d74dd692761d11cae2ec16",
            "05d7578161d241c1a0675fdc4e027b4b",
            "5e0ac7f9835a4443bea07d23944d859f",
            "f521fc217dfb4e279cc82f504f0c0240",
            "ac330c0ea0464b4388091cb09b1274bf",
            "8fc0fdc850cc4a38a617ee5fa17b8e0d",
            "bf227c180ac440c889831713db7517a4",
            "abc076a0f4c8415790607b495e484d62",
            "81dba0ed444d4177bc7c8847be8e1d83",
            "95a9eb6a75cc42cd95a9e9f5814aaddd",
            "88ffb5f504fb41dc9508b0147fa5c0f2",
            "a40874f09e2045d0a4c89e958f9a4309",
            "de6830c90d4e4671b760af5bdb1dbbbf",
            "fbace93a31434ba89e54801e2f1f6f98",
            "bba09cd16dde45519c35e843b7222dc6",
            "41a957cb4fbb45728e1d56ce2209a7b0",
            "ac424ec805554a0aadeacac459fb24f9",
            "17660f8d04334db28057d193154b81a8",
            "ca3599be661f43acbcc3004792407597",
            "3643e69c6ff043d3b21bbc6968c18659",
            "d9d6163236614264b5dee4641a0a911d",
            "420e8e1f6c9346e3a2101023e6936814",
            "5b304deec4d244a1be4ceaf04d37a73d",
            "2d992d8a327d46ba86ab208762090bca",
            "67b70d456c9949c2a85a03079c01ccea",
            "2365b075af374d9fbb5949258bbbf6cd",
            "9f788cd0b8f64bab9947855272ea2113",
            "693e63dab94b4cfd9d35f3eed42dad6d",
            "70117740f1744ef1bbcef3090d13b08e",
            "7b9dc4f402ea48a0aa62f521b64d62ba",
            "b773cb6e845d4516846a9ecc57d6b340",
            "f2686f862ad14ce09d20b9501b1559dc",
            "ecaeacea014343829d14efe1a78a1650",
            "99bde9a8c12e45f0b0aa75019e48c0ba",
            "29e2d6333ee84cc9b60313e8f3f638ba"
          ]
        },
        "id": "ZoMJq4ow1aB5",
        "outputId": "efe25cf8-56ed-4b06-de06-24b6ece8ddd2"
      },
      "execution_count": null,
      "outputs": [
        {
          "output_type": "display_data",
          "data": {
            "text/plain": [
              "tokenizer_config.json:   0%|          | 0.00/260 [00:00<?, ?B/s]"
            ],
            "application/vnd.jupyter.widget-view+json": {
              "version_major": 2,
              "version_minor": 0,
              "model_id": "bed993786e9c4d1baedec363b0d51c66"
            }
          },
          "metadata": {}
        },
        {
          "output_type": "display_data",
          "data": {
            "text/plain": [
              "config.json:   0%|          | 0.00/726 [00:00<?, ?B/s]"
            ],
            "application/vnd.jupyter.widget-view+json": {
              "version_major": 2,
              "version_minor": 0,
              "model_id": "9704ef268be646b2a4ec43bd8b6d69e0"
            }
          },
          "metadata": {}
        },
        {
          "output_type": "display_data",
          "data": {
            "text/plain": [
              "spiece.model:   0%|          | 0.00/828k [00:00<?, ?B/s]"
            ],
            "application/vnd.jupyter.widget-view+json": {
              "version_major": 2,
              "version_minor": 0,
              "model_id": "5e0ac7f9835a4443bea07d23944d859f"
            }
          },
          "metadata": {}
        },
        {
          "output_type": "display_data",
          "data": {
            "text/plain": [
              "special_tokens_map.json:   0%|          | 0.00/65.0 [00:00<?, ?B/s]"
            ],
            "application/vnd.jupyter.widget-view+json": {
              "version_major": 2,
              "version_minor": 0,
              "model_id": "fbace93a31434ba89e54801e2f1f6f98"
            }
          },
          "metadata": {}
        },
        {
          "output_type": "stream",
          "name": "stderr",
          "text": [
            "You are using the default legacy behaviour of the <class 'transformers.models.t5.tokenization_t5.T5Tokenizer'>. This is expected, and simply means that the `legacy` (previous) behavior will be used so nothing changes for you. If you want to use the new behaviour, set `legacy=False`. This should only be set if you understand what it means, and thoroughly read the reason why this was added as explained in https://github.com/huggingface/transformers/pull/24565\n",
            "/usr/local/lib/python3.11/dist-packages/transformers/convert_slow_tokenizer.py:561: UserWarning: The sentencepiece tokenizer that you are converting to a fast tokenizer uses the byte fallback option which is not implemented in the fast tokenizers. In practice this means that the fast version of the tokenizer can produce unknown tokens whereas the sentencepiece version would have converted these unknown tokens into a sequence of byte tokens matching the original piece of text.\n",
            "  warnings.warn(\n"
          ]
        },
        {
          "output_type": "display_data",
          "data": {
            "text/plain": [
              "model.safetensors:   0%|          | 0.00/977M [00:00<?, ?B/s]"
            ],
            "application/vnd.jupyter.widget-view+json": {
              "version_major": 2,
              "version_minor": 0,
              "model_id": "67b70d456c9949c2a85a03079c01ccea"
            }
          },
          "metadata": {}
        }
      ]
    },
    {
      "cell_type": "code",
      "source": [
        "# Использование GPU, если доступно\n",
        "device = torch.device(\"cuda\" if torch.cuda.is_available() else \"cpu\")\n",
        "model = model.to(device)"
      ],
      "metadata": {
        "id": "1gtrsAAN8NX6"
      },
      "execution_count": null,
      "outputs": []
    },
    {
      "cell_type": "code",
      "source": [
        "# Функция для разбиения длинных предложений на части\n",
        "def split_long_sentence(sentence, max_tokens=450, overlap=50):\n",
        "    words = word_tokenize(sentence, language='russian')\n",
        "    chunks = []\n",
        "    current_chunk = []\n",
        "\n",
        "    for word in words:\n",
        "        current_chunk.append(word)\n",
        "        if len(tokenizer.encode(' '.join(current_chunk))) >= max_tokens:\n",
        "            chunks.append(' '.join(current_chunk))\n",
        "            # перекрытие для сохранения контекста\n",
        "            current_chunk = current_chunk[-overlap:]\n",
        "\n",
        "    if current_chunk:\n",
        "        chunks.append(' '.join(current_chunk))\n",
        "    return chunks\n",
        "\n",
        "# Функция для исправления текста с учетом предложений\n",
        "def correct_text_rut5(text):\n",
        "    sentences = sent_tokenize(text, language='russian')\n",
        "    corrected_sentences = []\n",
        "\n",
        "    for sentence in sentences:\n",
        "        # Проверка длины предложения\n",
        "        if len(tokenizer.encode(sentence)) > 512:\n",
        "            parts = split_long_sentence(sentence)\n",
        "        else:\n",
        "            parts = [sentence]\n",
        "\n",
        "        corrected_parts = []\n",
        "        for part in parts:\n",
        "            input_text = f\"Исправь ошибки, не изменяя стиль: {part}\"\n",
        "            inputs = tokenizer.encode(input_text,\n",
        "                                      return_tensors=\"pt\",\n",
        "                                      max_length=512,\n",
        "                                      truncation=True).to(device)\n",
        "\n",
        "            outputs = model.generate(\n",
        "                inputs,\n",
        "                max_length=512,\n",
        "                num_beams=4,\n",
        "                do_sample=False,\n",
        "                repetition_penalty=1.0\n",
        "            )\n",
        "\n",
        "            corrected_part = tokenizer.decode(\n",
        "                outputs[0],\n",
        "                skip_special_tokens=True\n",
        "                )\n",
        "            corrected_parts.append(corrected_part)\n",
        "\n",
        "        # Объединение исправленных частей текста\n",
        "        merged_sentence = ' '.join(corrected_parts)\n",
        "        corrected_sentences.append(merged_sentence)\n",
        "\n",
        "    return ' '.join(corrected_sentences)\n",
        "\n",
        "# Пример длинного текста с ошибками\n",
        "text_with_errors = \"\"\"\n",
        "В заплесневелых углах белесо мерцали кости прикованных скелетов, где-то мерно капала вода,\n",
        "в нишах между колоннами в неестественных позах торчали статуи в ржавых латах,\n",
        "справа от входа у стены громоздились обломки древних идолов, наверху этой кучи торчали гипсовые ноги в сапогах.\n",
        "\"\"\"\n",
        "\n",
        "# Исправление текста\n",
        "corrected_text = correct_text_rut5(text_with_errors)\n",
        "\n",
        "# Результат\n",
        "print(\"🔹 Оригинальный текст:\")\n",
        "print(text_with_errors)\n",
        "print(\"\\n✅ Исправленный текст:\")\n",
        "print(corrected_text)\n"
      ],
      "metadata": {
        "colab": {
          "base_uri": "https://localhost:8080/"
        },
        "id": "6qR9KpPiVJ_1",
        "outputId": "e8b559ae-37e6-4db2-fc50-e7f075b997c7"
      },
      "execution_count": null,
      "outputs": [
        {
          "output_type": "stream",
          "name": "stdout",
          "text": [
            "🔹 Оригинальный текст:\n",
            "\n",
            "В заплесневелых углах белесо мерцали кости прикованных скелетов, где-то мерно капала вода,\n",
            "в нишах между колоннами в неестественных позах торчали статуи в ржавых латах,\n",
            "справа от входа у стены громоздились обломки древних идолов, наверху этой кучи торчали гипсовые ноги в сапогах.\n",
            "\n",
            "\n",
            "✅ Исправленный текст:\n",
            "В заплесневелых углах белесо мерцали кости прикованных скелетов, где-то мерно капала вода, в нишах между колоннами в неестественных позах торчали статуи в ржавых латах.\n"
          ]
        }
      ]
    },
    {
      "cell_type": "markdown",
      "source": [
        "**Литературный текст**"
      ],
      "metadata": {
        "id": "-6EkNhK7-6nP"
      }
    },
    {
      "cell_type": "code",
      "source": [
        "corr_lit_text_rut5 = correct_text_rut5(rec_lit_text)"
      ],
      "metadata": {
        "id": "tlolCGOvF-ZB"
      },
      "execution_count": null,
      "outputs": []
    },
    {
      "cell_type": "code",
      "source": [
        "print(\"Оригинальный текст:\", rec_lit_text[0:2500])\n",
        "print(\"Исправленный текст:\", corr_lit_text_rut5[0:2500])"
      ],
      "metadata": {
        "colab": {
          "base_uri": "https://localhost:8080/"
        },
        "id": "VfzxuhjsE_jV",
        "outputId": "81eb9ea3-c147-4478-ceab-3a9167843301"
      },
      "execution_count": null,
      "outputs": [
        {
          "output_type": "stream",
          "name": "stdout",
          "text": [
            "Оригинальный текст: по-видимому, с вестибюля. В заплесневелых углах белесо мерцали кости прикованных скелетов, где-то мерно капала вода, в нишах между колоннами в неестественных позах торчали статуи в ржавых латах, справа от входа у стены громоздились обломки древних идолов, наверху этой кучи торчали гипсовые ноги в сапогах. С почерневших портретов под потолком строго взирали маститые старцы, в их лицах усматривались знакомые черты Федора Симеоновича, товарища Жиана Жиакомо и других мастеров. Весь этот архаический хлам надлежало давным-давно выбросить, прорубить в стенах окна и установить трубки дневного света, но все было заприходовано, заинвентаризовано и лично Модестом Матвеевичем к разбазариванию запрещено.  На капителях колонн и в лабиринтах исполинской люстры, свисающей с почерневшего потолка, шуршали нетопыри и летучие собаки. С ними Модест Матвеевич боролся. Он поливал их скипидаром и креозотом, опылял дустом, опрыскивал гексахлораном, они гибли тысячами, но возрождались десятками тысяч. Они мутировали, среди них появлялись поющие и разговаривающие штаммы, потомки паиболее древних родов питались теперь исключительно пиретрумом, смешанным с хлорофосом, а институтский киномеханик Саня Дрозд клялся, что своими глазами видел здесь однажды нетопыря, как две капли воды похожего на товарища завкадрами.  В глубокой нище, из которой тянуло ледяным смрадом, ктото застонал и загремел цепями. «Вы это прекратите,— строго сказал я.— Что еще за мистика! Как не стыдно!..» В нише затихли. Я хозяйственно поправил сбившийся ковер и поднялся по лестнице.  Как известно, спаружи институт выглядел двухэтажным. На самом деле в нем было не менее двенадцати этажей. Выше двенадцатого я просто никогда не поднимался, потому что лифт постоянно чинили, а летать я еще не умел. Фасад с десятью окнами, как и большинство фасадов, тоже был обманом зрения. Вправо и влево от вестибюля институт простирался по крайней мере на километр, и тем не менее решительно все окна выходили на ту же кривоватую улицу и на тот же самый лабаз. Это поражало меня необычайно. Первое время я приставал к Ойре-Ойре, чтобы он мне объяснил, как это совмещается с классическими или хотя бы с релятивистскими представлениями о свойствах пространства. Из объяснений я ничего не понял, но постепенно привык и перестал удивляться. Я совершенно убежден, что через десять — пятнадцать лет  90 \f любой школьник будет лучше разбираться в общей теории относительности, чем современный специалист. Для этого вовсе не нужно понимать, как происходит \n",
            "Исправленный текст: С вестибюля, по-видимому, с вестибюля. В заплесневелых углах белесо мерцали кости прикованных скелетов, где-то мерно капала вода, в нишах между колоннами в неестественных позах торчали статуи в ржавых латах. С почерневших портретов под потолком строго взирали маститые старцы, в их лицах усматривались знакомые черты Федора Симеоновича, товарища Жиана Жиакомо и других мастеров. В их лицах усматривались знакомые черты Федора Симеоновича, товарища Жиана Жиакомо и других мастеров. Весь этот архаический хлам надлежало давным-давно выбросить, прорубить в стенах окна и установить трубки дневного света, но все было заприходовано, заинвентаризовано и лично Модестом Матвеевичем к разбазариванию запрещено. На капителях колонн и в лабиринтах исполинской люстры, свисающей с почерневшего потолка, шуршали нетопыри и летучие собаки. С ними Модест Матвеевич боролся. Он поливал их скипидаром и креозотом, опылял дустом, опрыскивал гексахлораном. Они гибли тысячами, но возрождались десятками тысяч. Они мутировали, среди них появлялись поющие и разговаривающие штаммы, потомки паиболее древних родов питались исключительно пиретрумом, смешанным с хлорофосом, а институтский киномеханик Саня Дрозд клялся, что своими глазами видел здесь однажды нетопыря, как две капли воды похожего на товарища завкадрами. В глубокой нище, из которой тянуло ледяным смрадом, ктото застонал и загремел цепями. Что еще за мистика? Как не стыдно! Я хозяйственно поправил сбившийся ковер и поднялся по лестнице. Как известно, спаружи институт выглядел двухэтажным. На самом деле в нем было не менее двенадцати этажей. Я просто никогда не поднимался, потому что лифт постоянно чинили, а летать я еще не умел. С десятью окнами, как и большинство фасадов, тоже был обманом зрения. Вправо и влево от вестибюля институт простирался по крайней мере на километр, и тем не менее решительно все окна выходили на ту же кривоватую улицу и на тот же самый лабаз. Это поражало меня необычайно. Я приставал к Ойре-Ойре, чтобы он мне объяснил, как это совмещается с классическими или хотя бы с релятивистскими представлениями о свойствах пространства. Из объяснений я ничего не понял, но постепенно привык и перестал удивляться. Через десять — пятнадцать лет 90 любой школьник будет лучше разбираться в общей теории относительности, чем современный специалист. Для этого вовсе не нужно понимать, как происходит искривление пространства-времени, нужно только, чтобы такое представление с детства вошло в быт и стало привычным. Весь первый этаж\n"
          ]
        }
      ]
    },
    {
      "cell_type": "code",
      "source": [
        "# Метрики литературного текста\n",
        "wer_lit_rut5, cer_lit_rut5 = metrics_wer_cer(etalon_lit_text,\n",
        "                                             corr_lit_text_rut5)\n",
        "print(f\"WER: {wer_lit_rut5}\")\n",
        "print(f\"CER: {cer_lit_rut5}\")"
      ],
      "metadata": {
        "colab": {
          "base_uri": "https://localhost:8080/"
        },
        "outputId": "0ad4bd52-4927-4727-e981-58a3f71306d6",
        "id": "xQ3M98Ug9bj5"
      },
      "execution_count": null,
      "outputs": [
        {
          "output_type": "stream",
          "name": "stdout",
          "text": [
            "WER: 0.491\n",
            "CER: 0.314\n"
          ]
        }
      ]
    },
    {
      "cell_type": "markdown",
      "source": [
        "**Текст из учебника**"
      ],
      "metadata": {
        "id": "kJd6CWA--9yg"
      }
    },
    {
      "cell_type": "code",
      "source": [
        "corr_educ_text_rut5 = correct_text_rut5(rec_educ_text)\n",
        "print(\"Оригинальный текст:\", rec_educ_text[0:1000])\n",
        "print(\"Исправленный текст:\", corr_educ_text_rut5[0:1000])"
      ],
      "metadata": {
        "colab": {
          "base_uri": "https://localhost:8080/"
        },
        "outputId": "fbdedce1-125a-4103-9583-65a3f5c0781e",
        "id": "EQX9eeBBHUAR"
      },
      "execution_count": null,
      "outputs": [
        {
          "output_type": "stream",
          "name": "stdout",
          "text": [
            "Оригинальный текст: Субъектом правопонимания всегда выступает конкретный человек, например: а) гражданин, обладающий минимальным правовым кругозором, столкнувшийся с проблемами права вообще; 6) юрист-профессионал, имеющий достаточный запас знаний о праве, способный применять и толковать правовые нормы; в) ученый, человек с абстрактным мышлением, занимающийся изучением права, обладающий суммой исторических и современных знаний, способный к интерпретации не только норм, но и принципов права, владеющий определенной методологией исследования. Правопонимание всегда субъективно, оригинально, хотя представления о праве могут совпадать у группы лиц и у целых слоев, классов.  Объектом правопонимания могут быть право в планетарном масштабе, право конкретного общества, отрасль, институт права, отдельные правовые нормы. При этом знания об отдельных структурных элементах экстраполируются на право в целом. Важную познавательную нагрузку здесь несут среда и взаимодействующие с правом общественные явления.  Содержание пр\n",
            "Исправленный текст: В правопонимании всегда выступает конкретный человек, например: а) гражданин, обладающий минимальным правовым кругозором, столкнувшийся с проблемами права вообще; 6) юрист-профессионал, имеющий достаточный запас знаний о праве, способный применять и толковать правовые нормы; в) ученый, человек с абстрактным мышлением, занимающийся изучением права; в) ученый, человек с абстрактным мышлением, занимающийся изучением права; в) ученый, человек с абстрактным мышлением, занимающийся изучением права; в) ученый, человек с абстрактным мышлением, занимающийся изучением права; в) ученый, человек с абстрактным мышлением, занимающийся изучением права; в) ученый, человек с абстрактным мышлением, занимающийся изучением права; в) ученый, человек с абстрактным мышлением, занимающийся изучением права; в) ученый, человек с абстрактным мышлением, занимающийся изучением права Всегда субъективно, оригинально, хотя представления о праве могут совпадать у группы лиц и у целых слоев, классов. Объектом правопони\n"
          ]
        }
      ]
    },
    {
      "cell_type": "code",
      "source": [
        "# Метрики учебного текста\n",
        "wer_educ_rut5, cer_educ_rut5 = metrics_wer_cer(etalon_educ_text,\n",
        "                                               corr_educ_text_rut5)\n",
        "print(f\"WER: {wer_educ_rut5}\")\n",
        "print(f\"CER: {cer_educ_rut5}\")"
      ],
      "metadata": {
        "colab": {
          "base_uri": "https://localhost:8080/"
        },
        "outputId": "b83038a2-1e3e-4546-b077-902f52524cbb",
        "id": "bf6luLESHUAS"
      },
      "execution_count": null,
      "outputs": [
        {
          "output_type": "stream",
          "name": "stdout",
          "text": [
            "WER: 0.315\n",
            "CER: 0.221\n"
          ]
        }
      ]
    },
    {
      "cell_type": "markdown",
      "source": [
        "**Попытка улучшения**"
      ],
      "metadata": {
        "id": "wPD0K6i__Bfl"
      }
    },
    {
      "cell_type": "markdown",
      "source": [
        "Так как модель обрезает входящее предложение до 512 токенов, мне пришлось разбить предложение по запятым и подать на вход модели эти небольшие кусочки.\n",
        "\n"
      ],
      "metadata": {
        "id": "1TRKQgyuE3N9"
      }
    },
    {
      "cell_type": "code",
      "source": [
        "# Функция для исправления текста\n",
        "def correct_text_rut5(text):\n",
        "    # Разделение текста на предложения с помощью регулярных выражений\n",
        "    sentences = regexp_tokenize(text, pattern=r'[^!?\\.,]+[!?\\.,]?', gaps=False)\n",
        "    corrected_sentences = []\n",
        "\n",
        "    for sentence in sentences:\n",
        "        input_text = f\"grammar: {sentence.strip()}\"  # Указываем задачу модели\n",
        "        inputs = tokenizer.encode(input_text,\n",
        "                                  return_tensors=\"pt\",\n",
        "                                  max_length=512,\n",
        "                                  truncation=True).to(device)\n",
        "\n",
        "        # Генерация исправленного текста\n",
        "        outputs = model.generate(\n",
        "            inputs,\n",
        "            max_length=512,\n",
        "            num_beams=1,        # Повышение качества за счёт лучевого поиска\n",
        "            do_sample=False,     # Вариативность исправлений\n",
        "            repetition_penalty=1.0\n",
        "        )\n",
        "\n",
        "        corrected_sentence = tokenizer.decode(outputs[0],\n",
        "                                              skip_special_tokens=True)\n",
        "        corrected_sentences.append(corrected_sentence)\n",
        "\n",
        "    corrected_text = ' '.join(corrected_sentences)\n",
        "    return corrected_text"
      ],
      "metadata": {
        "id": "5aiPJ3rEW_Yr"
      },
      "execution_count": null,
      "outputs": []
    },
    {
      "cell_type": "code",
      "source": [
        "# Пример длинного текста с ошибками\n",
        "text_with_errors = \"\"\"\n",
        "по-видимому, с вестибюля. В заплесневелых углах белесо мерцали кости прикованных скелетов, где-то мерно капала вода,\n",
        "в нишах между колоннами в неестественных позах торчали статуи в ржавых латах,\n",
        "справа от входа у стены громоздились обломки древних идолов, наверху этой кучи торчали гипсовые ноги в сапогах.\n",
        "\"\"\"\n",
        "\n",
        "# Исправление текста\n",
        "corrected_text = correct_text_rut5(text_with_errors)\n",
        "\n",
        "# Результат\n",
        "print(\"🔹 Оригинальный текст:\")\n",
        "print(text_with_errors)\n",
        "print(\"\\n✅ Исправленный текст:\")\n",
        "print(corrected_text)\n"
      ],
      "metadata": {
        "colab": {
          "base_uri": "https://localhost:8080/"
        },
        "outputId": "efa24815-4555-4160-9a67-26c9fc8a6088",
        "id": "cwIQNQjCalDZ"
      },
      "execution_count": null,
      "outputs": [
        {
          "output_type": "stream",
          "name": "stdout",
          "text": [
            "🔹 Оригинальный текст:\n",
            "\n",
            "по-видимому, с вестибюля. В заплесневелых углах белесо мерцали кости прикованных скелетов, где-то мерно капала вода,\n",
            "в нишах между колоннами в неестественных позах торчали статуи в ржавых латах,\n",
            "справа от входа у стены громоздились обломки древних идолов, наверху этой кучи торчали гипсовые ноги в сапогах.\n",
            "\n",
            "\n",
            "✅ Исправленный текст:\n",
            "По-видимому, я знаю, что я знаю. С вестибюля. В заплесневелых углах белесо мерцали кости прикованных скелетов. где-то мерно капала вода. В нишах между колоннами торчали статуи в ржавых латах. справа от входа у стены громоздились обломки древних идолов. Наверх этой кучи торчали гипсовые ноги в сапогах. .\n"
          ]
        }
      ]
    },
    {
      "cell_type": "markdown",
      "source": [
        "**Литературный текст**"
      ],
      "metadata": {
        "id": "fvS-ieoU_G0x"
      }
    },
    {
      "cell_type": "code",
      "source": [
        "corr_lit_text_rut5 = correct_text_rut5(rec_lit_text)\n",
        "print(\"Оригинальный текст:\", rec_lit_text[0:1000])\n",
        "print(\"Исправленный текст:\", corr_lit_text_rut5[0:1000])"
      ],
      "metadata": {
        "id": "di0EXB7ZaAU4",
        "colab": {
          "base_uri": "https://localhost:8080/"
        },
        "outputId": "843fafa4-a94b-4f54-e3d0-bc3dfb7a3ff9"
      },
      "execution_count": null,
      "outputs": [
        {
          "output_type": "stream",
          "name": "stdout",
          "text": [
            "Оригинальный текст: по-видимому, с вестибюля. В заплесневелых углах белесо мерцали кости прикованных скелетов, где-то мерно капала вода, в нишах между колоннами в неестественных позах торчали статуи в ржавых латах, справа от входа у стены громоздились обломки древних идолов, наверху этой кучи торчали гипсовые ноги в сапогах. С почерневших портретов под потолком строго взирали маститые старцы, в их лицах усматривались знакомые черты Федора Симеоновича, товарища Жиана Жиакомо и других мастеров. Весь этот архаический хлам надлежало давным-давно выбросить, прорубить в стенах окна и установить трубки дневного света, но все было заприходовано, заинвентаризовано и лично Модестом Матвеевичем к разбазариванию запрещено.  На капителях колонн и в лабиринтах исполинской люстры, свисающей с почерневшего потолка, шуршали нетопыри и летучие собаки. С ними Модест Матвеевич боролся. Он поливал их скипидаром и креозотом, опылял дустом, опрыскивал гексахлораном, они гибли тысячами, но возрождались десятками тысяч. Они мутир\n",
            "Исправленный текст: По-видимому, я знаю, что я знаю. С вестибюля. В заплесневелых углах белесо мерцали кости прикованных скелетов. где-то мерно капала вода. В нишах между колоннами торчали статуи в ржавых латах. справа от входа у стены громоздились обломки древних идолов. Наверх этой кучи торчали гипсовые ноги в сапогах. С почерневших портретов под потолком строго взирали маститые старцы. В их лицах усматривались знакомые черты Федора Симеоновича. Товарище Жиана Жиакомо и других мастеров. Весь этот архаический хлам надлежало давным-давно выбросить. Для того чтобы прорубить окна и установить трубки дневного света, можно прорубить в стенах окна и установить трубки дневного света. Но все было заприходовано. Заинвентаризовано и лично Модестом Матвеевичем запрещено разбазаривать. На капителях колонн и в лабиринтах исполинской люстры. Когда я упал с почерневшего потолка, я упал с его почерневшего потолка. шуршали нетопыри и летучие собаки. С ними Модест Матвеевич боролся. Он поливал их скипидаром и креозотом. Э\n"
          ]
        }
      ]
    },
    {
      "cell_type": "code",
      "source": [
        "# Метрики литературного текста\n",
        "wer_lit_rut5_corr, cer_lit_rut5_corr = metrics_wer_cer(etalon_lit_text,\n",
        "                                                       corr_lit_text_rut5)\n",
        "print(f\"WER: {wer_lit_rut5_corr}\")\n",
        "print(f\"CER: {cer_lit_rut5_corr}\")"
      ],
      "metadata": {
        "colab": {
          "base_uri": "https://localhost:8080/"
        },
        "outputId": "973fed4a-e6e7-4ff5-cf01-09ef8181b423",
        "id": "xrUVeHtKaAU6"
      },
      "execution_count": null,
      "outputs": [
        {
          "output_type": "stream",
          "name": "stdout",
          "text": [
            "WER: 0.657\n",
            "CER: 0.385\n"
          ]
        }
      ]
    },
    {
      "cell_type": "markdown",
      "source": [
        "**Текст из учебника**"
      ],
      "metadata": {
        "id": "b41FOZuH_Jrl"
      }
    },
    {
      "cell_type": "code",
      "source": [
        "corr_educ_text_rut5 = correct_text_rut5(rec_educ_text)\n",
        "print(\"Оригинальный текст:\", rec_educ_text[0:1000])\n",
        "print(\"Исправленный текст:\", corr_educ_text_rut5[0:1000])"
      ],
      "metadata": {
        "colab": {
          "base_uri": "https://localhost:8080/"
        },
        "outputId": "f2893791-550d-49b4-a46f-5bad450b4f9d",
        "id": "RVJiSEE2aAU6"
      },
      "execution_count": null,
      "outputs": [
        {
          "output_type": "stream",
          "name": "stdout",
          "text": [
            "Оригинальный текст: Субъектом правопонимания всегда выступает конкретный человек, например: а) гражданин, обладающий минимальным правовым кругозором, столкнувшийся с проблемами права вообще; 6) юрист-профессионал, имеющий достаточный запас знаний о праве, способный применять и толковать правовые нормы; в) ученый, человек с абстрактным мышлением, занимающийся изучением права, обладающий суммой исторических и современных знаний, способный к интерпретации не только норм, но и принципов права, владеющий определенной методологией исследования. Правопонимание всегда субъективно, оригинально, хотя представления о праве могут совпадать у группы лиц и у целых слоев, классов.  Объектом правопонимания могут быть право в планетарном масштабе, право конкретного общества, отрасль, институт права, отдельные правовые нормы. При этом знания об отдельных структурных элементах экстраполируются на право в целом. Важную познавательную нагрузку здесь несут среда и взаимодействующие с правом общественные явления.  Содержание пр\n",
            "Исправленный текст: Человек всегда выступает субъектом правопонимания. например: а) гражданин, а) гражданин. обладающий минимальным правовым кругозором, обладающий минимальным правовым кругозором. 6) юрист-профессионал. Это достаточное количество знаний о праве. В) ученый, в) ученый. Человек с абстрактным мышлением. Работает в Академии права. Это обладает суммой исторических и современных знаний. Это способный к интерпретации не только норм, но и норм. Это и принцип права. Это является одним из основных методов исследования. Это всегда субъективно. Оригинально. Если представления о праве могут совпадать у группы лиц и у целых слоев, то представления о праве могут совпадать у группы лиц и у целых слоев. Классы: Классы и классы. Объектом правопонимания могут быть право в планетарном масштабе. Это право конкретного общества. Это отрасль. Государственный институт права. Основные правовые нормы. При этом знания об отдельных структурных элементах экстраполируются на право в целом. Важную познавательную нагрузку\n"
          ]
        }
      ]
    },
    {
      "cell_type": "code",
      "source": [
        "# Метрики учебного текста\n",
        "wer_educ_rut5_corr, cer_educ_rut5_corr = metrics_wer_cer(etalon_educ_text,\n",
        "                                                         corr_educ_text_rut5)\n",
        "print(f\"WER: {wer_educ_rut5_corr}\")\n",
        "print(f\"CER: {cer_educ_rut5_corr}\")"
      ],
      "metadata": {
        "colab": {
          "base_uri": "https://localhost:8080/"
        },
        "outputId": "7762430d-0475-4d0c-e4f0-05c0a24e28af",
        "id": "B9h_YI4_aAU6"
      },
      "execution_count": null,
      "outputs": [
        {
          "output_type": "stream",
          "name": "stdout",
          "text": [
            "WER: 1.014\n",
            "CER: 0.61\n"
          ]
        }
      ]
    },
    {
      "cell_type": "markdown",
      "source": [
        "**Результат:**\n",
        "\n",
        "Главная проблема модели - она принимает только 24 слова на вход (512 токенов). Проблема решается только тем, что можно делить предложения не по точкам, а по запятым и подавать на вход маленькие кусочки предложений. Однако, в этом случае, модель чувствует, что это странные предложения и начинает генерировать дополнительный текст и тем самым совсем меняет предложения. В результате такой обработки метрики стали еще хуже, а в тексте из учебника модель так нагенерировала новый текст, что метрика WER вообще не узнала текст WER 101%!"
      ],
      "metadata": {
        "id": "lPEHMgD0AF76"
      }
    },
    {
      "cell_type": "markdown",
      "source": [
        "### Модель RuM2M100-1.2B"
      ],
      "metadata": {
        "id": "TyFGJ4mBa8jv"
      }
    },
    {
      "cell_type": "markdown",
      "source": [
        "RuM2M100-1.2B — это многоязычная модель для машинного перевода и генерации текста, основанная на архитектуре M2M100 от Meta (ранее Facebook AI). Используется, в том числе, для контекстной коррекции текста.\n",
        "\n",
        "Модель для проверки автокоррекции взята здесь: https://huggingface.co/ai-forever/RuM2M100-1.2B Модель исправляет орфографические ошибки и опечатки, приводя все слова в тексте к норме русского языка.\n",
        "\n",
        "Эта модель работает медленно. С помощью счетчиков слов определила, что литературный текст содержит 3578 слов, учебный текст - 777 слов. Начнем работу с учебного текста, так как он меньше. Посчитаем количество токенов для обоих текстов.\n",
        "\n",
        "Для увеличения скорости использован:\n",
        "- Mixed Precision (FP16) — уменьшает размер весов в 2 раза, ускоряет вычисления\n",
        "- device_map=\"auto\" — автоматически размещает модель на GPU\n",
        "- .to(\"cuda\") — ускоряет обработку на видеокарте"
      ],
      "metadata": {
        "id": "SU5mO5A-URhO"
      }
    },
    {
      "cell_type": "code",
      "source": [
        "encodings = tokenizer(rec_lit_text)\n",
        "print(f\"Количество токенов: {len(encodings['input_ids'])}\")"
      ],
      "metadata": {
        "colab": {
          "base_uri": "https://localhost:8080/"
        },
        "id": "VJ6Rv3itYI1y",
        "outputId": "5b1a1845-9e4b-463d-9db2-770073c2d073"
      },
      "execution_count": null,
      "outputs": [
        {
          "output_type": "stream",
          "name": "stdout",
          "text": [
            "Количество токенов: 7982\n"
          ]
        }
      ]
    },
    {
      "cell_type": "code",
      "source": [
        "encodings = tokenizer(rec_educ_text)\n",
        "print(f\"Количество токенов: {len(encodings['input_ids'])}\")"
      ],
      "metadata": {
        "colab": {
          "base_uri": "https://localhost:8080/"
        },
        "id": "Ye8ssUBIYA8m",
        "outputId": "62fe3179-6b74-406d-ece0-dafe71a4d822"
      },
      "execution_count": null,
      "outputs": [
        {
          "output_type": "stream",
          "name": "stdout",
          "text": [
            "Количество токенов: 1615\n"
          ]
        }
      ]
    },
    {
      "cell_type": "code",
      "source": [
        "print(tokenizer.model_max_length)"
      ],
      "metadata": {
        "colab": {
          "base_uri": "https://localhost:8080/"
        },
        "id": "H5UaBdBOW76l",
        "outputId": "e870cb93-be92-4a2a-8889-d90c0e9befc3"
      },
      "execution_count": null,
      "outputs": [
        {
          "output_type": "stream",
          "name": "stdout",
          "text": [
            "1000000000000000019884624838656\n"
          ]
        }
      ]
    },
    {
      "cell_type": "code",
      "source": [
        "# Загружаем модель без device_map\n",
        "path_to_model = \"ai-forever/RuM2M100-1.2B\"\n",
        "model = M2M100ForConditionalGeneration.from_pretrained(\n",
        "    path_to_model, torch_dtype=torch.float16\n",
        ")"
      ],
      "metadata": {
        "id": "xKU-of8HN0HC"
      },
      "execution_count": null,
      "outputs": []
    },
    {
      "cell_type": "code",
      "source": [
        "# Перемещаем модель на GPU\n",
        "device = torch.device(\"cuda\" if torch.cuda.is_available() else \"cpu\")\n",
        "model = model.to(device)"
      ],
      "metadata": {
        "id": "BSLrfycGOp7w"
      },
      "execution_count": null,
      "outputs": []
    },
    {
      "cell_type": "code",
      "source": [
        "# Убедимся, что есть пунктуация для разделения\n",
        "nltk.download('punkt_tab')\n",
        "sentences = nltk.sent_tokenize(rec_educ_text, language=\"russian\")"
      ],
      "metadata": {
        "colab": {
          "base_uri": "https://localhost:8080/"
        },
        "id": "7JkDSR5iiftE",
        "outputId": "a6c3c6b3-bd11-49a6-85b0-e474cc548ede"
      },
      "execution_count": null,
      "outputs": [
        {
          "output_type": "stream",
          "name": "stderr",
          "text": [
            "[nltk_data] Downloading package punkt_tab to /root/nltk_data...\n",
            "[nltk_data]   Unzipping tokenizers/punkt_tab.zip.\n"
          ]
        }
      ]
    },
    {
      "cell_type": "code",
      "source": [
        "# Функция для обработки отдельных предложений\n",
        "def process_text(text_chunk):\n",
        "    encodings = tokenizer(text_chunk, return_tensors=\"pt\")\n",
        "    generated_tokens = model.generate(\n",
        "        **encodings,\n",
        "        max_length=512,          # Ограничиваем длину\n",
        "        num_beams=3,             # Умеренное количество лучшей для скорости\n",
        "        do_sample=False          # Случайная генерация\n",
        "    )\n",
        "    return tokenizer.decode(generated_tokens[0], skip_special_tokens=True)\n",
        "    # Декодирование"
      ],
      "metadata": {
        "id": "XRZ9TL2siuk1"
      },
      "execution_count": null,
      "outputs": []
    },
    {
      "cell_type": "markdown",
      "source": [
        "**Текст из учебника**"
      ],
      "metadata": {
        "id": "GO9I3uPB_nHT"
      }
    },
    {
      "cell_type": "code",
      "source": [
        "# Обработка текста по частям\n",
        "results = []\n",
        "for i, chunk in enumerate(sentences):\n",
        "    try:\n",
        "        result = process_text(chunk)\n",
        "        results.append(result)\n",
        "        print(f\"✅ Обработано предложение {i+1}/{len(sentences)}\")\n",
        "    except Exception as e:\n",
        "        print(f\"❌ Ошибка в предложении {i+1}: {e}\")"
      ],
      "metadata": {
        "colab": {
          "base_uri": "https://localhost:8080/"
        },
        "id": "I77KlasWhXYQ",
        "outputId": "11a9c64d-ee10-46a3-fbaf-2a5d901ab89b"
      },
      "execution_count": null,
      "outputs": [
        {
          "output_type": "stream",
          "name": "stdout",
          "text": [
            "✅ Обработано предложение 1/37\n",
            "✅ Обработано предложение 2/37\n",
            "✅ Обработано предложение 3/37\n",
            "✅ Обработано предложение 4/37\n",
            "✅ Обработано предложение 5/37\n",
            "✅ Обработано предложение 6/37\n",
            "✅ Обработано предложение 7/37\n",
            "✅ Обработано предложение 8/37\n",
            "✅ Обработано предложение 9/37\n",
            "✅ Обработано предложение 10/37\n",
            "✅ Обработано предложение 11/37\n",
            "✅ Обработано предложение 12/37\n",
            "✅ Обработано предложение 13/37\n",
            "✅ Обработано предложение 14/37\n",
            "✅ Обработано предложение 15/37\n",
            "✅ Обработано предложение 16/37\n",
            "✅ Обработано предложение 17/37\n",
            "✅ Обработано предложение 18/37\n",
            "✅ Обработано предложение 19/37\n",
            "✅ Обработано предложение 20/37\n",
            "✅ Обработано предложение 21/37\n",
            "✅ Обработано предложение 22/37\n",
            "✅ Обработано предложение 23/37\n",
            "✅ Обработано предложение 24/37\n",
            "✅ Обработано предложение 25/37\n",
            "✅ Обработано предложение 26/37\n",
            "✅ Обработано предложение 27/37\n",
            "✅ Обработано предложение 28/37\n",
            "✅ Обработано предложение 29/37\n",
            "✅ Обработано предложение 30/37\n",
            "✅ Обработано предложение 31/37\n",
            "✅ Обработано предложение 32/37\n",
            "✅ Обработано предложение 33/37\n",
            "✅ Обработано предложение 34/37\n",
            "✅ Обработано предложение 35/37\n",
            "✅ Обработано предложение 36/37\n",
            "✅ Обработано предложение 37/37\n"
          ]
        }
      ]
    },
    {
      "cell_type": "code",
      "source": [
        "# Собираем итоговый текст\n",
        "educ_text_rum2m_corr = \" \".join(results)\n",
        "print(educ_text_rum2m_corr)"
      ],
      "metadata": {
        "colab": {
          "base_uri": "https://localhost:8080/"
        },
        "id": "8dIIcDbbi9Qp",
        "outputId": "3d83e1fc-da1b-4543-e12f-76cb18c20899"
      },
      "execution_count": null,
      "outputs": [
        {
          "output_type": "stream",
          "name": "stdout",
          "text": [
            "Субъектом правопонимания всегда выступает конкретный человек, например: а) гражданин, обладающий минимальным правовым кругозором, столкнувшийся с проблемами права вообще; 6) юрист-профессионал, имеющий достаточный запас знаний о праве, способный применять и толковать правовые нормы; в) ученый, человек с абстрактным мышлением, занимающийся изучением права, обладающий суммой исторических и современных знаний, способный к интерпретации не только норм, но и принципов права, владеющий определенной методологией исследования. Правопонимание всегда субъективно, оригинально, хотя представления о праве могут совпадать у группы лиц и у целых слоев, классов. Объектом правопонимания могут быть право в планетарном масштабе, право конкретного общества, отрасль, институт права, отдельные правовые нормы. При этом знания об отдельных структурных элементах экстраполируются на право в целом. Важную познавательную нагрузку здесь несут среда и взаимодействующие с правом общественные явления. Содержание правопонимания составляют знания субъекта о его правах и обязанностях, конкретных и общих правовых дозволениях, запретах, а также оценка и отношение к ним как справедливым или несправедливым. В зависимости от уровня культуры, методической оснащенности субъекта и выбора предмета изучения правопонимание может быть полным или неполным, правильным или искаженным, положительным или отрицательным. Обыкновенный человек понимает право так, как это позволяет ему собственный разум в определенных культурологических традициях соответствующей эпохи и общества. Для него понимание права во временном масштабе ограничено рамками его жизни. Однако это не означает, что после его смерти правопонимание исчезает совсем. Такие элементы правопонимания, как знания, оценки, могут передаваться другим людям, а исследователь-ученый оставляет после себя еще и письменные представления о праве. Другими словами, образ права, сложившийся в умах наших предшественников и выразившийся в виде той или иной концепции, оказывает заметное влияние на формирование правопонимания у потомков. 218 При рассмотрении различных теорий и взглядов о праве необходимо учитывать следующие обстоятельства: во-первых, исторические условия функционирования права и рамки культуры, в которых жил и работал «исследователь»; во-вторых, то, что результат правопонимания всегда зависит от философской, нравственной, религиозной, идеологической позиции познающего его субъекта; в-третьих, что берется в качестве основы той или иной концепции (источник правообразования или сущность самого явления), что понимается под источником права (человек, Бог или космос) и под его сущностью (воля класса, мера свободы человека или природный эгоизм индивида); в-четвертых, устойчивость и долгожительство концепций в одних случаях и их динамичность, способность адаптироваться к развивающимся общественным отношениям — в других. Современный уровень развития гуманитарной науки и методологии исследования социальных явлений позволяет систематизировать различные взгляды о праве на основе определенных критериев. Уже само отношение к праву, его судьбе, тот факт, положительное значение имеет оно для общества или отрицательное, выступает оно в качестве самостоятельного социального явления или как элемент иной системы регулирования, выявляет противоположные мнения. В частности, представители ряда философских течений рассматривали право как часть нравственности (Шопенгауэр) или как низшую ступень нравственности и отрицали социальноценностный характер права (Л. Толстой, Вл. Соловьев). Негативное отношение к праву высказывали анархисты; проблемы отмирания права с построением коммунизма активно обсуждались в рамках марксистской правовой теории. При решении основного вопроса философии о соотношении бытия и сознания выделяются идеалистический и материалистический подходы к изучению права. Для первого характерны теологические учения о праве. Фома Аквинский утверждал, что право имеет не только божественное происхождение, но и божественную сущность. Позитивное право (человеческие законы) является лишь средством осуществления целей, предначертанных Богом для человека. Последователи Аквинского — неотомисты -- пытаются увязать религиозную сущность 219 права с естественно-правовыми началами и эмпирическими оценками общественных отношений с целью обосновать более жизнеспособные и реалистические варианты его учения. На другом полюсе, в рамках материалистического подхода, разрабатывается марксистская теория права, основными постулатами которой выступают: обусловленность права экономическим базисом общества, классовый характер права, жесткая зависимость права от государства, обеспеченность его принудительной силой государства. В зависимости от того, что рассматривается в качестве источника правообразования, — государство или природа человека, различают естественно-правовую и позитивистскую теории права. Естественно-правовые взгляды берут свое начало еще в Древней Греции и Древнем Риме. Они связаны с именами Демокрита, Сократа, Платона и отражают попытки выявления нравственных, справедливых начал в праве, заложенных самой природой человека. «Закон, — подчеркивал Демокрит, — стремится помочь жизни людей. Но он может этого достигнуть только тогда, когда сами граждане желают жить счастливо: для повинующихся закону закон — только свидетельство их собственной добродетели»!. Естественно-правовая теория прошла сложный путь развития, ее популярность, всплески расцвета всегда были связаны со стремлениями людей изменить свою жизнь к лучшему — это и эпоха Возрождения, и эпоха буржуазных. революций и современная эпоха перехода к правовому государству. Позитивное значение естественно-правовой теории состоит в следующем: во-первых, она утверждает идею естественных, неотъемлемых прав человека; во-вторых, благодаря этой теории стали различать право и закон, естественное и позитивное право; в-третьих, она концептуально соединяет право и нравственность. Критическое замечание в адрес данной теории может состоять в том, что не всегда представление о праве как справедливом или несправедливом можно объективировать в правовой действительности. Позитивистская теория права (К. Бергбом, Г. В. Шершеневич) возникла в значительной степени как оппози 1 Цит. Дело: Лурье С. Я. Демокрит. Л., 1970. С. 361. 2020\n"
          ]
        }
      ]
    },
    {
      "cell_type": "code",
      "source": [
        "# Метрики учебного текста\n",
        "wer_educ_rum2m100, cer_educ_rum2m100 = metrics_wer_cer(etalon_educ_text,\n",
        "                                                       educ_text_rum2m_corr)\n",
        "print(f\"WER: {wer_educ_rum2m100}\")\n",
        "print(f\"CER: {cer_educ_rum2m100}\")"
      ],
      "metadata": {
        "colab": {
          "base_uri": "https://localhost:8080/"
        },
        "id": "kE1loftrtgri",
        "outputId": "73b3f999-1a6c-4c4c-e1f0-55fac0e83c98"
      },
      "execution_count": null,
      "outputs": [
        {
          "output_type": "stream",
          "name": "stdout",
          "text": [
            "WER: 0.019\n",
            "CER: 0.002\n"
          ]
        }
      ]
    },
    {
      "cell_type": "markdown",
      "source": [
        "**Результат:**\n",
        "\n",
        "Метрики текста, обработанного моделью RuM2M100-1.2B показали себя очень хорошо на учебном тексте WER: 0.019 и CER: 0.002. Однако, скорость работы модели 44 минуты - 37 предложений или 1615 токенов. Это значит, что 7982 токенов будет обрабатываться примерно 4 часа. Принято решение не тестировать на литературном тексте. Однако, пока это лучшая метрика среди всех моделей!"
      ],
      "metadata": {
        "id": "HzZsJH0ht0vR"
      }
    },
    {
      "cell_type": "markdown",
      "source": [
        "## **4. Анализ и выводы**"
      ],
      "metadata": {
        "id": "SCk8GHdp0Rl3"
      }
    },
    {
      "cell_type": "code",
      "source": [
        "print(\"Таблица сравнения автокорректоров для литературного текста\")\n",
        "df = [\n",
        "    [0.046,\t0.004],\n",
        "    [0.322,\t0.055],\n",
        "    [0.107,\t0.027],\n",
        "    [0.177,\t0.005],\n",
        "    [wer_lit_jamspell, cer_lit_jamspell],\n",
        "    [wer_lit_aspell, cer_lit_aspell],\n",
        "    [wer_lit_lt, cer_lit_lt],\n",
        "    [wer_lit_rut5, cer_lit_rut5]\n",
        "]\n",
        "autocorrect = [\"Without autocorrect\",\n",
        "               \"SpellChecker\",\n",
        "               \"HunSpell\",\n",
        "               \"DeepPavlov\",\n",
        "               \"JamSpell\",\n",
        "               \"Aspell\",\n",
        "               \"LanguageTool\",\n",
        "               \"RU T5\"]\n",
        "pd.DataFrame(data=df, index=autocorrect,\n",
        "             columns=[\"WER\", \"CER\"])"
      ],
      "metadata": {
        "colab": {
          "base_uri": "https://localhost:8080/",
          "height": 318
        },
        "id": "KOGDJHev0QQx",
        "outputId": "49a6fdca-a0b1-4eb3-bb0a-4c9f5632136d"
      },
      "execution_count": null,
      "outputs": [
        {
          "output_type": "stream",
          "name": "stdout",
          "text": [
            "Таблица сравнения автокорректоров для литературного текста\n"
          ]
        },
        {
          "output_type": "execute_result",
          "data": {
            "text/plain": [
              "                       WER    CER\n",
              "Without autocorrect  0.046  0.004\n",
              "SpellChecker         0.322  0.055\n",
              "HunSpell             0.107  0.027\n",
              "DeepPavlov           0.177  0.005\n",
              "JamSpell             0.080  0.015\n",
              "Aspell               0.108  0.081\n",
              "LanguageTool         0.058  0.009\n",
              "RU T5                0.491  0.314"
            ],
            "text/html": [
              "\n",
              "  <div id=\"df-f3e066cc-9e5f-49ea-80ca-29cca40eacbc\" class=\"colab-df-container\">\n",
              "    <div>\n",
              "<style scoped>\n",
              "    .dataframe tbody tr th:only-of-type {\n",
              "        vertical-align: middle;\n",
              "    }\n",
              "\n",
              "    .dataframe tbody tr th {\n",
              "        vertical-align: top;\n",
              "    }\n",
              "\n",
              "    .dataframe thead th {\n",
              "        text-align: right;\n",
              "    }\n",
              "</style>\n",
              "<table border=\"1\" class=\"dataframe\">\n",
              "  <thead>\n",
              "    <tr style=\"text-align: right;\">\n",
              "      <th></th>\n",
              "      <th>WER</th>\n",
              "      <th>CER</th>\n",
              "    </tr>\n",
              "  </thead>\n",
              "  <tbody>\n",
              "    <tr>\n",
              "      <th>Without autocorrect</th>\n",
              "      <td>0.046</td>\n",
              "      <td>0.004</td>\n",
              "    </tr>\n",
              "    <tr>\n",
              "      <th>SpellChecker</th>\n",
              "      <td>0.322</td>\n",
              "      <td>0.055</td>\n",
              "    </tr>\n",
              "    <tr>\n",
              "      <th>HunSpell</th>\n",
              "      <td>0.107</td>\n",
              "      <td>0.027</td>\n",
              "    </tr>\n",
              "    <tr>\n",
              "      <th>DeepPavlov</th>\n",
              "      <td>0.177</td>\n",
              "      <td>0.005</td>\n",
              "    </tr>\n",
              "    <tr>\n",
              "      <th>JamSpell</th>\n",
              "      <td>0.080</td>\n",
              "      <td>0.015</td>\n",
              "    </tr>\n",
              "    <tr>\n",
              "      <th>Aspell</th>\n",
              "      <td>0.108</td>\n",
              "      <td>0.081</td>\n",
              "    </tr>\n",
              "    <tr>\n",
              "      <th>LanguageTool</th>\n",
              "      <td>0.058</td>\n",
              "      <td>0.009</td>\n",
              "    </tr>\n",
              "    <tr>\n",
              "      <th>RU T5</th>\n",
              "      <td>0.491</td>\n",
              "      <td>0.314</td>\n",
              "    </tr>\n",
              "  </tbody>\n",
              "</table>\n",
              "</div>\n",
              "    <div class=\"colab-df-buttons\">\n",
              "\n",
              "  <div class=\"colab-df-container\">\n",
              "    <button class=\"colab-df-convert\" onclick=\"convertToInteractive('df-f3e066cc-9e5f-49ea-80ca-29cca40eacbc')\"\n",
              "            title=\"Convert this dataframe to an interactive table.\"\n",
              "            style=\"display:none;\">\n",
              "\n",
              "  <svg xmlns=\"http://www.w3.org/2000/svg\" height=\"24px\" viewBox=\"0 -960 960 960\">\n",
              "    <path d=\"M120-120v-720h720v720H120Zm60-500h600v-160H180v160Zm220 220h160v-160H400v160Zm0 220h160v-160H400v160ZM180-400h160v-160H180v160Zm440 0h160v-160H620v160ZM180-180h160v-160H180v160Zm440 0h160v-160H620v160Z\"/>\n",
              "  </svg>\n",
              "    </button>\n",
              "\n",
              "  <style>\n",
              "    .colab-df-container {\n",
              "      display:flex;\n",
              "      gap: 12px;\n",
              "    }\n",
              "\n",
              "    .colab-df-convert {\n",
              "      background-color: #E8F0FE;\n",
              "      border: none;\n",
              "      border-radius: 50%;\n",
              "      cursor: pointer;\n",
              "      display: none;\n",
              "      fill: #1967D2;\n",
              "      height: 32px;\n",
              "      padding: 0 0 0 0;\n",
              "      width: 32px;\n",
              "    }\n",
              "\n",
              "    .colab-df-convert:hover {\n",
              "      background-color: #E2EBFA;\n",
              "      box-shadow: 0px 1px 2px rgba(60, 64, 67, 0.3), 0px 1px 3px 1px rgba(60, 64, 67, 0.15);\n",
              "      fill: #174EA6;\n",
              "    }\n",
              "\n",
              "    .colab-df-buttons div {\n",
              "      margin-bottom: 4px;\n",
              "    }\n",
              "\n",
              "    [theme=dark] .colab-df-convert {\n",
              "      background-color: #3B4455;\n",
              "      fill: #D2E3FC;\n",
              "    }\n",
              "\n",
              "    [theme=dark] .colab-df-convert:hover {\n",
              "      background-color: #434B5C;\n",
              "      box-shadow: 0px 1px 3px 1px rgba(0, 0, 0, 0.15);\n",
              "      filter: drop-shadow(0px 1px 2px rgba(0, 0, 0, 0.3));\n",
              "      fill: #FFFFFF;\n",
              "    }\n",
              "  </style>\n",
              "\n",
              "    <script>\n",
              "      const buttonEl =\n",
              "        document.querySelector('#df-f3e066cc-9e5f-49ea-80ca-29cca40eacbc button.colab-df-convert');\n",
              "      buttonEl.style.display =\n",
              "        google.colab.kernel.accessAllowed ? 'block' : 'none';\n",
              "\n",
              "      async function convertToInteractive(key) {\n",
              "        const element = document.querySelector('#df-f3e066cc-9e5f-49ea-80ca-29cca40eacbc');\n",
              "        const dataTable =\n",
              "          await google.colab.kernel.invokeFunction('convertToInteractive',\n",
              "                                                    [key], {});\n",
              "        if (!dataTable) return;\n",
              "\n",
              "        const docLinkHtml = 'Like what you see? Visit the ' +\n",
              "          '<a target=\"_blank\" href=https://colab.research.google.com/notebooks/data_table.ipynb>data table notebook</a>'\n",
              "          + ' to learn more about interactive tables.';\n",
              "        element.innerHTML = '';\n",
              "        dataTable['output_type'] = 'display_data';\n",
              "        await google.colab.output.renderOutput(dataTable, element);\n",
              "        const docLink = document.createElement('div');\n",
              "        docLink.innerHTML = docLinkHtml;\n",
              "        element.appendChild(docLink);\n",
              "      }\n",
              "    </script>\n",
              "  </div>\n",
              "\n",
              "\n",
              "<div id=\"df-42eeca91-a9d8-430b-a55c-1b42ef4216cf\">\n",
              "  <button class=\"colab-df-quickchart\" onclick=\"quickchart('df-42eeca91-a9d8-430b-a55c-1b42ef4216cf')\"\n",
              "            title=\"Suggest charts\"\n",
              "            style=\"display:none;\">\n",
              "\n",
              "<svg xmlns=\"http://www.w3.org/2000/svg\" height=\"24px\"viewBox=\"0 0 24 24\"\n",
              "     width=\"24px\">\n",
              "    <g>\n",
              "        <path d=\"M19 3H5c-1.1 0-2 .9-2 2v14c0 1.1.9 2 2 2h14c1.1 0 2-.9 2-2V5c0-1.1-.9-2-2-2zM9 17H7v-7h2v7zm4 0h-2V7h2v10zm4 0h-2v-4h2v4z\"/>\n",
              "    </g>\n",
              "</svg>\n",
              "  </button>\n",
              "\n",
              "<style>\n",
              "  .colab-df-quickchart {\n",
              "      --bg-color: #E8F0FE;\n",
              "      --fill-color: #1967D2;\n",
              "      --hover-bg-color: #E2EBFA;\n",
              "      --hover-fill-color: #174EA6;\n",
              "      --disabled-fill-color: #AAA;\n",
              "      --disabled-bg-color: #DDD;\n",
              "  }\n",
              "\n",
              "  [theme=dark] .colab-df-quickchart {\n",
              "      --bg-color: #3B4455;\n",
              "      --fill-color: #D2E3FC;\n",
              "      --hover-bg-color: #434B5C;\n",
              "      --hover-fill-color: #FFFFFF;\n",
              "      --disabled-bg-color: #3B4455;\n",
              "      --disabled-fill-color: #666;\n",
              "  }\n",
              "\n",
              "  .colab-df-quickchart {\n",
              "    background-color: var(--bg-color);\n",
              "    border: none;\n",
              "    border-radius: 50%;\n",
              "    cursor: pointer;\n",
              "    display: none;\n",
              "    fill: var(--fill-color);\n",
              "    height: 32px;\n",
              "    padding: 0;\n",
              "    width: 32px;\n",
              "  }\n",
              "\n",
              "  .colab-df-quickchart:hover {\n",
              "    background-color: var(--hover-bg-color);\n",
              "    box-shadow: 0 1px 2px rgba(60, 64, 67, 0.3), 0 1px 3px 1px rgba(60, 64, 67, 0.15);\n",
              "    fill: var(--button-hover-fill-color);\n",
              "  }\n",
              "\n",
              "  .colab-df-quickchart-complete:disabled,\n",
              "  .colab-df-quickchart-complete:disabled:hover {\n",
              "    background-color: var(--disabled-bg-color);\n",
              "    fill: var(--disabled-fill-color);\n",
              "    box-shadow: none;\n",
              "  }\n",
              "\n",
              "  .colab-df-spinner {\n",
              "    border: 2px solid var(--fill-color);\n",
              "    border-color: transparent;\n",
              "    border-bottom-color: var(--fill-color);\n",
              "    animation:\n",
              "      spin 1s steps(1) infinite;\n",
              "  }\n",
              "\n",
              "  @keyframes spin {\n",
              "    0% {\n",
              "      border-color: transparent;\n",
              "      border-bottom-color: var(--fill-color);\n",
              "      border-left-color: var(--fill-color);\n",
              "    }\n",
              "    20% {\n",
              "      border-color: transparent;\n",
              "      border-left-color: var(--fill-color);\n",
              "      border-top-color: var(--fill-color);\n",
              "    }\n",
              "    30% {\n",
              "      border-color: transparent;\n",
              "      border-left-color: var(--fill-color);\n",
              "      border-top-color: var(--fill-color);\n",
              "      border-right-color: var(--fill-color);\n",
              "    }\n",
              "    40% {\n",
              "      border-color: transparent;\n",
              "      border-right-color: var(--fill-color);\n",
              "      border-top-color: var(--fill-color);\n",
              "    }\n",
              "    60% {\n",
              "      border-color: transparent;\n",
              "      border-right-color: var(--fill-color);\n",
              "    }\n",
              "    80% {\n",
              "      border-color: transparent;\n",
              "      border-right-color: var(--fill-color);\n",
              "      border-bottom-color: var(--fill-color);\n",
              "    }\n",
              "    90% {\n",
              "      border-color: transparent;\n",
              "      border-bottom-color: var(--fill-color);\n",
              "    }\n",
              "  }\n",
              "</style>\n",
              "\n",
              "  <script>\n",
              "    async function quickchart(key) {\n",
              "      const quickchartButtonEl =\n",
              "        document.querySelector('#' + key + ' button');\n",
              "      quickchartButtonEl.disabled = true;  // To prevent multiple clicks.\n",
              "      quickchartButtonEl.classList.add('colab-df-spinner');\n",
              "      try {\n",
              "        const charts = await google.colab.kernel.invokeFunction(\n",
              "            'suggestCharts', [key], {});\n",
              "      } catch (error) {\n",
              "        console.error('Error during call to suggestCharts:', error);\n",
              "      }\n",
              "      quickchartButtonEl.classList.remove('colab-df-spinner');\n",
              "      quickchartButtonEl.classList.add('colab-df-quickchart-complete');\n",
              "    }\n",
              "    (() => {\n",
              "      let quickchartButtonEl =\n",
              "        document.querySelector('#df-42eeca91-a9d8-430b-a55c-1b42ef4216cf button');\n",
              "      quickchartButtonEl.style.display =\n",
              "        google.colab.kernel.accessAllowed ? 'block' : 'none';\n",
              "    })();\n",
              "  </script>\n",
              "</div>\n",
              "    </div>\n",
              "  </div>\n"
            ],
            "application/vnd.google.colaboratory.intrinsic+json": {
              "type": "dataframe",
              "summary": "{\n  \"name\": \"             columns=[\\\"WER\\\", \\\"CER\\\"])\",\n  \"rows\": 8,\n  \"fields\": [\n    {\n      \"column\": \"WER\",\n      \"properties\": {\n        \"dtype\": \"number\",\n        \"std\": 0.15580293184477811,\n        \"min\": 0.046,\n        \"max\": 0.491,\n        \"num_unique_values\": 8,\n        \"samples\": [\n          0.322,\n          0.108,\n          0.046\n        ],\n        \"semantic_type\": \"\",\n        \"description\": \"\"\n      }\n    },\n    {\n      \"column\": \"CER\",\n      \"properties\": {\n        \"dtype\": \"number\",\n        \"std\": 0.10470741548306335,\n        \"min\": 0.004,\n        \"max\": 0.314,\n        \"num_unique_values\": 8,\n        \"samples\": [\n          0.055,\n          0.081,\n          0.004\n        ],\n        \"semantic_type\": \"\",\n        \"description\": \"\"\n      }\n    }\n  ]\n}"
            }
          },
          "metadata": {},
          "execution_count": 90
        }
      ]
    },
    {
      "cell_type": "code",
      "source": [
        "print(\"Таблица сравнения автокорректоров для учебного текста\")\n",
        "df_educ = [\n",
        "    [0.023,\t0.002],\n",
        "  \t[0.328,\t0.047],\n",
        "    [0.194,\t0.016],\n",
        "    [0.099,\t0.003],\n",
        "    [wer_educ_jamspell, cer_educ_jamspell],\n",
        "    [wer_educ_aspell, cer_educ_aspell],\n",
        "    [wer_educ_lt, cer_educ_lt],\n",
        "    [wer_educ_rut5, cer_educ_rut5],\n",
        "    [0.019, 0.002]\n",
        "\n",
        "]\n",
        "autocorrect = [\"Without autocorrect\",\n",
        "               \"SpellChecker\",\n",
        "               \"HunSpell\",\n",
        "               \"DeepPavlov\",\n",
        "               \"JamSpell\",\n",
        "               \"Aspell\",\n",
        "               \"LanguageTool\",\n",
        "               \"RU T5\",\n",
        "               \"RuM2M100\"]\n",
        "pd.DataFrame(data=df_educ, index=autocorrect,\n",
        "             columns=[\"WER\", \"CER\"])"
      ],
      "metadata": {
        "colab": {
          "base_uri": "https://localhost:8080/",
          "height": 349
        },
        "id": "iRwvvqT0155O",
        "outputId": "1128ac9c-065e-4058-c852-1f0928d8f01a"
      },
      "execution_count": null,
      "outputs": [
        {
          "output_type": "stream",
          "name": "stdout",
          "text": [
            "Таблица сравнения автокорректоров для учебного текста\n"
          ]
        },
        {
          "output_type": "execute_result",
          "data": {
            "text/plain": [
              "                       WER    CER\n",
              "Without autocorrect  0.023  0.002\n",
              "SpellChecker         0.328  0.047\n",
              "HunSpell             0.194  0.016\n",
              "DeepPavlov           0.099  0.003\n",
              "JamSpell             0.028  0.003\n",
              "Aspell               0.094  0.066\n",
              "LanguageTool         0.053  0.005\n",
              "RU T5                0.315  0.221\n",
              "RuM2M100             0.019  0.002"
            ],
            "text/html": [
              "\n",
              "  <div id=\"df-136e0804-25c9-4a55-a66e-31337adbdd34\" class=\"colab-df-container\">\n",
              "    <div>\n",
              "<style scoped>\n",
              "    .dataframe tbody tr th:only-of-type {\n",
              "        vertical-align: middle;\n",
              "    }\n",
              "\n",
              "    .dataframe tbody tr th {\n",
              "        vertical-align: top;\n",
              "    }\n",
              "\n",
              "    .dataframe thead th {\n",
              "        text-align: right;\n",
              "    }\n",
              "</style>\n",
              "<table border=\"1\" class=\"dataframe\">\n",
              "  <thead>\n",
              "    <tr style=\"text-align: right;\">\n",
              "      <th></th>\n",
              "      <th>WER</th>\n",
              "      <th>CER</th>\n",
              "    </tr>\n",
              "  </thead>\n",
              "  <tbody>\n",
              "    <tr>\n",
              "      <th>Without autocorrect</th>\n",
              "      <td>0.023</td>\n",
              "      <td>0.002</td>\n",
              "    </tr>\n",
              "    <tr>\n",
              "      <th>SpellChecker</th>\n",
              "      <td>0.328</td>\n",
              "      <td>0.047</td>\n",
              "    </tr>\n",
              "    <tr>\n",
              "      <th>HunSpell</th>\n",
              "      <td>0.194</td>\n",
              "      <td>0.016</td>\n",
              "    </tr>\n",
              "    <tr>\n",
              "      <th>DeepPavlov</th>\n",
              "      <td>0.099</td>\n",
              "      <td>0.003</td>\n",
              "    </tr>\n",
              "    <tr>\n",
              "      <th>JamSpell</th>\n",
              "      <td>0.028</td>\n",
              "      <td>0.003</td>\n",
              "    </tr>\n",
              "    <tr>\n",
              "      <th>Aspell</th>\n",
              "      <td>0.094</td>\n",
              "      <td>0.066</td>\n",
              "    </tr>\n",
              "    <tr>\n",
              "      <th>LanguageTool</th>\n",
              "      <td>0.053</td>\n",
              "      <td>0.005</td>\n",
              "    </tr>\n",
              "    <tr>\n",
              "      <th>RU T5</th>\n",
              "      <td>0.315</td>\n",
              "      <td>0.221</td>\n",
              "    </tr>\n",
              "    <tr>\n",
              "      <th>RuM2M100</th>\n",
              "      <td>0.019</td>\n",
              "      <td>0.002</td>\n",
              "    </tr>\n",
              "  </tbody>\n",
              "</table>\n",
              "</div>\n",
              "    <div class=\"colab-df-buttons\">\n",
              "\n",
              "  <div class=\"colab-df-container\">\n",
              "    <button class=\"colab-df-convert\" onclick=\"convertToInteractive('df-136e0804-25c9-4a55-a66e-31337adbdd34')\"\n",
              "            title=\"Convert this dataframe to an interactive table.\"\n",
              "            style=\"display:none;\">\n",
              "\n",
              "  <svg xmlns=\"http://www.w3.org/2000/svg\" height=\"24px\" viewBox=\"0 -960 960 960\">\n",
              "    <path d=\"M120-120v-720h720v720H120Zm60-500h600v-160H180v160Zm220 220h160v-160H400v160Zm0 220h160v-160H400v160ZM180-400h160v-160H180v160Zm440 0h160v-160H620v160ZM180-180h160v-160H180v160Zm440 0h160v-160H620v160Z\"/>\n",
              "  </svg>\n",
              "    </button>\n",
              "\n",
              "  <style>\n",
              "    .colab-df-container {\n",
              "      display:flex;\n",
              "      gap: 12px;\n",
              "    }\n",
              "\n",
              "    .colab-df-convert {\n",
              "      background-color: #E8F0FE;\n",
              "      border: none;\n",
              "      border-radius: 50%;\n",
              "      cursor: pointer;\n",
              "      display: none;\n",
              "      fill: #1967D2;\n",
              "      height: 32px;\n",
              "      padding: 0 0 0 0;\n",
              "      width: 32px;\n",
              "    }\n",
              "\n",
              "    .colab-df-convert:hover {\n",
              "      background-color: #E2EBFA;\n",
              "      box-shadow: 0px 1px 2px rgba(60, 64, 67, 0.3), 0px 1px 3px 1px rgba(60, 64, 67, 0.15);\n",
              "      fill: #174EA6;\n",
              "    }\n",
              "\n",
              "    .colab-df-buttons div {\n",
              "      margin-bottom: 4px;\n",
              "    }\n",
              "\n",
              "    [theme=dark] .colab-df-convert {\n",
              "      background-color: #3B4455;\n",
              "      fill: #D2E3FC;\n",
              "    }\n",
              "\n",
              "    [theme=dark] .colab-df-convert:hover {\n",
              "      background-color: #434B5C;\n",
              "      box-shadow: 0px 1px 3px 1px rgba(0, 0, 0, 0.15);\n",
              "      filter: drop-shadow(0px 1px 2px rgba(0, 0, 0, 0.3));\n",
              "      fill: #FFFFFF;\n",
              "    }\n",
              "  </style>\n",
              "\n",
              "    <script>\n",
              "      const buttonEl =\n",
              "        document.querySelector('#df-136e0804-25c9-4a55-a66e-31337adbdd34 button.colab-df-convert');\n",
              "      buttonEl.style.display =\n",
              "        google.colab.kernel.accessAllowed ? 'block' : 'none';\n",
              "\n",
              "      async function convertToInteractive(key) {\n",
              "        const element = document.querySelector('#df-136e0804-25c9-4a55-a66e-31337adbdd34');\n",
              "        const dataTable =\n",
              "          await google.colab.kernel.invokeFunction('convertToInteractive',\n",
              "                                                    [key], {});\n",
              "        if (!dataTable) return;\n",
              "\n",
              "        const docLinkHtml = 'Like what you see? Visit the ' +\n",
              "          '<a target=\"_blank\" href=https://colab.research.google.com/notebooks/data_table.ipynb>data table notebook</a>'\n",
              "          + ' to learn more about interactive tables.';\n",
              "        element.innerHTML = '';\n",
              "        dataTable['output_type'] = 'display_data';\n",
              "        await google.colab.output.renderOutput(dataTable, element);\n",
              "        const docLink = document.createElement('div');\n",
              "        docLink.innerHTML = docLinkHtml;\n",
              "        element.appendChild(docLink);\n",
              "      }\n",
              "    </script>\n",
              "  </div>\n",
              "\n",
              "\n",
              "<div id=\"df-b75d7ae4-bda4-4b3b-af72-fd616ba870af\">\n",
              "  <button class=\"colab-df-quickchart\" onclick=\"quickchart('df-b75d7ae4-bda4-4b3b-af72-fd616ba870af')\"\n",
              "            title=\"Suggest charts\"\n",
              "            style=\"display:none;\">\n",
              "\n",
              "<svg xmlns=\"http://www.w3.org/2000/svg\" height=\"24px\"viewBox=\"0 0 24 24\"\n",
              "     width=\"24px\">\n",
              "    <g>\n",
              "        <path d=\"M19 3H5c-1.1 0-2 .9-2 2v14c0 1.1.9 2 2 2h14c1.1 0 2-.9 2-2V5c0-1.1-.9-2-2-2zM9 17H7v-7h2v7zm4 0h-2V7h2v10zm4 0h-2v-4h2v4z\"/>\n",
              "    </g>\n",
              "</svg>\n",
              "  </button>\n",
              "\n",
              "<style>\n",
              "  .colab-df-quickchart {\n",
              "      --bg-color: #E8F0FE;\n",
              "      --fill-color: #1967D2;\n",
              "      --hover-bg-color: #E2EBFA;\n",
              "      --hover-fill-color: #174EA6;\n",
              "      --disabled-fill-color: #AAA;\n",
              "      --disabled-bg-color: #DDD;\n",
              "  }\n",
              "\n",
              "  [theme=dark] .colab-df-quickchart {\n",
              "      --bg-color: #3B4455;\n",
              "      --fill-color: #D2E3FC;\n",
              "      --hover-bg-color: #434B5C;\n",
              "      --hover-fill-color: #FFFFFF;\n",
              "      --disabled-bg-color: #3B4455;\n",
              "      --disabled-fill-color: #666;\n",
              "  }\n",
              "\n",
              "  .colab-df-quickchart {\n",
              "    background-color: var(--bg-color);\n",
              "    border: none;\n",
              "    border-radius: 50%;\n",
              "    cursor: pointer;\n",
              "    display: none;\n",
              "    fill: var(--fill-color);\n",
              "    height: 32px;\n",
              "    padding: 0;\n",
              "    width: 32px;\n",
              "  }\n",
              "\n",
              "  .colab-df-quickchart:hover {\n",
              "    background-color: var(--hover-bg-color);\n",
              "    box-shadow: 0 1px 2px rgba(60, 64, 67, 0.3), 0 1px 3px 1px rgba(60, 64, 67, 0.15);\n",
              "    fill: var(--button-hover-fill-color);\n",
              "  }\n",
              "\n",
              "  .colab-df-quickchart-complete:disabled,\n",
              "  .colab-df-quickchart-complete:disabled:hover {\n",
              "    background-color: var(--disabled-bg-color);\n",
              "    fill: var(--disabled-fill-color);\n",
              "    box-shadow: none;\n",
              "  }\n",
              "\n",
              "  .colab-df-spinner {\n",
              "    border: 2px solid var(--fill-color);\n",
              "    border-color: transparent;\n",
              "    border-bottom-color: var(--fill-color);\n",
              "    animation:\n",
              "      spin 1s steps(1) infinite;\n",
              "  }\n",
              "\n",
              "  @keyframes spin {\n",
              "    0% {\n",
              "      border-color: transparent;\n",
              "      border-bottom-color: var(--fill-color);\n",
              "      border-left-color: var(--fill-color);\n",
              "    }\n",
              "    20% {\n",
              "      border-color: transparent;\n",
              "      border-left-color: var(--fill-color);\n",
              "      border-top-color: var(--fill-color);\n",
              "    }\n",
              "    30% {\n",
              "      border-color: transparent;\n",
              "      border-left-color: var(--fill-color);\n",
              "      border-top-color: var(--fill-color);\n",
              "      border-right-color: var(--fill-color);\n",
              "    }\n",
              "    40% {\n",
              "      border-color: transparent;\n",
              "      border-right-color: var(--fill-color);\n",
              "      border-top-color: var(--fill-color);\n",
              "    }\n",
              "    60% {\n",
              "      border-color: transparent;\n",
              "      border-right-color: var(--fill-color);\n",
              "    }\n",
              "    80% {\n",
              "      border-color: transparent;\n",
              "      border-right-color: var(--fill-color);\n",
              "      border-bottom-color: var(--fill-color);\n",
              "    }\n",
              "    90% {\n",
              "      border-color: transparent;\n",
              "      border-bottom-color: var(--fill-color);\n",
              "    }\n",
              "  }\n",
              "</style>\n",
              "\n",
              "  <script>\n",
              "    async function quickchart(key) {\n",
              "      const quickchartButtonEl =\n",
              "        document.querySelector('#' + key + ' button');\n",
              "      quickchartButtonEl.disabled = true;  // To prevent multiple clicks.\n",
              "      quickchartButtonEl.classList.add('colab-df-spinner');\n",
              "      try {\n",
              "        const charts = await google.colab.kernel.invokeFunction(\n",
              "            'suggestCharts', [key], {});\n",
              "      } catch (error) {\n",
              "        console.error('Error during call to suggestCharts:', error);\n",
              "      }\n",
              "      quickchartButtonEl.classList.remove('colab-df-spinner');\n",
              "      quickchartButtonEl.classList.add('colab-df-quickchart-complete');\n",
              "    }\n",
              "    (() => {\n",
              "      let quickchartButtonEl =\n",
              "        document.querySelector('#df-b75d7ae4-bda4-4b3b-af72-fd616ba870af button');\n",
              "      quickchartButtonEl.style.display =\n",
              "        google.colab.kernel.accessAllowed ? 'block' : 'none';\n",
              "    })();\n",
              "  </script>\n",
              "</div>\n",
              "    </div>\n",
              "  </div>\n"
            ],
            "application/vnd.google.colaboratory.intrinsic+json": {
              "type": "dataframe",
              "summary": "{\n  \"name\": \"             columns=[\\\"WER\\\", \\\"CER\\\"])\",\n  \"rows\": 9,\n  \"fields\": [\n    {\n      \"column\": \"WER\",\n      \"properties\": {\n        \"dtype\": \"number\",\n        \"std\": 0.12239939179224345,\n        \"min\": 0.019,\n        \"max\": 0.328,\n        \"num_unique_values\": 9,\n        \"samples\": [\n          0.315,\n          0.328,\n          0.094\n        ],\n        \"semantic_type\": \"\",\n        \"description\": \"\"\n      }\n    },\n    {\n      \"column\": \"CER\",\n      \"properties\": {\n        \"dtype\": \"number\",\n        \"std\": 0.07151068296260202,\n        \"min\": 0.002,\n        \"max\": 0.221,\n        \"num_unique_values\": 7,\n        \"samples\": [\n          0.002,\n          0.047,\n          0.005\n        ],\n        \"semantic_type\": \"\",\n        \"description\": \"\"\n      }\n    }\n  ]\n}"
            }
          },
          "metadata": {},
          "execution_count": 91
        }
      ]
    },
    {
      "cell_type": "markdown",
      "source": [
        "**Выводы:**\n",
        "\n",
        "Продолжила анализ автокорректоров. Загрузила и открыла распознанные файлы из первого задания. Протестировара новые автокорректоры, которые используют контекстную корректировку слов:\n",
        "\n",
        "- **JamSpell**\n",
        "- **Aspell**\n",
        "- **LanguageTool**\n",
        "- **RU T5** - предобученная модель на основе архитектуры T5 от Google\n",
        "- **RuM2M100** - предобученная модель, основанная на архитектуре M2M100 от Meta\n",
        "\n",
        "Почти все автокорректоры показали так же как и в предыдущей работе снижение метрик относительно распознанного текста без обработки автокорректором.\n",
        "\n",
        "Кроме проблемы со словами, отсутствующими в словарях автокорректоров, появилась проблема неправильного понимания контекста моделями. Возможно, проблема в сложности текста, который я использовала. Литературный текст, который я использовала, написан писателями-фантастами, поэтому там встечаются фэнтезийные слова, жаргонизмы, разговорные слова. В тексте из учебника встречались сложносоставные слова (например, \"правопонимание\"), которые не всем корректорам удавалось распознать.\n",
        "\n",
        "Только модель **RuM2M100** показала улучшение метрик относительно распознанного текста без обработки автокорректором.\n",
        "\n",
        "На тексте из учебника до автокоррекции метрики были: WER 2,3%,\tCER 0,2%\n",
        "\n",
        "После автокоррекции **RuM2M100** метрики: WER\t1,9%, CER 0,2%\n",
        "\n",
        "Но у этой модели есть большой минус - скорость работы. Текст из учебника объемом 3 страницы обрабатывался 44 минуты. Исходя из этого, литературный тест был бы обработан за 4 часа. От этой идеи пришлось отказаться.\n",
        "\n",
        "Таким образом, все автокорректоры ухудшают качество распознанного текста."
      ],
      "metadata": {
        "id": "DNcS0ZmJMDGC"
      }
    }
  ]
}