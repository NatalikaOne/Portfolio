{
  "nbformat": 4,
  "nbformat_minor": 0,
  "metadata": {
    "colab": {
      "provenance": []
    },
    "kernelspec": {
      "name": "python3",
      "display_name": "Python 3"
    },
    "language_info": {
      "name": "python"
    }
  },
  "cells": [
    {
      "cell_type": "markdown",
      "source": [
        "# Техническое задание 1\n",
        "\n",
        "**Распознавание текста с картинки в формате jpg и тестирование автокорректоров.**\n",
        "\n",
        "Сделать небольшой обзор на автокорректоры:\n",
        "1. Взять модель tesseract, которая распознает русский текст\n",
        "2. Распознать любой текст (10 страниц любого литературного текста на русском языке без формул, цифры разрешены) и посчитать метрики. Использовать метрики WER и CER.\n",
        "3. Взять любой уже предобученный автокорректор и замените слова. И снова сравните с ошибками.\n",
        "4. В ходе работы задание дополнено: протестировать небольшой текст из любого не математического учебника (более академический слог)."
      ],
      "metadata": {
        "id": "nBIUi9vztgKh"
      }
    },
    {
      "cell_type": "markdown",
      "source": [
        "## План работы:\n",
        "### 1. Подготовка данных и инструментов\n",
        "\n",
        "**Сбор данных:**\n",
        "\n",
        "Найти текст 10 страниц в формате djvu на русском языке.\n",
        "Найти этот же текст в формате txt, чтобы можно было сравнивать с распознанным текстом.\n",
        "\n",
        "**Подготовка инструментов**\n",
        "\n",
        "Установить модель tesseract для распознавания текстов. Подготовить и установить автокорректоры.\n",
        "\n",
        "### 2. Распознавание текста с помощью Tesseract\n",
        "**Загрузка и обработка изображения:**\n",
        "\n",
        "Загрузить изображение текста. Применить предварительную обработку изображения, если необходимо (например, улучшение контраста, удаление шума).\n",
        "\n",
        "**Распознавание текста:**\n",
        "\n",
        "Использовать pytesseract для преобразования изображения в текст.\n",
        "Сохранить распознанный текст в один файл.\n",
        "\n",
        "### 3. Анализ ошибок:\n",
        "\n",
        "Сравнить исходный текст с распознанным текстом.\n",
        "Посчитать количество ошибок (пропущенных символов, неверных символов и т.п.) используя метрики WER и CER.\n",
        "\n",
        "### 4. Применение автокорректора\n",
        "\n",
        "**Применение автокорректора:**\n",
        "\n",
        "Взять распознанный текст и применить к нему выбранную модель автокорректора.\n",
        "Сохранить исправленный текст в отдельную переменную.\n",
        "\n",
        "**Оценка результатов:**\n",
        "\n",
        "Сравнить исходный текст с исправленным текстом.\n",
        "Оценить количество оставшихся ошибок после применения автокорректора, используя метрики WER и CER.\n",
        "\n",
        "### 5. Анализ и выводы\n",
        "Провести анализ полученных результатов и сделать выводы о качестве работы автокорректоров."
      ],
      "metadata": {
        "id": "iPaQbdNl_-zJ"
      }
    },
    {
      "cell_type": "markdown",
      "source": [
        "### 1. Подготовка данных и инструментов"
      ],
      "metadata": {
        "id": "qqhdNbhbHGOu"
      }
    },
    {
      "cell_type": "markdown",
      "source": [
        "**Установка библиотек**"
      ],
      "metadata": {
        "id": "ze8Y6XczIW6F"
      }
    },
    {
      "cell_type": "code",
      "source": [
        "pip install deeppavlov # иногда подключается за два захода"
      ],
      "metadata": {
        "colab": {
          "base_uri": "https://localhost:8080/"
        },
        "outputId": "93739c0b-fdcf-403d-cc7b-04d3b658f0de",
        "id": "DmhaY8qCRpmE"
      },
      "execution_count": 1,
      "outputs": [
        {
          "output_type": "stream",
          "name": "stdout",
          "text": [
            "Requirement already satisfied: deeppavlov in /usr/local/lib/python3.11/dist-packages (1.7.0)\n",
            "Requirement already satisfied: fastapi<=0.89.1,>=0.47.0 in /usr/local/lib/python3.11/dist-packages (from deeppavlov) (0.89.1)\n",
            "Requirement already satisfied: filelock<3.10.0,>=3.0.0 in /usr/local/lib/python3.11/dist-packages (from deeppavlov) (3.9.1)\n",
            "Requirement already satisfied: nltk<3.10.0,>=3.2.4 in /usr/local/lib/python3.11/dist-packages (from deeppavlov) (3.9.1)\n",
            "Requirement already satisfied: numpy<1.24 in /usr/local/lib/python3.11/dist-packages (from deeppavlov) (1.23.5)\n",
            "Requirement already satisfied: pandas<1.6.0,>=1.0.0 in /usr/local/lib/python3.11/dist-packages (from deeppavlov) (1.5.3)\n",
            "Requirement already satisfied: prometheus-client<=1.16.0,>=0.13.0 in /usr/local/lib/python3.11/dist-packages (from deeppavlov) (0.21.1)\n",
            "Requirement already satisfied: pydantic<2 in /usr/local/lib/python3.11/dist-packages (from deeppavlov) (1.10.22)\n",
            "Requirement already satisfied: pybind11==2.10.3 in /usr/local/lib/python3.11/dist-packages (from deeppavlov) (2.10.3)\n",
            "Requirement already satisfied: requests<3.0.0,>=2.19.0 in /usr/local/lib/python3.11/dist-packages (from deeppavlov) (2.32.3)\n",
            "Requirement already satisfied: tqdm<4.65.0,>=4.42.0 in /usr/local/lib/python3.11/dist-packages (from deeppavlov) (4.64.1)\n",
            "Requirement already satisfied: uvicorn<0.19.0,>=0.13.0 in /usr/local/lib/python3.11/dist-packages (from deeppavlov) (0.18.3)\n",
            "Requirement already satisfied: wheel in /usr/local/lib/python3.11/dist-packages (from deeppavlov) (0.45.1)\n",
            "Requirement already satisfied: scikit-learn==1.4.0 in /usr/local/lib/python3.11/dist-packages (from deeppavlov) (1.4.0)\n",
            "Requirement already satisfied: scipy==1.10.0 in /usr/local/lib/python3.11/dist-packages (from deeppavlov) (1.10.0)\n",
            "Requirement already satisfied: joblib>=1.2.0 in /usr/local/lib/python3.11/dist-packages (from scikit-learn==1.4.0->deeppavlov) (1.4.2)\n",
            "Requirement already satisfied: threadpoolctl>=2.0.0 in /usr/local/lib/python3.11/dist-packages (from scikit-learn==1.4.0->deeppavlov) (3.6.0)\n",
            "Requirement already satisfied: starlette==0.22.0 in /usr/local/lib/python3.11/dist-packages (from fastapi<=0.89.1,>=0.47.0->deeppavlov) (0.22.0)\n",
            "Requirement already satisfied: anyio<5,>=3.4.0 in /usr/local/lib/python3.11/dist-packages (from starlette==0.22.0->fastapi<=0.89.1,>=0.47.0->deeppavlov) (4.9.0)\n",
            "Requirement already satisfied: click in /usr/local/lib/python3.11/dist-packages (from nltk<3.10.0,>=3.2.4->deeppavlov) (8.1.8)\n",
            "Requirement already satisfied: regex>=2021.8.3 in /usr/local/lib/python3.11/dist-packages (from nltk<3.10.0,>=3.2.4->deeppavlov) (2024.11.6)\n",
            "Requirement already satisfied: python-dateutil>=2.8.1 in /usr/local/lib/python3.11/dist-packages (from pandas<1.6.0,>=1.0.0->deeppavlov) (2.9.0.post0)\n",
            "Requirement already satisfied: pytz>=2020.1 in /usr/local/lib/python3.11/dist-packages (from pandas<1.6.0,>=1.0.0->deeppavlov) (2025.2)\n",
            "Requirement already satisfied: typing-extensions>=4.2.0 in /usr/local/lib/python3.11/dist-packages (from pydantic<2->deeppavlov) (4.13.2)\n",
            "Requirement already satisfied: charset-normalizer<4,>=2 in /usr/local/lib/python3.11/dist-packages (from requests<3.0.0,>=2.19.0->deeppavlov) (3.4.1)\n",
            "Requirement already satisfied: idna<4,>=2.5 in /usr/local/lib/python3.11/dist-packages (from requests<3.0.0,>=2.19.0->deeppavlov) (3.10)\n",
            "Requirement already satisfied: urllib3<3,>=1.21.1 in /usr/local/lib/python3.11/dist-packages (from requests<3.0.0,>=2.19.0->deeppavlov) (2.4.0)\n",
            "Requirement already satisfied: certifi>=2017.4.17 in /usr/local/lib/python3.11/dist-packages (from requests<3.0.0,>=2.19.0->deeppavlov) (2025.4.26)\n",
            "Requirement already satisfied: h11>=0.8 in /usr/local/lib/python3.11/dist-packages (from uvicorn<0.19.0,>=0.13.0->deeppavlov) (0.16.0)\n",
            "Requirement already satisfied: six>=1.5 in /usr/local/lib/python3.11/dist-packages (from python-dateutil>=2.8.1->pandas<1.6.0,>=1.0.0->deeppavlov) (1.17.0)\n",
            "Requirement already satisfied: sniffio>=1.1 in /usr/local/lib/python3.11/dist-packages (from anyio<5,>=3.4.0->starlette==0.22.0->fastapi<=0.89.1,>=0.47.0->deeppavlov) (1.3.1)\n"
          ]
        }
      ]
    },
    {
      "cell_type": "code",
      "execution_count": 2,
      "metadata": {
        "colab": {
          "base_uri": "https://localhost:8080/"
        },
        "id": "uxT77Lf3WKMl",
        "outputId": "edbc08d7-9ca3-4d32-9a99-518466d4ad1e"
      },
      "outputs": [
        {
          "output_type": "stream",
          "name": "stdout",
          "text": [
            "Requirement already satisfied: pytesseract in /usr/local/lib/python3.11/dist-packages (0.3.13)\n",
            "Requirement already satisfied: packaging>=21.3 in /usr/local/lib/python3.11/dist-packages (from pytesseract) (24.2)\n",
            "Requirement already satisfied: Pillow>=8.0.0 in /usr/local/lib/python3.11/dist-packages (from pytesseract) (11.2.1)\n",
            "Requirement already satisfied: Pillow in /usr/local/lib/python3.11/dist-packages (11.2.1)\n"
          ]
        }
      ],
      "source": [
        "!pip install pytesseract\n",
        "!pip install Pillow"
      ]
    },
    {
      "cell_type": "code",
      "source": [
        "# Установка Tesseract\n",
        "!apt-get install tesseract-ocr\n",
        "!apt-get install tesseract-ocr-rus  # для поддержки русского языка"
      ],
      "metadata": {
        "colab": {
          "base_uri": "https://localhost:8080/"
        },
        "id": "VVUfnWnXWldG",
        "outputId": "ce019eb9-2d5e-4a87-f0a2-02472f4cff9a"
      },
      "execution_count": 3,
      "outputs": [
        {
          "output_type": "stream",
          "name": "stdout",
          "text": [
            "Reading package lists... Done\n",
            "Building dependency tree... Done\n",
            "Reading state information... Done\n",
            "tesseract-ocr is already the newest version (4.1.1-2.1build1).\n",
            "0 upgraded, 0 newly installed, 0 to remove and 39 not upgraded.\n",
            "Reading package lists... Done\n",
            "Building dependency tree... Done\n",
            "Reading state information... Done\n",
            "tesseract-ocr-rus is already the newest version (1:4.00~git30-7274cfa-1.1).\n",
            "0 upgraded, 0 newly installed, 0 to remove and 39 not upgraded.\n"
          ]
        }
      ]
    },
    {
      "cell_type": "code",
      "source": [
        "pip install pytesseract pillow jiwer # установка библиотеки для вычисления метрик"
      ],
      "metadata": {
        "colab": {
          "base_uri": "https://localhost:8080/"
        },
        "id": "uZCe10t1Drc8",
        "outputId": "a04a1b46-2587-40df-8f2a-13c8b77836e0"
      },
      "execution_count": 4,
      "outputs": [
        {
          "output_type": "stream",
          "name": "stdout",
          "text": [
            "Requirement already satisfied: pytesseract in /usr/local/lib/python3.11/dist-packages (0.3.13)\n",
            "Requirement already satisfied: pillow in /usr/local/lib/python3.11/dist-packages (11.2.1)\n",
            "Requirement already satisfied: jiwer in /usr/local/lib/python3.11/dist-packages (3.1.0)\n",
            "Requirement already satisfied: packaging>=21.3 in /usr/local/lib/python3.11/dist-packages (from pytesseract) (24.2)\n",
            "Requirement already satisfied: click>=8.1.8 in /usr/local/lib/python3.11/dist-packages (from jiwer) (8.1.8)\n",
            "Requirement already satisfied: rapidfuzz>=3.9.7 in /usr/local/lib/python3.11/dist-packages (from jiwer) (3.13.0)\n"
          ]
        }
      ]
    },
    {
      "cell_type": "code",
      "source": [
        "pip install pyspellchecker # библиотеки авторорректоров"
      ],
      "metadata": {
        "colab": {
          "base_uri": "https://localhost:8080/"
        },
        "outputId": "1d2dd603-18d4-4557-ab6e-128467a15d5e",
        "id": "iiEN-LwmQ-5R"
      },
      "execution_count": 5,
      "outputs": [
        {
          "output_type": "stream",
          "name": "stdout",
          "text": [
            "Requirement already satisfied: pyspellchecker in /usr/local/lib/python3.11/dist-packages (0.8.2)\n"
          ]
        }
      ]
    },
    {
      "cell_type": "code",
      "source": [
        "!apt-get update\n",
        "!apt-get install -y libhunspell-dev hunspell-ru\n",
        "!pip install hunspell"
      ],
      "metadata": {
        "colab": {
          "base_uri": "https://localhost:8080/"
        },
        "outputId": "6310b308-5f6c-4f3c-e02e-f99f1b4efe48",
        "id": "aovGbjyGRXIh"
      },
      "execution_count": 6,
      "outputs": [
        {
          "output_type": "stream",
          "name": "stdout",
          "text": [
            "\r0% [Working]\r            \rHit:1 https://cloud.r-project.org/bin/linux/ubuntu jammy-cran40/ InRelease\n",
            "Hit:2 https://developer.download.nvidia.com/compute/cuda/repos/ubuntu2204/x86_64  InRelease\n",
            "Hit:3 http://security.ubuntu.com/ubuntu jammy-security InRelease\n",
            "Hit:4 http://archive.ubuntu.com/ubuntu jammy InRelease\n",
            "Hit:5 http://archive.ubuntu.com/ubuntu jammy-updates InRelease\n",
            "Hit:6 https://r2u.stat.illinois.edu/ubuntu jammy InRelease\n",
            "Hit:7 http://archive.ubuntu.com/ubuntu jammy-backports InRelease\n",
            "Hit:8 https://ppa.launchpadcontent.net/deadsnakes/ppa/ubuntu jammy InRelease\n",
            "Hit:9 https://ppa.launchpadcontent.net/graphics-drivers/ppa/ubuntu jammy InRelease\n",
            "Hit:10 https://ppa.launchpadcontent.net/ubuntugis/ppa/ubuntu jammy InRelease\n",
            "Reading package lists... Done\n",
            "W: Skipping acquire of configured file 'main/source/Sources' as repository 'https://r2u.stat.illinois.edu/ubuntu jammy InRelease' does not seem to provide it (sources.list entry misspelt?)\n",
            "Reading package lists... Done\n",
            "Building dependency tree... Done\n",
            "Reading state information... Done\n",
            "hunspell-ru is already the newest version (1:7.2.0-2).\n",
            "libhunspell-dev is already the newest version (1.7.0-4build1).\n",
            "0 upgraded, 0 newly installed, 0 to remove and 39 not upgraded.\n",
            "Collecting hunspell\n",
            "  Using cached hunspell-0.5.5-cp311-cp311-linux_x86_64.whl\n",
            "Installing collected packages: hunspell\n",
            "Successfully installed hunspell-0.5.5\n"
          ]
        }
      ]
    },
    {
      "cell_type": "code",
      "source": [
        "pip install pytesseract autocorrect"
      ],
      "metadata": {
        "colab": {
          "base_uri": "https://localhost:8080/"
        },
        "outputId": "698aa5cc-40cf-447c-dfaa-38230be4ad3a",
        "id": "W87xBTPSRfLl"
      },
      "execution_count": 7,
      "outputs": [
        {
          "output_type": "stream",
          "name": "stdout",
          "text": [
            "Requirement already satisfied: pytesseract in /usr/local/lib/python3.11/dist-packages (0.3.13)\n",
            "Collecting autocorrect\n",
            "  Downloading autocorrect-2.6.1.tar.gz (622 kB)\n",
            "\u001b[2K     \u001b[90m━━━━━━━━━━━━━━━━━━━━━━━━━━━━━━━━━━━━━━━\u001b[0m \u001b[32m622.8/622.8 kB\u001b[0m \u001b[31m8.2 MB/s\u001b[0m eta \u001b[36m0:00:00\u001b[0m\n",
            "\u001b[?25h  Preparing metadata (setup.py) ... \u001b[?25l\u001b[?25hdone\n",
            "Requirement already satisfied: packaging>=21.3 in /usr/local/lib/python3.11/dist-packages (from pytesseract) (24.2)\n",
            "Requirement already satisfied: Pillow>=8.0.0 in /usr/local/lib/python3.11/dist-packages (from pytesseract) (11.2.1)\n",
            "Building wheels for collected packages: autocorrect\n",
            "  Building wheel for autocorrect (setup.py) ... \u001b[?25l\u001b[?25hdone\n",
            "  Created wheel for autocorrect: filename=autocorrect-2.6.1-py3-none-any.whl size=622364 sha256=d19fc9951661bd343132338f66d70f9950ea2feee995b6d32b849e7abc8384fd\n",
            "  Stored in directory: /root/.cache/pip/wheels/5e/90/99/807a5ad861ce5d22c3c299a11df8cba9f31524f23ae6e645cb\n",
            "Successfully built autocorrect\n",
            "Installing collected packages: autocorrect\n",
            "Successfully installed autocorrect-2.6.1\n"
          ]
        }
      ]
    },
    {
      "cell_type": "code",
      "source": [
        "!pip install sacremoses # необходим для deeppavlov"
      ],
      "metadata": {
        "colab": {
          "base_uri": "https://localhost:8080/"
        },
        "outputId": "9f65607a-0fe0-4b80-b2d1-8f9207505d66",
        "id": "wU4OiLXlRpmF"
      },
      "execution_count": 8,
      "outputs": [
        {
          "output_type": "stream",
          "name": "stdout",
          "text": [
            "Collecting sacremoses\n",
            "  Downloading sacremoses-0.1.1-py3-none-any.whl.metadata (8.3 kB)\n",
            "Requirement already satisfied: regex in /usr/local/lib/python3.11/dist-packages (from sacremoses) (2024.11.6)\n",
            "Requirement already satisfied: click in /usr/local/lib/python3.11/dist-packages (from sacremoses) (8.1.8)\n",
            "Requirement already satisfied: joblib in /usr/local/lib/python3.11/dist-packages (from sacremoses) (1.4.2)\n",
            "Requirement already satisfied: tqdm in /usr/local/lib/python3.11/dist-packages (from sacremoses) (4.64.1)\n",
            "Downloading sacremoses-0.1.1-py3-none-any.whl (897 kB)\n",
            "\u001b[2K   \u001b[90m━━━━━━━━━━━━━━━━━━━━━━━━━━━━━━━━━━━━━━━━\u001b[0m \u001b[32m897.5/897.5 kB\u001b[0m \u001b[31m9.9 MB/s\u001b[0m eta \u001b[36m0:00:00\u001b[0m\n",
            "\u001b[?25hInstalling collected packages: sacremoses\n",
            "Successfully installed sacremoses-0.1.1\n"
          ]
        }
      ]
    },
    {
      "cell_type": "code",
      "source": [
        "pip install sortedcontainers # необходим для deeppavlov"
      ],
      "metadata": {
        "colab": {
          "base_uri": "https://localhost:8080/"
        },
        "outputId": "c7a23275-8e06-4130-cd63-23773502adba",
        "id": "NOqXIdgJRpmF"
      },
      "execution_count": 9,
      "outputs": [
        {
          "output_type": "stream",
          "name": "stdout",
          "text": [
            "Requirement already satisfied: sortedcontainers in /usr/local/lib/python3.11/dist-packages (2.4.0)\n"
          ]
        }
      ]
    },
    {
      "cell_type": "code",
      "source": [
        "pip install kenlm # необходим для deeppavlov"
      ],
      "metadata": {
        "colab": {
          "base_uri": "https://localhost:8080/"
        },
        "outputId": "05f6667c-8a7c-487d-b574-d87520a538ee",
        "id": "nB5GeG3JRpmG"
      },
      "execution_count": 10,
      "outputs": [
        {
          "output_type": "stream",
          "name": "stdout",
          "text": [
            "Collecting kenlm\n",
            "  Downloading kenlm-0.3.0.tar.gz (427 kB)\n",
            "\u001b[2K     \u001b[90m━━━━━━━━━━━━━━━━━━━━━━━━━━━━━━━━━━━━━━━\u001b[0m \u001b[32m427.5/427.5 kB\u001b[0m \u001b[31m6.8 MB/s\u001b[0m eta \u001b[36m0:00:00\u001b[0m\n",
            "\u001b[?25h  Installing build dependencies ... \u001b[?25l\u001b[?25hdone\n",
            "  Getting requirements to build wheel ... \u001b[?25l\u001b[?25hdone\n",
            "  Preparing metadata (pyproject.toml) ... \u001b[?25l\u001b[?25hdone\n",
            "Building wheels for collected packages: kenlm\n",
            "  Building wheel for kenlm (pyproject.toml) ... \u001b[?25l\u001b[?25hdone\n",
            "  Created wheel for kenlm: filename=kenlm-0.3.0-cp311-cp311-linux_x86_64.whl size=3185139 sha256=563019e2f2130bf84783839c5e5396ead9d08f1b462e13ba1655e1ab1021da2d\n",
            "  Stored in directory: /root/.cache/pip/wheels/eb/fd/7c/6630a05c6fe34e23f266b8156e4c585a5ae487f8fd7c04a3ef\n",
            "Successfully built kenlm\n",
            "Installing collected packages: kenlm\n",
            "Successfully installed kenlm-0.3.0\n"
          ]
        }
      ]
    },
    {
      "cell_type": "code",
      "source": [
        "import pandas as pd\n",
        "import pytesseract\n",
        "import os\n",
        "import requests\n",
        "import subprocess\n",
        "import re\n",
        "import string\n",
        "import jiwer # библиотека для вычисления метрик\n",
        "from PIL import Image, ImageFilter\n",
        "from io import BytesIO"
      ],
      "metadata": {
        "id": "eGdN3S6UWq7C"
      },
      "execution_count": 11,
      "outputs": []
    },
    {
      "cell_type": "code",
      "source": [
        "from spellchecker import SpellChecker\n",
        "import hunspell\n",
        "from autocorrect import Speller\n",
        "from deeppavlov import build_model, configs"
      ],
      "metadata": {
        "id": "yJmGI6uKQ-5S"
      },
      "execution_count": 12,
      "outputs": []
    },
    {
      "cell_type": "markdown",
      "source": [
        "\n",
        "**Сбор данных:**\n",
        "\n",
        "Подготовила **текст для распознавания:** отрывок из книги братьев Стругацких \"Понедельник начинается в субботу\" в формате djvu. Конвертировала их с стороннем сервисе в файл jpg. Согласно заданию - это чистый литературный текст с небольшим количеством цифр. Текст был взят из середины книги, старалась выбрать часть с наименьшим количеством прямой речи. В тексте есть переносы, это необходимо было учитывать в работе.\n",
        "\n",
        "Подготовила **эталонный файл:** вырезала эту же часть текста из файла в формате txt. Предварительно проверила на предмет опечаток и ошибок.\n",
        "\n",
        "Для сравнения был добавлен и распознан текст из учебника \"Теория государства и права\" для того чтобы убедиться, что на результат могут влиять специфические слова из литературного текста."
      ],
      "metadata": {
        "id": "D7KP9yVkvho2"
      }
    },
    {
      "cell_type": "markdown",
      "source": [
        "### 2. Распознавание текста с помощью Tesseract"
      ],
      "metadata": {
        "id": "RKxHljF0qr64"
      }
    },
    {
      "cell_type": "markdown",
      "source": [
        "**Литературный текст**"
      ],
      "metadata": {
        "id": "dkQO9x4-y5ap"
      }
    },
    {
      "cell_type": "code",
      "source": [
        "from google.colab import drive # подключение гугл диска с файлами\n",
        "drive.mount('/content/drive')"
      ],
      "metadata": {
        "colab": {
          "base_uri": "https://localhost:8080/"
        },
        "id": "r898HzRtF02b",
        "outputId": "729c7b8e-9f00-46a0-f1ac-77394ddd929c"
      },
      "execution_count": 13,
      "outputs": [
        {
          "output_type": "stream",
          "name": "stdout",
          "text": [
            "Mounted at /content/drive\n"
          ]
        }
      ]
    },
    {
      "cell_type": "code",
      "source": [
        "# путь к папке с изображениями\n",
        "image_folder_path = '/content/drive/My Drive/Files_for_project/images'\n",
        "\n",
        "# список всех файлов изображений в указанной папке\n",
        "image_files = [f for f in os.listdir(image_folder_path) if f.endswith(('.jpg',\n",
        "                                                                       '.jpeg',\n",
        "                                                                       '.png'))]\n",
        "\n",
        "image_files.sort()\n",
        "\n",
        "# распознавание и объединение текста из всех изображений\n",
        "combined_text = \"\"\n",
        "\n",
        "for image_file in image_files:\n",
        "    image_path = os.path.join(image_folder_path, image_file)\n",
        "    img = Image.open(image_path)\n",
        "    img = img.convert('L')  # преобразование в оттенки серого\n",
        "    img = img.filter(ImageFilter.MedianFilter())  # удаление шума\n",
        "    threshold = 128\n",
        "    img = img.point(lambda p: p > threshold and 255)  # бинаризация\n",
        "    text = pytesseract.image_to_string(img, lang='rus')  # распознавание\n",
        "    combined_text += text + \"\\n\"\n",
        "\n",
        "print(\"Часть объединенного текста:\")\n",
        "print(combined_text[0:2550]) # печать части текста, для проверки"
      ],
      "metadata": {
        "colab": {
          "base_uri": "https://localhost:8080/"
        },
        "id": "GhuP5WW_Dz6t",
        "outputId": "5609b49a-d544-4dca-9568-23557b792064"
      },
      "execution_count": 14,
      "outputs": [
        {
          "output_type": "stream",
          "name": "stdout",
          "text": [
            "Часть объединенного текста:\n",
            "по-видимому, с вестибюля. В заплесневелых углах белесо мер-\n",
            "цали кости прикованных скелетов, где-то мерно капала вода,\n",
            "в нишах между колоннами в неестественных позах торчали\n",
            "статуи в ржавых латах, справа от входа у стены громоздились\n",
            "обломки древних идолов, наверху этой кучи торчали гипсо-\n",
            "вые ноги в сапогах. С почерневших портретов под потолком\n",
            "строго взирали маститые старцы, в их лицах усматривались\n",
            "знакомые черты Федора Симеоновича, товарища Жиана Жиа-\n",
            "комо и других мастеров. Весь этот архаический хлам надле-\n",
            "жало давным-давно выбросить, прорубить в стенах окна и\n",
            "установить трубки дневного света, но все было заприходовано,\n",
            "заинвентаризовано и лично Модестом Матвеевичем к разба-\n",
            "зариванию запрещено.\n",
            "\n",
            "На капителях колонн и в лабиринтах исполинской люстры,\n",
            "свисающей с почерневшего потолка, шуршали нетопыри и ле-\n",
            "тучие собаки. С ними Модест Матвеевич боролся. Он поливал\n",
            "их скипидаром и креозотом, опылял дустом, опрыскивал гек-\n",
            "сахлораном, они гибли тысячами, но возрождались десятка-\n",
            "ми тысяч. Они мутировали, среди них появлялись поющие и\n",
            "разговаривающие штаммы, потомки паиболее древних родов\n",
            "питались теперь исключительно пиретрумом, смешанным\n",
            "с хлорофосом, а институтский киномеханик Саня Дрозд клял-\n",
            "ся, что своими глазами видел здесь однажды нетопыря, как\n",
            "две капли воды похожего на товарища завкадрами.\n",
            "\n",
            "В глубокой нище, из которой тянуло ледяным смрадом, кто-\n",
            "то застонал и загремел цепями. «Вы это прекратите,— строго\n",
            "сказал я.— Что еще за мистика! Как не стыдно!..» В нише за-\n",
            "тихли. Я хозяйственно поправил сбившийся ковер и поднялся\n",
            "по лестнице.\n",
            "\n",
            "Как известно, спаружи институт выглядел двухэтажным.\n",
            "На самом деле в нем было не менее двенадцати этажей. Выше\n",
            "двенадцатого я просто никогда не поднимался, потому что\n",
            "лифт постоянно чинили, а летать я еще не умел. Фасад с де-\n",
            "сятью окнами, как и большинство фасадов, тоже был обма-\n",
            "ном зрения. Вправо и влево от вестибюля институт простирал-\n",
            "ся по крайней мере на километр, и тем не менее решительно все\n",
            "окна выходили на ту же кривоватую улицу и на тот же самый\n",
            "лабаз. Это поражало меня необычайно. Первое время я при-\n",
            "ставал к Ойре-Ойре, чтобы он мне объяснил, как это совме-\n",
            "щается с классическими или хотя бы с релятивистскими пред-\n",
            "ставлениями о свойствах пространства. Из объяснений я ни-\n",
            "чего не понял, но постепенно привык и перестал удивляться.\n",
            "Я совершенно убежден, что через десять — пятнадцать лет\n",
            "\n",
            "90\n",
            "\f\n",
            "любой школьник будет лучше разбираться в общей теории\n",
            "относительности, чем современный специалист. Для этого\n",
            "вовсе не нужно понимать, как происходит искривление пр\n"
          ]
        }
      ]
    },
    {
      "cell_type": "code",
      "source": [
        "def remove_hyphens(text):\n",
        "    # Убираем переносы слов, заменяя '-\\n' на пустую строку\n",
        "    text = re.sub(r'-\\n', '', text)\n",
        "    # Убираем переносы строк, если они не следуют за переносом слова\n",
        "    text = re.sub(r'\\n', ' ', text)\n",
        "    return text"
      ],
      "metadata": {
        "id": "RgJmZJXHnVr9"
      },
      "execution_count": 15,
      "outputs": []
    },
    {
      "cell_type": "code",
      "source": [
        "recognized_text = remove_hyphens(combined_text) # убираем переносы\n",
        "print(recognized_text[0:2550]) # печать части текста, для проверки"
      ],
      "metadata": {
        "colab": {
          "base_uri": "https://localhost:8080/"
        },
        "id": "dKDIz5zInptv",
        "outputId": "7ac41d34-d698-4b74-9a8b-eccd952fa9ec"
      },
      "execution_count": 16,
      "outputs": [
        {
          "output_type": "stream",
          "name": "stdout",
          "text": [
            "по-видимому, с вестибюля. В заплесневелых углах белесо мерцали кости прикованных скелетов, где-то мерно капала вода, в нишах между колоннами в неестественных позах торчали статуи в ржавых латах, справа от входа у стены громоздились обломки древних идолов, наверху этой кучи торчали гипсовые ноги в сапогах. С почерневших портретов под потолком строго взирали маститые старцы, в их лицах усматривались знакомые черты Федора Симеоновича, товарища Жиана Жиакомо и других мастеров. Весь этот архаический хлам надлежало давным-давно выбросить, прорубить в стенах окна и установить трубки дневного света, но все было заприходовано, заинвентаризовано и лично Модестом Матвеевичем к разбазариванию запрещено.  На капителях колонн и в лабиринтах исполинской люстры, свисающей с почерневшего потолка, шуршали нетопыри и летучие собаки. С ними Модест Матвеевич боролся. Он поливал их скипидаром и креозотом, опылял дустом, опрыскивал гексахлораном, они гибли тысячами, но возрождались десятками тысяч. Они мутировали, среди них появлялись поющие и разговаривающие штаммы, потомки паиболее древних родов питались теперь исключительно пиретрумом, смешанным с хлорофосом, а институтский киномеханик Саня Дрозд клялся, что своими глазами видел здесь однажды нетопыря, как две капли воды похожего на товарища завкадрами.  В глубокой нище, из которой тянуло ледяным смрадом, ктото застонал и загремел цепями. «Вы это прекратите,— строго сказал я.— Что еще за мистика! Как не стыдно!..» В нише затихли. Я хозяйственно поправил сбившийся ковер и поднялся по лестнице.  Как известно, спаружи институт выглядел двухэтажным. На самом деле в нем было не менее двенадцати этажей. Выше двенадцатого я просто никогда не поднимался, потому что лифт постоянно чинили, а летать я еще не умел. Фасад с десятью окнами, как и большинство фасадов, тоже был обманом зрения. Вправо и влево от вестибюля институт простирался по крайней мере на километр, и тем не менее решительно все окна выходили на ту же кривоватую улицу и на тот же самый лабаз. Это поражало меня необычайно. Первое время я приставал к Ойре-Ойре, чтобы он мне объяснил, как это совмещается с классическими или хотя бы с релятивистскими представлениями о свойствах пространства. Из объяснений я ничего не понял, но постепенно привык и перестал удивляться. Я совершенно убежден, что через десять — пятнадцать лет  90 \f любой школьник будет лучше разбираться в общей теории относительности, чем современный специалист. Для этого вовсе не нужно понимать, как происходит искривление пространства-времени, нужно только, чт\n"
          ]
        }
      ]
    },
    {
      "cell_type": "code",
      "source": [
        "# Сохранение текста в файл\n",
        "with open(\"rec_lit_text.txt\", \"w\") as file:\n",
        "    file.write(recognized_text)"
      ],
      "metadata": {
        "id": "mU3BtqVhQezr"
      },
      "execution_count": 17,
      "outputs": []
    },
    {
      "cell_type": "code",
      "source": [
        "# загрузим эталонный файл\n",
        "etalon_file = '/content/drive/My Drive/Files_for_project/Sample.txt'\n",
        "etalon_text = open(etalon_file, 'r', encoding='utf-8').read()\n",
        "print(etalon_text[0:2550])"
      ],
      "metadata": {
        "colab": {
          "base_uri": "https://localhost:8080/"
        },
        "id": "U3Y5J-VUFArg",
        "outputId": "030f41b0-d667-42b6-ee33-3410e267e4c0"
      },
      "execution_count": 18,
      "outputs": [
        {
          "output_type": "stream",
          "name": "stdout",
          "text": [
            "﻿по-видимому, с вестибюля. В заплесневелых углах белесо мерцали кости прикованных скелетов, где-то мерно капала вода, в нишах между колоннами в неестественных позах торчали статуи в ржавых латах, справа от входа у стены громоздились обломки древних идолов, наверху этой кучи торчали гипсовые ноги в сапогах. С почерневших портретов под потолком строго взирали маститые старцы, в их лицах усматривались знакомые черты Федора Симеоновича, товарища Жиана Жиакомо и других мастеров. Весь этот архаический хлам надлежало давным-давно выбросить, прорубить в стенах окна и установить трубки дневного света, но все было заприходовано, заинвентаризировано и лично Модестом Матвеевичем к разбазариванию запрещено.\n",
            "На капителях колонн и в лабиринтах исполинской люстры, свисающей с почерневшего потолка, шуршали нетопыри и летучие собаки. С ними Модест Матвеевич боролся. Он поливал их скипидаром и креозотом, опылял дустом, опрыскивал гексахлораном, они гибли тысячами, но возрождались десятками тысяч. Они мутировали, среди них появлялись поющие и разговаривающие штаммы, потомки наиболее древних родов питались теперь исключительно пиретрумом, смешанным с хлорофосом, а институтский киномеханик Саня Дрозд клялся, что своими глазами видел здесь однажды нетопыря, как две капли воды похожего на товарища завкадрами.\n",
            "В глубокой нише, из которой тянуло ледяным смрадом, кто-то застонал и загремел цепями. «Вы это прекратите, — строго сказал я. — Что еще за мистика! Как не стыдно!..» В нише затихли. Я хозяйственно поправил сбившийся ковер и поднялся по лестнице.\n",
            "Как известно, снаружи институт выглядел двухэтажным. На самом деле в нем было не менее двенадцати этажей. Выше двенадцатого я просто никогда не поднимался, потому что лифт постоянно чинили, а летать я еще не умел. Фасад с десятью окнами, как и большинство фасадов, тоже был обманом зрения. Вправо и влево от вестибюля институт простирался по крайней мере на километр, и тем не менее решительно все окна выходили на ту же кривоватую улицу и на тот же самый лабаз. Это поражало меня необычайно. Первое время я приставал к Ойре-Ойре, чтобы он мне объяснил, как это совмещается с классическими или хотя бы с релятивистскими представлениями о свойствах пространства. Из объяснений я ничего не понял, но постепенно привык и перестал удивляться. Я совершенно убежден, что через десять-пятнадцать лет \n",
            "90 \n",
            "любой школьник будет лучше разбираться в общей теории относительности, чем современный специалист. Для этого вовсе не нужно понимать, как происходит искривление пространства-времени, нужно только, чт\n"
          ]
        }
      ]
    },
    {
      "cell_type": "code",
      "source": [
        "etalon_text = remove_hyphens(etalon_text) # удалим переносы строки\n",
        "print(etalon_text[0:2550])"
      ],
      "metadata": {
        "colab": {
          "base_uri": "https://localhost:8080/"
        },
        "id": "9GMNPtuFidpE",
        "outputId": "4a4f766b-cd37-4376-e283-cc6838345696"
      },
      "execution_count": 19,
      "outputs": [
        {
          "output_type": "stream",
          "name": "stdout",
          "text": [
            "﻿по-видимому, с вестибюля. В заплесневелых углах белесо мерцали кости прикованных скелетов, где-то мерно капала вода, в нишах между колоннами в неестественных позах торчали статуи в ржавых латах, справа от входа у стены громоздились обломки древних идолов, наверху этой кучи торчали гипсовые ноги в сапогах. С почерневших портретов под потолком строго взирали маститые старцы, в их лицах усматривались знакомые черты Федора Симеоновича, товарища Жиана Жиакомо и других мастеров. Весь этот архаический хлам надлежало давным-давно выбросить, прорубить в стенах окна и установить трубки дневного света, но все было заприходовано, заинвентаризировано и лично Модестом Матвеевичем к разбазариванию запрещено. На капителях колонн и в лабиринтах исполинской люстры, свисающей с почерневшего потолка, шуршали нетопыри и летучие собаки. С ними Модест Матвеевич боролся. Он поливал их скипидаром и креозотом, опылял дустом, опрыскивал гексахлораном, они гибли тысячами, но возрождались десятками тысяч. Они мутировали, среди них появлялись поющие и разговаривающие штаммы, потомки наиболее древних родов питались теперь исключительно пиретрумом, смешанным с хлорофосом, а институтский киномеханик Саня Дрозд клялся, что своими глазами видел здесь однажды нетопыря, как две капли воды похожего на товарища завкадрами. В глубокой нише, из которой тянуло ледяным смрадом, кто-то застонал и загремел цепями. «Вы это прекратите, — строго сказал я. — Что еще за мистика! Как не стыдно!..» В нише затихли. Я хозяйственно поправил сбившийся ковер и поднялся по лестнице. Как известно, снаружи институт выглядел двухэтажным. На самом деле в нем было не менее двенадцати этажей. Выше двенадцатого я просто никогда не поднимался, потому что лифт постоянно чинили, а летать я еще не умел. Фасад с десятью окнами, как и большинство фасадов, тоже был обманом зрения. Вправо и влево от вестибюля институт простирался по крайней мере на километр, и тем не менее решительно все окна выходили на ту же кривоватую улицу и на тот же самый лабаз. Это поражало меня необычайно. Первое время я приставал к Ойре-Ойре, чтобы он мне объяснил, как это совмещается с классическими или хотя бы с релятивистскими представлениями о свойствах пространства. Из объяснений я ничего не понял, но постепенно привык и перестал удивляться. Я совершенно убежден, что через десять-пятнадцать лет  90  любой школьник будет лучше разбираться в общей теории относительности, чем современный специалист. Для этого вовсе не нужно понимать, как происходит искривление пространства-времени, нужно только, чт\n"
          ]
        }
      ]
    },
    {
      "cell_type": "code",
      "source": [
        "# Сохранение текста в файл\n",
        "with open(\"etalon_lit_text.txt\", \"w\") as file:\n",
        "    file.write(etalon_text)"
      ],
      "metadata": {
        "id": "xeyZyn0rRHHX"
      },
      "execution_count": 20,
      "outputs": []
    },
    {
      "cell_type": "markdown",
      "source": [
        "**Текст из учебника**"
      ],
      "metadata": {
        "id": "yU2Q8XLUydE1"
      }
    },
    {
      "cell_type": "code",
      "source": [
        "# путь к папке с изображениями\n",
        "image_folder_path = '/content/drive/My Drive/Files_for_project/images_textbook_3'\n",
        "\n",
        "# список всех файлов изображений в указанной папке\n",
        "image_files = [f for f in os.listdir(image_folder_path) if f.endswith(('.jpg',\n",
        "                                                                       '.jpeg',\n",
        "                                                                       '.png'))]\n",
        "\n",
        "image_files.sort()\n",
        "\n",
        "# распознавание и объединение текста из всех изображений\n",
        "combined_text = \"\"\n",
        "\n",
        "for image_file in image_files:\n",
        "    image_path = os.path.join(image_folder_path, image_file)\n",
        "    img = Image.open(image_path)\n",
        "    img = img.convert('L')  # преобразование в оттенки серого\n",
        "    img = img.filter(ImageFilter.MedianFilter())  # удаление шума\n",
        "    threshold = 128\n",
        "    img = img.point(lambda p: p > threshold and 255)  # бинаризация\n",
        "    text = pytesseract.image_to_string(img, lang='rus')  # распознавание\n",
        "    combined_text += text + \"\\n\"\n",
        "\n",
        "print(\"Часть объединенного текста:\")\n",
        "print(combined_text[0:1000]) # печать части текста, для проверки"
      ],
      "metadata": {
        "colab": {
          "base_uri": "https://localhost:8080/"
        },
        "outputId": "04fe7e28-1944-474e-f862-ba74cfdada4c",
        "id": "YaFnx8wSyZ3l"
      },
      "execution_count": 21,
      "outputs": [
        {
          "output_type": "stream",
          "name": "stdout",
          "text": [
            "Часть объединенного текста:\n",
            "Субъектом правопонимания всегда выступает конкрет-\n",
            "ный человек, например: а) гражданин, обладающий мини-\n",
            "мальным правовым кругозором, столкнувшийся с пробле-\n",
            "мами права вообще; 6) юрист-профессионал, имеющий\n",
            "достаточный запас знаний о праве, способный применять\n",
            "и толковать правовые нормы; в) ученый, человек с аб-\n",
            "страктным мышлением, занимающийся изучением права,\n",
            "обладающий суммой исторических и современных знаний,\n",
            "способный к интерпретации не только норм, но и прин-\n",
            "ципов права, владеющий определенной методологией ис-\n",
            "следования. Правопонимание всегда субъективно, ори-\n",
            "гинально, хотя представления о праве могут совпадать\n",
            "у группы лиц и у целых слоев, классов.\n",
            "\n",
            "Объектом правопонимания могут быть право в плане-\n",
            "тарном масштабе, право конкретного общества, отрасль,\n",
            "институт права, отдельные правовые нормы. При этом\n",
            "знания об отдельных структурных элементах экстрапо-\n",
            "лируются на право в целом. Важную познавательную на-\n",
            "грузку здесь несут среда и взаимодействующие с правом\n",
            "общественные явл\n"
          ]
        }
      ]
    },
    {
      "cell_type": "code",
      "source": [
        "# убираем переносы слов и строк\n",
        "recognized_text_tgp = remove_hyphens(combined_text)\n",
        "print(recognized_text_tgp[0:2550]) # печать части текста, для проверки"
      ],
      "metadata": {
        "colab": {
          "base_uri": "https://localhost:8080/"
        },
        "outputId": "7a47c09d-1aa5-4936-adf3-3427580ebba0",
        "id": "UasNEa6JyZ3m"
      },
      "execution_count": 22,
      "outputs": [
        {
          "output_type": "stream",
          "name": "stdout",
          "text": [
            "Субъектом правопонимания всегда выступает конкретный человек, например: а) гражданин, обладающий минимальным правовым кругозором, столкнувшийся с проблемами права вообще; 6) юрист-профессионал, имеющий достаточный запас знаний о праве, способный применять и толковать правовые нормы; в) ученый, человек с абстрактным мышлением, занимающийся изучением права, обладающий суммой исторических и современных знаний, способный к интерпретации не только норм, но и принципов права, владеющий определенной методологией исследования. Правопонимание всегда субъективно, оригинально, хотя представления о праве могут совпадать у группы лиц и у целых слоев, классов.  Объектом правопонимания могут быть право в планетарном масштабе, право конкретного общества, отрасль, институт права, отдельные правовые нормы. При этом знания об отдельных структурных элементах экстраполируются на право в целом. Важную познавательную нагрузку здесь несут среда и взаимодействующие с правом общественные явления.  Содержание правопонимания составляют знания субъекта о его правах и обязанностях, конкретных и общих правовых дозволениях, запретах, а также оценка и отношение к ним как справедливым или несправедливым. В зависимости от уровня культуры, методической оснащенности субъекта и выбора предмета изучения правопонимание может быть полным или неполным, правильным или искаженным, положительным или отрицательным.  Обыкновенный человек понимает право так, как это позволяет ему собственный разум в определенных культурологических традициях соответствующей эпохи и общества. Для него понимание права во временном масштабе ограничено рамками его жизни. Однако это не означает, что после его смерти правопонимание исчезает совсем. Такие элементы правопонимания, как знания, оценки, могут передаваться другим людям, а исследователь-ученый оставляет после себя еще и письменные представления о праве. Другими словами, образ права, сложившийся в умах наших предшественников и выразившийся в виде той или иной концепции, оказывает заметное влияние на формирование правопонимания у потомков.  218 \f При рассмотрении различных теорий и взглядов о праве необходимо учитывать следующие обстоятельства: во-первых, исторические условия функционирования права и рамки культуры, в которых жил и работал «исследователь»; во-вторых, то, что результат правопонимания всегда зависит от философской, нравственной, религиозной, идеологической позиции познающего его субъекта; в-третьих, что берется в качестве основы той или иной концепции (источник правообразования или сущность самого явлен\n"
          ]
        }
      ]
    },
    {
      "cell_type": "code",
      "source": [
        "# Сохранение текста в файл\n",
        "with open(\"rec_educ_text.txt\", \"w\") as file:\n",
        "    file.write(recognized_text_tgp)"
      ],
      "metadata": {
        "id": "sWUIKCYpR7D1"
      },
      "execution_count": 23,
      "outputs": []
    },
    {
      "cell_type": "code",
      "source": [
        "# загрузим эталонный файл\n",
        "etalon_file_tgp = '/content/drive/My Drive/Files_for_project/tgp_3.txt'\n",
        "etalon_text_tgp = open(etalon_file_tgp, 'r', encoding='utf-8').read()\n",
        "etalon_text_tgp = remove_hyphens(etalon_text_tgp) # удалим переносы строки\n",
        "print(etalon_text_tgp[0:2550])"
      ],
      "metadata": {
        "colab": {
          "base_uri": "https://localhost:8080/"
        },
        "outputId": "2211e74f-285b-44d0-a84b-0f3a37ce8636",
        "id": "0TLi8ME3yZ3m"
      },
      "execution_count": 24,
      "outputs": [
        {
          "output_type": "stream",
          "name": "stdout",
          "text": [
            "﻿Субъектом правопонимания всегда выступает конкретный человек, например:  а) гражданин, обладающий минимальным правовым кругозором, столкнувшийся с проблемами права вообще;  б) юрист-профессионал, имеющий достаточный запас знаний о праве, способный применять и толковать правовые нормы;  в) ученый, человек с абстрактным мышлением, занимающийся изучением права, обладающий суммой исторических и современных знаний, способный к интерпретации не только норм, но и принципов права, владеющий определенной методологией исследования.  Правопонимание всегда субъективно, оригинально, хотя представления о праве могут совпадать у группы лиц и у целых слоев, классов. Объектом правопонимания могут быть право в планетарном масштабе, право конкретного общества, отрасль, институт права, отдельные правовые нормы. При этом знания об отдельных структурных элементах экстраполируются на право в целом. Важную познавательную нагрузку здесь несут среда и взаимодействующие с правом общественные явления. Содержание правопонимания составляют знания субъекта о его правах и обязанностях, конкретных и общих правовых дозволениях, запретах, а также оценка и отношение к ним как справедливым или несправедливым. В зависимости от уровня культуры, методической оснащенности субъекта и выбора предмета изучения правопонимание может быть полным или неполным, правильным или искаженным, положительным или отрицательным. Обыкновенный человек понимает право так, как это позволяет ему собственный разум в определенных культурологических традициях соответствующей эпохи и общества. Для него понимание права во временном масштабе ограничено рамками его жизни. Однако это не означает, что после его смерти правопонимание исчезает совсем. Такие элементы правопонимания, как знания, оценки, могут передаваться другим людям, а исследователь-ученый оставляет после себя еще и письменные представления о праве. Другими словами, образ права, сложившийся в умах наших предшественников и выразившийся в виде той или иной концепции, оказывает заметное влияние на формирование правопонимания у потомков. 218 При рассмотрении различных теорий и взглядов о праве необходимо учитывать следующие обстоятельства:  во-первых, исторические условия функционирования права и рамки культуры, в которых жил и работал \"исследователь\"; во-вторых, то, что результат правопонимания всегда зависит от философской, нравственной, религиозной, идеологической позиции познающего его субъекта; в-третьих, что берется в качестве основы той или иной концепции (источник правообразования или сущность самого явлен\n"
          ]
        }
      ]
    },
    {
      "cell_type": "markdown",
      "source": [
        "Видно, что есть лишние пробелы. Удалим их сразу."
      ],
      "metadata": {
        "id": "Wkn--xa1x1LE"
      }
    },
    {
      "cell_type": "code",
      "source": [
        "def remove_extra_spaces(text):\n",
        "  \"\"\"\n",
        "  Удаляет лишние пробелы из текста, оставляя только один пробел между словами.\n",
        "  \"\"\"\n",
        "  return ' '.join(text.split())"
      ],
      "metadata": {
        "id": "yALb7c_VQu1B"
      },
      "execution_count": 25,
      "outputs": []
    },
    {
      "cell_type": "code",
      "source": [
        "# в эталонном тексте видно лишние пробелы, удалим\n",
        "etalon_text_tgp = remove_extra_spaces(etalon_text_tgp)\n",
        "print(etalon_text_tgp[0:1000])"
      ],
      "metadata": {
        "colab": {
          "base_uri": "https://localhost:8080/"
        },
        "outputId": "d32666c7-fe2b-4427-efe4-2b265facc986",
        "id": "B-SMdZzFQu1C"
      },
      "execution_count": 26,
      "outputs": [
        {
          "output_type": "stream",
          "name": "stdout",
          "text": [
            "﻿Субъектом правопонимания всегда выступает конкретный человек, например: а) гражданин, обладающий минимальным правовым кругозором, столкнувшийся с проблемами права вообще; б) юрист-профессионал, имеющий достаточный запас знаний о праве, способный применять и толковать правовые нормы; в) ученый, человек с абстрактным мышлением, занимающийся изучением права, обладающий суммой исторических и современных знаний, способный к интерпретации не только норм, но и принципов права, владеющий определенной методологией исследования. Правопонимание всегда субъективно, оригинально, хотя представления о праве могут совпадать у группы лиц и у целых слоев, классов. Объектом правопонимания могут быть право в планетарном масштабе, право конкретного общества, отрасль, институт права, отдельные правовые нормы. При этом знания об отдельных структурных элементах экстраполируются на право в целом. Важную познавательную нагрузку здесь несут среда и взаимодействующие с правом общественные явления. Содержание пра\n"
          ]
        }
      ]
    },
    {
      "cell_type": "code",
      "source": [
        "# Сохранение текста в файл\n",
        "with open(\"etalon_educ_text.txt\", \"w\") as file:\n",
        "    file.write(etalon_text_tgp)"
      ],
      "metadata": {
        "id": "Wv73bgd3SE3I"
      },
      "execution_count": 27,
      "outputs": []
    },
    {
      "cell_type": "markdown",
      "source": [
        "**Результат:**\n",
        "\n",
        "Файлы в формате jpg открыты, обработаны для лучшей распознаваемости, распознаны моделью tesseract и объединены в один файл. Новый сформированный текст очищен от переносов и знаков переноса.\n",
        "\n",
        "Открыт эталонный файл в формате txt. Удалены переносы строки. Тексты готовы к дальнейшей работе."
      ],
      "metadata": {
        "id": "VWN1GW8PPIB-"
      }
    },
    {
      "cell_type": "markdown",
      "source": [
        "### 3. Анализ ошибок:"
      ],
      "metadata": {
        "id": "KjMLtMMIPszI"
      }
    },
    {
      "cell_type": "markdown",
      "source": [
        "Для улучшения точности вычисления CER рекомендуется предобрабатывать тексты: приводить их к нижнему регистру и удалять лишние символы, такие как пунктуация."
      ],
      "metadata": {
        "id": "rAk3X822OfXn"
      }
    },
    {
      "cell_type": "code",
      "source": [
        "def preprocess_text(text):\n",
        "    \"\"\"\n",
        "    Функция для обработки текста для CER\n",
        "    Приводит текст к нижнему регистру и удаляет знаки препинания и пробелы.\n",
        "    \"\"\"\n",
        "    return ''.join(c.lower() for c in text if c not in string.punctuation and not c.isspace())"
      ],
      "metadata": {
        "id": "_IITIIlHMCK3"
      },
      "execution_count": 29,
      "outputs": []
    },
    {
      "cell_type": "code",
      "source": [
        "def metrics_wer_cer(etalon_text, recognized_text):\n",
        "    \"\"\"\n",
        "    Вычисление метрик CER и WER\n",
        "    \"\"\"\n",
        "    # Обработка текстов для CER\n",
        "    etalon_text_prep = preprocess_text(etalon_text)\n",
        "    recognized_text_prep = preprocess_text(recognized_text)\n",
        "\n",
        "    # Вычисление CER и WER\n",
        "    wer = jiwer.wer(etalon_text, recognized_text)\n",
        "    cer = jiwer.cer(etalon_text_prep, recognized_text_prep)\n",
        "\n",
        "    return round(wer, 3), round(cer, 3)"
      ],
      "metadata": {
        "id": "gpgxvBPOy3p1"
      },
      "execution_count": 89,
      "outputs": []
    },
    {
      "cell_type": "markdown",
      "source": [
        "**Литературный текст**"
      ],
      "metadata": {
        "id": "sxsMaNBW32zO"
      }
    },
    {
      "cell_type": "code",
      "source": [
        "wer_recognized, cer_recognized = metrics_wer_cer(etalon_text, recognized_text)\n",
        "print(f\"WER: {wer_recognized}\")\n",
        "print(f\"CER: {cer_recognized}\")"
      ],
      "metadata": {
        "colab": {
          "base_uri": "https://localhost:8080/"
        },
        "id": "mdhTEkRv0CrO",
        "outputId": "8d3bc795-96b8-449a-e8d0-0d52b23bb09b"
      },
      "execution_count": 90,
      "outputs": [
        {
          "output_type": "stream",
          "name": "stdout",
          "text": [
            "WER: 0.046\n",
            "CER: 0.004\n"
          ]
        }
      ]
    },
    {
      "cell_type": "markdown",
      "source": [
        "**Текст из учебника**"
      ],
      "metadata": {
        "id": "bXK5LUJy4FlN"
      }
    },
    {
      "cell_type": "code",
      "source": [
        "wer_recognized_tgp, cer_recognized_tgp = metrics_wer_cer(etalon_text_tgp,\n",
        "                                                         recognized_text_tgp)\n",
        "print(f\"WER: {wer_recognized_tgp}\")\n",
        "print(f\"CER: {cer_recognized_tgp}\")"
      ],
      "metadata": {
        "colab": {
          "base_uri": "https://localhost:8080/"
        },
        "id": "qTTctpWG4K1S",
        "outputId": "62a6fc88-e930-4588-86fd-d6cbb1705d60"
      },
      "execution_count": 91,
      "outputs": [
        {
          "output_type": "stream",
          "name": "stdout",
          "text": [
            "WER: 0.023\n",
            "CER: 0.002\n"
          ]
        }
      ]
    },
    {
      "cell_type": "markdown",
      "source": [
        "**Результат:**\n",
        "\n",
        "Метрики для литературных текстов без применения автокоррекции равны WER: 4,6% и CER: 0,4%.\n",
        "\n",
        "Метрики для текста из учебника без применения автокоррекции равны WER: 2,3% и CER: 0,2%. Метрики литературного текста в два раза больше, чем учебного."
      ],
      "metadata": {
        "id": "oKmUe-FAlaMB"
      }
    },
    {
      "cell_type": "markdown",
      "source": [
        "### 4. Применение автокорректора"
      ],
      "metadata": {
        "id": "hyuduOGLZiJK"
      }
    },
    {
      "cell_type": "markdown",
      "source": [
        "\n",
        "Протестировала несколько автокорректоров: SpellChecker, Hunspell, DeepPavlov"
      ],
      "metadata": {
        "id": "BssJwbaXZNC_"
      }
    },
    {
      "cell_type": "markdown",
      "source": [
        "#### **SpellChecker**"
      ],
      "metadata": {
        "id": "xNW2-l-7jIeq"
      }
    },
    {
      "cell_type": "markdown",
      "source": [
        "**Автокоррекция литературного текста**"
      ],
      "metadata": {
        "id": "Rpa7Sghs95P9"
      }
    },
    {
      "cell_type": "code",
      "source": [
        "# Инициализация автокорректора для русского языка\n",
        "spell = SpellChecker(language='ru')"
      ],
      "metadata": {
        "id": "XFXtlWe3V2CK"
      },
      "execution_count": 34,
      "outputs": []
    },
    {
      "cell_type": "markdown",
      "source": [
        "Так как текст литературный, в нем встречаются слова, которые используются в разговорной речи, придуманные автором слова, сложные слова. Они не распознаются стандартными программами для проверки орфографии. Эти слова я добавила в словарь, чтобы автокорретор не учитывал их как ошибку."
      ],
      "metadata": {
        "id": "kexRucO-MTan"
      }
    },
    {
      "cell_type": "code",
      "source": [
        "# Добавляем слова в словарь (чтобы они не исправлялись)\n",
        "custom_words = [\n",
        "    \"усматривались\", \"возгоняли\", \"гореутолителей\", \"злободробитель\",\n",
        "    \"отомкнул\", \"пятидесятиголовые\", \"взревывания\", \"противослоновый\",\n",
        "    \"соплеменными\", \"тралением\", \"валявшуюся\", \"самовозгореться\",\n",
        "    \"самовозгорелось\", \"немножко\", \"томительными\", \"нужностью\",\n",
        "    \"девятимерном\", \"магопространстве\", \"экономного\", \"сигаретками\",\n",
        "    \"исцарапанным\", \"вылуплялись\", \"компрэне\"\n",
        "    ]\n",
        "spell.word_frequency.load_words(custom_words)"
      ],
      "metadata": {
        "id": "3B_IeVp5V4EO"
      },
      "execution_count": 35,
      "outputs": []
    },
    {
      "cell_type": "code",
      "source": [
        "# Функция для автокорректировки текста\n",
        "def correct_text_sc(text):\n",
        "    words = text.split()\n",
        "    corrected_words = [\n",
        "        spell.correction(word) if word not in spell.word_frequency else word\n",
        "        for word in words\n",
        "    ]\n",
        "    # Проверка на None и замена на исходное слово\n",
        "    corrected_words = [word if corrected_word is None else corrected_word\n",
        "                       for word, corrected_word in zip(words, corrected_words)]\n",
        "\n",
        "    return \" \".join(corrected_words)"
      ],
      "metadata": {
        "id": "JAaoaRRfjuhO"
      },
      "execution_count": 36,
      "outputs": []
    },
    {
      "cell_type": "code",
      "source": [
        "# автокоррекция текста без обработки тире и знаков препинания\n",
        "correct_text_spellcheck = correct_text_sc(recognized_text)\n",
        "print(correct_text_spellcheck[0:1000])"
      ],
      "metadata": {
        "colab": {
          "base_uri": "https://localhost:8080/"
        },
        "id": "UGwu2lkMj8BK",
        "outputId": "ec7f7301-10f2-4e8f-be52-acce32200e43"
      },
      "execution_count": 37,
      "outputs": [
        {
          "output_type": "stream",
          "name": "stdout",
          "text": [
            "по-видимому, я вестибюля. я заплесневелых глаз белое держали кости прикованных скелетов, где-то верно канала вода я наша между колонна я неестественных поза торчать статуи я ржавый латах, справа от входа у стены громоздились обломки древние идолов, наверху этой куча торчать рисовые ноги я сапогах. я почерневших портрет под потолок строго выбрали маститые старый я их лица усматривались знакомые черт флора Симеоновича, товарищ диана знакомо и других мастеров. Весь этот архаический храм надлежало давным-давно выбросить прорубить я стена окна и установить трубку немного света но все было заприходовано, заинвентаризовано и лично местом Матвеевичем я разбазариванию запрещено На капителях колонна и я лабиринт исполинской люстры, свисающей я почерневшего потолка, шуршали нетопыри и летучие собаки я ними может Матвеевич боролся Он плевал их скипидаром и креозотом, опылял дустом, опрыскивал гексахлораном, они или тысячами, но возрождались десятки тысяч Они мутировали, среди них появились поищи и\n"
          ]
        }
      ]
    },
    {
      "cell_type": "markdown",
      "source": [
        "Видно, что в стандартном словаре нет таких простых предлогов как \"с\" и \"в\".\n",
        "\n",
        "\n",
        "**Подсчет метрик**"
      ],
      "metadata": {
        "id": "6BHJ_ZPH_Nf8"
      }
    },
    {
      "cell_type": "code",
      "source": [
        "wer_corr_sc, cer_corr_sc = metrics_wer_cer(etalon_text, correct_text_spellcheck)\n",
        "print(f\"WER: {wer_corr_sc}\")\n",
        "print(f\"CER: {cer_corr_sc}\")"
      ],
      "metadata": {
        "colab": {
          "base_uri": "https://localhost:8080/"
        },
        "id": "9_r8wEK2kdha",
        "outputId": "edbd4b10-3415-4a1e-b82c-0e0f680fabc2"
      },
      "execution_count": 92,
      "outputs": [
        {
          "output_type": "stream",
          "name": "stdout",
          "text": [
            "WER: 0.364\n",
            "CER: 0.062\n"
          ]
        }
      ]
    },
    {
      "cell_type": "code",
      "source": [
        "# посмотрим результат коррекции\n",
        "print(correct_text_spellcheck[0:1000])\n",
        "print(etalon_text[0:1000])"
      ],
      "metadata": {
        "colab": {
          "base_uri": "https://localhost:8080/"
        },
        "id": "MAXby6OXJC2e",
        "outputId": "4fdc0857-787a-4d39-c512-0be64cb5a540"
      },
      "execution_count": 39,
      "outputs": [
        {
          "output_type": "stream",
          "name": "stdout",
          "text": [
            "по-видимому, я вестибюля. я заплесневелых глаз белое держали кости прикованных скелетов, где-то верно канала вода я наша между колонна я неестественных поза торчать статуи я ржавый латах, справа от входа у стены громоздились обломки древние идолов, наверху этой куча торчать рисовые ноги я сапогах. я почерневших портрет под потолок строго выбрали маститые старый я их лица усматривались знакомые черт флора Симеоновича, товарищ диана знакомо и других мастеров. Весь этот архаический храм надлежало давным-давно выбросить прорубить я стена окна и установить трубку немного света но все было заприходовано, заинвентаризовано и лично местом Матвеевичем я разбазариванию запрещено На капителях колонна и я лабиринт исполинской люстры, свисающей я почерневшего потолка, шуршали нетопыри и летучие собаки я ними может Матвеевич боролся Он плевал их скипидаром и креозотом, опылял дустом, опрыскивал гексахлораном, они или тысячами, но возрождались десятки тысяч Они мутировали, среди них появились поищи и\n",
            "﻿по-видимому, с вестибюля. В заплесневелых углах белесо мерцали кости прикованных скелетов, где-то мерно капала вода, в нишах между колоннами в неестественных позах торчали статуи в ржавых латах, справа от входа у стены громоздились обломки древних идолов, наверху этой кучи торчали гипсовые ноги в сапогах. С почерневших портретов под потолком строго взирали маститые старцы, в их лицах усматривались знакомые черты Федора Симеоновича, товарища Жиана Жиакомо и других мастеров. Весь этот архаический хлам надлежало давным-давно выбросить, прорубить в стенах окна и установить трубки дневного света, но все было заприходовано, заинвентаризировано и лично Модестом Матвеевичем к разбазариванию запрещено. На капителях колонн и в лабиринтах исполинской люстры, свисающей с почерневшего потолка, шуршали нетопыри и летучие собаки. С ними Модест Матвеевич боролся. Он поливал их скипидаром и креозотом, опылял дустом, опрыскивал гексахлораном, они гибли тысячами, но возрождались десятками тысяч. Они мут\n"
          ]
        }
      ]
    },
    {
      "cell_type": "markdown",
      "source": [
        "Уже видно, как корректор неудачно обработал часть слов."
      ],
      "metadata": {
        "id": "5j1NeVq6Fs6f"
      }
    },
    {
      "cell_type": "markdown",
      "source": [
        "Метрики сильно ухудшились. Предполагаю, что если очистить текст от лишних знаков препинания и тире, то метрики будут лучше."
      ],
      "metadata": {
        "id": "dhW9_vLKrFIJ"
      }
    },
    {
      "cell_type": "markdown",
      "source": [
        "**Улучшения**"
      ],
      "metadata": {
        "id": "dqbYVByKC7vL"
      }
    },
    {
      "cell_type": "code",
      "source": [
        "def cleaned_text(text):\n",
        "    # Регулярное выражение для удаления знаков препинания и тире\n",
        "    cleaned_text = re.sub(r'[^\\w\\s]', ' ', text)\n",
        "    # Удаление тире, включая длинные тире (—)\n",
        "    cleaned_text = re.sub(r'[-—–]', ' ', cleaned_text)\n",
        "    # Удаляет лишние пробелы из текста, оставляя только один\n",
        "    cleaned_text = ' '.join(cleaned_text.split())\n",
        "    return cleaned_text"
      ],
      "metadata": {
        "id": "LSSVSItWxivq"
      },
      "execution_count": 62,
      "outputs": []
    },
    {
      "cell_type": "code",
      "source": [
        "# Очищенный распознанный текст\n",
        "cleaned_recognized_text = cleaned_text(recognized_text)\n",
        "print(cleaned_recognized_text[0:1000])"
      ],
      "metadata": {
        "colab": {
          "base_uri": "https://localhost:8080/"
        },
        "id": "a1eOEzD3xs3r",
        "outputId": "91dfe15c-bd2a-488e-e6eb-633eb75e9e0d"
      },
      "execution_count": 63,
      "outputs": [
        {
          "output_type": "stream",
          "name": "stdout",
          "text": [
            "по видимому с вестибюля В заплесневелых углах белесо мерцали кости прикованных скелетов где то мерно капала вода в нишах между колоннами в неестественных позах торчали статуи в ржавых латах справа от входа у стены громоздились обломки древних идолов наверху этой кучи торчали гипсовые ноги в сапогах С почерневших портретов под потолком строго взирали маститые старцы в их лицах усматривались знакомые черты Федора Симеоновича товарища Жиана Жиакомо и других мастеров Весь этот архаический хлам надлежало давным давно выбросить прорубить в стенах окна и установить трубки дневного света но все было заприходовано заинвентаризовано и лично Модестом Матвеевичем к разбазариванию запрещено На капителях колонн и в лабиринтах исполинской люстры свисающей с почерневшего потолка шуршали нетопыри и летучие собаки С ними Модест Матвеевич боролся Он поливал их скипидаром и креозотом опылял дустом опрыскивал гексахлораном они гибли тысячами но возрождались десятками тысяч Они мутировали среди них появляли\n"
          ]
        }
      ]
    },
    {
      "cell_type": "code",
      "source": [
        "# Очищенный эталонный текст\n",
        "cleaned_etalon_text = cleaned_text(etalon_text)\n",
        "# удалим пробел в начале строки\n",
        "cleaned_etalon_text = cleaned_etalon_text.lstrip()\n",
        "print(cleaned_etalon_text[0:1000])"
      ],
      "metadata": {
        "colab": {
          "base_uri": "https://localhost:8080/"
        },
        "id": "o5TpZENAypZ0",
        "outputId": "7f25664e-9b26-4ac0-ae15-a38794449351"
      },
      "execution_count": 64,
      "outputs": [
        {
          "output_type": "stream",
          "name": "stdout",
          "text": [
            "по видимому с вестибюля В заплесневелых углах белесо мерцали кости прикованных скелетов где то мерно капала вода в нишах между колоннами в неестественных позах торчали статуи в ржавых латах справа от входа у стены громоздились обломки древних идолов наверху этой кучи торчали гипсовые ноги в сапогах С почерневших портретов под потолком строго взирали маститые старцы в их лицах усматривались знакомые черты Федора Симеоновича товарища Жиана Жиакомо и других мастеров Весь этот архаический хлам надлежало давным давно выбросить прорубить в стенах окна и установить трубки дневного света но все было заприходовано заинвентаризировано и лично Модестом Матвеевичем к разбазариванию запрещено На капителях колонн и в лабиринтах исполинской люстры свисающей с почерневшего потолка шуршали нетопыри и летучие собаки С ними Модест Матвеевич боролся Он поливал их скипидаром и креозотом опылял дустом опрыскивал гексахлораном они гибли тысячами но возрождались десятками тысяч Они мутировали среди них появля\n"
          ]
        }
      ]
    },
    {
      "cell_type": "code",
      "source": [
        "custom_words.extend(['с', 'в']) # добавим предлоги 'с', 'в'"
      ],
      "metadata": {
        "id": "Tth0ZluGChbC"
      },
      "execution_count": 65,
      "outputs": []
    },
    {
      "cell_type": "code",
      "source": [
        "spell.word_frequency.load_words(custom_words) # обновляем словарь"
      ],
      "metadata": {
        "id": "cYv_LaQN_3mr"
      },
      "execution_count": 66,
      "outputs": []
    },
    {
      "cell_type": "code",
      "source": [
        "# автокорректировка распознанного и очищенного текста\n",
        "correct_text_sc_clean = correct_text_sc(cleaned_recognized_text)\n",
        "print(correct_text_sc_clean[0:1000])"
      ],
      "metadata": {
        "colab": {
          "base_uri": "https://localhost:8080/"
        },
        "id": "pSbkrvOXd7kq",
        "outputId": "54611ac0-01a6-4815-b7bc-697b20ee0078"
      },
      "execution_count": 67,
      "outputs": [
        {
          "output_type": "stream",
          "name": "stdout",
          "text": [
            "по видимо с вестибюля В заплесневелых глаз белое держали кости прикованных скелет где то верно канала вода в наша между колонна в неестественных поза торчать статуи в ржавый запах справа от входа у стены громоздились обломки древние долой наверху этой куча торчать рисовые ноги в сапоги С почерневших портрет под потолок строго выбрали маститые старый в их лица усматривались знакомые черт флора Симеоновича товарищ диана знакомо и других мастер Весь этот архаический храм надлежало давным давно выбросить прорубить в стена окна и установить трубку немного света но все было заприходовано заинвентаризовано и лично местом Матвеевичем я разбазариванию запрещено На капителях колонна и в лабиринт исполинской сестры свисающей с почерневшего посылка шуршали нетопыри и летучие собаки С ними может Матвеевич боролся Он плевал их скипидаром и креозотом опылял пустой опрыскивал гексахлораном они или тысячи но возрождались десятки тысяч Они мутировали среди них появились поищи и разговаривающие штаны пот\n"
          ]
        }
      ]
    },
    {
      "cell_type": "code",
      "source": [
        "# считаем метрики для очищенного текста\n",
        "wer_corr_sc_clean, cer_corr_sc_clean = metrics_wer_cer(cleaned_etalon_text,\n",
        "                                                       correct_text_sc_clean)\n",
        "print(f\"WER: {wer_corr_sc_clean}\")\n",
        "print(f\"CER: {cer_corr_sc_clean}\")"
      ],
      "metadata": {
        "colab": {
          "base_uri": "https://localhost:8080/"
        },
        "id": "mVi9zbbTvc6z",
        "outputId": "5ed50ae0-3317-4090-983f-bd762fffb8ad"
      },
      "execution_count": 68,
      "outputs": [
        {
          "output_type": "stream",
          "name": "stdout",
          "text": [
            "WER: 0.241\n",
            "CER: 0.061\n"
          ]
        }
      ]
    },
    {
      "cell_type": "markdown",
      "source": [
        "**Результат:**\n",
        "\n",
        "Метрики стали лучше, однако видно, что в стандартных словарях нет таких простых предлогов как \"с\" и автокорректор исправляет формы слов, которые не используются без тире, например, \"по-видимому\" слово \"видимому\" не используется без тире и оно было исправлено на \"видимо\".\n",
        "\n",
        "Очевидно, что этот автокорректор ухудшает текст, так как в целом метрики стали значительно хуже."
      ],
      "metadata": {
        "id": "NRxAhHpkrV3j"
      }
    },
    {
      "cell_type": "markdown",
      "source": [
        "Ниже визуально вывела на экран слова, которые заменяет автокорректор и на какие слова заменяет. Вывод сократила до 100 ошибко, так как работает довольно долго."
      ],
      "metadata": {
        "id": "EVSt16ehFkTa"
      }
    },
    {
      "cell_type": "code",
      "source": [
        "# извлечём слова, в которых\n",
        "# предположительно находится ошибка и сохраним их в mistakes:\n",
        "mistakes = spell.unknown(cleaned_recognized_text.split())\n",
        "for mistake in list(mistakes)[:100]:\n",
        "    print(f'Ошибка: {mistake} Правильно: {spell.correction(mistake)}')"
      ],
      "metadata": {
        "id": "04VUzj_SulNw",
        "colab": {
          "base_uri": "https://localhost:8080/"
        },
        "outputId": "c987c9b4-4625-47c8-84d0-569ef3c2521e"
      },
      "execution_count": 69,
      "outputs": [
        {
          "output_type": "stream",
          "name": "stdout",
          "text": [
            "Ошибка: бесконечности Правильно: бесконечность\n",
            "Ошибка: диковинных Правильно: None\n",
            "Ошибка: металлическое Правильно: металлические\n",
            "Ошибка: постройке Правильно: постройте\n",
            "Ошибка: предсказаний Правильно: предсказание\n",
            "Ошибка: молотками Правильно: None\n",
            "Ошибка: сожран Правильно: сохрани\n",
            "Ошибка: тихон Правильно: тихо\n",
            "Ошибка: толстыми Правильно: толстый\n",
            "Ошибка: отдельной Правильно: отдельно\n",
            "Ошибка: сторукие Правильно: None\n",
            "Ошибка: мутировали Правильно: None\n",
            "Ошибка: нетопыри Правильно: None\n",
            "Ошибка: прошелся Правильно: прошел\n",
            "Ошибка: потупился Правильно: получился\n",
            "Ошибка: китайского Правильно: китайское\n",
            "Ошибка: рентабельности Правильно: None\n",
            "Ошибка: двутавровыми Правильно: None\n",
            "Ошибка: выходе Правильно: выходи\n",
            "Ошибка: унылая Правильно: None\n",
            "Ошибка: наполеона Правильно: наполеон\n",
            "Ошибка: административно Правильно: None\n",
            "Ошибка: гекатонхейры Правильно: None\n",
            "Ошибка: вылечивались Правильно: None\n",
            "Ошибка: ифрита Правильно: рита\n",
            "Ошибка: питались Правильно: пытались\n",
            "Ошибка: числил Правильно: число\n",
            "Ошибка: трубки Правильно: трубку\n",
            "Ошибка: трансформаторов Правильно: None\n",
            "Ошибка: показавший Правильно: показаний\n",
            "Ошибка: см Правильно: со\n",
            "Ошибка: глотками Правильно: None\n",
            "Ошибка: домовик Правильно: доминик\n",
            "Ошибка: значились Правильно: начались\n",
            "Ошибка: задачами Правильно: задача\n",
            "Ошибка: наметала Правильно: заметила\n",
            "Ошибка: вакантной Правильно: None\n",
            "Ошибка: относительного Правильно: относительно\n",
            "Ошибка: кольцом Правильно: кольцо\n",
            "Ошибка: командировками Правильно: None\n",
            "Ошибка: стрептоцидовой Правильно: None\n",
            "Ошибка: столетней Правильно: None\n",
            "Ошибка: заинвентаризовано Правильно: None\n",
            "Ошибка: применять Правильно: применить\n",
            "Ошибка: бессмертную Правильно: None\n",
            "Ошибка: универсальных Правильно: универсальный\n",
            "Ошибка: редчайших Правильно: None\n",
            "Ошибка: гварии Правильно: аварии\n",
            "Ошибка: кочевал Правильно: None\n",
            "Ошибка: замеченных Правильно: None\n",
            "Ошибка: представлениями Правильно: представления\n",
            "Ошибка: портретов Правильно: портрет\n",
            "Ошибка: кофейной Правильно: кофейня\n",
            "Ошибка: нирвану Правильно: None\n",
            "Ошибка: десятками Правильно: десятки\n",
            "Ошибка: ударит Правильно: ударил\n",
            "Ошибка: оборонная Правильно: оборона\n",
            "Ошибка: бомбе Правильно: бомба\n",
            "Ошибка: смазанным Правильно: None\n",
            "Ошибка: ноблескивающий Правильно: None\n",
            "Ошибка: тель Правильно: цель\n",
            "Ошибка: пифий Правильно: синий\n",
            "Ошибка: линейного Правильно: None\n",
            "Ошибка: ита Правильно: эта\n",
            "Ошибка: горыныч Правильно: горный\n",
            "Ошибка: поднимал Правильно: поднимай\n",
            "Ошибка: ойре Правильно: обе\n",
            "Ошибка: бидструпа Правильно: None\n",
            "Ошибка: выходили Правильно: выходил\n",
            "Ошибка: хвойными Правильно: None\n",
            "Ошибка: анацефал Правильно: None\n",
            "Ошибка: компенсации Правильно: компенсация\n",
            "Ошибка: шестидесятеричную Правильно: None\n",
            "Ошибка: полуэктович Правильно: None\n",
            "Ошибка: разглядывая Правильно: None\n",
            "Ошибка: гексахлораном Правильно: None\n",
            "Ошибка: самолетный Правильно: самолеты\n",
            "Ошибка: неконгруентной Правильно: None\n",
            "Ошибка: табличками Правильно: табличка\n",
            "Ошибка: успехом Правильно: успехов\n",
            "Ошибка: сдирал Правильно: сделал\n",
            "Ошибка: обслуживающего Правильно: None\n",
            "Ошибка: мазью Правильно: мать\n",
            "Ошибка: центрального Правильно: центральное\n",
            "Ошибка: дюжину Правильно: дюжина\n",
            "Ошибка: пустую Правильно: впустую\n",
            "Ошибка: товарища Правильно: товарищ\n",
            "Ошибка: содержался Правильно: задержался\n",
            "Ошибка: дорожили Правильно: положили\n",
            "Ошибка: книгами Правильно: книга\n",
            "Ошибка: нище Правильно: ниже\n",
            "Ошибка: хозяйственно Правильно: None\n",
            "Ошибка: хлорофосом Правильно: None\n",
            "Ошибка: безграмотных Правильно: None\n",
            "Ошибка: обитал Правильно: читал\n",
            "Ошибка: огнеметный Правильно: None\n",
            "Ошибка: сводилась Правильно: родилась\n",
            "Ошибка: занимал Правильно: занимай\n",
            "Ошибка: поправил Правильно: попросил\n",
            "Ошибка: прижавшись Правильно: None\n"
          ]
        }
      ]
    },
    {
      "cell_type": "markdown",
      "source": [
        "Посмотрела какие конкретно исправлялись ошибки и на какие слова. В словаре НЕ учтены все формы слов и некоторые слова написанные правильно, но отсутствующие в словаре, тоже исправлялись на неправильные. Например, \"людоед\" заменено на \"люди\", \"ватник\" на \"ватикан\" и т.п. Видимо поэтому метрики возросли. Проверку закоментировала, так как она довольно долго работает."
      ],
      "metadata": {
        "id": "xQOx04iA4nCM"
      }
    },
    {
      "cell_type": "markdown",
      "source": [
        "**Автокоррекция текста из учебника**"
      ],
      "metadata": {
        "id": "AOv-NO4A-Zlv"
      }
    },
    {
      "cell_type": "code",
      "source": [
        "# автокоррекция текста без обработки тире и знаков препинания\n",
        "correct_recog_sc_tgp = correct_text_sc(recognized_text_tgp)\n",
        "print(correct_recog_sc_tgp[0:1000])"
      ],
      "metadata": {
        "id": "Vm5P8zJn0ugA",
        "colab": {
          "base_uri": "https://localhost:8080/"
        },
        "outputId": "02020d58-b050-4fe4-8368-331d166f99a7"
      },
      "execution_count": 70,
      "outputs": [
        {
          "output_type": "stream",
          "name": "stdout",
          "text": [
            "субъект правопонимания всегда выступает конкретные человек например а гражданин обладающий минимальный правовым кругозором, столкнувшийся с проблема права вообще я юрист-профессионал, имеющий достаточно запас знание о правда способный применить и толковать правое норман вы ученый человек с абстрактным мышлением, занимающийся изучение права обладающий самой исторический и современные знание способный я интерпретации не только норма но и принцип права владеющий определенно методологией исследования Правопонимание всегда субъективно, оригинальное хотя представления о права могут совпадает у группы лиц и у целых слово классов. объект правопонимания могут быть право в планетарном масштабе, право конкретно общества отрасль, институт права отдельные правое норман При этом знания об отдельные структурных элемент экстраполируются на право в целом важно познавательную загрузка здесь несут среда и взаимодействующие с право общественные явление Содержание правопонимания составляют знания субъект о\n"
          ]
        }
      ]
    },
    {
      "cell_type": "code",
      "source": [
        "# считаем метрики\n",
        "wer_sc_tgp, cer_sc_tgp = metrics_wer_cer(etalon_text_tgp,\n",
        "                                         correct_recog_sc_tgp)\n",
        "print(f\"WER: {wer_sc_tgp}\")\n",
        "print(f\"CER: {cer_sc_tgp}\")"
      ],
      "metadata": {
        "id": "jkx_xYMi0ujA",
        "colab": {
          "base_uri": "https://localhost:8080/"
        },
        "outputId": "7aa792d1-ca29-4c34-e6a5-894ba4604b5c"
      },
      "execution_count": 71,
      "outputs": [
        {
          "output_type": "stream",
          "name": "stdout",
          "text": [
            "WER: 0.328\n",
            "CER: 0.047\n"
          ]
        }
      ]
    },
    {
      "cell_type": "code",
      "source": [
        "# Очищаем тексты\n",
        "clean_recog_text_tgp = cleaned_text(recognized_text_tgp)\n",
        "clean_etalon_text_tgp = cleaned_text(etalon_text_tgp)\n",
        "clean_etalon_text_tgp = clean_etalon_text_tgp.lstrip() # удалим пробел в начале строки\n",
        "print(clean_recog_text_tgp[0:1000])\n",
        "print(clean_etalon_text_tgp[0:1000])"
      ],
      "metadata": {
        "id": "CoN5uzdg0ull",
        "colab": {
          "base_uri": "https://localhost:8080/"
        },
        "outputId": "a5fa5eef-2787-4642-f841-7ed7c7479fa5"
      },
      "execution_count": 72,
      "outputs": [
        {
          "output_type": "stream",
          "name": "stdout",
          "text": [
            "Субъектом правопонимания всегда выступает конкретный человек например а гражданин обладающий минимальным правовым кругозором столкнувшийся с проблемами права вообще 6 юрист профессионал имеющий достаточный запас знаний о праве способный применять и толковать правовые нормы в ученый человек с абстрактным мышлением занимающийся изучением права обладающий суммой исторических и современных знаний способный к интерпретации не только норм но и принципов права владеющий определенной методологией исследования Правопонимание всегда субъективно оригинально хотя представления о праве могут совпадать у группы лиц и у целых слоев классов Объектом правопонимания могут быть право в планетарном масштабе право конкретного общества отрасль институт права отдельные правовые нормы При этом знания об отдельных структурных элементах экстраполируются на право в целом Важную познавательную нагрузку здесь несут среда и взаимодействующие с правом общественные явления Содержание правопонимания составляют знания \n",
            "Субъектом правопонимания всегда выступает конкретный человек например а гражданин обладающий минимальным правовым кругозором столкнувшийся с проблемами права вообще б юрист профессионал имеющий достаточный запас знаний о праве способный применять и толковать правовые нормы в ученый человек с абстрактным мышлением занимающийся изучением права обладающий суммой исторических и современных знаний способный к интерпретации не только норм но и принципов права владеющий определенной методологией исследования Правопонимание всегда субъективно оригинально хотя представления о праве могут совпадать у группы лиц и у целых слоев классов Объектом правопонимания могут быть право в планетарном масштабе право конкретного общества отрасль институт права отдельные правовые нормы При этом знания об отдельных структурных элементах экстраполируются на право в целом Важную познавательную нагрузку здесь несут среда и взаимодействующие с правом общественные явления Содержание правопонимания составляют знания \n"
          ]
        }
      ]
    },
    {
      "cell_type": "code",
      "source": [
        "# автокорректировка распознанного и очищенного текста\n",
        "correct_recog_sc_tgp_clean = correct_text_sc(clean_recog_text_tgp)\n",
        "print(correct_recog_sc_tgp_clean[0:1000])"
      ],
      "metadata": {
        "id": "z1b8RVuw0us2",
        "colab": {
          "base_uri": "https://localhost:8080/"
        },
        "outputId": "c4b6923c-5eca-4ff5-d344-b6dfdca23e48"
      },
      "execution_count": 73,
      "outputs": [
        {
          "output_type": "stream",
          "name": "stdout",
          "text": [
            "субъект правопонимания всегда выступает конкретные человек например а гражданин обладающий минимальный правовым кругозором столкнувшийся с проблема права вообще 6 юрист профессионал имеющий достаточно запас знание о права способный применить и толковать правое норма в ученый человек с абстрактным мышлением занимающийся изучение права обладающий самой исторический и современные знание способный я интерпретации не только нора но и принцип права владеющий определенно методологией исследования Правопонимание всегда субъективно оригинальное хотя представления о права могут совпадает у группы лиц и у целых слов классно объект правопонимания могут быть право в планетарном масштабе право конкретно общества страсть институт права отдельные правое норма При этом знания об отдельные структурных элемент экстраполируются на право в целом важно познавательную загрузка здесь несут среда и взаимодействующие с право общественные явление Содержание правопонимания составляют знания субъект о его права и \n"
          ]
        }
      ]
    },
    {
      "cell_type": "code",
      "source": [
        "# считаем метрики для очищенного текста\n",
        "wer_sc_clean_tgp, cer_sc_clean_tgp = metrics_wer_cer(\n",
        "    clean_etalon_text_tgp,\n",
        "    correct_recog_sc_tgp_clean\n",
        "    )\n",
        "print(f\"WER: {wer_sc_clean_tgp}\")\n",
        "print(f\"CER: {cer_sc_clean_tgp}\")"
      ],
      "metadata": {
        "colab": {
          "base_uri": "https://localhost:8080/"
        },
        "id": "Ow5UPmccGn94",
        "outputId": "d21a956e-719e-4ef9-ee36-a2678028b47c"
      },
      "execution_count": 74,
      "outputs": [
        {
          "output_type": "stream",
          "name": "stdout",
          "text": [
            "WER: 0.257\n",
            "CER: 0.052\n"
          ]
        }
      ]
    },
    {
      "cell_type": "markdown",
      "source": [
        "Видно, что очистка текста улучшила метрики, однако все равно 24-25% - это плохие результаты.\n",
        "\n",
        "Литературный текст до улучшения имел метрики: WER: 36,4%, CER: 6,2%\n",
        "\n",
        "Литературный текст после улучшения: WER: 24,1%, CER: 6,1%\n",
        "\n",
        "Текст из учебника до улучшения имел метрики: WER: 32,8%, CER: 4,7%\n",
        "\n",
        "Текст из учебника после улучшения: WER: 25,7%, CER: 5,2%\n",
        "\n",
        "В целом, автокорректор SpellChecker дал плохой результат."
      ],
      "metadata": {
        "id": "fDGzZsqcOc1T"
      }
    },
    {
      "cell_type": "markdown",
      "source": [
        "#### **HunSpell**"
      ],
      "metadata": {
        "id": "5TruUFkAmwjL"
      }
    },
    {
      "cell_type": "code",
      "source": [
        "# Инициализация HunSpell с русским словарем\n",
        "hunspell = hunspell.HunSpell('/usr/share/hunspell/ru_RU.dic', '/usr/share/hunspell/ru_RU.aff')"
      ],
      "metadata": {
        "id": "EFzekG6epU6U"
      },
      "execution_count": 75,
      "outputs": []
    },
    {
      "cell_type": "code",
      "source": [
        "def correct_text_hs(text):\n",
        "    words = text.split()\n",
        "    corrected_words = []\n",
        "\n",
        "    for word in words:\n",
        "        if not hunspell.spell(word):\n",
        "            suggestions = hunspell.suggest(word)\n",
        "            if suggestions:\n",
        "                corrected_words.append(suggestions[0])  # Используем первое предложение\n",
        "            else:\n",
        "                corrected_words.append(word)  # Если нет предложений, оставляем слово как есть\n",
        "        else:\n",
        "            corrected_words.append(word)\n",
        "\n",
        "    return ' '.join(corrected_words)"
      ],
      "metadata": {
        "id": "0USHiG2wlQ7P"
      },
      "execution_count": 76,
      "outputs": []
    },
    {
      "cell_type": "markdown",
      "source": [
        "**Литературный текст**"
      ],
      "metadata": {
        "id": "FZ6DoQJb-mvT"
      }
    },
    {
      "cell_type": "code",
      "source": [
        "# автокоррекция текста без обработки тире и знаков препинания\n",
        "correct_reg_text_hs = correct_text_hs(recognized_text)\n",
        "print(correct_reg_text_hs[0:1000])"
      ],
      "metadata": {
        "colab": {
          "base_uri": "https://localhost:8080/"
        },
        "id": "Ovv8MIkupkqV",
        "outputId": "07776d1a-cba4-4c1d-9b14-da56352cbdf9"
      },
      "execution_count": 77,
      "outputs": [
        {
          "output_type": "stream",
          "name": "stdout",
          "text": [
            "по-видимому с вестибюля. В заплесневелых углах белесое мерцали кости прикованных скелетов где-то мерно капала вода в нишах между колоннами в неестественных позах торчали статуи в ржавых латах справа от входа у стены громоздились обломки древних идолов наверху этой кучи торчали гипсовые ноги в сапогах. С почерневших портретов под потолком строго взирали маститые старцы в их лицах усматривались знакомые черты Федора Самсоновичем товарища Жана Знакомо и других мастеров. Весь этот архаический хлам надлежало давным-давно выбросить прорубить в стенах окна и установить трубки дневного света но все было заприходовано заинвентаризовано и лично Модестом Матвеевичем к разбазариванию запрещено. На капителях колонн и в лабиринтах исполинской люстры свисающей с почерневшего потолка шуршали нетопыри и летучие собаки. С ними Модест Матвеевич боролся. Он поливал их скипидаром и креозотом опылял дустом опрыскивал гексахлораном они гибли тысячами но возрождались десятками тысяч. Они мутировали среди них \n"
          ]
        }
      ]
    },
    {
      "cell_type": "code",
      "source": [
        "wer_corr_hs, cer_corr_hs = metrics_wer_cer(etalon_text,\n",
        "                                           correct_reg_text_hs)\n",
        "print(f\"WER: {wer_corr_hs}\")\n",
        "print(f\"CER: {cer_corr_hs}\")"
      ],
      "metadata": {
        "colab": {
          "base_uri": "https://localhost:8080/"
        },
        "id": "pH-eUi1km7dq",
        "outputId": "fa87c287-1fde-404d-ebf7-361ed78eb797"
      },
      "execution_count": 78,
      "outputs": [
        {
          "output_type": "stream",
          "name": "stdout",
          "text": [
            "WER: 0.191\n",
            "CER: 0.026\n"
          ]
        }
      ]
    },
    {
      "cell_type": "code",
      "source": [
        "# сравним визуально оба текста\n",
        "print(correct_reg_text_hs[0:1000])\n",
        "print(etalon_text[0:1000])"
      ],
      "metadata": {
        "colab": {
          "base_uri": "https://localhost:8080/"
        },
        "id": "vu7RlGhMr1p_",
        "outputId": "eed24a05-666c-47a8-ae57-89e8cd0c6fcd"
      },
      "execution_count": 79,
      "outputs": [
        {
          "output_type": "stream",
          "name": "stdout",
          "text": [
            "по-видимому с вестибюля. В заплесневелых углах белесое мерцали кости прикованных скелетов где-то мерно капала вода в нишах между колоннами в неестественных позах торчали статуи в ржавых латах справа от входа у стены громоздились обломки древних идолов наверху этой кучи торчали гипсовые ноги в сапогах. С почерневших портретов под потолком строго взирали маститые старцы в их лицах усматривались знакомые черты Федора Самсоновичем товарища Жана Знакомо и других мастеров. Весь этот архаический хлам надлежало давным-давно выбросить прорубить в стенах окна и установить трубки дневного света но все было заприходовано заинвентаризовано и лично Модестом Матвеевичем к разбазариванию запрещено. На капителях колонн и в лабиринтах исполинской люстры свисающей с почерневшего потолка шуршали нетопыри и летучие собаки. С ними Модест Матвеевич боролся. Он поливал их скипидаром и креозотом опылял дустом опрыскивал гексахлораном они гибли тысячами но возрождались десятками тысяч. Они мутировали среди них \n",
            "﻿по-видимому, с вестибюля. В заплесневелых углах белесо мерцали кости прикованных скелетов, где-то мерно капала вода, в нишах между колоннами в неестественных позах торчали статуи в ржавых латах, справа от входа у стены громоздились обломки древних идолов, наверху этой кучи торчали гипсовые ноги в сапогах. С почерневших портретов под потолком строго взирали маститые старцы, в их лицах усматривались знакомые черты Федора Симеоновича, товарища Жиана Жиакомо и других мастеров. Весь этот архаический хлам надлежало давным-давно выбросить, прорубить в стенах окна и установить трубки дневного света, но все было заприходовано, заинвентаризировано и лично Модестом Матвеевичем к разбазариванию запрещено. На капителях колонн и в лабиринтах исполинской люстры, свисающей с почерневшего потолка, шуршали нетопыри и летучие собаки. С ними Модест Матвеевич боролся. Он поливал их скипидаром и креозотом, опылял дустом, опрыскивал гексахлораном, они гибли тысячами, но возрождались десятками тысяч. Они мут\n"
          ]
        }
      ]
    },
    {
      "cell_type": "markdown",
      "source": [
        "При визуальном сравнении видно, что в распознанном и откорректорованном корректор удалил запятые . Уберем их в эталонном тексте."
      ],
      "metadata": {
        "id": "uTqEv6SZsHif"
      }
    },
    {
      "cell_type": "markdown",
      "source": [
        "**Улучшения:**"
      ],
      "metadata": {
        "id": "Oksln_XIVnOx"
      }
    },
    {
      "cell_type": "code",
      "source": [
        "# Удаление запятых\n",
        "etalon_text_corr_hs = etalon_text.replace(',', '')\n",
        "print(etalon_text_corr_hs[0:1000])"
      ],
      "metadata": {
        "colab": {
          "base_uri": "https://localhost:8080/"
        },
        "id": "EqFKe2xwm7gO",
        "outputId": "fe1e7848-5860-483b-8ce3-d3aeaee67d08"
      },
      "execution_count": 81,
      "outputs": [
        {
          "output_type": "stream",
          "name": "stdout",
          "text": [
            "﻿по-видимому с вестибюля. В заплесневелых углах белесо мерцали кости прикованных скелетов где-то мерно капала вода в нишах между колоннами в неестественных позах торчали статуи в ржавых латах справа от входа у стены громоздились обломки древних идолов наверху этой кучи торчали гипсовые ноги в сапогах. С почерневших портретов под потолком строго взирали маститые старцы в их лицах усматривались знакомые черты Федора Симеоновича товарища Жиана Жиакомо и других мастеров. Весь этот архаический хлам надлежало давным-давно выбросить прорубить в стенах окна и установить трубки дневного света но все было заприходовано заинвентаризировано и лично Модестом Матвеевичем к разбазариванию запрещено. На капителях колонн и в лабиринтах исполинской люстры свисающей с почерневшего потолка шуршали нетопыри и летучие собаки. С ними Модест Матвеевич боролся. Он поливал их скипидаром и креозотом опылял дустом опрыскивал гексахлораном они гибли тысячами но возрождались десятками тысяч. Они мутировали среди ни\n"
          ]
        }
      ]
    },
    {
      "cell_type": "code",
      "source": [
        "wer_corr_hs_et_corr, cer_corr_hs_et_corr = metrics_wer_cer(\n",
        "    etalon_text_corr_hs,\n",
        "    correct_reg_text_hs\n",
        "    )\n",
        "print(f\"WER: {wer_corr_hs_et_corr}\")\n",
        "print(f\"CER: {cer_corr_hs_et_corr}\")"
      ],
      "metadata": {
        "colab": {
          "base_uri": "https://localhost:8080/"
        },
        "id": "sPsww4iatIu1",
        "outputId": "c7b94d4c-f17b-4fde-ba9c-ce383c78b246"
      },
      "execution_count": 82,
      "outputs": [
        {
          "output_type": "stream",
          "name": "stdout",
          "text": [
            "WER: 0.107\n",
            "CER: 0.026\n"
          ]
        }
      ]
    },
    {
      "cell_type": "markdown",
      "source": [
        "Метрики уменьшились, но не значительно. Предполагаю, что дело опять в словаре."
      ],
      "metadata": {
        "id": "ZiqJhDzatDKr"
      }
    },
    {
      "cell_type": "markdown",
      "source": [
        "**Текст из учебника**"
      ],
      "metadata": {
        "id": "uMwjXcnb-0Lk"
      }
    },
    {
      "cell_type": "code",
      "source": [
        "# автокоррекция текста без обработки тире и знаков препинания\n",
        "correct_text_hs_tgp = correct_text_hs(recognized_text_tgp)\n",
        "print(correct_text_hs_tgp[0:1000])"
      ],
      "metadata": {
        "colab": {
          "base_uri": "https://localhost:8080/"
        },
        "outputId": "51885950-afef-438f-f40a-ecf334cb3dc4",
        "id": "7ajquty8BEue"
      },
      "execution_count": 83,
      "outputs": [
        {
          "output_type": "stream",
          "name": "stdout",
          "text": [
            "Субъектом право понимания всегда выступает конкретный человек например а гражданин обладающий минимальным правовым кругозором столкнувшийся с проблемами права вообще 6) юрист-профессионал имеющий достаточный запас знаний о праве способный применять и толковать правовые нормы в ученый человек с абстрактным мышлением занимающийся изучением права обладающий суммой исторических и современных знаний способный к интерпретации не только норм но и принципов права владеющий определенной методологией исследования. Право понимание всегда субъективно оригинально хотя представления о праве могут совпадать у группы лиц и у целых слоев классов. Объектом право понимания могут быть право в планетарном масштабе право конкретного общества отрасль институт права отдельные правовые нормы. При этом знания об отдельных структурных элементах экстраполируются на право в целом. Важную познавательную нагрузку здесь несут среда и взаимодействующие с правом общественные явления. Содержание право понимания составля\n"
          ]
        }
      ]
    },
    {
      "cell_type": "code",
      "source": [
        "wer_corr_hs_tgp, cer_corr_hs_tgp = metrics_wer_cer(etalon_text_tgp,\n",
        "                                                   correct_text_hs_tgp)\n",
        "print(f\"WER: {wer_corr_hs_tgp}\")\n",
        "print(f\"CER: {cer_corr_hs_tgp}\")"
      ],
      "metadata": {
        "colab": {
          "base_uri": "https://localhost:8080/"
        },
        "outputId": "b7438121-4b06-47cf-bfec-6098db6eeeb4",
        "id": "dPGDuItxBEuf"
      },
      "execution_count": 84,
      "outputs": [
        {
          "output_type": "stream",
          "name": "stdout",
          "text": [
            "WER: 0.194\n",
            "CER: 0.014\n"
          ]
        }
      ]
    },
    {
      "cell_type": "code",
      "source": [
        "# Удаление запятых\n",
        "etalon_text_tgp_hs = etalon_text_tgp.replace(',', '')\n",
        "print(etalon_text_tgp_hs[0:1000])"
      ],
      "metadata": {
        "colab": {
          "base_uri": "https://localhost:8080/"
        },
        "id": "6UBjS7GI9B9A",
        "outputId": "77d0ed26-c247-4af0-dc2e-097cb242bbcc"
      },
      "execution_count": 86,
      "outputs": [
        {
          "output_type": "stream",
          "name": "stdout",
          "text": [
            "﻿Субъектом правопонимания всегда выступает конкретный человек например: а) гражданин обладающий минимальным правовым кругозором столкнувшийся с проблемами права вообще; б) юрист-профессионал имеющий достаточный запас знаний о праве способный применять и толковать правовые нормы; в) ученый человек с абстрактным мышлением занимающийся изучением права обладающий суммой исторических и современных знаний способный к интерпретации не только норм но и принципов права владеющий определенной методологией исследования. Правопонимание всегда субъективно оригинально хотя представления о праве могут совпадать у группы лиц и у целых слоев классов. Объектом правопонимания могут быть право в планетарном масштабе право конкретного общества отрасль институт права отдельные правовые нормы. При этом знания об отдельных структурных элементах экстраполируются на право в целом. Важную познавательную нагрузку здесь несут среда и взаимодействующие с правом общественные явления. Содержание правопонимания состав\n"
          ]
        }
      ]
    },
    {
      "cell_type": "code",
      "source": [
        "wer_corr_hs_tgp_2, cer_corr_hs_tgp_2 = metrics_wer_cer(etalon_text_tgp_hs,\n",
        "                                                       correct_text_hs_tgp)\n",
        "print(f\"WER: {wer_corr_hs_tgp_2}\")\n",
        "print(f\"CER: {cer_corr_hs_tgp_2}\")"
      ],
      "metadata": {
        "colab": {
          "base_uri": "https://localhost:8080/"
        },
        "id": "QMP_kK0e9RuM",
        "outputId": "aa37f765-45ec-453c-f81b-df4ea33efc45"
      },
      "execution_count": 88,
      "outputs": [
        {
          "output_type": "stream",
          "name": "stdout",
          "text": [
            "WER: 0.103\n",
            "CER: 0.014\n"
          ]
        }
      ]
    },
    {
      "cell_type": "markdown",
      "source": [
        "Литературный текст до улучшения имел метрики: WER: 19,1%, CER: 2,6%\n",
        "\n",
        "Литературный текст после улучшения: WER: 10,7%, CER: 2,6%\n",
        "\n",
        "Текст из учебника имеет метрики: WER: 19,4$, CER: 1,4%\n",
        "\n",
        "Текст из учебника после улучшения: WER: 10,3$, CER: 1,4%\n",
        "\n",
        "Автокорректор HunSpell показал себя лучше, чем предыдущий, но все равно не достаточно хорошо."
      ],
      "metadata": {
        "id": "Cpqpfnl6DOx2"
      }
    },
    {
      "cell_type": "markdown",
      "source": [
        "#### **DeepPavlov**"
      ],
      "metadata": {
        "id": "LO9gwVM1FcOu"
      }
    },
    {
      "cell_type": "code",
      "source": [
        "# Загружаем предобученную модель коррекции ошибок\n",
        "model = build_model(configs.spelling_correction.levenshtein_corrector_ru, download=True)"
      ],
      "metadata": {
        "id": "pLogsM-HTwdx",
        "colab": {
          "base_uri": "https://localhost:8080/"
        },
        "outputId": "5616396b-1abc-45a3-fb60-019d68393968"
      },
      "execution_count": null,
      "outputs": [
        {
          "output_type": "stream",
          "name": "stderr",
          "text": [
            "2025-02-01 19:25:27.944 INFO in 'deeppavlov.download'['download'] at line 138: Skipped http://files.deeppavlov.ai/lang_models/ru_wiyalen_no_punkt.arpa.binary.gz download because of matching hashes\n",
            "INFO:deeppavlov.download:Skipped http://files.deeppavlov.ai/lang_models/ru_wiyalen_no_punkt.arpa.binary.gz download because of matching hashes\n",
            "2025-02-01 19:25:29.154 INFO in 'deeppavlov.download'['download'] at line 138: Skipped http://files.deeppavlov.ai/deeppavlov_data/vocabs/russian_words_vocab.dict.gz download because of matching hashes\n",
            "INFO:deeppavlov.download:Skipped http://files.deeppavlov.ai/deeppavlov_data/vocabs/russian_words_vocab.dict.gz download because of matching hashes\n"
          ]
        }
      ]
    },
    {
      "cell_type": "code",
      "source": [
        "# Функция для исправления текста с учетом пользовательского словаря\n",
        "def correct_text_dp(text):\n",
        "    words = text.split()\n",
        "    corrected_words = [\n",
        "        word if word in custom_words else model([word])[0]  # Не исправляем слова из словаря\n",
        "        for word in words\n",
        "    ]\n",
        "    return \" \".join(corrected_words)"
      ],
      "metadata": {
        "id": "kSuYmBnkEn1m"
      },
      "execution_count": null,
      "outputs": []
    },
    {
      "cell_type": "markdown",
      "source": [
        "**Литературный текст**"
      ],
      "metadata": {
        "id": "7iYA08SS_Co6"
      }
    },
    {
      "cell_type": "code",
      "source": [
        "# автокоррекция текста без обработки тире и знаков препинания\n",
        "correct_text_deeppavlov = correct_text_dp(recognized_text)\n",
        "print(correct_text_deeppavlov[0:1000])"
      ],
      "metadata": {
        "colab": {
          "base_uri": "https://localhost:8080/"
        },
        "id": "TWiPOc6VE9uG",
        "outputId": "03223891-8c4b-49a6-c8dc-b6ea1d044aa0"
      },
      "execution_count": null,
      "outputs": [
        {
          "output_type": "stream",
          "name": "stdout",
          "text": [
            "по-видимому, с вестибюля. в заплесневелых углах белесо мерцали кости прикованных скелетов, где-то мерно капала вода, в нишах между колоннами в неестественных позах торчали статуи в ржавых латах, справа от входа у стены громоздились обломки древних идолов, наверху этой кучи торчали гипсовые ноги в сапогах. с почерневших портретов под потолком строго взирали маститые старцы, в их лицах усматривались знакомые черты федора симеоновича, товарища лиана жиакомо и других мастеров. весь этот архаический хлам надлежало давным-давно выбросить, прорубить в стенах окна и установить трубки дневного света, но все было заприходовано, заинвентаризовано и лично модестом матвеевичем к разбазариванию запрещено. на капителях колонн и в лабиринтах исполинской люстры, свисающей с почерневшего потолка, шуршали нетопыри и летучие собаки. с ними модест матвеевич боролся. он поливал их скипидаром и креозотом, опылял дустом, опрыскивал гексахлораном, они гибли тысячами, но возрождались десятками тысяч. они мутиро\n"
          ]
        }
      ]
    },
    {
      "cell_type": "code",
      "source": [
        "wer_corr_dp, cer_corr_dp = metrics_wer_cer(etalon_text,\n",
        "                                           correct_text_deeppavlov)\n",
        "print(f\"WER: {wer_corr_dp}\")\n",
        "print(f\"CER: {cer_corr_dp}\")"
      ],
      "metadata": {
        "colab": {
          "base_uri": "https://localhost:8080/"
        },
        "id": "C4-6v_2sGPfW",
        "outputId": "9af5ea80-67a7-4531-f4dc-1414a304d073"
      },
      "execution_count": null,
      "outputs": [
        {
          "output_type": "stream",
          "name": "stdout",
          "text": [
            "WER: 0.177\n",
            "CER: 0.005\n"
          ]
        }
      ]
    },
    {
      "cell_type": "markdown",
      "source": [
        "**Текст из учебника**"
      ],
      "metadata": {
        "id": "qO0vKABmG0sc"
      }
    },
    {
      "cell_type": "code",
      "source": [
        "# автокоррекция текста без обработки тире и знаков препинания\n",
        "correct_text_dp_tgp = correct_text_dp(recognized_text_tgp)\n",
        "print(correct_text_dp_tgp[0:1000])"
      ],
      "metadata": {
        "colab": {
          "base_uri": "https://localhost:8080/"
        },
        "id": "2faha9lm_Ktw",
        "outputId": "e076dd88-f152-4d24-8507-fee0da5ea911"
      },
      "execution_count": null,
      "outputs": [
        {
          "output_type": "stream",
          "name": "stdout",
          "text": [
            "субъектом правопонимания всегда выступает конкретный человек, например: а) гражданин, обладающий минимальным правовым кругозором, столкнувшийся с проблемами права вообще; 6) юрист-профессионал, имеющий достаточный запас знаний о праве, способный применять и толковать правовые нормы; в) ученый, человек с абстрактным мышлением, занимающийся изучением права, обладающий суммой исторических и современных знаний, способный к интерпретации не только норм, но и принципов права, владеющий определенной методологией исследования. правопонимание всегда субъективно, оригинально, хотя представления о праве могут совпадать у группы лиц и у целых слоев, классов. объектом правопонимания могут быть право в планетарном масштабе, право конкретного общества, отрасль, институт права, отдельные правовые нормы. при этом знания об отдельных структурных элементах экстраполируются на право в целом. важную познавательную нагрузку здесь несут среда и взаимодействующие с правом общественные явления. содержание прав\n"
          ]
        }
      ]
    },
    {
      "cell_type": "code",
      "source": [
        "wer_corr_dp_tgp, cer_corr_dp_tgp = metrics_wer_cer(etalon_text_tgp,\n",
        "                                                   correct_text_dp_tgp)\n",
        "print(f\"WER: {wer_corr_dp_tgp}\")\n",
        "print(f\"CER: {cer_corr_dp_tgp}\")"
      ],
      "metadata": {
        "colab": {
          "base_uri": "https://localhost:8080/"
        },
        "id": "45X_LGOw_KxO",
        "outputId": "6b1e7129-10a1-4baa-e921-63dd57eda9b4"
      },
      "execution_count": null,
      "outputs": [
        {
          "output_type": "stream",
          "name": "stdout",
          "text": [
            "WER: 0.099\n",
            "CER: 0.003\n"
          ]
        }
      ]
    },
    {
      "cell_type": "markdown",
      "source": [
        "Литературный текст имеет метрики: WER: 17,7%, CER: 0,5%\n",
        "\n",
        "Текст из учебника имеет метрики: WER: 9,9%, CER: 0,3%"
      ],
      "metadata": {
        "id": "Or1Y_sr5Dqdr"
      }
    },
    {
      "cell_type": "markdown",
      "source": [
        "### 5. Анализ и выводы"
      ],
      "metadata": {
        "id": "H-Jxol6tJQl1"
      }
    },
    {
      "cell_type": "markdown",
      "source": [
        "**Сравнение автокорректоров по метрикам**"
      ],
      "metadata": {
        "id": "eP0yea5CJ_Zv"
      }
    },
    {
      "cell_type": "code",
      "source": [
        "df = [[wer_recognized, cer_recognized],\n",
        "      [wer_corr_sc_clean, cer_corr_sc_clean],\n",
        "      [wer_corr_hs_et_corr, cer_corr_hs_et_corr],\n",
        "      [wer_corr_dp, cer_corr_dp]]\n",
        "autocorrect = [\"Without autocorrect\", \"SpellChecker\", \"HunSpell\", \"DeepPavlov\"]"
      ],
      "metadata": {
        "id": "qFWQ1u4IJ2-6"
      },
      "execution_count": null,
      "outputs": []
    },
    {
      "cell_type": "code",
      "source": [
        "print(\"Таблица сравнения автокорректоров для литературного текста\")\n",
        "pd.DataFrame(data=df, index=autocorrect,\n",
        "             columns=[\"WER\", \"CER\"])"
      ],
      "metadata": {
        "id": "aB1BUAx7J3HE",
        "colab": {
          "base_uri": "https://localhost:8080/",
          "height": 193
        },
        "outputId": "093c95e1-f96d-46ea-c4a7-7891a82c7cf9"
      },
      "execution_count": null,
      "outputs": [
        {
          "output_type": "stream",
          "name": "stdout",
          "text": [
            "Таблица сравнения автокорректоров для литературного текста\n"
          ]
        },
        {
          "output_type": "execute_result",
          "data": {
            "text/plain": [
              "                       WER    CER\n",
              "Without autocorrect  0.046  0.004\n",
              "SpellChecker         0.322  0.055\n",
              "HunSpell             0.107  0.027\n",
              "DeepPavlov           0.177  0.005"
            ],
            "text/html": [
              "\n",
              "  <div id=\"df-d99deb75-3f3e-4839-85af-c427f2cb30ea\" class=\"colab-df-container\">\n",
              "    <div>\n",
              "<style scoped>\n",
              "    .dataframe tbody tr th:only-of-type {\n",
              "        vertical-align: middle;\n",
              "    }\n",
              "\n",
              "    .dataframe tbody tr th {\n",
              "        vertical-align: top;\n",
              "    }\n",
              "\n",
              "    .dataframe thead th {\n",
              "        text-align: right;\n",
              "    }\n",
              "</style>\n",
              "<table border=\"1\" class=\"dataframe\">\n",
              "  <thead>\n",
              "    <tr style=\"text-align: right;\">\n",
              "      <th></th>\n",
              "      <th>WER</th>\n",
              "      <th>CER</th>\n",
              "    </tr>\n",
              "  </thead>\n",
              "  <tbody>\n",
              "    <tr>\n",
              "      <th>Without autocorrect</th>\n",
              "      <td>0.046</td>\n",
              "      <td>0.004</td>\n",
              "    </tr>\n",
              "    <tr>\n",
              "      <th>SpellChecker</th>\n",
              "      <td>0.322</td>\n",
              "      <td>0.055</td>\n",
              "    </tr>\n",
              "    <tr>\n",
              "      <th>HunSpell</th>\n",
              "      <td>0.107</td>\n",
              "      <td>0.027</td>\n",
              "    </tr>\n",
              "    <tr>\n",
              "      <th>DeepPavlov</th>\n",
              "      <td>0.177</td>\n",
              "      <td>0.005</td>\n",
              "    </tr>\n",
              "  </tbody>\n",
              "</table>\n",
              "</div>\n",
              "    <div class=\"colab-df-buttons\">\n",
              "\n",
              "  <div class=\"colab-df-container\">\n",
              "    <button class=\"colab-df-convert\" onclick=\"convertToInteractive('df-d99deb75-3f3e-4839-85af-c427f2cb30ea')\"\n",
              "            title=\"Convert this dataframe to an interactive table.\"\n",
              "            style=\"display:none;\">\n",
              "\n",
              "  <svg xmlns=\"http://www.w3.org/2000/svg\" height=\"24px\" viewBox=\"0 -960 960 960\">\n",
              "    <path d=\"M120-120v-720h720v720H120Zm60-500h600v-160H180v160Zm220 220h160v-160H400v160Zm0 220h160v-160H400v160ZM180-400h160v-160H180v160Zm440 0h160v-160H620v160ZM180-180h160v-160H180v160Zm440 0h160v-160H620v160Z\"/>\n",
              "  </svg>\n",
              "    </button>\n",
              "\n",
              "  <style>\n",
              "    .colab-df-container {\n",
              "      display:flex;\n",
              "      gap: 12px;\n",
              "    }\n",
              "\n",
              "    .colab-df-convert {\n",
              "      background-color: #E8F0FE;\n",
              "      border: none;\n",
              "      border-radius: 50%;\n",
              "      cursor: pointer;\n",
              "      display: none;\n",
              "      fill: #1967D2;\n",
              "      height: 32px;\n",
              "      padding: 0 0 0 0;\n",
              "      width: 32px;\n",
              "    }\n",
              "\n",
              "    .colab-df-convert:hover {\n",
              "      background-color: #E2EBFA;\n",
              "      box-shadow: 0px 1px 2px rgba(60, 64, 67, 0.3), 0px 1px 3px 1px rgba(60, 64, 67, 0.15);\n",
              "      fill: #174EA6;\n",
              "    }\n",
              "\n",
              "    .colab-df-buttons div {\n",
              "      margin-bottom: 4px;\n",
              "    }\n",
              "\n",
              "    [theme=dark] .colab-df-convert {\n",
              "      background-color: #3B4455;\n",
              "      fill: #D2E3FC;\n",
              "    }\n",
              "\n",
              "    [theme=dark] .colab-df-convert:hover {\n",
              "      background-color: #434B5C;\n",
              "      box-shadow: 0px 1px 3px 1px rgba(0, 0, 0, 0.15);\n",
              "      filter: drop-shadow(0px 1px 2px rgba(0, 0, 0, 0.3));\n",
              "      fill: #FFFFFF;\n",
              "    }\n",
              "  </style>\n",
              "\n",
              "    <script>\n",
              "      const buttonEl =\n",
              "        document.querySelector('#df-d99deb75-3f3e-4839-85af-c427f2cb30ea button.colab-df-convert');\n",
              "      buttonEl.style.display =\n",
              "        google.colab.kernel.accessAllowed ? 'block' : 'none';\n",
              "\n",
              "      async function convertToInteractive(key) {\n",
              "        const element = document.querySelector('#df-d99deb75-3f3e-4839-85af-c427f2cb30ea');\n",
              "        const dataTable =\n",
              "          await google.colab.kernel.invokeFunction('convertToInteractive',\n",
              "                                                    [key], {});\n",
              "        if (!dataTable) return;\n",
              "\n",
              "        const docLinkHtml = 'Like what you see? Visit the ' +\n",
              "          '<a target=\"_blank\" href=https://colab.research.google.com/notebooks/data_table.ipynb>data table notebook</a>'\n",
              "          + ' to learn more about interactive tables.';\n",
              "        element.innerHTML = '';\n",
              "        dataTable['output_type'] = 'display_data';\n",
              "        await google.colab.output.renderOutput(dataTable, element);\n",
              "        const docLink = document.createElement('div');\n",
              "        docLink.innerHTML = docLinkHtml;\n",
              "        element.appendChild(docLink);\n",
              "      }\n",
              "    </script>\n",
              "  </div>\n",
              "\n",
              "\n",
              "<div id=\"df-e2a442bf-6fca-48db-bbe9-f13f999a540b\">\n",
              "  <button class=\"colab-df-quickchart\" onclick=\"quickchart('df-e2a442bf-6fca-48db-bbe9-f13f999a540b')\"\n",
              "            title=\"Suggest charts\"\n",
              "            style=\"display:none;\">\n",
              "\n",
              "<svg xmlns=\"http://www.w3.org/2000/svg\" height=\"24px\"viewBox=\"0 0 24 24\"\n",
              "     width=\"24px\">\n",
              "    <g>\n",
              "        <path d=\"M19 3H5c-1.1 0-2 .9-2 2v14c0 1.1.9 2 2 2h14c1.1 0 2-.9 2-2V5c0-1.1-.9-2-2-2zM9 17H7v-7h2v7zm4 0h-2V7h2v10zm4 0h-2v-4h2v4z\"/>\n",
              "    </g>\n",
              "</svg>\n",
              "  </button>\n",
              "\n",
              "<style>\n",
              "  .colab-df-quickchart {\n",
              "      --bg-color: #E8F0FE;\n",
              "      --fill-color: #1967D2;\n",
              "      --hover-bg-color: #E2EBFA;\n",
              "      --hover-fill-color: #174EA6;\n",
              "      --disabled-fill-color: #AAA;\n",
              "      --disabled-bg-color: #DDD;\n",
              "  }\n",
              "\n",
              "  [theme=dark] .colab-df-quickchart {\n",
              "      --bg-color: #3B4455;\n",
              "      --fill-color: #D2E3FC;\n",
              "      --hover-bg-color: #434B5C;\n",
              "      --hover-fill-color: #FFFFFF;\n",
              "      --disabled-bg-color: #3B4455;\n",
              "      --disabled-fill-color: #666;\n",
              "  }\n",
              "\n",
              "  .colab-df-quickchart {\n",
              "    background-color: var(--bg-color);\n",
              "    border: none;\n",
              "    border-radius: 50%;\n",
              "    cursor: pointer;\n",
              "    display: none;\n",
              "    fill: var(--fill-color);\n",
              "    height: 32px;\n",
              "    padding: 0;\n",
              "    width: 32px;\n",
              "  }\n",
              "\n",
              "  .colab-df-quickchart:hover {\n",
              "    background-color: var(--hover-bg-color);\n",
              "    box-shadow: 0 1px 2px rgba(60, 64, 67, 0.3), 0 1px 3px 1px rgba(60, 64, 67, 0.15);\n",
              "    fill: var(--button-hover-fill-color);\n",
              "  }\n",
              "\n",
              "  .colab-df-quickchart-complete:disabled,\n",
              "  .colab-df-quickchart-complete:disabled:hover {\n",
              "    background-color: var(--disabled-bg-color);\n",
              "    fill: var(--disabled-fill-color);\n",
              "    box-shadow: none;\n",
              "  }\n",
              "\n",
              "  .colab-df-spinner {\n",
              "    border: 2px solid var(--fill-color);\n",
              "    border-color: transparent;\n",
              "    border-bottom-color: var(--fill-color);\n",
              "    animation:\n",
              "      spin 1s steps(1) infinite;\n",
              "  }\n",
              "\n",
              "  @keyframes spin {\n",
              "    0% {\n",
              "      border-color: transparent;\n",
              "      border-bottom-color: var(--fill-color);\n",
              "      border-left-color: var(--fill-color);\n",
              "    }\n",
              "    20% {\n",
              "      border-color: transparent;\n",
              "      border-left-color: var(--fill-color);\n",
              "      border-top-color: var(--fill-color);\n",
              "    }\n",
              "    30% {\n",
              "      border-color: transparent;\n",
              "      border-left-color: var(--fill-color);\n",
              "      border-top-color: var(--fill-color);\n",
              "      border-right-color: var(--fill-color);\n",
              "    }\n",
              "    40% {\n",
              "      border-color: transparent;\n",
              "      border-right-color: var(--fill-color);\n",
              "      border-top-color: var(--fill-color);\n",
              "    }\n",
              "    60% {\n",
              "      border-color: transparent;\n",
              "      border-right-color: var(--fill-color);\n",
              "    }\n",
              "    80% {\n",
              "      border-color: transparent;\n",
              "      border-right-color: var(--fill-color);\n",
              "      border-bottom-color: var(--fill-color);\n",
              "    }\n",
              "    90% {\n",
              "      border-color: transparent;\n",
              "      border-bottom-color: var(--fill-color);\n",
              "    }\n",
              "  }\n",
              "</style>\n",
              "\n",
              "  <script>\n",
              "    async function quickchart(key) {\n",
              "      const quickchartButtonEl =\n",
              "        document.querySelector('#' + key + ' button');\n",
              "      quickchartButtonEl.disabled = true;  // To prevent multiple clicks.\n",
              "      quickchartButtonEl.classList.add('colab-df-spinner');\n",
              "      try {\n",
              "        const charts = await google.colab.kernel.invokeFunction(\n",
              "            'suggestCharts', [key], {});\n",
              "      } catch (error) {\n",
              "        console.error('Error during call to suggestCharts:', error);\n",
              "      }\n",
              "      quickchartButtonEl.classList.remove('colab-df-spinner');\n",
              "      quickchartButtonEl.classList.add('colab-df-quickchart-complete');\n",
              "    }\n",
              "    (() => {\n",
              "      let quickchartButtonEl =\n",
              "        document.querySelector('#df-e2a442bf-6fca-48db-bbe9-f13f999a540b button');\n",
              "      quickchartButtonEl.style.display =\n",
              "        google.colab.kernel.accessAllowed ? 'block' : 'none';\n",
              "    })();\n",
              "  </script>\n",
              "</div>\n",
              "    </div>\n",
              "  </div>\n"
            ],
            "application/vnd.google.colaboratory.intrinsic+json": {
              "type": "dataframe",
              "summary": "{\n  \"name\": \"             columns=[\\\"WER\\\", \\\"CER\\\"])\",\n  \"rows\": 4,\n  \"fields\": [\n    {\n      \"column\": \"WER\",\n      \"properties\": {\n        \"dtype\": \"number\",\n        \"std\": 0.11874622801026848,\n        \"min\": 0.046,\n        \"max\": 0.322,\n        \"num_unique_values\": 4,\n        \"samples\": [\n          0.322,\n          0.177,\n          0.046\n        ],\n        \"semantic_type\": \"\",\n        \"description\": \"\"\n      }\n    },\n    {\n      \"column\": \"CER\",\n      \"properties\": {\n        \"dtype\": \"number\",\n        \"std\": 0.023977419933484644,\n        \"min\": 0.004,\n        \"max\": 0.055,\n        \"num_unique_values\": 4,\n        \"samples\": [\n          0.055,\n          0.005,\n          0.004\n        ],\n        \"semantic_type\": \"\",\n        \"description\": \"\"\n      }\n    }\n  ]\n}"
            }
          },
          "metadata": {},
          "execution_count": 227
        }
      ]
    },
    {
      "cell_type": "code",
      "source": [
        "df_tgp = [[wer_recognized_tgp, cer_recognized_tgp],\n",
        "          [wer_sc_tgp, cer_sc_tgp],\n",
        "          [wer_corr_hs_tgp, cer_corr_hs_tgp],\n",
        "          [wer_corr_dp_tgp, cer_corr_dp_tgp]]"
      ],
      "metadata": {
        "id": "B2JpjJh4GX9_"
      },
      "execution_count": null,
      "outputs": []
    },
    {
      "cell_type": "code",
      "source": [
        "print(\"Таблица сравнения автокорректоров для учебного текста\")\n",
        "pd.DataFrame(data=df_tgp, index=autocorrect,\n",
        "             columns=[\"WER\", \"CER\"])"
      ],
      "metadata": {
        "colab": {
          "base_uri": "https://localhost:8080/",
          "height": 193
        },
        "outputId": "54560ee8-6690-47cb-c860-90872f1a92ea",
        "id": "qHtKlcjAGX9_"
      },
      "execution_count": null,
      "outputs": [
        {
          "output_type": "stream",
          "name": "stdout",
          "text": [
            "Таблица сравнения автокорректоров для учебного текста\n"
          ]
        },
        {
          "output_type": "execute_result",
          "data": {
            "text/plain": [
              "                       WER    CER\n",
              "Without autocorrect  0.023  0.002\n",
              "SpellChecker         0.328  0.047\n",
              "HunSpell             0.194  0.016\n",
              "DeepPavlov           0.099  0.003"
            ],
            "text/html": [
              "\n",
              "  <div id=\"df-34fc95ce-997c-4038-ba4e-3ecfe4f8742f\" class=\"colab-df-container\">\n",
              "    <div>\n",
              "<style scoped>\n",
              "    .dataframe tbody tr th:only-of-type {\n",
              "        vertical-align: middle;\n",
              "    }\n",
              "\n",
              "    .dataframe tbody tr th {\n",
              "        vertical-align: top;\n",
              "    }\n",
              "\n",
              "    .dataframe thead th {\n",
              "        text-align: right;\n",
              "    }\n",
              "</style>\n",
              "<table border=\"1\" class=\"dataframe\">\n",
              "  <thead>\n",
              "    <tr style=\"text-align: right;\">\n",
              "      <th></th>\n",
              "      <th>WER</th>\n",
              "      <th>CER</th>\n",
              "    </tr>\n",
              "  </thead>\n",
              "  <tbody>\n",
              "    <tr>\n",
              "      <th>Without autocorrect</th>\n",
              "      <td>0.023</td>\n",
              "      <td>0.002</td>\n",
              "    </tr>\n",
              "    <tr>\n",
              "      <th>SpellChecker</th>\n",
              "      <td>0.328</td>\n",
              "      <td>0.047</td>\n",
              "    </tr>\n",
              "    <tr>\n",
              "      <th>HunSpell</th>\n",
              "      <td>0.194</td>\n",
              "      <td>0.016</td>\n",
              "    </tr>\n",
              "    <tr>\n",
              "      <th>DeepPavlov</th>\n",
              "      <td>0.099</td>\n",
              "      <td>0.003</td>\n",
              "    </tr>\n",
              "  </tbody>\n",
              "</table>\n",
              "</div>\n",
              "    <div class=\"colab-df-buttons\">\n",
              "\n",
              "  <div class=\"colab-df-container\">\n",
              "    <button class=\"colab-df-convert\" onclick=\"convertToInteractive('df-34fc95ce-997c-4038-ba4e-3ecfe4f8742f')\"\n",
              "            title=\"Convert this dataframe to an interactive table.\"\n",
              "            style=\"display:none;\">\n",
              "\n",
              "  <svg xmlns=\"http://www.w3.org/2000/svg\" height=\"24px\" viewBox=\"0 -960 960 960\">\n",
              "    <path d=\"M120-120v-720h720v720H120Zm60-500h600v-160H180v160Zm220 220h160v-160H400v160Zm0 220h160v-160H400v160ZM180-400h160v-160H180v160Zm440 0h160v-160H620v160ZM180-180h160v-160H180v160Zm440 0h160v-160H620v160Z\"/>\n",
              "  </svg>\n",
              "    </button>\n",
              "\n",
              "  <style>\n",
              "    .colab-df-container {\n",
              "      display:flex;\n",
              "      gap: 12px;\n",
              "    }\n",
              "\n",
              "    .colab-df-convert {\n",
              "      background-color: #E8F0FE;\n",
              "      border: none;\n",
              "      border-radius: 50%;\n",
              "      cursor: pointer;\n",
              "      display: none;\n",
              "      fill: #1967D2;\n",
              "      height: 32px;\n",
              "      padding: 0 0 0 0;\n",
              "      width: 32px;\n",
              "    }\n",
              "\n",
              "    .colab-df-convert:hover {\n",
              "      background-color: #E2EBFA;\n",
              "      box-shadow: 0px 1px 2px rgba(60, 64, 67, 0.3), 0px 1px 3px 1px rgba(60, 64, 67, 0.15);\n",
              "      fill: #174EA6;\n",
              "    }\n",
              "\n",
              "    .colab-df-buttons div {\n",
              "      margin-bottom: 4px;\n",
              "    }\n",
              "\n",
              "    [theme=dark] .colab-df-convert {\n",
              "      background-color: #3B4455;\n",
              "      fill: #D2E3FC;\n",
              "    }\n",
              "\n",
              "    [theme=dark] .colab-df-convert:hover {\n",
              "      background-color: #434B5C;\n",
              "      box-shadow: 0px 1px 3px 1px rgba(0, 0, 0, 0.15);\n",
              "      filter: drop-shadow(0px 1px 2px rgba(0, 0, 0, 0.3));\n",
              "      fill: #FFFFFF;\n",
              "    }\n",
              "  </style>\n",
              "\n",
              "    <script>\n",
              "      const buttonEl =\n",
              "        document.querySelector('#df-34fc95ce-997c-4038-ba4e-3ecfe4f8742f button.colab-df-convert');\n",
              "      buttonEl.style.display =\n",
              "        google.colab.kernel.accessAllowed ? 'block' : 'none';\n",
              "\n",
              "      async function convertToInteractive(key) {\n",
              "        const element = document.querySelector('#df-34fc95ce-997c-4038-ba4e-3ecfe4f8742f');\n",
              "        const dataTable =\n",
              "          await google.colab.kernel.invokeFunction('convertToInteractive',\n",
              "                                                    [key], {});\n",
              "        if (!dataTable) return;\n",
              "\n",
              "        const docLinkHtml = 'Like what you see? Visit the ' +\n",
              "          '<a target=\"_blank\" href=https://colab.research.google.com/notebooks/data_table.ipynb>data table notebook</a>'\n",
              "          + ' to learn more about interactive tables.';\n",
              "        element.innerHTML = '';\n",
              "        dataTable['output_type'] = 'display_data';\n",
              "        await google.colab.output.renderOutput(dataTable, element);\n",
              "        const docLink = document.createElement('div');\n",
              "        docLink.innerHTML = docLinkHtml;\n",
              "        element.appendChild(docLink);\n",
              "      }\n",
              "    </script>\n",
              "  </div>\n",
              "\n",
              "\n",
              "<div id=\"df-0385f851-a05f-4268-8ebc-e4cc17ab4248\">\n",
              "  <button class=\"colab-df-quickchart\" onclick=\"quickchart('df-0385f851-a05f-4268-8ebc-e4cc17ab4248')\"\n",
              "            title=\"Suggest charts\"\n",
              "            style=\"display:none;\">\n",
              "\n",
              "<svg xmlns=\"http://www.w3.org/2000/svg\" height=\"24px\"viewBox=\"0 0 24 24\"\n",
              "     width=\"24px\">\n",
              "    <g>\n",
              "        <path d=\"M19 3H5c-1.1 0-2 .9-2 2v14c0 1.1.9 2 2 2h14c1.1 0 2-.9 2-2V5c0-1.1-.9-2-2-2zM9 17H7v-7h2v7zm4 0h-2V7h2v10zm4 0h-2v-4h2v4z\"/>\n",
              "    </g>\n",
              "</svg>\n",
              "  </button>\n",
              "\n",
              "<style>\n",
              "  .colab-df-quickchart {\n",
              "      --bg-color: #E8F0FE;\n",
              "      --fill-color: #1967D2;\n",
              "      --hover-bg-color: #E2EBFA;\n",
              "      --hover-fill-color: #174EA6;\n",
              "      --disabled-fill-color: #AAA;\n",
              "      --disabled-bg-color: #DDD;\n",
              "  }\n",
              "\n",
              "  [theme=dark] .colab-df-quickchart {\n",
              "      --bg-color: #3B4455;\n",
              "      --fill-color: #D2E3FC;\n",
              "      --hover-bg-color: #434B5C;\n",
              "      --hover-fill-color: #FFFFFF;\n",
              "      --disabled-bg-color: #3B4455;\n",
              "      --disabled-fill-color: #666;\n",
              "  }\n",
              "\n",
              "  .colab-df-quickchart {\n",
              "    background-color: var(--bg-color);\n",
              "    border: none;\n",
              "    border-radius: 50%;\n",
              "    cursor: pointer;\n",
              "    display: none;\n",
              "    fill: var(--fill-color);\n",
              "    height: 32px;\n",
              "    padding: 0;\n",
              "    width: 32px;\n",
              "  }\n",
              "\n",
              "  .colab-df-quickchart:hover {\n",
              "    background-color: var(--hover-bg-color);\n",
              "    box-shadow: 0 1px 2px rgba(60, 64, 67, 0.3), 0 1px 3px 1px rgba(60, 64, 67, 0.15);\n",
              "    fill: var(--button-hover-fill-color);\n",
              "  }\n",
              "\n",
              "  .colab-df-quickchart-complete:disabled,\n",
              "  .colab-df-quickchart-complete:disabled:hover {\n",
              "    background-color: var(--disabled-bg-color);\n",
              "    fill: var(--disabled-fill-color);\n",
              "    box-shadow: none;\n",
              "  }\n",
              "\n",
              "  .colab-df-spinner {\n",
              "    border: 2px solid var(--fill-color);\n",
              "    border-color: transparent;\n",
              "    border-bottom-color: var(--fill-color);\n",
              "    animation:\n",
              "      spin 1s steps(1) infinite;\n",
              "  }\n",
              "\n",
              "  @keyframes spin {\n",
              "    0% {\n",
              "      border-color: transparent;\n",
              "      border-bottom-color: var(--fill-color);\n",
              "      border-left-color: var(--fill-color);\n",
              "    }\n",
              "    20% {\n",
              "      border-color: transparent;\n",
              "      border-left-color: var(--fill-color);\n",
              "      border-top-color: var(--fill-color);\n",
              "    }\n",
              "    30% {\n",
              "      border-color: transparent;\n",
              "      border-left-color: var(--fill-color);\n",
              "      border-top-color: var(--fill-color);\n",
              "      border-right-color: var(--fill-color);\n",
              "    }\n",
              "    40% {\n",
              "      border-color: transparent;\n",
              "      border-right-color: var(--fill-color);\n",
              "      border-top-color: var(--fill-color);\n",
              "    }\n",
              "    60% {\n",
              "      border-color: transparent;\n",
              "      border-right-color: var(--fill-color);\n",
              "    }\n",
              "    80% {\n",
              "      border-color: transparent;\n",
              "      border-right-color: var(--fill-color);\n",
              "      border-bottom-color: var(--fill-color);\n",
              "    }\n",
              "    90% {\n",
              "      border-color: transparent;\n",
              "      border-bottom-color: var(--fill-color);\n",
              "    }\n",
              "  }\n",
              "</style>\n",
              "\n",
              "  <script>\n",
              "    async function quickchart(key) {\n",
              "      const quickchartButtonEl =\n",
              "        document.querySelector('#' + key + ' button');\n",
              "      quickchartButtonEl.disabled = true;  // To prevent multiple clicks.\n",
              "      quickchartButtonEl.classList.add('colab-df-spinner');\n",
              "      try {\n",
              "        const charts = await google.colab.kernel.invokeFunction(\n",
              "            'suggestCharts', [key], {});\n",
              "      } catch (error) {\n",
              "        console.error('Error during call to suggestCharts:', error);\n",
              "      }\n",
              "      quickchartButtonEl.classList.remove('colab-df-spinner');\n",
              "      quickchartButtonEl.classList.add('colab-df-quickchart-complete');\n",
              "    }\n",
              "    (() => {\n",
              "      let quickchartButtonEl =\n",
              "        document.querySelector('#df-0385f851-a05f-4268-8ebc-e4cc17ab4248 button');\n",
              "      quickchartButtonEl.style.display =\n",
              "        google.colab.kernel.accessAllowed ? 'block' : 'none';\n",
              "    })();\n",
              "  </script>\n",
              "</div>\n",
              "    </div>\n",
              "  </div>\n"
            ],
            "application/vnd.google.colaboratory.intrinsic+json": {
              "type": "dataframe",
              "summary": "{\n  \"name\": \"             columns=[\\\"WER\\\", \\\"CER\\\"])\",\n  \"rows\": 4,\n  \"fields\": [\n    {\n      \"column\": \"WER\",\n      \"properties\": {\n        \"dtype\": \"number\",\n        \"std\": 0.13148637445251377,\n        \"min\": 0.023,\n        \"max\": 0.328,\n        \"num_unique_values\": 4,\n        \"samples\": [\n          0.328,\n          0.099,\n          0.023\n        ],\n        \"semantic_type\": \"\",\n        \"description\": \"\"\n      }\n    },\n    {\n      \"column\": \"CER\",\n      \"properties\": {\n        \"dtype\": \"number\",\n        \"std\": 0.020992061991778384,\n        \"min\": 0.002,\n        \"max\": 0.047,\n        \"num_unique_values\": 4,\n        \"samples\": [\n          0.047,\n          0.003,\n          0.002\n        ],\n        \"semantic_type\": \"\",\n        \"description\": \"\"\n      }\n    }\n  ]\n}"
            }
          },
          "metadata": {},
          "execution_count": 225
        }
      ]
    },
    {
      "cell_type": "markdown",
      "source": [
        "**Выводы:**\n",
        "\n",
        "Подготовила текст - отрывок из книги братьев Стругацких \"Понедельник начинается в субботу\" в формате jpg. Литературный текст с небольшим количеством цифр.\n",
        "Так же подготовила этот же текст в файле в формате txt как эталонный.\n",
        "Из слов имеющих формы, котоые отсутствуют в стандартных словарях для проверки орфографии собран небольшой словарь.\n",
        "\n",
        "Текст в формате jpg был распозанан моделью Tesseract и собран в единый файл.\n",
        "\n",
        "Далее сравнила распознанный текст с эталонным и вычислила метрики. Метрики для  текстов без применения автокоррекции равны WER: 4,6% и CER: 0,4%.\n",
        "\n",
        "Применила автокорректоры:\n",
        "- SpellChecker\n",
        "- HunSpell\n",
        "- DeepPavlov\n",
        "\n",
        "Все автокорректоры увеличивают ошибку. Лучшие метрики показал текст без использования автокорректоров. Могу предположить, что проблема в отсутсвии полного встроенного словаря русского языка, который влючает все морфологические формы и специфические слова.\n",
        "\n",
        "В целом, текст из учебника показал метрики чуть лучше, однако они тоже не позазали улучшений относительно метрик без автокоррекции. Скорее всего слова в учебном тексте более распространенные и находятся в стандартных словарях чуть чаще.\n",
        "\n",
        "Лучше всех себя показал DeepPavlov, его метрики лучше остальных автокорректоров WER - 9,9% CER - 0,3%. Однако, все равно метрики без автокоррекции заметно лучше.  "
      ],
      "metadata": {
        "id": "C3JKGSs_Y7y0"
      }
    }
  ]
}